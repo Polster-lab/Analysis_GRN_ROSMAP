{
 "cells": [
  {
   "cell_type": "code",
   "execution_count": null,
   "id": "e13ec093",
   "metadata": {},
   "outputs": [],
   "source": [
    "from tqdm import tqdm\n",
    "Entrez.email = \"danish2562022@gmail.com\"  # Set your email for NCBI access\n",
    "ensemble_id_to_gene_id = dict()\n",
    "gene_ids = []\n",
    "for i in tqdm(non_overlapping_genes):\n",
    "    gene_name = i\n",
    "\n",
    "    # Search for the gene\n",
    "    handle = Entrez.esearch(db=\"gene\", term=f\"{gene_name}[Ensembl]\")\n",
    "    record = Entrez.read(handle)\n",
    "\n",
    "    # Get the gene ID\n",
    "    try:\n",
    "        gene_ids.append(record[\"IdList\"][0])\n",
    "        ensemble_id_to_gene_id[gene_name] = record[\"IdList\"][0]\n",
    "    except:\n",
    "        continue"
   ]
  },
  {
   "cell_type": "code",
   "execution_count": null,
   "id": "9334559e",
   "metadata": {},
   "outputs": [],
   "source": [
    "len(ensemble_id_to_gene_id)\n",
    "gene_id_ensemble_id = {v: k for k, v in ensemble_id_to_gene_id.items()}"
   ]
  },
  {
   "cell_type": "code",
   "execution_count": null,
   "id": "e3472598",
   "metadata": {},
   "outputs": [],
   "source": [
    "for gene_id in gene_ids:\n",
    "    gene_info = Entrez.efetch(db=\"gene\", id=gene_id, retmode=\"xml\")\n",
    "    gene_record = Entrez.read(gene_info)\n",
    "    break"
   ]
  },
  {
   "cell_type": "code",
   "execution_count": null,
   "id": "bbb70c3d",
   "metadata": {},
   "outputs": [],
   "source": [
    "for i in gene_record[0]:\n",
    "    print(i)"
   ]
  },
  {
   "cell_type": "code",
   "execution_count": null,
   "id": "9f715e97",
   "metadata": {},
   "outputs": [],
   "source": [
    "gene_record[0]['Entrezgene_gene']"
   ]
  },
  {
   "cell_type": "code",
   "execution_count": null,
   "id": "b773cd56",
   "metadata": {},
   "outputs": [],
   "source": [
    "import time\n",
    "import xmltodict\n",
    "\n",
    "from collections import defaultdict\n",
    "\n",
    "from Bio import Entrez\n",
    "\n",
    "\n",
    "def get_entrez_gene_summary(\n",
    "    gene_ids, organism=\"human\", max_gene_ids=100\n",
    "):\n",
    "    \"\"\"Returns the 'Summary' contents for provided input\n",
    "    gene from the Entrez Gene database. All gene IDs \n",
    "    returned for input gene_name will have their docsum\n",
    "    summaries 'fetched'.\n",
    "    \n",
    "    Args:\n",
    "        gene_name (string): Official (HGNC) gene name \n",
    "           (e.g., 'KAT2A')\n",
    "        email (string): Required email for making requests\n",
    "        organism (string, optional): defaults to human. \n",
    "           Filters results only to match organism. Set to None\n",
    "           to return all organism unfiltered.\n",
    "        max_gene_ids (int, optional): Sets the number of Gene\n",
    "           ID results to return (absolute max allowed is 10K).\n",
    "        \n",
    "    Returns:\n",
    "        dict: Summaries for all gene IDs associated with \n",
    "           gene_name (where: keys → [orgn][gene name],\n",
    "                      values → gene summary)\n",
    "    \"\"\"\n",
    "    Entrez.email = \"danish2562022@gmail.com\"\n",
    "\n",
    "    \n",
    "\n",
    "    gene_summaries = defaultdict(dict)\n",
    "    for gene_id in gene_ids:\n",
    "        print(f\"\\tRetrieving summary for {gene_id}...\")\n",
    "        handle = Entrez.efetch(db=\"gene\", id=gene_id, rettype=\"docsum\")\n",
    "        gene_dict = xmltodict.parse(\n",
    "            \"\".join([x.decode(encoding=\"utf-8\") for x in handle.readlines()]),\n",
    "            dict_constructor=dict,\n",
    "        )\n",
    "        gene_docsum = gene_dict[\"eSummaryResult\"][\"DocumentSummarySet\"][\n",
    "            \"DocumentSummary\"\n",
    "        ]\n",
    "        name = gene_docsum.get(\"Name\") + '/' +gene_id_ensemble_id[gene_id]\n",
    "        summary = gene_docsum.get(\"Summary\")\n",
    "        gene_organism = gene_docsum.get(\"Organism\")[\"CommonName\"]\n",
    "        gene_summaries[gene_organism][name] = summary\n",
    "        handle.close()\n",
    "        time.sleep(0.34)  # Requests to NCBI are rate limited to 3 per second\n",
    "\n",
    "    return gene_summaries"
   ]
  },
  {
   "cell_type": "code",
   "execution_count": null,
   "id": "3747d4eb",
   "metadata": {},
   "outputs": [],
   "source": [
    "gene_summaries = get_entrez_gene_summary(gene_ids)\n",
    "gene_summaries "
   ]
  },
  {
   "cell_type": "code",
   "execution_count": null,
   "id": "845653b5",
   "metadata": {},
   "outputs": [],
   "source": [
    "s = 0\n",
    "genes_having_info = []\n",
    "for i, (k, v) in enumerate(gene_summaries[\"human\"].items()):\n",
    "    \n",
    "    \n",
    "      \n",
    "    if v==None or len(v)==0:\n",
    "        continue\n",
    "    print(f\"{i+1}. {k}\")\n",
    "    if 'alzheimer' in v.lower():\n",
    "        print('Dementia-'+v)\n",
    "        break\n",
    "    \n",
    "    if 'dementia' in v.lower():\n",
    "        print('Dementia-'+v)\n",
    "        break\n",
    "    s= s+1\n",
    "    genes_having_info .append(k.split('/')[1])\n",
    "    print(v, end=\"\\n\\n\")\n",
    "    \n",
    "print(s)"
   ]
  },
  {
   "cell_type": "code",
   "execution_count": null,
   "id": "a856358d",
   "metadata": {},
   "outputs": [],
   "source": [
    "from Bio import Entrez\n",
    "\n",
    "# Set your email address for Entrez usage (required)\n",
    "Entrez.email = \"your_email@example.com\"\n",
    "\n",
    "def search_dementia_genes():\n",
    "    # Define your query\n",
    "    query = \"AD\"\n",
    "\n",
    "    # Search for genes related to dementia\n",
    "    handle = Entrez.esearch(db=\"gene\", term=query)\n",
    "    record = Entrez.read(handle)\n",
    "    gene_ids = record[\"IdList\"]\n",
    "    query = \"Dementia\"\n",
    "    \n",
    "    handle = Entrez.esearch(db=\"gene\", term=query)\n",
    "    record = Entrez.read(handle)\n",
    "    \n",
    "    gene_ids.extend(record[\"IdList\"])\n",
    "    \n",
    "    query = \"Alzheimer\"\n",
    "    \n",
    "    handle = Entrez.esearch(db=\"gene\", term=query)\n",
    "    record = Entrez.read(handle)\n",
    "    \n",
    "    gene_ids.extend(record[\"IdList\"])\n",
    "    # Extract the list of gene IDs\n",
    "    \n",
    "\n",
    "    return gene_ids\n",
    "\n",
    "if __name__ == \"__main__\":\n",
    "    dementia_gene_ids = search_dementia_genes()\n",
    "    print(\"Alzheimer-related gene IDs:\")\n",
    "    print(dementia_gene_ids)"
   ]
  },
  {
   "cell_type": "code",
   "execution_count": null,
   "id": "5fe6ec1e",
   "metadata": {},
   "outputs": [],
   "source": []
  }
 ],
 "metadata": {
  "kernelspec": {
   "display_name": "Python 3 (ipykernel)",
   "language": "python",
   "name": "python3"
  },
  "language_info": {
   "codemirror_mode": {
    "name": "ipython",
    "version": 3
   },
   "file_extension": ".py",
   "mimetype": "text/x-python",
   "name": "python",
   "nbconvert_exporter": "python",
   "pygments_lexer": "ipython3",
   "version": "3.11.5"
  }
 },
 "nbformat": 4,
 "nbformat_minor": 5
}
