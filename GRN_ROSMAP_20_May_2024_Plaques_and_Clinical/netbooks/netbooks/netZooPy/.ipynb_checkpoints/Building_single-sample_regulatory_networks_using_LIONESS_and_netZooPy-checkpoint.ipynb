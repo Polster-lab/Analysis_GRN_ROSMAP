{
 "cells": [
  {
   "cell_type": "markdown",
   "metadata": {},
   "source": [
    "# Building single-sample regulatory networks using LIONESS and netZooPy\n",
    "Author: \n",
    "Qi (Alex) Song<sup>1</sup>.\n",
    "\n",
    "<sup>1</sup>Channing division of network medicine, Brigham's and Women hospital and Harvard Medical School, Boston, MA. (qi.song@channing.harvard.edu)"
   ]
  },
  {
   "cell_type": "markdown",
   "metadata": {},
   "source": [
    "## 1. Introduction\n",
    "In this tutorial, we will briefly walk through the steps to perform analysis with LIONESS<sup>1</sup> algorithm using netZooPy package. LIONESS is an algorithm for estimating sample-specific gene regualtory networks for each individual in a population. LIONESS infers individual sample networks by applying linear interpolation to the predictions made by another aggregate network inference approache<sup>1</sup>. In this tutorial, we will use PANDA<sup>3</sup> as our aggregate network inference apporach to build sample-specific networks."
   ]
  },
  {
   "cell_type": "markdown",
   "metadata": {},
   "source": [
    "## 2. Installation of netZooPy.\n",
    "netZooPy comes with full support for LIONESS algorithm. netZooPy can be installed through `pip` command. For more details, please refer to the installation guide at netZooPy documentation site [here](https://netzoopy.readthedocs.io/en/latest/install/index.html).    "
   ]
  },
  {
   "cell_type": "markdown",
   "metadata": {},
   "source": [
    "This analysis can be ran on the netbooks server or locally by specifying the following parameter"
   ]
  },
  {
   "cell_type": "code",
   "execution_count": null,
   "metadata": {},
   "outputs": [],
   "source": [
    "runserver=1"
   ]
  },
  {
   "cell_type": "markdown",
   "metadata": {},
   "source": [
    "This will aloow us to set server-specific parmeters for this netbook."
   ]
  },
  {
   "cell_type": "code",
   "execution_count": null,
   "metadata": {},
   "outputs": [],
   "source": [
    "if runserver==1:\n",
    "    ppath='/opt/data/'\n",
    "elif runserver==0:\n",
    "    ppath=''"
   ]
  },
  {
   "cell_type": "markdown",
   "metadata": {},
   "source": [
    "## 3. Load required modules\n",
    "We will need `Panda` and `Lioness` python classes from netZooPy package. We will also need `read_csv()` function from `pandas` package for demonstrating the input data sets. "
   ]
  },
  {
   "cell_type": "code",
   "execution_count": null,
   "metadata": {},
   "outputs": [],
   "source": [
    "import os\n",
    "from netZooPy.panda import Panda\n",
    "from netZooPy.lioness import Lioness\n",
    "from netZooPy.lioness.analyze_lioness import AnalyzeLioness\n",
    "import pandas as pd"
   ]
  },
  {
   "cell_type": "markdown",
   "metadata": {},
   "source": [
    "## 4. Load input data"
   ]
  },
  {
   "cell_type": "markdown",
   "metadata": {},
   "source": [
    "Now let's look at the three data sets to get a sense about what the inputs look like."
   ]
  },
  {
   "cell_type": "code",
   "execution_count": null,
   "metadata": {},
   "outputs": [],
   "source": [
    "exp_data = pd.read_csv(ppath+'ToyExpressionData.txt',header=None, index_col = 0, sep = \"\\t\")\n",
    "motif_data = pd.read_csv(ppath+'ToyMotifData.txt',header=None, sep = \"\\t\")\n",
    "ppi_data = pd.read_csv(ppath+'ToyPPIData.txt',header=None, sep = \"\\t\")"
   ]
  },
  {
   "cell_type": "markdown",
   "metadata": {},
   "source": [
    "Expression data is a matrix where rows are genes and columns are samples. There are 1000 genes and 50 samples in this gene expression dataset. This data set will be used to construct the first input network to PANDA, which is a gene coexpression network."
   ]
  },
  {
   "cell_type": "code",
   "execution_count": null,
   "metadata": {},
   "outputs": [],
   "source": [
    "exp_data"
   ]
  },
  {
   "cell_type": "markdown",
   "metadata": {},
   "source": [
    "Motif data should be formatted into a three-column list, where first column contains TF IDs and second column the target gene IDs and third column the interaction scores. This data set will be the second input network to PANDA, which is a \"seed\" network that PANDA uses as an initial estimate for the inference. Edges in this binary network have a value of 1 if the TF has a motif in the promoter region of the target gene and 0 otherwise."
   ]
  },
  {
   "cell_type": "code",
   "execution_count": null,
   "metadata": {},
   "outputs": [],
   "source": [
    "motif_data"
   ]
  },
  {
   "cell_type": "markdown",
   "metadata": {},
   "source": [
    "There are 87 unique TFs and 913 unique motifs in this motif dataset."
   ]
  },
  {
   "cell_type": "code",
   "execution_count": null,
   "metadata": {},
   "outputs": [],
   "source": [
    "motif_data[0].unique().shape[0]"
   ]
  },
  {
   "cell_type": "code",
   "execution_count": null,
   "metadata": {},
   "outputs": [],
   "source": [
    "motif_data[1].unique().shape[0]"
   ]
  },
  {
   "cell_type": "markdown",
   "metadata": {},
   "source": [
    "Finally, TF protein protein interaction PPI data should be formatted into a three-column list, where first two columns contain protein IDs and third column contains a score for each interaction. This will be the third input network to PANDA."
   ]
  },
  {
   "cell_type": "code",
   "execution_count": null,
   "metadata": {},
   "outputs": [],
   "source": [
    "pd.concat([ppi_data[0],ppi_data[1]]).unique().size"
   ]
  },
  {
   "cell_type": "markdown",
   "metadata": {},
   "source": [
    "This PPI dataset has 238 interactions among 87 TFs. Typically, TF PPI networks are built by extracting TF nodes from the STRING database<sup>2</sup>. Edge weight vary between 0 and 1 to indicate the strength of the connection between TFs. For example, if 2 TFs physically bind to each other, the edge weight would be close to 1.\n",
    "\n",
    "To sum up, PANDA builds a TF-gene regulatory network by evaluating an initial seed network which is the TF to gene motif network. This seed network is then projected into the gene coexpression network, then the TF PPI network and the average of both projections is computed<sup>3</sup>."
   ]
  },
  {
   "cell_type": "markdown",
   "metadata": {},
   "source": [
    "## 5. Run Panda\n",
    "Before running LIONESS, we will first need to generate a `Panda` network, which is the aggregate network for all samples in the gene expression data. This will be used later to run `Lioness` and estiamte a network for each sample in the gene expression data. Note that the argument `keep_expression_matrix` should be specified as `True` in the PANDA step to be able to run LIONESS later because LIONESS needs to call `Panda` function to build networks on each sample of the gene expression matrix."
   ]
  },
  {
   "cell_type": "code",
   "execution_count": null,
   "metadata": {},
   "outputs": [],
   "source": [
    "panda_obj = Panda(ppath+'ToyExpressionData.txt',\n",
    "                  ppath+'ToyMotifData.txt',\n",
    "                  ppath+'ToyPPIData.txt',\n",
    "                  remove_missing=False, \n",
    "                  keep_expression_matrix=True, save_memory=False, modeProcess='legacy')"
   ]
  },
  {
   "cell_type": "markdown",
   "metadata": {},
   "source": [
    "The `modeProcess` argument allows to define the function behavior when TFs and genes are not the same across the 3 input networks. `intersection` takes the intersection across all input networks, `union` takes the union of the three network nodes, and `legacy` uses the gene annotation from gene expression and TF annotation from the motif network."
   ]
  },
  {
   "cell_type": "markdown",
   "metadata": {},
   "source": [
    "## 6. Run Lioness to estimate sample-specific networks\n",
    "We will first use the `Panda` object as input for `Lioness` object. Then `Lioness` will run Panda algorithm in its iterations to estimate sample-specific network for each sample.   "
   ]
  },
  {
   "cell_type": "code",
   "execution_count": null,
   "metadata": {},
   "outputs": [],
   "source": [
    "lioness_obj = Lioness(panda_obj, save_dir='../data')"
   ]
  },
  {
   "cell_type": "markdown",
   "metadata": {},
   "source": [
    "Using linear interpolation, LIONESS computes a PANDA network for each one of the 50 samples in the gene expression data and saves them in the directory specified in `save_dir` folder."
   ]
  },
  {
   "cell_type": "markdown",
   "metadata": {},
   "source": [
    "## 7. Run Lioness with co-expression matrix\n",
    "LIONESS can work with any method that generates a network for an aggregate set of samples such correlation networks. To compute LIONESS with coexpression matrix instead of PANDA, we can set motif data to `None`:"
   ]
  },
  {
   "cell_type": "code",
   "execution_count": null,
   "metadata": {},
   "outputs": [],
   "source": [
    "motif = None"
   ]
  },
  {
   "cell_type": "markdown",
   "metadata": {},
   "source": [
    "First, we need to compute the gene co-expression network. To keep the same workflow as the previous case, we will use the `Panda` function to do this. Also, we need to make sure to keep expression matrix for next step."
   ]
  },
  {
   "cell_type": "code",
   "execution_count": null,
   "metadata": {},
   "outputs": [],
   "source": [
    "panda_obj = Panda(ppath+'ToyExpressionData.txt',\n",
    "                  None,\n",
    "                  ppath+'ToyPPIData.txt',\n",
    "                  save_tmp=True,\n",
    "                  remove_missing=False,\n",
    "                  keep_expression_matrix=True, modeProcess='legacy')"
   ]
  },
  {
   "cell_type": "markdown",
   "metadata": {},
   "source": [
    "Then, we call LIONESS on each sample of the expression data."
   ]
  },
  {
   "cell_type": "code",
   "execution_count": null,
   "metadata": {},
   "outputs": [],
   "source": [
    "lioness_obj = Lioness(panda_obj, save_dir='../data')"
   ]
  },
  {
   "cell_type": "markdown",
   "metadata": {},
   "source": [
    "This produces gene co-expression networks for each sample in our data using linear interpolation. This is particularly intersting when we have a few samples for a specific group that wouldn't allow to compute expression. By integrating these samples in a population, LIONESS allows to estimate the network for each sample."
   ]
  },
  {
   "cell_type": "markdown",
   "metadata": {},
   "source": [
    "## 8. Visualize Lioness results\n",
    "The function `AnalyzeLioness()` can be used to visualize LIONESS network. You may select only the `top` genes to be visualized in the graph. In current version of Lioness. Only the network of the first sample will be visualized using `.top_network_plot()` function."
   ]
  },
  {
   "cell_type": "code",
   "execution_count": null,
   "metadata": {},
   "outputs": [],
   "source": [
    "analyze_lioness_obj = AnalyzeLioness(lioness_obj)"
   ]
  },
  {
   "cell_type": "markdown",
   "metadata": {},
   "source": [
    "This object contains now processed network data that we can use to plot the top edges of the network using `top_network_plot`. The `file` argument contains the file path to save the figure."
   ]
  },
  {
   "cell_type": "code",
   "execution_count": null,
   "metadata": {},
   "outputs": [],
   "source": [
    "analyze_lioness_obj.top_network_plot(top = 10, file = \"../data/lioness_top_10.png\")"
   ]
  },
  {
   "cell_type": "markdown",
   "metadata": {},
   "source": [
    "## 9. Save Lioness results\n",
    "We can save LIONESS results by using `save_lioness_results()` method of the `Lioness` object. The edge weights of each LIONESS network will be saved into an output file. "
   ]
  },
  {
   "cell_type": "markdown",
   "metadata": {},
   "source": [
    "First, we define the ouput format as text."
   ]
  },
  {
   "cell_type": "code",
   "execution_count": null,
   "metadata": {},
   "outputs": [],
   "source": [
    "lioness_obj.save_fmt='txt'"
   ]
  },
  {
   "cell_type": "markdown",
   "metadata": {},
   "source": [
    "Then we save the file."
   ]
  },
  {
   "cell_type": "code",
   "execution_count": null,
   "metadata": {},
   "outputs": [],
   "source": [
    "lioness_obj.save_lioness_results()"
   ]
  },
  {
   "cell_type": "markdown",
   "metadata": {},
   "source": [
    "The file contains networks in a 2+n column format. The 2 first columns are identical to TF and target IDs from the `.export_panda_results` property of `Panda` object. "
   ]
  },
  {
   "cell_type": "code",
   "execution_count": null,
   "metadata": {},
   "outputs": [],
   "source": [
    "panda_obj.export_panda_results"
   ]
  },
  {
   "cell_type": "markdown",
   "metadata": {},
   "source": [
    "The `n` other columns correspond to each sample of the population, and each column has the edge weights between TFs and genes for each specific network."
   ]
  },
  {
   "cell_type": "markdown",
   "metadata": {},
   "source": [
    "# References\n",
    "1- Kuijjer ML, Tung MG, Yuan GC, Quackenbush J, Glass K: Estimating Sample-Specific Regulatory Networks. iScience 2019.\n",
    "\n",
    "2- Mering, Christian von, et al. \"STRING: a database of predicted functional associations between proteins.\" Nucleic acids research 31.1 (2003): 258-261.\n",
    "\n",
    "3- Glass, Kimberly, et al. \"Passing messages between biological networks to refine predicted interactions.\" PloS one 8.5 (2013): e64832."
   ]
  }
 ],
 "metadata": {
  "kernelspec": {
   "display_name": "Python 3",
   "language": "python",
   "name": "python3"
  },
  "language_info": {
   "codemirror_mode": {
    "name": "ipython",
    "version": 3
   },
   "file_extension": ".py",
   "mimetype": "text/x-python",
   "name": "python",
   "nbconvert_exporter": "python",
   "pygments_lexer": "ipython3",
   "version": "3.9.7"
  }
 },
 "nbformat": 4,
 "nbformat_minor": 2
}
