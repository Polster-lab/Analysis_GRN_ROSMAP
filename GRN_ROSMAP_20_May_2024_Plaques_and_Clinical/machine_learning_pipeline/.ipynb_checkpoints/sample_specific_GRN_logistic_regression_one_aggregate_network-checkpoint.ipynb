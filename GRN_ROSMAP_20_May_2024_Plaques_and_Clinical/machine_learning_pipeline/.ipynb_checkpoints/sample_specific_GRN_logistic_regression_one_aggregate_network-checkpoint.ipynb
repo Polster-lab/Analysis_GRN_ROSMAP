{
 "cells": [
  {
   "cell_type": "code",
   "execution_count": 99,
   "id": "f8d75afa-711d-4a5d-a034-02393adfa6d3",
   "metadata": {},
   "outputs": [],
   "source": [
    "\n",
    "import pandas as pd\n",
    "import os\n",
    "from tqdm import tqdm"
   ]
  },
  {
   "cell_type": "code",
   "execution_count": 2,
   "id": "2434d15e-19f2-4048-8a4d-4857f6086a94",
   "metadata": {},
   "outputs": [
    {
     "name": "stdout",
     "output_type": "stream",
     "text": [
      "lioness.812_130702.119.csv\n"
     ]
    },
    {
     "data": {
      "text/html": [
       "<div>\n",
       "<style scoped>\n",
       "    .dataframe tbody tr th:only-of-type {\n",
       "        vertical-align: middle;\n",
       "    }\n",
       "\n",
       "    .dataframe tbody tr th {\n",
       "        vertical-align: top;\n",
       "    }\n",
       "\n",
       "    .dataframe thead th {\n",
       "        text-align: right;\n",
       "    }\n",
       "</style>\n",
       "<table border=\"1\" class=\"dataframe\">\n",
       "  <thead>\n",
       "    <tr style=\"text-align: right;\">\n",
       "      <th></th>\n",
       "      <th>ENSG00000000003</th>\n",
       "      <th>ENSG00000000419</th>\n",
       "      <th>ENSG00000000457</th>\n",
       "      <th>ENSG00000000460</th>\n",
       "      <th>ENSG00000000938</th>\n",
       "      <th>ENSG00000000971</th>\n",
       "      <th>ENSG00000001036</th>\n",
       "      <th>ENSG00000001084</th>\n",
       "      <th>ENSG00000001167</th>\n",
       "      <th>ENSG00000001460</th>\n",
       "      <th>...</th>\n",
       "      <th>ENSG00000282865</th>\n",
       "      <th>ENSG00000282936</th>\n",
       "      <th>ENSG00000282951</th>\n",
       "      <th>ENSG00000283041</th>\n",
       "      <th>ENSG00000283045</th>\n",
       "      <th>ENSG00000283050</th>\n",
       "      <th>ENSG00000283071</th>\n",
       "      <th>ENSG00000283078</th>\n",
       "      <th>ENSG00000283103</th>\n",
       "      <th>ENSG00000283108</th>\n",
       "    </tr>\n",
       "  </thead>\n",
       "  <tbody>\n",
       "    <tr>\n",
       "      <th>ENSG00000001167</th>\n",
       "      <td>0.294438</td>\n",
       "      <td>-0.061971</td>\n",
       "      <td>0.692151</td>\n",
       "      <td>6.122084</td>\n",
       "      <td>-0.670006</td>\n",
       "      <td>-0.851910</td>\n",
       "      <td>5.759460</td>\n",
       "      <td>0.334166</td>\n",
       "      <td>5.756822</td>\n",
       "      <td>-0.750735</td>\n",
       "      <td>...</td>\n",
       "      <td>-0.447361</td>\n",
       "      <td>-0.570339</td>\n",
       "      <td>-0.625279</td>\n",
       "      <td>-0.554346</td>\n",
       "      <td>-0.668906</td>\n",
       "      <td>-0.256884</td>\n",
       "      <td>-1.412016</td>\n",
       "      <td>-0.057505</td>\n",
       "      <td>-1.133494</td>\n",
       "      <td>-0.521931</td>\n",
       "    </tr>\n",
       "    <tr>\n",
       "      <th>ENSG00000004848</th>\n",
       "      <td>0.216149</td>\n",
       "      <td>-0.499586</td>\n",
       "      <td>0.099996</td>\n",
       "      <td>0.107556</td>\n",
       "      <td>-0.655923</td>\n",
       "      <td>-0.557513</td>\n",
       "      <td>-0.061032</td>\n",
       "      <td>0.388695</td>\n",
       "      <td>-0.203456</td>\n",
       "      <td>-0.459563</td>\n",
       "      <td>...</td>\n",
       "      <td>0.594820</td>\n",
       "      <td>-0.626312</td>\n",
       "      <td>-0.534579</td>\n",
       "      <td>-1.329700</td>\n",
       "      <td>-0.294180</td>\n",
       "      <td>0.210198</td>\n",
       "      <td>-1.259852</td>\n",
       "      <td>-0.147232</td>\n",
       "      <td>-0.788908</td>\n",
       "      <td>-1.156890</td>\n",
       "    </tr>\n",
       "    <tr>\n",
       "      <th>ENSG00000005513</th>\n",
       "      <td>10.774257</td>\n",
       "      <td>-0.359589</td>\n",
       "      <td>0.133185</td>\n",
       "      <td>0.015825</td>\n",
       "      <td>-0.793340</td>\n",
       "      <td>10.568199</td>\n",
       "      <td>-0.037638</td>\n",
       "      <td>0.670035</td>\n",
       "      <td>-0.273827</td>\n",
       "      <td>-0.411520</td>\n",
       "      <td>...</td>\n",
       "      <td>0.391115</td>\n",
       "      <td>-0.776869</td>\n",
       "      <td>-0.591929</td>\n",
       "      <td>-0.948080</td>\n",
       "      <td>-0.270630</td>\n",
       "      <td>0.236188</td>\n",
       "      <td>-1.047590</td>\n",
       "      <td>-0.488425</td>\n",
       "      <td>-0.600365</td>\n",
       "      <td>-1.164798</td>\n",
       "    </tr>\n",
       "    <tr>\n",
       "      <th>ENSG00000005889</th>\n",
       "      <td>-0.879318</td>\n",
       "      <td>5.638348</td>\n",
       "      <td>3.985856</td>\n",
       "      <td>-0.718097</td>\n",
       "      <td>0.162356</td>\n",
       "      <td>-0.212855</td>\n",
       "      <td>3.507644</td>\n",
       "      <td>-1.409801</td>\n",
       "      <td>-0.227291</td>\n",
       "      <td>-0.760775</td>\n",
       "      <td>...</td>\n",
       "      <td>-2.092753</td>\n",
       "      <td>0.266822</td>\n",
       "      <td>-0.333574</td>\n",
       "      <td>0.914283</td>\n",
       "      <td>-0.725405</td>\n",
       "      <td>-1.558263</td>\n",
       "      <td>3.385877</td>\n",
       "      <td>3.167606</td>\n",
       "      <td>-0.028992</td>\n",
       "      <td>0.913553</td>\n",
       "    </tr>\n",
       "    <tr>\n",
       "      <th>ENSG00000006047</th>\n",
       "      <td>0.334131</td>\n",
       "      <td>-0.348132</td>\n",
       "      <td>0.771299</td>\n",
       "      <td>0.498158</td>\n",
       "      <td>-0.858314</td>\n",
       "      <td>-0.869001</td>\n",
       "      <td>-0.040910</td>\n",
       "      <td>0.671485</td>\n",
       "      <td>0.080951</td>\n",
       "      <td>-0.521588</td>\n",
       "      <td>...</td>\n",
       "      <td>0.229870</td>\n",
       "      <td>-0.671941</td>\n",
       "      <td>-0.713596</td>\n",
       "      <td>-1.669179</td>\n",
       "      <td>-0.729550</td>\n",
       "      <td>0.061832</td>\n",
       "      <td>-1.855702</td>\n",
       "      <td>-0.016219</td>\n",
       "      <td>-1.440323</td>\n",
       "      <td>-1.443891</td>\n",
       "    </tr>\n",
       "    <tr>\n",
       "      <th>...</th>\n",
       "      <td>...</td>\n",
       "      <td>...</td>\n",
       "      <td>...</td>\n",
       "      <td>...</td>\n",
       "      <td>...</td>\n",
       "      <td>...</td>\n",
       "      <td>...</td>\n",
       "      <td>...</td>\n",
       "      <td>...</td>\n",
       "      <td>...</td>\n",
       "      <td>...</td>\n",
       "      <td>...</td>\n",
       "      <td>...</td>\n",
       "      <td>...</td>\n",
       "      <td>...</td>\n",
       "      <td>...</td>\n",
       "      <td>...</td>\n",
       "      <td>...</td>\n",
       "      <td>...</td>\n",
       "      <td>...</td>\n",
       "      <td>...</td>\n",
       "    </tr>\n",
       "    <tr>\n",
       "      <th>ENSG00000267508</th>\n",
       "      <td>0.255441</td>\n",
       "      <td>-0.399819</td>\n",
       "      <td>0.323932</td>\n",
       "      <td>0.231305</td>\n",
       "      <td>-0.853803</td>\n",
       "      <td>-0.783579</td>\n",
       "      <td>-0.030040</td>\n",
       "      <td>0.504732</td>\n",
       "      <td>-0.190560</td>\n",
       "      <td>-0.487863</td>\n",
       "      <td>...</td>\n",
       "      <td>0.432839</td>\n",
       "      <td>-0.681126</td>\n",
       "      <td>-0.679483</td>\n",
       "      <td>-1.422712</td>\n",
       "      <td>-0.446939</td>\n",
       "      <td>0.198640</td>\n",
       "      <td>-1.667837</td>\n",
       "      <td>-0.195328</td>\n",
       "      <td>-1.111034</td>\n",
       "      <td>-1.281933</td>\n",
       "    </tr>\n",
       "    <tr>\n",
       "      <th>ENSG00000267680</th>\n",
       "      <td>-1.454376</td>\n",
       "      <td>-0.535860</td>\n",
       "      <td>-2.354293</td>\n",
       "      <td>-1.645685</td>\n",
       "      <td>0.520802</td>\n",
       "      <td>1.178107</td>\n",
       "      <td>-0.723274</td>\n",
       "      <td>-1.466023</td>\n",
       "      <td>-1.198570</td>\n",
       "      <td>6.603185</td>\n",
       "      <td>...</td>\n",
       "      <td>-0.224676</td>\n",
       "      <td>0.229472</td>\n",
       "      <td>7.046248</td>\n",
       "      <td>1.514736</td>\n",
       "      <td>0.671092</td>\n",
       "      <td>-0.393730</td>\n",
       "      <td>2.355027</td>\n",
       "      <td>-1.292209</td>\n",
       "      <td>1.852058</td>\n",
       "      <td>6.268981</td>\n",
       "    </tr>\n",
       "    <tr>\n",
       "      <th>ENSG00000272602</th>\n",
       "      <td>0.188416</td>\n",
       "      <td>-0.402863</td>\n",
       "      <td>0.140788</td>\n",
       "      <td>0.135218</td>\n",
       "      <td>-0.825461</td>\n",
       "      <td>-0.716359</td>\n",
       "      <td>-0.070925</td>\n",
       "      <td>0.423976</td>\n",
       "      <td>-0.246737</td>\n",
       "      <td>-0.412858</td>\n",
       "      <td>...</td>\n",
       "      <td>0.327855</td>\n",
       "      <td>-0.641211</td>\n",
       "      <td>-0.556020</td>\n",
       "      <td>-0.906079</td>\n",
       "      <td>-0.308691</td>\n",
       "      <td>0.111085</td>\n",
       "      <td>-1.264182</td>\n",
       "      <td>-0.367094</td>\n",
       "      <td>-0.762965</td>\n",
       "      <td>-0.978261</td>\n",
       "    </tr>\n",
       "    <tr>\n",
       "      <th>ENSG00000275111</th>\n",
       "      <td>6.587693</td>\n",
       "      <td>-0.073152</td>\n",
       "      <td>0.483953</td>\n",
       "      <td>0.182655</td>\n",
       "      <td>-0.560275</td>\n",
       "      <td>-0.669442</td>\n",
       "      <td>-0.302820</td>\n",
       "      <td>0.126578</td>\n",
       "      <td>-0.056470</td>\n",
       "      <td>-0.596294</td>\n",
       "      <td>...</td>\n",
       "      <td>-0.440172</td>\n",
       "      <td>-0.381596</td>\n",
       "      <td>-0.637735</td>\n",
       "      <td>-0.590890</td>\n",
       "      <td>-0.592829</td>\n",
       "      <td>-0.486199</td>\n",
       "      <td>-1.282898</td>\n",
       "      <td>0.073997</td>\n",
       "      <td>-0.974942</td>\n",
       "      <td>-0.451312</td>\n",
       "    </tr>\n",
       "    <tr>\n",
       "      <th>ENSG00000278129</th>\n",
       "      <td>0.093081</td>\n",
       "      <td>-0.547722</td>\n",
       "      <td>-0.119890</td>\n",
       "      <td>-0.005405</td>\n",
       "      <td>-0.690954</td>\n",
       "      <td>-0.545887</td>\n",
       "      <td>-0.164027</td>\n",
       "      <td>0.265458</td>\n",
       "      <td>-0.334504</td>\n",
       "      <td>-0.342116</td>\n",
       "      <td>...</td>\n",
       "      <td>0.605129</td>\n",
       "      <td>-0.542498</td>\n",
       "      <td>-0.489869</td>\n",
       "      <td>-1.200267</td>\n",
       "      <td>-0.228441</td>\n",
       "      <td>0.200832</td>\n",
       "      <td>-1.072967</td>\n",
       "      <td>-0.148679</td>\n",
       "      <td>-0.744674</td>\n",
       "      <td>-1.132392</td>\n",
       "    </tr>\n",
       "  </tbody>\n",
       "</table>\n",
       "<p>710 rows × 17173 columns</p>\n",
       "</div>"
      ],
      "text/plain": [
       "                 ENSG00000000003  ENSG00000000419  ENSG00000000457  \\\n",
       "ENSG00000001167         0.294438        -0.061971         0.692151   \n",
       "ENSG00000004848         0.216149        -0.499586         0.099996   \n",
       "ENSG00000005513        10.774257        -0.359589         0.133185   \n",
       "ENSG00000005889        -0.879318         5.638348         3.985856   \n",
       "ENSG00000006047         0.334131        -0.348132         0.771299   \n",
       "...                          ...              ...              ...   \n",
       "ENSG00000267508         0.255441        -0.399819         0.323932   \n",
       "ENSG00000267680        -1.454376        -0.535860        -2.354293   \n",
       "ENSG00000272602         0.188416        -0.402863         0.140788   \n",
       "ENSG00000275111         6.587693        -0.073152         0.483953   \n",
       "ENSG00000278129         0.093081        -0.547722        -0.119890   \n",
       "\n",
       "                 ENSG00000000460  ENSG00000000938  ENSG00000000971  \\\n",
       "ENSG00000001167         6.122084        -0.670006        -0.851910   \n",
       "ENSG00000004848         0.107556        -0.655923        -0.557513   \n",
       "ENSG00000005513         0.015825        -0.793340        10.568199   \n",
       "ENSG00000005889        -0.718097         0.162356        -0.212855   \n",
       "ENSG00000006047         0.498158        -0.858314        -0.869001   \n",
       "...                          ...              ...              ...   \n",
       "ENSG00000267508         0.231305        -0.853803        -0.783579   \n",
       "ENSG00000267680        -1.645685         0.520802         1.178107   \n",
       "ENSG00000272602         0.135218        -0.825461        -0.716359   \n",
       "ENSG00000275111         0.182655        -0.560275        -0.669442   \n",
       "ENSG00000278129        -0.005405        -0.690954        -0.545887   \n",
       "\n",
       "                 ENSG00000001036  ENSG00000001084  ENSG00000001167  \\\n",
       "ENSG00000001167         5.759460         0.334166         5.756822   \n",
       "ENSG00000004848        -0.061032         0.388695        -0.203456   \n",
       "ENSG00000005513        -0.037638         0.670035        -0.273827   \n",
       "ENSG00000005889         3.507644        -1.409801        -0.227291   \n",
       "ENSG00000006047        -0.040910         0.671485         0.080951   \n",
       "...                          ...              ...              ...   \n",
       "ENSG00000267508        -0.030040         0.504732        -0.190560   \n",
       "ENSG00000267680        -0.723274        -1.466023        -1.198570   \n",
       "ENSG00000272602        -0.070925         0.423976        -0.246737   \n",
       "ENSG00000275111        -0.302820         0.126578        -0.056470   \n",
       "ENSG00000278129        -0.164027         0.265458        -0.334504   \n",
       "\n",
       "                 ENSG00000001460  ...  ENSG00000282865  ENSG00000282936  \\\n",
       "ENSG00000001167        -0.750735  ...        -0.447361        -0.570339   \n",
       "ENSG00000004848        -0.459563  ...         0.594820        -0.626312   \n",
       "ENSG00000005513        -0.411520  ...         0.391115        -0.776869   \n",
       "ENSG00000005889        -0.760775  ...        -2.092753         0.266822   \n",
       "ENSG00000006047        -0.521588  ...         0.229870        -0.671941   \n",
       "...                          ...  ...              ...              ...   \n",
       "ENSG00000267508        -0.487863  ...         0.432839        -0.681126   \n",
       "ENSG00000267680         6.603185  ...        -0.224676         0.229472   \n",
       "ENSG00000272602        -0.412858  ...         0.327855        -0.641211   \n",
       "ENSG00000275111        -0.596294  ...        -0.440172        -0.381596   \n",
       "ENSG00000278129        -0.342116  ...         0.605129        -0.542498   \n",
       "\n",
       "                 ENSG00000282951  ENSG00000283041  ENSG00000283045  \\\n",
       "ENSG00000001167        -0.625279        -0.554346        -0.668906   \n",
       "ENSG00000004848        -0.534579        -1.329700        -0.294180   \n",
       "ENSG00000005513        -0.591929        -0.948080        -0.270630   \n",
       "ENSG00000005889        -0.333574         0.914283        -0.725405   \n",
       "ENSG00000006047        -0.713596        -1.669179        -0.729550   \n",
       "...                          ...              ...              ...   \n",
       "ENSG00000267508        -0.679483        -1.422712        -0.446939   \n",
       "ENSG00000267680         7.046248         1.514736         0.671092   \n",
       "ENSG00000272602        -0.556020        -0.906079        -0.308691   \n",
       "ENSG00000275111        -0.637735        -0.590890        -0.592829   \n",
       "ENSG00000278129        -0.489869        -1.200267        -0.228441   \n",
       "\n",
       "                 ENSG00000283050  ENSG00000283071  ENSG00000283078  \\\n",
       "ENSG00000001167        -0.256884        -1.412016        -0.057505   \n",
       "ENSG00000004848         0.210198        -1.259852        -0.147232   \n",
       "ENSG00000005513         0.236188        -1.047590        -0.488425   \n",
       "ENSG00000005889        -1.558263         3.385877         3.167606   \n",
       "ENSG00000006047         0.061832        -1.855702        -0.016219   \n",
       "...                          ...              ...              ...   \n",
       "ENSG00000267508         0.198640        -1.667837        -0.195328   \n",
       "ENSG00000267680        -0.393730         2.355027        -1.292209   \n",
       "ENSG00000272602         0.111085        -1.264182        -0.367094   \n",
       "ENSG00000275111        -0.486199        -1.282898         0.073997   \n",
       "ENSG00000278129         0.200832        -1.072967        -0.148679   \n",
       "\n",
       "                 ENSG00000283103  ENSG00000283108  \n",
       "ENSG00000001167        -1.133494        -0.521931  \n",
       "ENSG00000004848        -0.788908        -1.156890  \n",
       "ENSG00000005513        -0.600365        -1.164798  \n",
       "ENSG00000005889        -0.028992         0.913553  \n",
       "ENSG00000006047        -1.440323        -1.443891  \n",
       "...                          ...              ...  \n",
       "ENSG00000267508        -1.111034        -1.281933  \n",
       "ENSG00000267680         1.852058         6.268981  \n",
       "ENSG00000272602        -0.762965        -0.978261  \n",
       "ENSG00000275111        -0.974942        -0.451312  \n",
       "ENSG00000278129        -0.744674        -1.132392  \n",
       "\n",
       "[710 rows x 17173 columns]"
      ]
     },
     "execution_count": 2,
     "metadata": {},
     "output_type": "execute_result"
    }
   ],
   "source": [
    "for i in os.listdir('../output_GRN/'):\n",
    "    print(i)\n",
    "  \n",
    "    data = pd.read_csv('../output_GRN/' + i, index_col=0)\n",
    "    break\n",
    "data"
   ]
  },
  {
   "cell_type": "code",
   "execution_count": 3,
   "id": "fb00e86b-02f7-4578-bf21-f3b25ac31932",
   "metadata": {},
   "outputs": [
    {
     "name": "stdout",
     "output_type": "stream",
     "text": [
      "lioness.812_130702.119.csv\n",
      "lioness.74_120417.60.csv\n",
      "lioness.635_120524.76.csv\n",
      "lioness.196_120424.123.csv\n",
      "lioness.csv\n",
      "lioness.456_120507.148.csv\n",
      "lioness.520_120515.53.csv\n",
      "lioness.505_120515.96.csv\n",
      "lioness.286_120430.59.csv\n",
      "lioness.427_120507.48.csv\n",
      "lioness.424_120507.128.csv\n",
      "lioness.28_120411.12.csv\n",
      "lioness.630_120524.31.csv\n",
      "lioness.168_120423.156.csv\n",
      "lioness.405_120503.72.csv\n",
      "lioness.369_120502.42.csv\n",
      "lioness.551_120517.144.csv\n",
      "lioness.202_120424.95.csv\n",
      "lioness.274_120430.15.csv\n",
      "lioness.152_120419.114.csv\n",
      "lioness.703_120605.27.csv\n",
      "lioness.142_120419.160.csv\n",
      "lioness.228_120425.36.csv\n",
      "lioness.498_120515.92.csv\n",
      "lioness.57_120417.98.csv\n",
      "lioness.534_120516.63.csv\n",
      "lioness.929_131031.142.csv\n",
      "lioness.537_120516.77.csv\n",
      "lioness.11_120410.109.csv\n",
      "lioness.77_120417.75.csv\n",
      "lioness.624_120524.47.csv\n",
      "Untitled.ipynb\n",
      "lioness.637_120524.19.csv\n",
      "lioness.545_120516.5.csv\n",
      "lioness.715_120531.30.csv\n",
      "lioness.605_120523.56.csv\n",
      "lioness.146_120419.50.csv\n",
      "output_panda_df.csv\n",
      "lioness.350_120501.57.csv\n",
      "lioness.460_120514.23.csv\n",
      "lioness.568_120521.55.csv\n",
      "lioness.553_120517.103.csv\n",
      "lioness.292_120430.22.csv\n",
      "lioness.145_120419.120.csv\n",
      "lioness.494_120515.43.csv\n",
      "lioness.550_120517.80.csv\n",
      "lioness.352_120501.131.csv\n",
      "lioness.310_120430.29.csv\n",
      "lioness.951_131107.136.csv\n",
      "lioness.82_120417.145.csv\n",
      "lioness.214_120425.32.csv\n",
      "lioness.360_120502.108.csv\n",
      "lioness.122_120418.149.csv\n",
      "lioness.231_120425.74.csv\n",
      "lioness.355_120501.28.csv\n",
      "lioness.243_120426.65.csv\n",
      "lioness.36_120416.81.csv\n",
      "lioness.321_120501.71.csv\n",
      "lioness.364_120502.6.csv\n",
      "lioness.459_120514.40.csv\n",
      "lioness.704_120605.85.csv\n",
      "lioness.289_120430.61.csv\n",
      "lioness.323_120501.97.csv\n",
      "lioness.253_120426.127.csv\n",
      "lioness.567_120521.88.csv\n",
      "lioness.326_120501.101.csv\n",
      "lioness.120_120418.161.csv\n",
      "lioness.483_120515.162.csv\n",
      "lioness.429_120507.35.csv\n",
      "lioness.708_120531.11.csv\n",
      "lioness.942_131101.139.csv\n",
      "lioness.628_120524.154.csv\n",
      "lioness.950_131107.49.csv\n",
      "lioness.298_120430.143.csv\n",
      "lioness.531_120516.94.csv\n",
      "lioness.254_120426.68.csv\n",
      "lioness.829_130725.52.csv\n",
      "lioness.420_120507.132.csv\n",
      "lioness.229_120425.10.csv\n",
      "lioness.386_120503.146.csv\n",
      "lioness.314_120501.82.csv\n",
      "lioness.501_120515.105.csv\n",
      "lioness.232_120425.44.csv\n",
      "lioness.638_120524.115.csv\n",
      "lioness.329_120501.147.csv\n",
      "lioness.721_120531.158.csv\n",
      "lioness.511_120515.33.csv\n",
      "lioness.182_120424.135.csv\n",
      "lioness.434_120507.84.csv\n",
      "lioness.711_120531.8.csv\n",
      "lioness.186_120424.26.csv\n",
      "lioness.647_120529.46.csv\n",
      "lioness.952_131107.67.csv\n",
      "lioness.34_120416.37.csv\n",
      "lioness.407_120503.107.csv\n",
      "lioness.02_120405.45.csv\n",
      "lioness.173_120424.110.csv\n",
      "lioness.604_120523.4.csv\n",
      "lioness.45_120416.54.csv\n",
      "lioness.65_120417.153.csv\n",
      "lioness.12_120410.121.csv\n",
      "lioness.680_120604.13.csv\n",
      "lioness.461_120514.104.csv\n",
      "lioness.193_120424.133.csv\n",
      "lioness.213_120425.151.csv\n",
      "lioness.564_120517.152.csv\n",
      "lioness.587_120522.155.csv\n",
      "lioness.787_130530.78.csv\n",
      "lioness.309_120430.24.csv\n",
      "lioness.486_120515.34.csv\n",
      "lioness.88_120417.91.csv\n",
      "lioness.444_120507.20.csv\n",
      "lioness.70_120417.99.csv\n",
      "lioness.72_120417.138.csv\n",
      "lioness.76_120417.93.csv\n",
      "lioness.280_120430.16.csv\n",
      "lioness.283_120430.157.csv\n",
      "lioness.318_120501.111.csv\n",
      "lioness.181_120424.73.csv\n",
      "lioness.23_120411.0.csv\n",
      "lioness.617_120524.39.csv\n",
      "lioness.663_120530.18.csv\n",
      "lioness.646_120524.58.csv\n",
      "lioness.174_120424.163.csv\n",
      "lioness.245_120426.150.csv\n",
      "lioness.705_120605.7.csv\n",
      "lioness.649_120529.134.csv\n",
      "lioness.502_120515.106.csv\n",
      "lioness.408_120503.113.csv\n",
      "lioness.691_120605.2.csv\n",
      "lioness.363_120502.51.csv\n",
      "lioness.938_131101.122.csv\n",
      "lioness.508_120515.89.csv\n",
      "lioness.602_120523.9.csv\n",
      "lioness.689_120604.137.csv\n",
      "lioness.285_120430.38.csv\n",
      "lioness.331_120501.100.csv\n",
      "lioness.713_120531.21.csv\n",
      "lioness.104_120418.90.csv\n",
      "lioness.237_120426.102.csv\n",
      "lioness.633_120524.117.csv\n",
      "lioness.695_120605.87.csv\n",
      "lioness.588_120522.3.csv\n",
      "lioness.482_120514.112.csv\n",
      "lioness.481_120514.69.csv\n",
      ".ipynb_checkpoints\n",
      "lioness.304_120430.125.csv\n",
      "lioness.197_120424.124.csv\n",
      "lioness.04_120405.25.csv\n",
      "lioness.24_120411.17.csv\n",
      "lioness.677_120604.159.csv\n",
      "lioness.554_120517.126.csv\n",
      "lioness.626_120524.62.csv\n",
      "lioness.56_120417.70.csv\n",
      "lioness.547_120516.130.csv\n",
      "lioness.497_120515.83.csv\n",
      "lioness.469_120514.41.csv\n",
      "lioness.470_120514.141.csv\n",
      "lioness.706_120605.14.csv\n",
      "lioness.384_120503.116.csv\n",
      "lioness.418_120507.79.csv\n",
      "lioness.79_120417.129.csv\n",
      "lioness.591_120522.1.csv\n",
      "lioness.345_120501.118.csv\n",
      "lioness.340_120501.86.csv\n",
      "lioness.290_120430.140.csv\n",
      "lioness.606_120523.66.csv\n",
      "lioness.607_120523.64.csv\n"
     ]
    }
   ],
   "source": [
    "for i in os.listdir('../output_GRN/'):\n",
    "    print(i)"
   ]
  },
  {
   "cell_type": "code",
   "execution_count": 4,
   "id": "1e62f34c-fe1a-49bb-a38d-b609d911786f",
   "metadata": {},
   "outputs": [
    {
     "data": {
      "text/plain": [
       "['lioness.csv', 'Untitled.ipynb', 'output_panda_df.csv']"
      ]
     },
     "execution_count": 4,
     "metadata": {},
     "output_type": "execute_result"
    }
   ],
   "source": [
    "['lioness.csv', 'Untitled.ipynb', 'output_panda_df.csv']"
   ]
  },
  {
   "cell_type": "code",
   "execution_count": 11,
   "id": "cddb4140-c0fe-45a5-aa1f-bcab2465a704",
   "metadata": {},
   "outputs": [
    {
     "name": "stderr",
     "output_type": "stream",
     "text": [
      "  0%|                                                                                                                                             | 0/168 [00:00<?, ?it/s]"
     ]
    },
    {
     "name": "stdout",
     "output_type": "stream",
     "text": [
      "lioness.812_130702.119.csv\n"
     ]
    },
    {
     "name": "stderr",
     "output_type": "stream",
     "text": [
      "  1%|▊                                                                                                                                  | 1/168 [01:21<3:46:24, 81.35s/it]"
     ]
    },
    {
     "name": "stdout",
     "output_type": "stream",
     "text": [
      "lioness.74_120417.60.csv\n"
     ]
    },
    {
     "name": "stderr",
     "output_type": "stream",
     "text": [
      "  1%|█▌                                                                                                                                 | 2/168 [02:43<3:46:47, 81.97s/it]"
     ]
    },
    {
     "name": "stdout",
     "output_type": "stream",
     "text": [
      "lioness.635_120524.76.csv\n"
     ]
    },
    {
     "name": "stderr",
     "output_type": "stream",
     "text": [
      "  2%|██▎                                                                                                                                | 3/168 [04:05<3:45:07, 81.87s/it]"
     ]
    },
    {
     "name": "stdout",
     "output_type": "stream",
     "text": [
      "lioness.196_120424.123.csv\n"
     ]
    },
    {
     "name": "stderr",
     "output_type": "stream",
     "text": [
      "  2%|███                                                                                                                                | 4/168 [05:28<3:44:48, 82.24s/it]"
     ]
    },
    {
     "name": "stdout",
     "output_type": "stream",
     "text": [
      "lioness.456_120507.148.csv\n"
     ]
    },
    {
     "name": "stderr",
     "output_type": "stream",
     "text": [
      "  4%|████▋                                                                                                                              | 6/168 [06:49<2:42:37, 60.23s/it]"
     ]
    },
    {
     "name": "stdout",
     "output_type": "stream",
     "text": [
      "lioness.520_120515.53.csv\n"
     ]
    },
    {
     "name": "stderr",
     "output_type": "stream",
     "text": [
      "  4%|█████▍                                                                                                                             | 7/168 [08:10<2:57:06, 66.00s/it]"
     ]
    },
    {
     "name": "stdout",
     "output_type": "stream",
     "text": [
      "lioness.505_120515.96.csv\n"
     ]
    },
    {
     "name": "stderr",
     "output_type": "stream",
     "text": [
      "  5%|██████▏                                                                                                                            | 8/168 [09:37<3:11:40, 71.88s/it]"
     ]
    },
    {
     "name": "stdout",
     "output_type": "stream",
     "text": [
      "lioness.286_120430.59.csv\n"
     ]
    },
    {
     "name": "stderr",
     "output_type": "stream",
     "text": [
      "  5%|███████                                                                                                                            | 9/168 [11:04<3:21:53, 76.19s/it]"
     ]
    },
    {
     "name": "stdout",
     "output_type": "stream",
     "text": [
      "lioness.427_120507.48.csv\n"
     ]
    },
    {
     "name": "stderr",
     "output_type": "stream",
     "text": [
      "  6%|███████▋                                                                                                                          | 10/168 [12:30<3:28:13, 79.07s/it]"
     ]
    },
    {
     "name": "stdout",
     "output_type": "stream",
     "text": [
      "lioness.424_120507.128.csv\n"
     ]
    },
    {
     "name": "stderr",
     "output_type": "stream",
     "text": [
      "  7%|████████▌                                                                                                                         | 11/168 [13:57<3:32:33, 81.23s/it]"
     ]
    },
    {
     "name": "stdout",
     "output_type": "stream",
     "text": [
      "lioness.28_120411.12.csv\n"
     ]
    },
    {
     "name": "stderr",
     "output_type": "stream",
     "text": [
      "  7%|█████████▎                                                                                                                        | 12/168 [15:39<3:47:05, 87.35s/it]"
     ]
    },
    {
     "name": "stdout",
     "output_type": "stream",
     "text": [
      "lioness.630_120524.31.csv\n"
     ]
    },
    {
     "name": "stderr",
     "output_type": "stream",
     "text": [
      "  8%|██████████                                                                                                                        | 13/168 [17:04<3:44:02, 86.72s/it]"
     ]
    },
    {
     "name": "stdout",
     "output_type": "stream",
     "text": [
      "lioness.168_120423.156.csv\n"
     ]
    },
    {
     "name": "stderr",
     "output_type": "stream",
     "text": [
      "  8%|██████████▊                                                                                                                       | 14/168 [18:30<3:41:49, 86.43s/it]"
     ]
    },
    {
     "name": "stdout",
     "output_type": "stream",
     "text": [
      "lioness.405_120503.72.csv\n"
     ]
    },
    {
     "name": "stderr",
     "output_type": "stream",
     "text": [
      "  9%|███████████▌                                                                                                                      | 15/168 [19:55<3:39:16, 85.99s/it]"
     ]
    },
    {
     "name": "stdout",
     "output_type": "stream",
     "text": [
      "lioness.369_120502.42.csv\n"
     ]
    },
    {
     "name": "stderr",
     "output_type": "stream",
     "text": [
      " 10%|████████████▍                                                                                                                     | 16/168 [21:25<3:40:48, 87.16s/it]"
     ]
    },
    {
     "name": "stdout",
     "output_type": "stream",
     "text": [
      "lioness.551_120517.144.csv\n"
     ]
    },
    {
     "name": "stderr",
     "output_type": "stream",
     "text": [
      " 10%|█████████████▏                                                                                                                    | 17/168 [22:51<3:38:48, 86.94s/it]"
     ]
    },
    {
     "name": "stdout",
     "output_type": "stream",
     "text": [
      "lioness.202_120424.95.csv\n"
     ]
    },
    {
     "name": "stderr",
     "output_type": "stream",
     "text": [
      " 11%|█████████████▉                                                                                                                    | 18/168 [24:17<3:36:24, 86.56s/it]"
     ]
    },
    {
     "name": "stdout",
     "output_type": "stream",
     "text": [
      "lioness.274_120430.15.csv\n"
     ]
    },
    {
     "name": "stderr",
     "output_type": "stream",
     "text": [
      " 11%|██████████████▋                                                                                                                   | 19/168 [25:41<3:33:26, 85.95s/it]"
     ]
    },
    {
     "name": "stdout",
     "output_type": "stream",
     "text": [
      "lioness.152_120419.114.csv\n"
     ]
    },
    {
     "name": "stderr",
     "output_type": "stream",
     "text": [
      " 12%|███████████████▍                                                                                                                  | 20/168 [27:15<3:37:47, 88.29s/it]"
     ]
    },
    {
     "name": "stdout",
     "output_type": "stream",
     "text": [
      "lioness.703_120605.27.csv\n"
     ]
    },
    {
     "name": "stderr",
     "output_type": "stream",
     "text": [
      " 12%|████████████████▎                                                                                                                 | 21/168 [28:40<3:33:39, 87.21s/it]"
     ]
    },
    {
     "name": "stdout",
     "output_type": "stream",
     "text": [
      "lioness.142_120419.160.csv\n"
     ]
    },
    {
     "name": "stderr",
     "output_type": "stream",
     "text": [
      " 13%|█████████████████                                                                                                                 | 22/168 [30:02<3:28:40, 85.75s/it]"
     ]
    },
    {
     "name": "stdout",
     "output_type": "stream",
     "text": [
      "lioness.228_120425.36.csv\n"
     ]
    },
    {
     "name": "stderr",
     "output_type": "stream",
     "text": [
      " 14%|█████████████████▊                                                                                                                | 23/168 [31:28<3:27:16, 85.77s/it]"
     ]
    },
    {
     "name": "stdout",
     "output_type": "stream",
     "text": [
      "lioness.498_120515.92.csv\n"
     ]
    },
    {
     "name": "stderr",
     "output_type": "stream",
     "text": [
      " 14%|██████████████████▌                                                                                                               | 24/168 [32:52<3:24:31, 85.22s/it]"
     ]
    },
    {
     "name": "stdout",
     "output_type": "stream",
     "text": [
      "lioness.57_120417.98.csv\n"
     ]
    },
    {
     "name": "stderr",
     "output_type": "stream",
     "text": [
      " 15%|███████████████████▎                                                                                                              | 25/168 [34:15<3:22:03, 84.78s/it]"
     ]
    },
    {
     "name": "stdout",
     "output_type": "stream",
     "text": [
      "lioness.534_120516.63.csv\n"
     ]
    },
    {
     "name": "stderr",
     "output_type": "stream",
     "text": [
      " 15%|████████████████████                                                                                                              | 26/168 [35:37<3:18:16, 83.78s/it]"
     ]
    },
    {
     "name": "stdout",
     "output_type": "stream",
     "text": [
      "lioness.929_131031.142.csv\n"
     ]
    },
    {
     "name": "stderr",
     "output_type": "stream",
     "text": [
      " 16%|████████████████████▉                                                                                                             | 27/168 [37:00<3:16:14, 83.50s/it]"
     ]
    },
    {
     "name": "stdout",
     "output_type": "stream",
     "text": [
      "lioness.537_120516.77.csv\n"
     ]
    },
    {
     "name": "stderr",
     "output_type": "stream",
     "text": [
      " 17%|█████████████████████▋                                                                                                            | 28/168 [38:21<3:13:21, 82.87s/it]"
     ]
    },
    {
     "name": "stdout",
     "output_type": "stream",
     "text": [
      "lioness.11_120410.109.csv\n"
     ]
    },
    {
     "name": "stderr",
     "output_type": "stream",
     "text": [
      " 17%|██████████████████████▍                                                                                                           | 29/168 [39:44<3:11:47, 82.79s/it]"
     ]
    },
    {
     "name": "stdout",
     "output_type": "stream",
     "text": [
      "lioness.77_120417.75.csv\n"
     ]
    },
    {
     "name": "stderr",
     "output_type": "stream",
     "text": [
      " 18%|███████████████████████▏                                                                                                          | 30/168 [41:06<3:09:56, 82.59s/it]"
     ]
    },
    {
     "name": "stdout",
     "output_type": "stream",
     "text": [
      "lioness.624_120524.47.csv\n"
     ]
    },
    {
     "name": "stderr",
     "output_type": "stream",
     "text": [
      " 18%|███████████████████████▉                                                                                                          | 31/168 [42:29<3:08:38, 82.62s/it]"
     ]
    },
    {
     "name": "stdout",
     "output_type": "stream",
     "text": [
      "lioness.637_120524.19.csv\n"
     ]
    },
    {
     "name": "stderr",
     "output_type": "stream",
     "text": [
      " 20%|█████████████████████████▌                                                                                                        | 33/168 [43:51<2:22:58, 63.55s/it]"
     ]
    },
    {
     "name": "stdout",
     "output_type": "stream",
     "text": [
      "lioness.545_120516.5.csv\n"
     ]
    },
    {
     "name": "stderr",
     "output_type": "stream",
     "text": [
      " 20%|██████████████████████████▎                                                                                                       | 34/168 [45:16<2:33:54, 68.91s/it]"
     ]
    },
    {
     "name": "stdout",
     "output_type": "stream",
     "text": [
      "lioness.715_120531.30.csv\n"
     ]
    },
    {
     "name": "stderr",
     "output_type": "stream",
     "text": [
      " 21%|███████████████████████████                                                                                                       | 35/168 [46:39<2:40:41, 72.49s/it]"
     ]
    },
    {
     "name": "stdout",
     "output_type": "stream",
     "text": [
      "lioness.605_120523.56.csv\n"
     ]
    },
    {
     "name": "stderr",
     "output_type": "stream",
     "text": [
      " 21%|███████████████████████████▊                                                                                                      | 36/168 [48:16<2:54:23, 79.27s/it]"
     ]
    },
    {
     "name": "stdout",
     "output_type": "stream",
     "text": [
      "lioness.146_120419.50.csv\n"
     ]
    },
    {
     "name": "stderr",
     "output_type": "stream",
     "text": [
      " 22%|████████████████████████████▋                                                                                                     | 37/168 [49:38<2:54:35, 79.97s/it]"
     ]
    },
    {
     "name": "stdout",
     "output_type": "stream",
     "text": [
      "lioness.350_120501.57.csv\n"
     ]
    },
    {
     "name": "stderr",
     "output_type": "stream",
     "text": [
      " 23%|██████████████████████████████▏                                                                                                   | 39/168 [51:02<2:15:36, 63.07s/it]"
     ]
    },
    {
     "name": "stdout",
     "output_type": "stream",
     "text": [
      "lioness.460_120514.23.csv\n"
     ]
    },
    {
     "name": "stderr",
     "output_type": "stream",
     "text": [
      " 24%|██████████████████████████████▉                                                                                                   | 40/168 [52:26<2:25:20, 68.13s/it]"
     ]
    },
    {
     "name": "stdout",
     "output_type": "stream",
     "text": [
      "lioness.568_120521.55.csv\n"
     ]
    },
    {
     "name": "stderr",
     "output_type": "stream",
     "text": [
      " 24%|███████████████████████████████▋                                                                                                  | 41/168 [53:48<2:31:57, 71.79s/it]"
     ]
    },
    {
     "name": "stdout",
     "output_type": "stream",
     "text": [
      "lioness.553_120517.103.csv\n"
     ]
    },
    {
     "name": "stderr",
     "output_type": "stream",
     "text": [
      " 25%|████████████████████████████████▌                                                                                                 | 42/168 [55:10<2:36:24, 74.48s/it]"
     ]
    },
    {
     "name": "stdout",
     "output_type": "stream",
     "text": [
      "lioness.292_120430.22.csv\n"
     ]
    },
    {
     "name": "stderr",
     "output_type": "stream",
     "text": [
      " 26%|█████████████████████████████████▎                                                                                                | 43/168 [56:33<2:40:10, 76.88s/it]"
     ]
    },
    {
     "name": "stdout",
     "output_type": "stream",
     "text": [
      "lioness.145_120419.120.csv\n"
     ]
    },
    {
     "name": "stderr",
     "output_type": "stream",
     "text": [
      " 26%|██████████████████████████████████                                                                                                | 44/168 [57:56<2:42:16, 78.52s/it]"
     ]
    },
    {
     "name": "stdout",
     "output_type": "stream",
     "text": [
      "lioness.494_120515.43.csv\n"
     ]
    },
    {
     "name": "stderr",
     "output_type": "stream",
     "text": [
      " 27%|██████████████████████████████████▊                                                                                               | 45/168 [59:18<2:43:04, 79.55s/it]"
     ]
    },
    {
     "name": "stdout",
     "output_type": "stream",
     "text": [
      "lioness.550_120517.80.csv\n"
     ]
    },
    {
     "name": "stderr",
     "output_type": "stream",
     "text": [
      " 27%|███████████████████████████████████                                                                                             | 46/168 [1:00:42<2:44:27, 80.88s/it]"
     ]
    },
    {
     "name": "stdout",
     "output_type": "stream",
     "text": [
      "lioness.352_120501.131.csv\n"
     ]
    },
    {
     "name": "stderr",
     "output_type": "stream",
     "text": [
      " 28%|███████████████████████████████████▊                                                                                            | 47/168 [1:02:06<2:45:02, 81.84s/it]"
     ]
    },
    {
     "name": "stdout",
     "output_type": "stream",
     "text": [
      "lioness.310_120430.29.csv\n"
     ]
    },
    {
     "name": "stderr",
     "output_type": "stream",
     "text": [
      " 29%|████████████████████████████████████▌                                                                                           | 48/168 [1:03:31<2:45:28, 82.73s/it]"
     ]
    },
    {
     "name": "stdout",
     "output_type": "stream",
     "text": [
      "lioness.951_131107.136.csv\n"
     ]
    },
    {
     "name": "stderr",
     "output_type": "stream",
     "text": [
      " 29%|█████████████████████████████████████▎                                                                                          | 49/168 [1:04:56<2:45:30, 83.45s/it]"
     ]
    },
    {
     "name": "stdout",
     "output_type": "stream",
     "text": [
      "lioness.82_120417.145.csv\n"
     ]
    },
    {
     "name": "stderr",
     "output_type": "stream",
     "text": [
      " 30%|██████████████████████████████████████                                                                                          | 50/168 [1:06:20<2:44:19, 83.56s/it]"
     ]
    },
    {
     "name": "stdout",
     "output_type": "stream",
     "text": [
      "lioness.214_120425.32.csv\n"
     ]
    },
    {
     "name": "stderr",
     "output_type": "stream",
     "text": [
      " 30%|██████████████████████████████████████▊                                                                                         | 51/168 [1:07:45<2:43:44, 83.97s/it]"
     ]
    },
    {
     "name": "stdout",
     "output_type": "stream",
     "text": [
      "lioness.360_120502.108.csv\n"
     ]
    },
    {
     "name": "stderr",
     "output_type": "stream",
     "text": [
      " 31%|███████████████████████████████████████▌                                                                                        | 52/168 [1:09:10<2:42:41, 84.15s/it]"
     ]
    },
    {
     "name": "stdout",
     "output_type": "stream",
     "text": [
      "lioness.122_120418.149.csv\n"
     ]
    },
    {
     "name": "stderr",
     "output_type": "stream",
     "text": [
      " 32%|████████████████████████████████████████▍                                                                                       | 53/168 [1:10:34<2:41:17, 84.15s/it]"
     ]
    },
    {
     "name": "stdout",
     "output_type": "stream",
     "text": [
      "lioness.231_120425.74.csv\n"
     ]
    },
    {
     "name": "stderr",
     "output_type": "stream",
     "text": [
      " 32%|█████████████████████████████████████████▏                                                                                      | 54/168 [1:11:58<2:39:45, 84.09s/it]"
     ]
    },
    {
     "name": "stdout",
     "output_type": "stream",
     "text": [
      "lioness.355_120501.28.csv\n"
     ]
    },
    {
     "name": "stderr",
     "output_type": "stream",
     "text": [
      " 33%|█████████████████████████████████████████▉                                                                                      | 55/168 [1:13:21<2:38:00, 83.89s/it]"
     ]
    },
    {
     "name": "stdout",
     "output_type": "stream",
     "text": [
      "lioness.243_120426.65.csv\n"
     ]
    },
    {
     "name": "stderr",
     "output_type": "stream",
     "text": [
      " 33%|██████████████████████████████████████████▋                                                                                     | 56/168 [1:14:45<2:36:21, 83.76s/it]"
     ]
    },
    {
     "name": "stdout",
     "output_type": "stream",
     "text": [
      "lioness.36_120416.81.csv\n"
     ]
    },
    {
     "name": "stderr",
     "output_type": "stream",
     "text": [
      " 34%|███████████████████████████████████████████▍                                                                                    | 57/168 [1:16:09<2:35:19, 83.96s/it]"
     ]
    },
    {
     "name": "stdout",
     "output_type": "stream",
     "text": [
      "lioness.321_120501.71.csv\n"
     ]
    },
    {
     "name": "stderr",
     "output_type": "stream",
     "text": [
      " 35%|████████████████████████████████████████████▏                                                                                   | 58/168 [1:17:35<2:34:40, 84.37s/it]"
     ]
    },
    {
     "name": "stdout",
     "output_type": "stream",
     "text": [
      "lioness.364_120502.6.csv\n"
     ]
    },
    {
     "name": "stderr",
     "output_type": "stream",
     "text": [
      " 35%|████████████████████████████████████████████▉                                                                                   | 59/168 [1:19:01<2:34:17, 84.93s/it]"
     ]
    },
    {
     "name": "stdout",
     "output_type": "stream",
     "text": [
      "lioness.459_120514.40.csv\n"
     ]
    },
    {
     "name": "stderr",
     "output_type": "stream",
     "text": [
      " 36%|█████████████████████████████████████████████▋                                                                                  | 60/168 [1:20:24<2:31:57, 84.42s/it]"
     ]
    },
    {
     "name": "stdout",
     "output_type": "stream",
     "text": [
      "lioness.704_120605.85.csv\n"
     ]
    },
    {
     "name": "stderr",
     "output_type": "stream",
     "text": [
      " 36%|██████████████████████████████████████████████▍                                                                                 | 61/168 [1:21:49<2:30:47, 84.56s/it]"
     ]
    },
    {
     "name": "stdout",
     "output_type": "stream",
     "text": [
      "lioness.289_120430.61.csv\n"
     ]
    },
    {
     "name": "stderr",
     "output_type": "stream",
     "text": [
      " 37%|███████████████████████████████████████████████▏                                                                                | 62/168 [1:23:13<2:28:58, 84.33s/it]"
     ]
    },
    {
     "name": "stdout",
     "output_type": "stream",
     "text": [
      "lioness.323_120501.97.csv\n"
     ]
    },
    {
     "name": "stderr",
     "output_type": "stream",
     "text": [
      " 38%|████████████████████████████████████████████████                                                                                | 63/168 [1:24:36<2:27:08, 84.08s/it]"
     ]
    },
    {
     "name": "stdout",
     "output_type": "stream",
     "text": [
      "lioness.253_120426.127.csv\n"
     ]
    },
    {
     "name": "stderr",
     "output_type": "stream",
     "text": [
      " 38%|████████████████████████████████████████████████▊                                                                               | 64/168 [1:26:00<2:25:41, 84.05s/it]"
     ]
    },
    {
     "name": "stdout",
     "output_type": "stream",
     "text": [
      "lioness.567_120521.88.csv\n"
     ]
    },
    {
     "name": "stderr",
     "output_type": "stream",
     "text": [
      " 39%|█████████████████████████████████████████████████▌                                                                              | 65/168 [1:27:27<2:25:33, 84.79s/it]"
     ]
    },
    {
     "name": "stdout",
     "output_type": "stream",
     "text": [
      "lioness.326_120501.101.csv\n"
     ]
    },
    {
     "name": "stderr",
     "output_type": "stream",
     "text": [
      " 39%|██████████████████████████████████████████████████▎                                                                             | 66/168 [1:28:51<2:23:41, 84.53s/it]"
     ]
    },
    {
     "name": "stdout",
     "output_type": "stream",
     "text": [
      "lioness.120_120418.161.csv\n"
     ]
    },
    {
     "name": "stderr",
     "output_type": "stream",
     "text": [
      " 40%|███████████████████████████████████████████████████                                                                             | 67/168 [1:30:16<2:22:32, 84.68s/it]"
     ]
    },
    {
     "name": "stdout",
     "output_type": "stream",
     "text": [
      "lioness.483_120515.162.csv\n"
     ]
    },
    {
     "name": "stderr",
     "output_type": "stream",
     "text": [
      " 40%|███████████████████████████████████████████████████▊                                                                            | 68/168 [1:31:42<2:21:53, 85.13s/it]"
     ]
    },
    {
     "name": "stdout",
     "output_type": "stream",
     "text": [
      "lioness.429_120507.35.csv\n"
     ]
    },
    {
     "name": "stderr",
     "output_type": "stream",
     "text": [
      " 41%|████████████████████████████████████████████████████▌                                                                           | 69/168 [1:33:04<2:19:00, 84.25s/it]"
     ]
    },
    {
     "name": "stdout",
     "output_type": "stream",
     "text": [
      "lioness.708_120531.11.csv\n"
     ]
    },
    {
     "name": "stderr",
     "output_type": "stream",
     "text": [
      " 42%|█████████████████████████████████████████████████████▎                                                                          | 70/168 [1:34:27<2:16:54, 83.82s/it]"
     ]
    },
    {
     "name": "stdout",
     "output_type": "stream",
     "text": [
      "lioness.942_131101.139.csv\n"
     ]
    },
    {
     "name": "stderr",
     "output_type": "stream",
     "text": [
      " 42%|██████████████████████████████████████████████████████                                                                          | 71/168 [1:35:51<2:15:29, 83.81s/it]"
     ]
    },
    {
     "name": "stdout",
     "output_type": "stream",
     "text": [
      "lioness.628_120524.154.csv\n"
     ]
    },
    {
     "name": "stderr",
     "output_type": "stream",
     "text": [
      " 43%|██████████████████████████████████████████████████████▊                                                                         | 72/168 [1:37:14<2:14:03, 83.79s/it]"
     ]
    },
    {
     "name": "stdout",
     "output_type": "stream",
     "text": [
      "lioness.950_131107.49.csv\n"
     ]
    },
    {
     "name": "stderr",
     "output_type": "stream",
     "text": [
      " 43%|███████████████████████████████████████████████████████▌                                                                        | 73/168 [1:38:37<2:11:54, 83.31s/it]"
     ]
    },
    {
     "name": "stdout",
     "output_type": "stream",
     "text": [
      "lioness.298_120430.143.csv\n"
     ]
    },
    {
     "name": "stderr",
     "output_type": "stream",
     "text": [
      " 44%|████████████████████████████████████████████████████████▍                                                                       | 74/168 [1:40:02<2:11:21, 83.85s/it]"
     ]
    },
    {
     "name": "stdout",
     "output_type": "stream",
     "text": [
      "lioness.531_120516.94.csv\n"
     ]
    },
    {
     "name": "stderr",
     "output_type": "stream",
     "text": [
      " 45%|█████████████████████████████████████████████████████████▏                                                                      | 75/168 [1:41:27<2:10:44, 84.35s/it]"
     ]
    },
    {
     "name": "stdout",
     "output_type": "stream",
     "text": [
      "lioness.254_120426.68.csv\n"
     ]
    },
    {
     "name": "stderr",
     "output_type": "stream",
     "text": [
      " 45%|█████████████████████████████████████████████████████████▉                                                                      | 76/168 [1:42:52<2:09:26, 84.42s/it]"
     ]
    },
    {
     "name": "stdout",
     "output_type": "stream",
     "text": [
      "lioness.829_130725.52.csv\n"
     ]
    },
    {
     "name": "stderr",
     "output_type": "stream",
     "text": [
      " 46%|██████████████████████████████████████████████████████████▋                                                                     | 77/168 [1:44:15<2:07:20, 83.97s/it]"
     ]
    },
    {
     "name": "stdout",
     "output_type": "stream",
     "text": [
      "lioness.420_120507.132.csv\n"
     ]
    },
    {
     "name": "stderr",
     "output_type": "stream",
     "text": [
      " 46%|███████████████████████████████████████████████████████████▍                                                                    | 78/168 [1:45:38<2:05:36, 83.74s/it]"
     ]
    },
    {
     "name": "stdout",
     "output_type": "stream",
     "text": [
      "lioness.229_120425.10.csv\n"
     ]
    },
    {
     "name": "stderr",
     "output_type": "stream",
     "text": [
      " 47%|████████████████████████████████████████████████████████████▏                                                                   | 79/168 [1:47:02<2:04:29, 83.93s/it]"
     ]
    },
    {
     "name": "stdout",
     "output_type": "stream",
     "text": [
      "lioness.386_120503.146.csv\n"
     ]
    },
    {
     "name": "stderr",
     "output_type": "stream",
     "text": [
      " 48%|████████████████████████████████████████████████████████████▉                                                                   | 80/168 [1:48:26<2:03:02, 83.89s/it]"
     ]
    },
    {
     "name": "stdout",
     "output_type": "stream",
     "text": [
      "lioness.314_120501.82.csv\n"
     ]
    },
    {
     "name": "stderr",
     "output_type": "stream",
     "text": [
      " 48%|█████████████████████████████████████████████████████████████▋                                                                  | 81/168 [1:49:49<2:01:07, 83.53s/it]"
     ]
    },
    {
     "name": "stdout",
     "output_type": "stream",
     "text": [
      "lioness.501_120515.105.csv\n"
     ]
    },
    {
     "name": "stderr",
     "output_type": "stream",
     "text": [
      " 49%|██████████████████████████████████████████████████████████████▍                                                                 | 82/168 [1:51:12<1:59:25, 83.32s/it]"
     ]
    },
    {
     "name": "stdout",
     "output_type": "stream",
     "text": [
      "lioness.232_120425.44.csv\n"
     ]
    },
    {
     "name": "stderr",
     "output_type": "stream",
     "text": [
      " 49%|███████████████████████████████████████████████████████████████▏                                                                | 83/168 [1:52:36<1:58:33, 83.69s/it]"
     ]
    },
    {
     "name": "stdout",
     "output_type": "stream",
     "text": [
      "lioness.638_120524.115.csv\n"
     ]
    },
    {
     "name": "stderr",
     "output_type": "stream",
     "text": [
      " 50%|████████████████████████████████████████████████████████████████                                                                | 84/168 [1:54:00<1:57:15, 83.75s/it]"
     ]
    },
    {
     "name": "stdout",
     "output_type": "stream",
     "text": [
      "lioness.329_120501.147.csv\n"
     ]
    },
    {
     "name": "stderr",
     "output_type": "stream",
     "text": [
      " 51%|████████████████████████████████████████████████████████████████▊                                                               | 85/168 [1:55:26<1:56:35, 84.28s/it]"
     ]
    },
    {
     "name": "stdout",
     "output_type": "stream",
     "text": [
      "lioness.721_120531.158.csv\n"
     ]
    },
    {
     "name": "stderr",
     "output_type": "stream",
     "text": [
      " 51%|█████████████████████████████████████████████████████████████████▌                                                              | 86/168 [1:56:48<1:54:27, 83.75s/it]"
     ]
    },
    {
     "name": "stdout",
     "output_type": "stream",
     "text": [
      "lioness.511_120515.33.csv\n"
     ]
    },
    {
     "name": "stderr",
     "output_type": "stream",
     "text": [
      " 52%|██████████████████████████████████████████████████████████████████▎                                                             | 87/168 [1:58:13<1:53:34, 84.13s/it]"
     ]
    },
    {
     "name": "stdout",
     "output_type": "stream",
     "text": [
      "lioness.182_120424.135.csv\n"
     ]
    },
    {
     "name": "stderr",
     "output_type": "stream",
     "text": [
      " 52%|███████████████████████████████████████████████████████████████████                                                             | 88/168 [1:59:36<1:51:50, 83.88s/it]"
     ]
    },
    {
     "name": "stdout",
     "output_type": "stream",
     "text": [
      "lioness.434_120507.84.csv\n"
     ]
    },
    {
     "name": "stderr",
     "output_type": "stream",
     "text": [
      " 53%|███████████████████████████████████████████████████████████████████▊                                                            | 89/168 [2:01:02<1:51:20, 84.56s/it]"
     ]
    },
    {
     "name": "stdout",
     "output_type": "stream",
     "text": [
      "lioness.711_120531.8.csv\n"
     ]
    },
    {
     "name": "stderr",
     "output_type": "stream",
     "text": [
      " 54%|████████████████████████████████████████████████████████████████████▌                                                           | 90/168 [2:02:28<1:50:13, 84.79s/it]"
     ]
    },
    {
     "name": "stdout",
     "output_type": "stream",
     "text": [
      "lioness.186_120424.26.csv\n"
     ]
    },
    {
     "name": "stderr",
     "output_type": "stream",
     "text": [
      " 54%|█████████████████████████████████████████████████████████████████████▎                                                          | 91/168 [2:03:57<1:50:22, 86.00s/it]"
     ]
    },
    {
     "name": "stdout",
     "output_type": "stream",
     "text": [
      "lioness.647_120529.46.csv\n"
     ]
    },
    {
     "name": "stderr",
     "output_type": "stream",
     "text": [
      " 55%|██████████████████████████████████████████████████████████████████████                                                          | 92/168 [2:05:23<1:49:01, 86.07s/it]"
     ]
    },
    {
     "name": "stdout",
     "output_type": "stream",
     "text": [
      "lioness.952_131107.67.csv\n"
     ]
    },
    {
     "name": "stderr",
     "output_type": "stream",
     "text": [
      " 55%|██████████████████████████████████████████████████████████████████████▊                                                         | 93/168 [2:06:48<1:47:06, 85.69s/it]"
     ]
    },
    {
     "name": "stdout",
     "output_type": "stream",
     "text": [
      "lioness.34_120416.37.csv\n"
     ]
    },
    {
     "name": "stderr",
     "output_type": "stream",
     "text": [
      " 56%|███████████████████████████████████████████████████████████████████████▌                                                        | 94/168 [2:08:13<1:45:31, 85.56s/it]"
     ]
    },
    {
     "name": "stdout",
     "output_type": "stream",
     "text": [
      "lioness.407_120503.107.csv\n"
     ]
    },
    {
     "name": "stderr",
     "output_type": "stream",
     "text": [
      " 57%|████████████████████████████████████████████████████████████████████████▍                                                       | 95/168 [2:09:39<1:44:06, 85.56s/it]"
     ]
    },
    {
     "name": "stdout",
     "output_type": "stream",
     "text": [
      "lioness.02_120405.45.csv\n"
     ]
    },
    {
     "name": "stderr",
     "output_type": "stream",
     "text": [
      " 57%|█████████████████████████████████████████████████████████████████████████▏                                                      | 96/168 [2:11:03<1:42:13, 85.19s/it]"
     ]
    },
    {
     "name": "stdout",
     "output_type": "stream",
     "text": [
      "lioness.173_120424.110.csv\n"
     ]
    },
    {
     "name": "stderr",
     "output_type": "stream",
     "text": [
      " 58%|█████████████████████████████████████████████████████████████████████████▉                                                      | 97/168 [2:12:28<1:40:41, 85.09s/it]"
     ]
    },
    {
     "name": "stdout",
     "output_type": "stream",
     "text": [
      "lioness.604_120523.4.csv\n"
     ]
    },
    {
     "name": "stderr",
     "output_type": "stream",
     "text": [
      " 58%|██████████████████████████████████████████████████████████████████████████▋                                                     | 98/168 [2:13:53<1:39:18, 85.12s/it]"
     ]
    },
    {
     "name": "stdout",
     "output_type": "stream",
     "text": [
      "lioness.45_120416.54.csv\n"
     ]
    },
    {
     "name": "stderr",
     "output_type": "stream",
     "text": [
      " 59%|███████████████████████████████████████████████████████████████████████████▍                                                    | 99/168 [2:15:18<1:37:54, 85.13s/it]"
     ]
    },
    {
     "name": "stdout",
     "output_type": "stream",
     "text": [
      "lioness.65_120417.153.csv\n"
     ]
    },
    {
     "name": "stderr",
     "output_type": "stream",
     "text": [
      " 60%|███████████████████████████████████████████████████████████████████████████▌                                                   | 100/168 [2:16:43<1:36:23, 85.04s/it]"
     ]
    },
    {
     "name": "stdout",
     "output_type": "stream",
     "text": [
      "lioness.12_120410.121.csv\n"
     ]
    },
    {
     "name": "stderr",
     "output_type": "stream",
     "text": [
      " 60%|████████████████████████████████████████████████████████████████████████████▎                                                  | 101/168 [2:18:07<1:34:32, 84.67s/it]"
     ]
    },
    {
     "name": "stdout",
     "output_type": "stream",
     "text": [
      "lioness.680_120604.13.csv\n"
     ]
    },
    {
     "name": "stderr",
     "output_type": "stream",
     "text": [
      " 61%|█████████████████████████████████████████████████████████████████████████████                                                  | 102/168 [2:19:30<1:32:42, 84.27s/it]"
     ]
    },
    {
     "name": "stdout",
     "output_type": "stream",
     "text": [
      "lioness.461_120514.104.csv\n"
     ]
    },
    {
     "name": "stderr",
     "output_type": "stream",
     "text": [
      " 61%|█████████████████████████████████████████████████████████████████████████████▊                                                 | 103/168 [2:20:55<1:31:26, 84.41s/it]"
     ]
    },
    {
     "name": "stdout",
     "output_type": "stream",
     "text": [
      "lioness.193_120424.133.csv\n"
     ]
    },
    {
     "name": "stderr",
     "output_type": "stream",
     "text": [
      " 62%|██████████████████████████████████████████████████████████████████████████████▌                                                | 104/168 [2:22:20<1:30:10, 84.54s/it]"
     ]
    },
    {
     "name": "stdout",
     "output_type": "stream",
     "text": [
      "lioness.213_120425.151.csv\n"
     ]
    },
    {
     "name": "stderr",
     "output_type": "stream",
     "text": [
      " 62%|███████████████████████████████████████████████████████████████████████████████▍                                               | 105/168 [2:23:46<1:29:16, 85.02s/it]"
     ]
    },
    {
     "name": "stdout",
     "output_type": "stream",
     "text": [
      "lioness.564_120517.152.csv\n"
     ]
    },
    {
     "name": "stderr",
     "output_type": "stream",
     "text": [
      " 63%|████████████████████████████████████████████████████████████████████████████████▏                                              | 106/168 [2:25:12<1:28:15, 85.42s/it]"
     ]
    },
    {
     "name": "stdout",
     "output_type": "stream",
     "text": [
      "lioness.587_120522.155.csv\n"
     ]
    },
    {
     "name": "stderr",
     "output_type": "stream",
     "text": [
      " 64%|████████████████████████████████████████████████████████████████████████████████▉                                              | 107/168 [2:26:39<1:27:19, 85.89s/it]"
     ]
    },
    {
     "name": "stdout",
     "output_type": "stream",
     "text": [
      "lioness.787_130530.78.csv\n"
     ]
    },
    {
     "name": "stderr",
     "output_type": "stream",
     "text": [
      " 64%|█████████████████████████████████████████████████████████████████████████████████▋                                             | 108/168 [2:28:03<1:25:17, 85.29s/it]"
     ]
    },
    {
     "name": "stdout",
     "output_type": "stream",
     "text": [
      "lioness.309_120430.24.csv\n"
     ]
    },
    {
     "name": "stderr",
     "output_type": "stream",
     "text": [
      " 65%|██████████████████████████████████████████████████████████████████████████████████▍                                            | 109/168 [2:29:27<1:23:35, 85.01s/it]"
     ]
    },
    {
     "name": "stdout",
     "output_type": "stream",
     "text": [
      "lioness.486_120515.34.csv\n"
     ]
    },
    {
     "name": "stderr",
     "output_type": "stream",
     "text": [
      " 65%|███████████████████████████████████████████████████████████████████████████████████▏                                           | 110/168 [2:30:55<1:22:49, 85.69s/it]"
     ]
    },
    {
     "name": "stdout",
     "output_type": "stream",
     "text": [
      "lioness.88_120417.91.csv\n"
     ]
    },
    {
     "name": "stderr",
     "output_type": "stream",
     "text": [
      " 66%|███████████████████████████████████████████████████████████████████████████████████▉                                           | 111/168 [2:32:18<1:20:47, 85.04s/it]"
     ]
    },
    {
     "name": "stdout",
     "output_type": "stream",
     "text": [
      "lioness.444_120507.20.csv\n"
     ]
    },
    {
     "name": "stderr",
     "output_type": "stream",
     "text": [
      " 67%|████████████████████████████████████████████████████████████████████████████████████▋                                          | 112/168 [2:33:42<1:18:59, 84.64s/it]"
     ]
    },
    {
     "name": "stdout",
     "output_type": "stream",
     "text": [
      "lioness.70_120417.99.csv\n"
     ]
    },
    {
     "name": "stderr",
     "output_type": "stream",
     "text": [
      " 67%|█████████████████████████████████████████████████████████████████████████████████████▍                                         | 113/168 [2:35:05<1:17:08, 84.15s/it]"
     ]
    },
    {
     "name": "stdout",
     "output_type": "stream",
     "text": [
      "lioness.72_120417.138.csv\n"
     ]
    },
    {
     "name": "stderr",
     "output_type": "stream",
     "text": [
      " 68%|██████████████████████████████████████████████████████████████████████████████████████▏                                        | 114/168 [2:36:29<1:15:42, 84.12s/it]"
     ]
    },
    {
     "name": "stdout",
     "output_type": "stream",
     "text": [
      "lioness.76_120417.93.csv\n"
     ]
    },
    {
     "name": "stderr",
     "output_type": "stream",
     "text": [
      " 68%|██████████████████████████████████████████████████████████████████████████████████████▉                                        | 115/168 [2:37:53<1:14:21, 84.17s/it]"
     ]
    },
    {
     "name": "stdout",
     "output_type": "stream",
     "text": [
      "lioness.280_120430.16.csv\n"
     ]
    },
    {
     "name": "stderr",
     "output_type": "stream",
     "text": [
      " 69%|███████████████████████████████████████████████████████████████████████████████████████▋                                       | 116/168 [2:39:18<1:13:11, 84.45s/it]"
     ]
    },
    {
     "name": "stdout",
     "output_type": "stream",
     "text": [
      "lioness.283_120430.157.csv\n"
     ]
    },
    {
     "name": "stderr",
     "output_type": "stream",
     "text": [
      " 70%|████████████████████████████████████████████████████████████████████████████████████████▍                                      | 117/168 [2:40:43<1:11:53, 84.58s/it]"
     ]
    },
    {
     "name": "stdout",
     "output_type": "stream",
     "text": [
      "lioness.318_120501.111.csv\n"
     ]
    },
    {
     "name": "stderr",
     "output_type": "stream",
     "text": [
      " 70%|█████████████████████████████████████████████████████████████████████████████████████████▏                                     | 118/168 [2:42:09<1:10:45, 84.91s/it]"
     ]
    },
    {
     "name": "stdout",
     "output_type": "stream",
     "text": [
      "lioness.181_120424.73.csv\n"
     ]
    },
    {
     "name": "stderr",
     "output_type": "stream",
     "text": [
      " 71%|█████████████████████████████████████████████████████████████████████████████████████████▉                                     | 119/168 [2:43:37<1:10:05, 85.82s/it]"
     ]
    },
    {
     "name": "stdout",
     "output_type": "stream",
     "text": [
      "lioness.23_120411.0.csv\n"
     ]
    },
    {
     "name": "stderr",
     "output_type": "stream",
     "text": [
      " 71%|██████████████████████████████████████████████████████████████████████████████████████████▋                                    | 120/168 [2:45:03<1:08:37, 85.79s/it]"
     ]
    },
    {
     "name": "stdout",
     "output_type": "stream",
     "text": [
      "lioness.617_120524.39.csv\n"
     ]
    },
    {
     "name": "stderr",
     "output_type": "stream",
     "text": [
      " 72%|███████████████████████████████████████████████████████████████████████████████████████████▍                                   | 121/168 [2:46:28<1:07:10, 85.75s/it]"
     ]
    },
    {
     "name": "stdout",
     "output_type": "stream",
     "text": [
      "lioness.663_120530.18.csv\n"
     ]
    },
    {
     "name": "stderr",
     "output_type": "stream",
     "text": [
      " 73%|████████████████████████████████████████████████████████████████████████████████████████████▏                                  | 122/168 [2:47:54<1:05:43, 85.74s/it]"
     ]
    },
    {
     "name": "stdout",
     "output_type": "stream",
     "text": [
      "lioness.646_120524.58.csv\n"
     ]
    },
    {
     "name": "stderr",
     "output_type": "stream",
     "text": [
      " 73%|████████████████████████████████████████████████████████████████████████████████████████████▉                                  | 123/168 [2:49:20<1:04:29, 85.98s/it]"
     ]
    },
    {
     "name": "stdout",
     "output_type": "stream",
     "text": [
      "lioness.174_120424.163.csv\n"
     ]
    },
    {
     "name": "stderr",
     "output_type": "stream",
     "text": [
      " 74%|█████████████████████████████████████████████████████████████████████████████████████████████▋                                 | 124/168 [2:50:44<1:02:36, 85.38s/it]"
     ]
    },
    {
     "name": "stdout",
     "output_type": "stream",
     "text": [
      "lioness.245_120426.150.csv\n"
     ]
    },
    {
     "name": "stderr",
     "output_type": "stream",
     "text": [
      " 74%|██████████████████████████████████████████████████████████████████████████████████████████████▍                                | 125/168 [2:52:15<1:02:16, 86.89s/it]"
     ]
    },
    {
     "name": "stdout",
     "output_type": "stream",
     "text": [
      "lioness.705_120605.7.csv\n"
     ]
    },
    {
     "name": "stderr",
     "output_type": "stream",
     "text": [
      " 75%|███████████████████████████████████████████████████████████████████████████████████████████████▎                               | 126/168 [2:53:40<1:00:31, 86.47s/it]"
     ]
    },
    {
     "name": "stdout",
     "output_type": "stream",
     "text": [
      "lioness.649_120529.134.csv\n"
     ]
    },
    {
     "name": "stderr",
     "output_type": "stream",
     "text": [
      " 76%|█████████████████████████████████████████████████████████████████████████████████████████████████▌                               | 127/168 [2:55:04<58:26, 85.53s/it]"
     ]
    },
    {
     "name": "stdout",
     "output_type": "stream",
     "text": [
      "lioness.502_120515.106.csv\n"
     ]
    },
    {
     "name": "stderr",
     "output_type": "stream",
     "text": [
      " 76%|██████████████████████████████████████████████████████████████████████████████████████████████████▎                              | 128/168 [2:56:31<57:20, 86.02s/it]"
     ]
    },
    {
     "name": "stdout",
     "output_type": "stream",
     "text": [
      "lioness.408_120503.113.csv\n"
     ]
    },
    {
     "name": "stderr",
     "output_type": "stream",
     "text": [
      " 77%|███████████████████████████████████████████████████████████████████████████████████████████████████                              | 129/168 [2:57:55<55:38, 85.60s/it]"
     ]
    },
    {
     "name": "stdout",
     "output_type": "stream",
     "text": [
      "lioness.691_120605.2.csv\n"
     ]
    },
    {
     "name": "stderr",
     "output_type": "stream",
     "text": [
      " 77%|███████████████████████████████████████████████████████████████████████████████████████████████████▊                             | 130/168 [2:59:22<54:28, 86.00s/it]"
     ]
    },
    {
     "name": "stdout",
     "output_type": "stream",
     "text": [
      "lioness.363_120502.51.csv\n"
     ]
    },
    {
     "name": "stderr",
     "output_type": "stream",
     "text": [
      " 78%|████████████████████████████████████████████████████████████████████████████████████████████████████▌                            | 131/168 [3:00:48<53:01, 85.99s/it]"
     ]
    },
    {
     "name": "stdout",
     "output_type": "stream",
     "text": [
      "lioness.938_131101.122.csv\n"
     ]
    },
    {
     "name": "stderr",
     "output_type": "stream",
     "text": [
      " 79%|█████████████████████████████████████████████████████████████████████████████████████████████████████▎                           | 132/168 [3:02:13<51:21, 85.59s/it]"
     ]
    },
    {
     "name": "stdout",
     "output_type": "stream",
     "text": [
      "lioness.508_120515.89.csv\n"
     ]
    },
    {
     "name": "stderr",
     "output_type": "stream",
     "text": [
      " 79%|██████████████████████████████████████████████████████████████████████████████████████████████████████▏                          | 133/168 [3:03:36<49:30, 84.88s/it]"
     ]
    },
    {
     "name": "stdout",
     "output_type": "stream",
     "text": [
      "lioness.602_120523.9.csv\n"
     ]
    },
    {
     "name": "stderr",
     "output_type": "stream",
     "text": [
      " 80%|██████████████████████████████████████████████████████████████████████████████████████████████████████▉                          | 134/168 [3:05:04<48:32, 85.67s/it]"
     ]
    },
    {
     "name": "stdout",
     "output_type": "stream",
     "text": [
      "lioness.689_120604.137.csv\n"
     ]
    },
    {
     "name": "stderr",
     "output_type": "stream",
     "text": [
      " 80%|███████████████████████████████████████████████████████████████████████████████████████████████████████▋                         | 135/168 [3:06:31<47:24, 86.21s/it]"
     ]
    },
    {
     "name": "stdout",
     "output_type": "stream",
     "text": [
      "lioness.285_120430.38.csv\n"
     ]
    },
    {
     "name": "stderr",
     "output_type": "stream",
     "text": [
      " 81%|████████████████████████████████████████████████████████████████████████████████████████████████████████▍                        | 136/168 [3:07:56<45:44, 85.78s/it]"
     ]
    },
    {
     "name": "stdout",
     "output_type": "stream",
     "text": [
      "lioness.331_120501.100.csv\n"
     ]
    },
    {
     "name": "stderr",
     "output_type": "stream",
     "text": [
      " 82%|█████████████████████████████████████████████████████████████████████████████████████████████████████████▏                       | 137/168 [3:09:21<44:16, 85.70s/it]"
     ]
    },
    {
     "name": "stdout",
     "output_type": "stream",
     "text": [
      "lioness.713_120531.21.csv\n"
     ]
    },
    {
     "name": "stderr",
     "output_type": "stream",
     "text": [
      " 82%|█████████████████████████████████████████████████████████████████████████████████████████████████████████▉                       | 138/168 [3:10:47<42:51, 85.72s/it]"
     ]
    },
    {
     "name": "stdout",
     "output_type": "stream",
     "text": [
      "lioness.104_120418.90.csv\n"
     ]
    },
    {
     "name": "stderr",
     "output_type": "stream",
     "text": [
      " 83%|██████████████████████████████████████████████████████████████████████████████████████████████████████████▋                      | 139/168 [3:12:12<41:13, 85.28s/it]"
     ]
    },
    {
     "name": "stdout",
     "output_type": "stream",
     "text": [
      "lioness.237_120426.102.csv\n"
     ]
    },
    {
     "name": "stderr",
     "output_type": "stream",
     "text": [
      " 83%|███████████████████████████████████████████████████████████████████████████████████████████████████████████▌                     | 140/168 [3:13:36<39:37, 84.90s/it]"
     ]
    },
    {
     "name": "stdout",
     "output_type": "stream",
     "text": [
      "lioness.633_120524.117.csv\n"
     ]
    },
    {
     "name": "stderr",
     "output_type": "stream",
     "text": [
      " 84%|████████████████████████████████████████████████████████████████████████████████████████████████████████████▎                    | 141/168 [3:15:02<38:22, 85.27s/it]"
     ]
    },
    {
     "name": "stdout",
     "output_type": "stream",
     "text": [
      "lioness.695_120605.87.csv\n"
     ]
    },
    {
     "name": "stderr",
     "output_type": "stream",
     "text": [
      " 85%|█████████████████████████████████████████████████████████████████████████████████████████████████████████████                    | 142/168 [3:16:26<36:53, 85.13s/it]"
     ]
    },
    {
     "name": "stdout",
     "output_type": "stream",
     "text": [
      "lioness.588_120522.3.csv\n"
     ]
    },
    {
     "name": "stderr",
     "output_type": "stream",
     "text": [
      " 85%|█████████████████████████████████████████████████████████████████████████████████████████████████████████████▊                   | 143/168 [3:17:52<35:34, 85.39s/it]"
     ]
    },
    {
     "name": "stdout",
     "output_type": "stream",
     "text": [
      "lioness.482_120514.112.csv\n"
     ]
    },
    {
     "name": "stderr",
     "output_type": "stream",
     "text": [
      " 86%|██████████████████████████████████████████████████████████████████████████████████████████████████████████████▌                  | 144/168 [3:19:17<34:03, 85.14s/it]"
     ]
    },
    {
     "name": "stdout",
     "output_type": "stream",
     "text": [
      "lioness.481_120514.69.csv\n"
     ]
    },
    {
     "name": "stderr",
     "output_type": "stream",
     "text": [
      " 86%|███████████████████████████████████████████████████████████████████████████████████████████████████████████████▎                 | 145/168 [3:20:44<32:53, 85.79s/it]"
     ]
    },
    {
     "name": "stdout",
     "output_type": "stream",
     "text": [
      "lioness.304_120430.125.csv\n"
     ]
    },
    {
     "name": "stderr",
     "output_type": "stream",
     "text": [
      " 88%|████████████████████████████████████████████████████████████████████████████████████████████████████████████████▉                | 147/168 [3:22:10<23:03, 65.89s/it]"
     ]
    },
    {
     "name": "stdout",
     "output_type": "stream",
     "text": [
      "lioness.197_120424.124.csv\n"
     ]
    },
    {
     "name": "stderr",
     "output_type": "stream",
     "text": [
      " 88%|█████████████████████████████████████████████████████████████████████████████████████████████████████████████████▋               | 148/168 [3:23:37<23:44, 71.21s/it]"
     ]
    },
    {
     "name": "stdout",
     "output_type": "stream",
     "text": [
      "lioness.04_120405.25.csv\n"
     ]
    },
    {
     "name": "stderr",
     "output_type": "stream",
     "text": [
      " 89%|██████████████████████████████████████████████████████████████████████████████████████████████████████████████████▍              | 149/168 [3:25:02<23:43, 74.92s/it]"
     ]
    },
    {
     "name": "stdout",
     "output_type": "stream",
     "text": [
      "lioness.24_120411.17.csv\n"
     ]
    },
    {
     "name": "stderr",
     "output_type": "stream",
     "text": [
      " 89%|███████████████████████████████████████████████████████████████████████████████████████████████████████████████████▏             | 150/168 [3:26:29<23:24, 78.00s/it]"
     ]
    },
    {
     "name": "stdout",
     "output_type": "stream",
     "text": [
      "lioness.677_120604.159.csv\n"
     ]
    },
    {
     "name": "stderr",
     "output_type": "stream",
     "text": [
      " 90%|███████████████████████████████████████████████████████████████████████████████████████████████████████████████████▉             | 151/168 [3:27:56<22:50, 80.59s/it]"
     ]
    },
    {
     "name": "stdout",
     "output_type": "stream",
     "text": [
      "lioness.554_120517.126.csv\n"
     ]
    },
    {
     "name": "stderr",
     "output_type": "stream",
     "text": [
      " 90%|████████████████████████████████████████████████████████████████████████████████████████████████████████████████████▋            | 152/168 [3:29:22<21:54, 82.13s/it]"
     ]
    },
    {
     "name": "stdout",
     "output_type": "stream",
     "text": [
      "lioness.626_120524.62.csv\n"
     ]
    },
    {
     "name": "stderr",
     "output_type": "stream",
     "text": [
      " 91%|█████████████████████████████████████████████████████████████████████████████████████████████████████████████████████▍           | 153/168 [3:30:47<20:45, 83.05s/it]"
     ]
    },
    {
     "name": "stdout",
     "output_type": "stream",
     "text": [
      "lioness.56_120417.70.csv\n"
     ]
    },
    {
     "name": "stderr",
     "output_type": "stream",
     "text": [
      " 92%|██████████████████████████████████████████████████████████████████████████████████████████████████████████████████████▎          | 154/168 [3:32:12<19:31, 83.65s/it]"
     ]
    },
    {
     "name": "stdout",
     "output_type": "stream",
     "text": [
      "lioness.547_120516.130.csv\n"
     ]
    },
    {
     "name": "stderr",
     "output_type": "stream",
     "text": [
      " 92%|███████████████████████████████████████████████████████████████████████████████████████████████████████████████████████          | 155/168 [3:33:35<18:05, 83.47s/it]"
     ]
    },
    {
     "name": "stdout",
     "output_type": "stream",
     "text": [
      "lioness.497_120515.83.csv\n"
     ]
    },
    {
     "name": "stderr",
     "output_type": "stream",
     "text": [
      " 93%|███████████████████████████████████████████████████████████████████████████████████████████████████████████████████████▊         | 156/168 [3:35:00<16:46, 83.90s/it]"
     ]
    },
    {
     "name": "stdout",
     "output_type": "stream",
     "text": [
      "lioness.469_120514.41.csv\n"
     ]
    },
    {
     "name": "stderr",
     "output_type": "stream",
     "text": [
      " 93%|████████████████████████████████████████████████████████████████████████████████████████████████████████████████████████▌        | 157/168 [3:36:27<15:33, 84.84s/it]"
     ]
    },
    {
     "name": "stdout",
     "output_type": "stream",
     "text": [
      "lioness.470_120514.141.csv\n"
     ]
    },
    {
     "name": "stderr",
     "output_type": "stream",
     "text": [
      " 94%|█████████████████████████████████████████████████████████████████████████████████████████████████████████████████████████▎       | 158/168 [3:37:53<14:11, 85.11s/it]"
     ]
    },
    {
     "name": "stdout",
     "output_type": "stream",
     "text": [
      "lioness.706_120605.14.csv\n"
     ]
    },
    {
     "name": "stderr",
     "output_type": "stream",
     "text": [
      " 95%|██████████████████████████████████████████████████████████████████████████████████████████████████████████████████████████       | 159/168 [3:39:16<12:40, 84.53s/it]"
     ]
    },
    {
     "name": "stdout",
     "output_type": "stream",
     "text": [
      "lioness.384_120503.116.csv\n"
     ]
    },
    {
     "name": "stderr",
     "output_type": "stream",
     "text": [
      " 95%|██████████████████████████████████████████████████████████████████████████████████████████████████████████████████████████▊      | 160/168 [3:40:44<11:24, 85.57s/it]"
     ]
    },
    {
     "name": "stdout",
     "output_type": "stream",
     "text": [
      "lioness.418_120507.79.csv\n"
     ]
    },
    {
     "name": "stderr",
     "output_type": "stream",
     "text": [
      " 96%|███████████████████████████████████████████████████████████████████████████████████████████████████████████████████████████▋     | 161/168 [3:42:07<09:54, 84.86s/it]"
     ]
    },
    {
     "name": "stdout",
     "output_type": "stream",
     "text": [
      "lioness.79_120417.129.csv\n"
     ]
    },
    {
     "name": "stderr",
     "output_type": "stream",
     "text": [
      " 96%|████████████████████████████████████████████████████████████████████████████████████████████████████████████████████████████▍    | 162/168 [3:43:32<08:29, 84.90s/it]"
     ]
    },
    {
     "name": "stdout",
     "output_type": "stream",
     "text": [
      "lioness.591_120522.1.csv\n"
     ]
    },
    {
     "name": "stderr",
     "output_type": "stream",
     "text": [
      " 97%|█████████████████████████████████████████████████████████████████████████████████████████████████████████████████████████████▏   | 163/168 [3:44:56<07:02, 84.49s/it]"
     ]
    },
    {
     "name": "stdout",
     "output_type": "stream",
     "text": [
      "lioness.345_120501.118.csv\n"
     ]
    },
    {
     "name": "stderr",
     "output_type": "stream",
     "text": [
      " 98%|█████████████████████████████████████████████████████████████████████████████████████████████████████████████████████████████▉   | 164/168 [3:46:23<05:40, 85.23s/it]"
     ]
    },
    {
     "name": "stdout",
     "output_type": "stream",
     "text": [
      "lioness.340_120501.86.csv\n"
     ]
    },
    {
     "name": "stderr",
     "output_type": "stream",
     "text": [
      " 98%|██████████████████████████████████████████████████████████████████████████████████████████████████████████████████████████████▋  | 165/168 [3:47:48<04:15, 85.18s/it]"
     ]
    },
    {
     "name": "stdout",
     "output_type": "stream",
     "text": [
      "lioness.290_120430.140.csv\n"
     ]
    },
    {
     "name": "stderr",
     "output_type": "stream",
     "text": [
      " 99%|███████████████████████████████████████████████████████████████████████████████████████████████████████████████████████████████▍ | 166/168 [3:49:11<02:49, 84.60s/it]"
     ]
    },
    {
     "name": "stdout",
     "output_type": "stream",
     "text": [
      "lioness.606_120523.66.csv\n"
     ]
    },
    {
     "name": "stderr",
     "output_type": "stream",
     "text": [
      " 99%|████████████████████████████████████████████████████████████████████████████████████████████████████████████████████████████████▏| 167/168 [3:50:35<01:24, 84.30s/it]"
     ]
    },
    {
     "name": "stdout",
     "output_type": "stream",
     "text": [
      "lioness.607_120523.64.csv\n"
     ]
    },
    {
     "name": "stderr",
     "output_type": "stream",
     "text": [
      "100%|█████████████████████████████████████████████████████████████████████████████████████████████████████████████████████████████████| 168/168 [3:52:00<00:00, 82.86s/it]\n"
     ]
    }
   ],
   "source": [
    "\n",
    "for m in tqdm(os.listdir('../output_GRN/')):\n",
    "    col_1 = []\n",
    "    col_2 = []\n",
    "    values = []\n",
    "    if m in os.listdir('../Preprocessed_sample_specific_networks/'):\n",
    "        continue\n",
    "        \n",
    "    \n",
    "    if m in ['lioness.csv', 'Untitled.ipynb', 'output_panda_df.csv']:\n",
    "        continue\n",
    "    print(m)\n",
    "    if 'csv' in m:\n",
    "        data = pd.read_csv('../output_GRN/' + m, index_col=0)\n",
    "        list_of_genes = data.columns\n",
    "        list_of_tf = data.index.tolist()\n",
    "        for i in list_of_tf:\n",
    "            for j in list_of_genes:\n",
    "                if data.loc[i,j] >= 3.81:\n",
    "                    col_1.append(i)\n",
    "                    col_2.append(j)\n",
    "                    values.append(data.loc[i,j])\n",
    "                 \n",
    "        preprocessed_data = pd.DataFrame([col_1, col_2, values]).T\n",
    "        preprocessed_data.to_csv('../Preprocessed_sample_specific_networks/' + 'preprocessed_'+ m.split('.')[0] + '.' + m.split('.')[1] + '.' + m.split('.')[-1], index= False)"
   ]
  },
  {
   "cell_type": "code",
   "execution_count": 100,
   "id": "47f04a8a-4ecd-48e8-b7c1-529142c480a0",
   "metadata": {},
   "outputs": [
    {
     "name": "stderr",
     "output_type": "stream",
     "text": [
      "100%|███████████████████████████████████████████████████████████████████████████████████████████████████████████████████████████████████| 165/165 [00:36<00:00,  4.47it/s]\n"
     ]
    }
   ],
   "source": [
    "data = pd.read_csv('../Preprocessed_sample_specific_networks/preprocessed_lioness.02_120405.csv').rename(columns={'2':'preprocessed_lioness.02_120405.csv'.split('.')[1]})\n",
    "\n",
    "for i in tqdm(os.listdir('../Preprocessed_sample_specific_networks/')):\n",
    "    if i.split('.')[1] in data.columns:\n",
    "        continue\n",
    "    if 'csv' in i:\n",
    "        df = pd.read_csv('../Preprocessed_sample_specific_networks/'+i).rename(columns={'2':i.split('.')[1]})\n",
    "        data = pd.merge(data,df, on=['0','1'])\n"
   ]
  },
  {
   "cell_type": "code",
   "execution_count": 101,
   "id": "e0a5a5ee-56eb-423c-bba9-2088a498dea7",
   "metadata": {},
   "outputs": [
    {
     "data": {
      "text/html": [
       "<div>\n",
       "<style scoped>\n",
       "    .dataframe tbody tr th:only-of-type {\n",
       "        vertical-align: middle;\n",
       "    }\n",
       "\n",
       "    .dataframe tbody tr th {\n",
       "        vertical-align: top;\n",
       "    }\n",
       "\n",
       "    .dataframe thead th {\n",
       "        text-align: right;\n",
       "    }\n",
       "</style>\n",
       "<table border=\"1\" class=\"dataframe\">\n",
       "  <thead>\n",
       "    <tr style=\"text-align: right;\">\n",
       "      <th></th>\n",
       "      <th>0</th>\n",
       "      <th>1</th>\n",
       "      <th>02_120405</th>\n",
       "      <th>292_120430</th>\n",
       "      <th>329_120501</th>\n",
       "      <th>677_120604</th>\n",
       "      <th>352_120501</th>\n",
       "      <th>245_120426</th>\n",
       "      <th>630_120524</th>\n",
       "      <th>829_130725</th>\n",
       "      <th>...</th>\n",
       "      <th>290_120430</th>\n",
       "      <th>456_120507</th>\n",
       "      <th>34_120416</th>\n",
       "      <th>551_120517</th>\n",
       "      <th>254_120426</th>\n",
       "      <th>274_120430</th>\n",
       "      <th>494_120515</th>\n",
       "      <th>587_120522</th>\n",
       "      <th>564_120517</th>\n",
       "      <th>483_120515</th>\n",
       "    </tr>\n",
       "  </thead>\n",
       "  <tbody>\n",
       "    <tr>\n",
       "      <th>0</th>\n",
       "      <td>ENSG00000001167</td>\n",
       "      <td>ENSG00000000460</td>\n",
       "      <td>5.985459</td>\n",
       "      <td>5.934636</td>\n",
       "      <td>5.770291</td>\n",
       "      <td>5.730042</td>\n",
       "      <td>5.586413</td>\n",
       "      <td>5.597085</td>\n",
       "      <td>5.161099</td>\n",
       "      <td>5.448054</td>\n",
       "      <td>...</td>\n",
       "      <td>5.963634</td>\n",
       "      <td>6.021650</td>\n",
       "      <td>7.685780</td>\n",
       "      <td>5.858559</td>\n",
       "      <td>6.849842</td>\n",
       "      <td>5.789182</td>\n",
       "      <td>6.018065</td>\n",
       "      <td>5.745142</td>\n",
       "      <td>6.731287</td>\n",
       "      <td>5.405933</td>\n",
       "    </tr>\n",
       "    <tr>\n",
       "      <th>1</th>\n",
       "      <td>ENSG00000001167</td>\n",
       "      <td>ENSG00000001167</td>\n",
       "      <td>5.350591</td>\n",
       "      <td>5.062648</td>\n",
       "      <td>5.571338</td>\n",
       "      <td>5.590074</td>\n",
       "      <td>6.076496</td>\n",
       "      <td>5.333787</td>\n",
       "      <td>4.557060</td>\n",
       "      <td>5.282331</td>\n",
       "      <td>...</td>\n",
       "      <td>6.016433</td>\n",
       "      <td>5.532143</td>\n",
       "      <td>7.315525</td>\n",
       "      <td>5.480492</td>\n",
       "      <td>5.444780</td>\n",
       "      <td>5.817128</td>\n",
       "      <td>5.677319</td>\n",
       "      <td>5.407824</td>\n",
       "      <td>6.111179</td>\n",
       "      <td>5.543189</td>\n",
       "    </tr>\n",
       "    <tr>\n",
       "      <th>2</th>\n",
       "      <td>ENSG00000001167</td>\n",
       "      <td>ENSG00000003056</td>\n",
       "      <td>6.520921</td>\n",
       "      <td>6.919805</td>\n",
       "      <td>6.551497</td>\n",
       "      <td>6.534850</td>\n",
       "      <td>6.766220</td>\n",
       "      <td>6.580073</td>\n",
       "      <td>6.648899</td>\n",
       "      <td>6.339624</td>\n",
       "      <td>...</td>\n",
       "      <td>6.639982</td>\n",
       "      <td>6.620126</td>\n",
       "      <td>7.821360</td>\n",
       "      <td>6.731328</td>\n",
       "      <td>6.879682</td>\n",
       "      <td>6.524711</td>\n",
       "      <td>6.560884</td>\n",
       "      <td>6.210405</td>\n",
       "      <td>7.596831</td>\n",
       "      <td>6.437311</td>\n",
       "    </tr>\n",
       "    <tr>\n",
       "      <th>3</th>\n",
       "      <td>ENSG00000001167</td>\n",
       "      <td>ENSG00000004799</td>\n",
       "      <td>5.590399</td>\n",
       "      <td>5.827155</td>\n",
       "      <td>5.843202</td>\n",
       "      <td>6.416038</td>\n",
       "      <td>5.906225</td>\n",
       "      <td>5.700210</td>\n",
       "      <td>6.164714</td>\n",
       "      <td>5.848237</td>\n",
       "      <td>...</td>\n",
       "      <td>5.516094</td>\n",
       "      <td>6.278954</td>\n",
       "      <td>5.881094</td>\n",
       "      <td>5.085659</td>\n",
       "      <td>5.921933</td>\n",
       "      <td>5.989930</td>\n",
       "      <td>5.874149</td>\n",
       "      <td>5.703783</td>\n",
       "      <td>4.791077</td>\n",
       "      <td>5.687487</td>\n",
       "    </tr>\n",
       "    <tr>\n",
       "      <th>4</th>\n",
       "      <td>ENSG00000001167</td>\n",
       "      <td>ENSG00000006007</td>\n",
       "      <td>5.920805</td>\n",
       "      <td>6.301645</td>\n",
       "      <td>6.341374</td>\n",
       "      <td>5.799050</td>\n",
       "      <td>5.522679</td>\n",
       "      <td>6.270222</td>\n",
       "      <td>6.251546</td>\n",
       "      <td>6.328811</td>\n",
       "      <td>...</td>\n",
       "      <td>6.309595</td>\n",
       "      <td>6.583590</td>\n",
       "      <td>7.722249</td>\n",
       "      <td>6.989375</td>\n",
       "      <td>3.892886</td>\n",
       "      <td>5.069280</td>\n",
       "      <td>6.275374</td>\n",
       "      <td>6.303764</td>\n",
       "      <td>6.617189</td>\n",
       "      <td>6.263770</td>\n",
       "    </tr>\n",
       "    <tr>\n",
       "      <th>...</th>\n",
       "      <td>...</td>\n",
       "      <td>...</td>\n",
       "      <td>...</td>\n",
       "      <td>...</td>\n",
       "      <td>...</td>\n",
       "      <td>...</td>\n",
       "      <td>...</td>\n",
       "      <td>...</td>\n",
       "      <td>...</td>\n",
       "      <td>...</td>\n",
       "      <td>...</td>\n",
       "      <td>...</td>\n",
       "      <td>...</td>\n",
       "      <td>...</td>\n",
       "      <td>...</td>\n",
       "      <td>...</td>\n",
       "      <td>...</td>\n",
       "      <td>...</td>\n",
       "      <td>...</td>\n",
       "      <td>...</td>\n",
       "      <td>...</td>\n",
       "    </tr>\n",
       "    <tr>\n",
       "      <th>113007</th>\n",
       "      <td>ENSG00000278129</td>\n",
       "      <td>ENSG00000273367</td>\n",
       "      <td>16.430995</td>\n",
       "      <td>16.227798</td>\n",
       "      <td>16.404819</td>\n",
       "      <td>16.166154</td>\n",
       "      <td>15.868815</td>\n",
       "      <td>16.345870</td>\n",
       "      <td>16.649548</td>\n",
       "      <td>16.433677</td>\n",
       "      <td>...</td>\n",
       "      <td>16.555030</td>\n",
       "      <td>16.282334</td>\n",
       "      <td>15.662053</td>\n",
       "      <td>16.309024</td>\n",
       "      <td>15.456044</td>\n",
       "      <td>16.087471</td>\n",
       "      <td>16.408059</td>\n",
       "      <td>16.218314</td>\n",
       "      <td>16.720855</td>\n",
       "      <td>16.341302</td>\n",
       "    </tr>\n",
       "    <tr>\n",
       "      <th>113008</th>\n",
       "      <td>ENSG00000278129</td>\n",
       "      <td>ENSG00000273674</td>\n",
       "      <td>14.047174</td>\n",
       "      <td>14.266015</td>\n",
       "      <td>14.532534</td>\n",
       "      <td>14.543174</td>\n",
       "      <td>14.531830</td>\n",
       "      <td>14.342822</td>\n",
       "      <td>14.594015</td>\n",
       "      <td>14.550762</td>\n",
       "      <td>...</td>\n",
       "      <td>14.761674</td>\n",
       "      <td>14.498875</td>\n",
       "      <td>14.491703</td>\n",
       "      <td>14.473615</td>\n",
       "      <td>14.482886</td>\n",
       "      <td>14.176932</td>\n",
       "      <td>14.299760</td>\n",
       "      <td>14.014324</td>\n",
       "      <td>14.801203</td>\n",
       "      <td>14.422828</td>\n",
       "    </tr>\n",
       "    <tr>\n",
       "      <th>113009</th>\n",
       "      <td>ENSG00000278129</td>\n",
       "      <td>ENSG00000274561</td>\n",
       "      <td>13.946036</td>\n",
       "      <td>14.540649</td>\n",
       "      <td>14.286810</td>\n",
       "      <td>14.405995</td>\n",
       "      <td>14.312570</td>\n",
       "      <td>14.279899</td>\n",
       "      <td>14.198020</td>\n",
       "      <td>14.401060</td>\n",
       "      <td>...</td>\n",
       "      <td>14.597452</td>\n",
       "      <td>14.074529</td>\n",
       "      <td>14.385499</td>\n",
       "      <td>14.437642</td>\n",
       "      <td>14.185410</td>\n",
       "      <td>14.434823</td>\n",
       "      <td>14.454185</td>\n",
       "      <td>13.962086</td>\n",
       "      <td>14.629405</td>\n",
       "      <td>14.239816</td>\n",
       "    </tr>\n",
       "    <tr>\n",
       "      <th>113010</th>\n",
       "      <td>ENSG00000278129</td>\n",
       "      <td>ENSG00000278576</td>\n",
       "      <td>15.331664</td>\n",
       "      <td>14.663971</td>\n",
       "      <td>14.734365</td>\n",
       "      <td>14.565591</td>\n",
       "      <td>14.020338</td>\n",
       "      <td>14.832333</td>\n",
       "      <td>14.781036</td>\n",
       "      <td>14.631047</td>\n",
       "      <td>...</td>\n",
       "      <td>14.964825</td>\n",
       "      <td>14.602658</td>\n",
       "      <td>14.598142</td>\n",
       "      <td>14.532863</td>\n",
       "      <td>14.083748</td>\n",
       "      <td>14.264851</td>\n",
       "      <td>15.004597</td>\n",
       "      <td>14.715419</td>\n",
       "      <td>14.749004</td>\n",
       "      <td>14.689673</td>\n",
       "    </tr>\n",
       "    <tr>\n",
       "      <th>113011</th>\n",
       "      <td>ENSG00000278129</td>\n",
       "      <td>ENSG00000280088</td>\n",
       "      <td>14.668447</td>\n",
       "      <td>14.160469</td>\n",
       "      <td>14.244728</td>\n",
       "      <td>14.089143</td>\n",
       "      <td>13.862421</td>\n",
       "      <td>14.263205</td>\n",
       "      <td>13.794935</td>\n",
       "      <td>14.226054</td>\n",
       "      <td>...</td>\n",
       "      <td>14.454762</td>\n",
       "      <td>14.154374</td>\n",
       "      <td>14.445940</td>\n",
       "      <td>14.434623</td>\n",
       "      <td>13.416620</td>\n",
       "      <td>14.028525</td>\n",
       "      <td>14.081364</td>\n",
       "      <td>14.260375</td>\n",
       "      <td>14.511351</td>\n",
       "      <td>14.314720</td>\n",
       "    </tr>\n",
       "  </tbody>\n",
       "</table>\n",
       "<p>113012 rows × 166 columns</p>\n",
       "</div>"
      ],
      "text/plain": [
       "                      0                1  02_120405  292_120430  329_120501  \\\n",
       "0       ENSG00000001167  ENSG00000000460   5.985459    5.934636    5.770291   \n",
       "1       ENSG00000001167  ENSG00000001167   5.350591    5.062648    5.571338   \n",
       "2       ENSG00000001167  ENSG00000003056   6.520921    6.919805    6.551497   \n",
       "3       ENSG00000001167  ENSG00000004799   5.590399    5.827155    5.843202   \n",
       "4       ENSG00000001167  ENSG00000006007   5.920805    6.301645    6.341374   \n",
       "...                 ...              ...        ...         ...         ...   \n",
       "113007  ENSG00000278129  ENSG00000273367  16.430995   16.227798   16.404819   \n",
       "113008  ENSG00000278129  ENSG00000273674  14.047174   14.266015   14.532534   \n",
       "113009  ENSG00000278129  ENSG00000274561  13.946036   14.540649   14.286810   \n",
       "113010  ENSG00000278129  ENSG00000278576  15.331664   14.663971   14.734365   \n",
       "113011  ENSG00000278129  ENSG00000280088  14.668447   14.160469   14.244728   \n",
       "\n",
       "        677_120604  352_120501  245_120426  630_120524  829_130725  ...  \\\n",
       "0         5.730042    5.586413    5.597085    5.161099    5.448054  ...   \n",
       "1         5.590074    6.076496    5.333787    4.557060    5.282331  ...   \n",
       "2         6.534850    6.766220    6.580073    6.648899    6.339624  ...   \n",
       "3         6.416038    5.906225    5.700210    6.164714    5.848237  ...   \n",
       "4         5.799050    5.522679    6.270222    6.251546    6.328811  ...   \n",
       "...            ...         ...         ...         ...         ...  ...   \n",
       "113007   16.166154   15.868815   16.345870   16.649548   16.433677  ...   \n",
       "113008   14.543174   14.531830   14.342822   14.594015   14.550762  ...   \n",
       "113009   14.405995   14.312570   14.279899   14.198020   14.401060  ...   \n",
       "113010   14.565591   14.020338   14.832333   14.781036   14.631047  ...   \n",
       "113011   14.089143   13.862421   14.263205   13.794935   14.226054  ...   \n",
       "\n",
       "        290_120430  456_120507  34_120416  551_120517  254_120426  274_120430  \\\n",
       "0         5.963634    6.021650   7.685780    5.858559    6.849842    5.789182   \n",
       "1         6.016433    5.532143   7.315525    5.480492    5.444780    5.817128   \n",
       "2         6.639982    6.620126   7.821360    6.731328    6.879682    6.524711   \n",
       "3         5.516094    6.278954   5.881094    5.085659    5.921933    5.989930   \n",
       "4         6.309595    6.583590   7.722249    6.989375    3.892886    5.069280   \n",
       "...            ...         ...        ...         ...         ...         ...   \n",
       "113007   16.555030   16.282334  15.662053   16.309024   15.456044   16.087471   \n",
       "113008   14.761674   14.498875  14.491703   14.473615   14.482886   14.176932   \n",
       "113009   14.597452   14.074529  14.385499   14.437642   14.185410   14.434823   \n",
       "113010   14.964825   14.602658  14.598142   14.532863   14.083748   14.264851   \n",
       "113011   14.454762   14.154374  14.445940   14.434623   13.416620   14.028525   \n",
       "\n",
       "        494_120515  587_120522  564_120517  483_120515  \n",
       "0         6.018065    5.745142    6.731287    5.405933  \n",
       "1         5.677319    5.407824    6.111179    5.543189  \n",
       "2         6.560884    6.210405    7.596831    6.437311  \n",
       "3         5.874149    5.703783    4.791077    5.687487  \n",
       "4         6.275374    6.303764    6.617189    6.263770  \n",
       "...            ...         ...         ...         ...  \n",
       "113007   16.408059   16.218314   16.720855   16.341302  \n",
       "113008   14.299760   14.014324   14.801203   14.422828  \n",
       "113009   14.454185   13.962086   14.629405   14.239816  \n",
       "113010   15.004597   14.715419   14.749004   14.689673  \n",
       "113011   14.081364   14.260375   14.511351   14.314720  \n",
       "\n",
       "[113012 rows x 166 columns]"
      ]
     },
     "execution_count": 101,
     "metadata": {},
     "output_type": "execute_result"
    }
   ],
   "source": [
    "data"
   ]
  },
  {
   "cell_type": "code",
   "execution_count": 102,
   "id": "f8223b52-ed21-4bd9-be64-bdc9f1a671e9",
   "metadata": {},
   "outputs": [
    {
     "data": {
      "text/html": [
       "<div>\n",
       "<style scoped>\n",
       "    .dataframe tbody tr th:only-of-type {\n",
       "        vertical-align: middle;\n",
       "    }\n",
       "\n",
       "    .dataframe tbody tr th {\n",
       "        vertical-align: top;\n",
       "    }\n",
       "\n",
       "    .dataframe thead th {\n",
       "        text-align: right;\n",
       "    }\n",
       "</style>\n",
       "<table border=\"1\" class=\"dataframe\">\n",
       "  <thead>\n",
       "    <tr style=\"text-align: right;\">\n",
       "      <th></th>\n",
       "      <th>02_120405</th>\n",
       "      <th>292_120430</th>\n",
       "      <th>329_120501</th>\n",
       "      <th>677_120604</th>\n",
       "      <th>352_120501</th>\n",
       "      <th>245_120426</th>\n",
       "      <th>630_120524</th>\n",
       "      <th>829_130725</th>\n",
       "      <th>146_120419</th>\n",
       "      <th>285_120430</th>\n",
       "      <th>...</th>\n",
       "      <th>290_120430</th>\n",
       "      <th>456_120507</th>\n",
       "      <th>34_120416</th>\n",
       "      <th>551_120517</th>\n",
       "      <th>254_120426</th>\n",
       "      <th>274_120430</th>\n",
       "      <th>494_120515</th>\n",
       "      <th>587_120522</th>\n",
       "      <th>564_120517</th>\n",
       "      <th>483_120515</th>\n",
       "    </tr>\n",
       "  </thead>\n",
       "  <tbody>\n",
       "    <tr>\n",
       "      <th>ENSG00000001167_ENSG00000000460</th>\n",
       "      <td>5.985459</td>\n",
       "      <td>5.934636</td>\n",
       "      <td>5.770291</td>\n",
       "      <td>5.730042</td>\n",
       "      <td>5.586413</td>\n",
       "      <td>5.597085</td>\n",
       "      <td>5.161099</td>\n",
       "      <td>5.448054</td>\n",
       "      <td>5.448475</td>\n",
       "      <td>6.596785</td>\n",
       "      <td>...</td>\n",
       "      <td>5.963634</td>\n",
       "      <td>6.021650</td>\n",
       "      <td>7.685780</td>\n",
       "      <td>5.858559</td>\n",
       "      <td>6.849842</td>\n",
       "      <td>5.789182</td>\n",
       "      <td>6.018065</td>\n",
       "      <td>5.745142</td>\n",
       "      <td>6.731287</td>\n",
       "      <td>5.405933</td>\n",
       "    </tr>\n",
       "    <tr>\n",
       "      <th>ENSG00000001167_ENSG00000001167</th>\n",
       "      <td>5.350591</td>\n",
       "      <td>5.062648</td>\n",
       "      <td>5.571338</td>\n",
       "      <td>5.590074</td>\n",
       "      <td>6.076496</td>\n",
       "      <td>5.333787</td>\n",
       "      <td>4.557060</td>\n",
       "      <td>5.282331</td>\n",
       "      <td>5.668400</td>\n",
       "      <td>6.337745</td>\n",
       "      <td>...</td>\n",
       "      <td>6.016433</td>\n",
       "      <td>5.532143</td>\n",
       "      <td>7.315525</td>\n",
       "      <td>5.480492</td>\n",
       "      <td>5.444780</td>\n",
       "      <td>5.817128</td>\n",
       "      <td>5.677319</td>\n",
       "      <td>5.407824</td>\n",
       "      <td>6.111179</td>\n",
       "      <td>5.543189</td>\n",
       "    </tr>\n",
       "    <tr>\n",
       "      <th>ENSG00000001167_ENSG00000003056</th>\n",
       "      <td>6.520921</td>\n",
       "      <td>6.919805</td>\n",
       "      <td>6.551497</td>\n",
       "      <td>6.534850</td>\n",
       "      <td>6.766220</td>\n",
       "      <td>6.580073</td>\n",
       "      <td>6.648899</td>\n",
       "      <td>6.339624</td>\n",
       "      <td>6.325405</td>\n",
       "      <td>6.844851</td>\n",
       "      <td>...</td>\n",
       "      <td>6.639982</td>\n",
       "      <td>6.620126</td>\n",
       "      <td>7.821360</td>\n",
       "      <td>6.731328</td>\n",
       "      <td>6.879682</td>\n",
       "      <td>6.524711</td>\n",
       "      <td>6.560884</td>\n",
       "      <td>6.210405</td>\n",
       "      <td>7.596831</td>\n",
       "      <td>6.437311</td>\n",
       "    </tr>\n",
       "    <tr>\n",
       "      <th>ENSG00000001167_ENSG00000004799</th>\n",
       "      <td>5.590399</td>\n",
       "      <td>5.827155</td>\n",
       "      <td>5.843202</td>\n",
       "      <td>6.416038</td>\n",
       "      <td>5.906225</td>\n",
       "      <td>5.700210</td>\n",
       "      <td>6.164714</td>\n",
       "      <td>5.848237</td>\n",
       "      <td>5.165988</td>\n",
       "      <td>6.408254</td>\n",
       "      <td>...</td>\n",
       "      <td>5.516094</td>\n",
       "      <td>6.278954</td>\n",
       "      <td>5.881094</td>\n",
       "      <td>5.085659</td>\n",
       "      <td>5.921933</td>\n",
       "      <td>5.989930</td>\n",
       "      <td>5.874149</td>\n",
       "      <td>5.703783</td>\n",
       "      <td>4.791077</td>\n",
       "      <td>5.687487</td>\n",
       "    </tr>\n",
       "    <tr>\n",
       "      <th>ENSG00000001167_ENSG00000006007</th>\n",
       "      <td>5.920805</td>\n",
       "      <td>6.301645</td>\n",
       "      <td>6.341374</td>\n",
       "      <td>5.799050</td>\n",
       "      <td>5.522679</td>\n",
       "      <td>6.270222</td>\n",
       "      <td>6.251546</td>\n",
       "      <td>6.328811</td>\n",
       "      <td>6.264933</td>\n",
       "      <td>6.810530</td>\n",
       "      <td>...</td>\n",
       "      <td>6.309595</td>\n",
       "      <td>6.583590</td>\n",
       "      <td>7.722249</td>\n",
       "      <td>6.989375</td>\n",
       "      <td>3.892886</td>\n",
       "      <td>5.069280</td>\n",
       "      <td>6.275374</td>\n",
       "      <td>6.303764</td>\n",
       "      <td>6.617189</td>\n",
       "      <td>6.263770</td>\n",
       "    </tr>\n",
       "    <tr>\n",
       "      <th>...</th>\n",
       "      <td>...</td>\n",
       "      <td>...</td>\n",
       "      <td>...</td>\n",
       "      <td>...</td>\n",
       "      <td>...</td>\n",
       "      <td>...</td>\n",
       "      <td>...</td>\n",
       "      <td>...</td>\n",
       "      <td>...</td>\n",
       "      <td>...</td>\n",
       "      <td>...</td>\n",
       "      <td>...</td>\n",
       "      <td>...</td>\n",
       "      <td>...</td>\n",
       "      <td>...</td>\n",
       "      <td>...</td>\n",
       "      <td>...</td>\n",
       "      <td>...</td>\n",
       "      <td>...</td>\n",
       "      <td>...</td>\n",
       "      <td>...</td>\n",
       "    </tr>\n",
       "    <tr>\n",
       "      <th>ENSG00000278129_ENSG00000273367</th>\n",
       "      <td>16.430995</td>\n",
       "      <td>16.227798</td>\n",
       "      <td>16.404819</td>\n",
       "      <td>16.166154</td>\n",
       "      <td>15.868815</td>\n",
       "      <td>16.345870</td>\n",
       "      <td>16.649548</td>\n",
       "      <td>16.433677</td>\n",
       "      <td>16.586950</td>\n",
       "      <td>16.535004</td>\n",
       "      <td>...</td>\n",
       "      <td>16.555030</td>\n",
       "      <td>16.282334</td>\n",
       "      <td>15.662053</td>\n",
       "      <td>16.309024</td>\n",
       "      <td>15.456044</td>\n",
       "      <td>16.087471</td>\n",
       "      <td>16.408059</td>\n",
       "      <td>16.218314</td>\n",
       "      <td>16.720855</td>\n",
       "      <td>16.341302</td>\n",
       "    </tr>\n",
       "    <tr>\n",
       "      <th>ENSG00000278129_ENSG00000273674</th>\n",
       "      <td>14.047174</td>\n",
       "      <td>14.266015</td>\n",
       "      <td>14.532534</td>\n",
       "      <td>14.543174</td>\n",
       "      <td>14.531830</td>\n",
       "      <td>14.342822</td>\n",
       "      <td>14.594015</td>\n",
       "      <td>14.550762</td>\n",
       "      <td>14.400306</td>\n",
       "      <td>14.810910</td>\n",
       "      <td>...</td>\n",
       "      <td>14.761674</td>\n",
       "      <td>14.498875</td>\n",
       "      <td>14.491703</td>\n",
       "      <td>14.473615</td>\n",
       "      <td>14.482886</td>\n",
       "      <td>14.176932</td>\n",
       "      <td>14.299760</td>\n",
       "      <td>14.014324</td>\n",
       "      <td>14.801203</td>\n",
       "      <td>14.422828</td>\n",
       "    </tr>\n",
       "    <tr>\n",
       "      <th>ENSG00000278129_ENSG00000274561</th>\n",
       "      <td>13.946036</td>\n",
       "      <td>14.540649</td>\n",
       "      <td>14.286810</td>\n",
       "      <td>14.405995</td>\n",
       "      <td>14.312570</td>\n",
       "      <td>14.279899</td>\n",
       "      <td>14.198020</td>\n",
       "      <td>14.401060</td>\n",
       "      <td>14.124819</td>\n",
       "      <td>14.456266</td>\n",
       "      <td>...</td>\n",
       "      <td>14.597452</td>\n",
       "      <td>14.074529</td>\n",
       "      <td>14.385499</td>\n",
       "      <td>14.437642</td>\n",
       "      <td>14.185410</td>\n",
       "      <td>14.434823</td>\n",
       "      <td>14.454185</td>\n",
       "      <td>13.962086</td>\n",
       "      <td>14.629405</td>\n",
       "      <td>14.239816</td>\n",
       "    </tr>\n",
       "    <tr>\n",
       "      <th>ENSG00000278129_ENSG00000278576</th>\n",
       "      <td>15.331664</td>\n",
       "      <td>14.663971</td>\n",
       "      <td>14.734365</td>\n",
       "      <td>14.565591</td>\n",
       "      <td>14.020338</td>\n",
       "      <td>14.832333</td>\n",
       "      <td>14.781036</td>\n",
       "      <td>14.631047</td>\n",
       "      <td>14.416976</td>\n",
       "      <td>14.993187</td>\n",
       "      <td>...</td>\n",
       "      <td>14.964825</td>\n",
       "      <td>14.602658</td>\n",
       "      <td>14.598142</td>\n",
       "      <td>14.532863</td>\n",
       "      <td>14.083748</td>\n",
       "      <td>14.264851</td>\n",
       "      <td>15.004597</td>\n",
       "      <td>14.715419</td>\n",
       "      <td>14.749004</td>\n",
       "      <td>14.689673</td>\n",
       "    </tr>\n",
       "    <tr>\n",
       "      <th>ENSG00000278129_ENSG00000280088</th>\n",
       "      <td>14.668447</td>\n",
       "      <td>14.160469</td>\n",
       "      <td>14.244728</td>\n",
       "      <td>14.089143</td>\n",
       "      <td>13.862421</td>\n",
       "      <td>14.263205</td>\n",
       "      <td>13.794935</td>\n",
       "      <td>14.226054</td>\n",
       "      <td>13.982696</td>\n",
       "      <td>15.045537</td>\n",
       "      <td>...</td>\n",
       "      <td>14.454762</td>\n",
       "      <td>14.154374</td>\n",
       "      <td>14.445940</td>\n",
       "      <td>14.434623</td>\n",
       "      <td>13.416620</td>\n",
       "      <td>14.028525</td>\n",
       "      <td>14.081364</td>\n",
       "      <td>14.260375</td>\n",
       "      <td>14.511351</td>\n",
       "      <td>14.314720</td>\n",
       "    </tr>\n",
       "  </tbody>\n",
       "</table>\n",
       "<p>113012 rows × 164 columns</p>\n",
       "</div>"
      ],
      "text/plain": [
       "                                 02_120405  292_120430  329_120501  \\\n",
       "ENSG00000001167_ENSG00000000460   5.985459    5.934636    5.770291   \n",
       "ENSG00000001167_ENSG00000001167   5.350591    5.062648    5.571338   \n",
       "ENSG00000001167_ENSG00000003056   6.520921    6.919805    6.551497   \n",
       "ENSG00000001167_ENSG00000004799   5.590399    5.827155    5.843202   \n",
       "ENSG00000001167_ENSG00000006007   5.920805    6.301645    6.341374   \n",
       "...                                    ...         ...         ...   \n",
       "ENSG00000278129_ENSG00000273367  16.430995   16.227798   16.404819   \n",
       "ENSG00000278129_ENSG00000273674  14.047174   14.266015   14.532534   \n",
       "ENSG00000278129_ENSG00000274561  13.946036   14.540649   14.286810   \n",
       "ENSG00000278129_ENSG00000278576  15.331664   14.663971   14.734365   \n",
       "ENSG00000278129_ENSG00000280088  14.668447   14.160469   14.244728   \n",
       "\n",
       "                                 677_120604  352_120501  245_120426  \\\n",
       "ENSG00000001167_ENSG00000000460    5.730042    5.586413    5.597085   \n",
       "ENSG00000001167_ENSG00000001167    5.590074    6.076496    5.333787   \n",
       "ENSG00000001167_ENSG00000003056    6.534850    6.766220    6.580073   \n",
       "ENSG00000001167_ENSG00000004799    6.416038    5.906225    5.700210   \n",
       "ENSG00000001167_ENSG00000006007    5.799050    5.522679    6.270222   \n",
       "...                                     ...         ...         ...   \n",
       "ENSG00000278129_ENSG00000273367   16.166154   15.868815   16.345870   \n",
       "ENSG00000278129_ENSG00000273674   14.543174   14.531830   14.342822   \n",
       "ENSG00000278129_ENSG00000274561   14.405995   14.312570   14.279899   \n",
       "ENSG00000278129_ENSG00000278576   14.565591   14.020338   14.832333   \n",
       "ENSG00000278129_ENSG00000280088   14.089143   13.862421   14.263205   \n",
       "\n",
       "                                 630_120524  829_130725  146_120419  \\\n",
       "ENSG00000001167_ENSG00000000460    5.161099    5.448054    5.448475   \n",
       "ENSG00000001167_ENSG00000001167    4.557060    5.282331    5.668400   \n",
       "ENSG00000001167_ENSG00000003056    6.648899    6.339624    6.325405   \n",
       "ENSG00000001167_ENSG00000004799    6.164714    5.848237    5.165988   \n",
       "ENSG00000001167_ENSG00000006007    6.251546    6.328811    6.264933   \n",
       "...                                     ...         ...         ...   \n",
       "ENSG00000278129_ENSG00000273367   16.649548   16.433677   16.586950   \n",
       "ENSG00000278129_ENSG00000273674   14.594015   14.550762   14.400306   \n",
       "ENSG00000278129_ENSG00000274561   14.198020   14.401060   14.124819   \n",
       "ENSG00000278129_ENSG00000278576   14.781036   14.631047   14.416976   \n",
       "ENSG00000278129_ENSG00000280088   13.794935   14.226054   13.982696   \n",
       "\n",
       "                                 285_120430  ...  290_120430  456_120507  \\\n",
       "ENSG00000001167_ENSG00000000460    6.596785  ...    5.963634    6.021650   \n",
       "ENSG00000001167_ENSG00000001167    6.337745  ...    6.016433    5.532143   \n",
       "ENSG00000001167_ENSG00000003056    6.844851  ...    6.639982    6.620126   \n",
       "ENSG00000001167_ENSG00000004799    6.408254  ...    5.516094    6.278954   \n",
       "ENSG00000001167_ENSG00000006007    6.810530  ...    6.309595    6.583590   \n",
       "...                                     ...  ...         ...         ...   \n",
       "ENSG00000278129_ENSG00000273367   16.535004  ...   16.555030   16.282334   \n",
       "ENSG00000278129_ENSG00000273674   14.810910  ...   14.761674   14.498875   \n",
       "ENSG00000278129_ENSG00000274561   14.456266  ...   14.597452   14.074529   \n",
       "ENSG00000278129_ENSG00000278576   14.993187  ...   14.964825   14.602658   \n",
       "ENSG00000278129_ENSG00000280088   15.045537  ...   14.454762   14.154374   \n",
       "\n",
       "                                 34_120416  551_120517  254_120426  \\\n",
       "ENSG00000001167_ENSG00000000460   7.685780    5.858559    6.849842   \n",
       "ENSG00000001167_ENSG00000001167   7.315525    5.480492    5.444780   \n",
       "ENSG00000001167_ENSG00000003056   7.821360    6.731328    6.879682   \n",
       "ENSG00000001167_ENSG00000004799   5.881094    5.085659    5.921933   \n",
       "ENSG00000001167_ENSG00000006007   7.722249    6.989375    3.892886   \n",
       "...                                    ...         ...         ...   \n",
       "ENSG00000278129_ENSG00000273367  15.662053   16.309024   15.456044   \n",
       "ENSG00000278129_ENSG00000273674  14.491703   14.473615   14.482886   \n",
       "ENSG00000278129_ENSG00000274561  14.385499   14.437642   14.185410   \n",
       "ENSG00000278129_ENSG00000278576  14.598142   14.532863   14.083748   \n",
       "ENSG00000278129_ENSG00000280088  14.445940   14.434623   13.416620   \n",
       "\n",
       "                                 274_120430  494_120515  587_120522  \\\n",
       "ENSG00000001167_ENSG00000000460    5.789182    6.018065    5.745142   \n",
       "ENSG00000001167_ENSG00000001167    5.817128    5.677319    5.407824   \n",
       "ENSG00000001167_ENSG00000003056    6.524711    6.560884    6.210405   \n",
       "ENSG00000001167_ENSG00000004799    5.989930    5.874149    5.703783   \n",
       "ENSG00000001167_ENSG00000006007    5.069280    6.275374    6.303764   \n",
       "...                                     ...         ...         ...   \n",
       "ENSG00000278129_ENSG00000273367   16.087471   16.408059   16.218314   \n",
       "ENSG00000278129_ENSG00000273674   14.176932   14.299760   14.014324   \n",
       "ENSG00000278129_ENSG00000274561   14.434823   14.454185   13.962086   \n",
       "ENSG00000278129_ENSG00000278576   14.264851   15.004597   14.715419   \n",
       "ENSG00000278129_ENSG00000280088   14.028525   14.081364   14.260375   \n",
       "\n",
       "                                 564_120517  483_120515  \n",
       "ENSG00000001167_ENSG00000000460    6.731287    5.405933  \n",
       "ENSG00000001167_ENSG00000001167    6.111179    5.543189  \n",
       "ENSG00000001167_ENSG00000003056    7.596831    6.437311  \n",
       "ENSG00000001167_ENSG00000004799    4.791077    5.687487  \n",
       "ENSG00000001167_ENSG00000006007    6.617189    6.263770  \n",
       "...                                     ...         ...  \n",
       "ENSG00000278129_ENSG00000273367   16.720855   16.341302  \n",
       "ENSG00000278129_ENSG00000273674   14.801203   14.422828  \n",
       "ENSG00000278129_ENSG00000274561   14.629405   14.239816  \n",
       "ENSG00000278129_ENSG00000278576   14.749004   14.689673  \n",
       "ENSG00000278129_ENSG00000280088   14.511351   14.314720  \n",
       "\n",
       "[113012 rows x 164 columns]"
      ]
     },
     "execution_count": 102,
     "metadata": {},
     "output_type": "execute_result"
    }
   ],
   "source": [
    "data.index = data['0'] + '_' + data['1']\n",
    "\n",
    "data.drop(columns=['0','1'],inplace = True)\n",
    "data"
   ]
  },
  {
   "cell_type": "code",
   "execution_count": 103,
   "id": "1b719ed7-ba91-47b2-acbb-20e8c9224865",
   "metadata": {},
   "outputs": [
    {
     "data": {
      "text/html": [
       "<div>\n",
       "<style scoped>\n",
       "    .dataframe tbody tr th:only-of-type {\n",
       "        vertical-align: middle;\n",
       "    }\n",
       "\n",
       "    .dataframe tbody tr th {\n",
       "        vertical-align: top;\n",
       "    }\n",
       "\n",
       "    .dataframe thead th {\n",
       "        text-align: right;\n",
       "    }\n",
       "</style>\n",
       "<table border=\"1\" class=\"dataframe\">\n",
       "  <thead>\n",
       "    <tr style=\"text-align: right;\">\n",
       "      <th></th>\n",
       "      <th>ENSG00000001167_ENSG00000000460</th>\n",
       "      <th>ENSG00000001167_ENSG00000001167</th>\n",
       "      <th>ENSG00000001167_ENSG00000003056</th>\n",
       "      <th>ENSG00000001167_ENSG00000004799</th>\n",
       "      <th>ENSG00000001167_ENSG00000006007</th>\n",
       "      <th>ENSG00000001167_ENSG00000008311</th>\n",
       "      <th>ENSG00000001167_ENSG00000010438</th>\n",
       "      <th>ENSG00000001167_ENSG00000011260</th>\n",
       "      <th>ENSG00000001167_ENSG00000012660</th>\n",
       "      <th>ENSG00000001167_ENSG00000021826</th>\n",
       "      <th>...</th>\n",
       "      <th>ENSG00000278129_ENSG00000265033</th>\n",
       "      <th>ENSG00000278129_ENSG00000266538</th>\n",
       "      <th>ENSG00000278129_ENSG00000271971</th>\n",
       "      <th>ENSG00000278129_ENSG00000272356</th>\n",
       "      <th>ENSG00000278129_ENSG00000273240</th>\n",
       "      <th>ENSG00000278129_ENSG00000273367</th>\n",
       "      <th>ENSG00000278129_ENSG00000273674</th>\n",
       "      <th>ENSG00000278129_ENSG00000274561</th>\n",
       "      <th>ENSG00000278129_ENSG00000278576</th>\n",
       "      <th>ENSG00000278129_ENSG00000280088</th>\n",
       "    </tr>\n",
       "  </thead>\n",
       "  <tbody>\n",
       "    <tr>\n",
       "      <th>02_120405</th>\n",
       "      <td>5.985459</td>\n",
       "      <td>5.350591</td>\n",
       "      <td>6.520921</td>\n",
       "      <td>5.590399</td>\n",
       "      <td>5.920805</td>\n",
       "      <td>5.691567</td>\n",
       "      <td>6.198086</td>\n",
       "      <td>5.239286</td>\n",
       "      <td>5.633695</td>\n",
       "      <td>6.286101</td>\n",
       "      <td>...</td>\n",
       "      <td>13.361266</td>\n",
       "      <td>15.340846</td>\n",
       "      <td>14.127553</td>\n",
       "      <td>15.299297</td>\n",
       "      <td>15.645706</td>\n",
       "      <td>16.430995</td>\n",
       "      <td>14.047174</td>\n",
       "      <td>13.946036</td>\n",
       "      <td>15.331664</td>\n",
       "      <td>14.668447</td>\n",
       "    </tr>\n",
       "    <tr>\n",
       "      <th>292_120430</th>\n",
       "      <td>5.934636</td>\n",
       "      <td>5.062648</td>\n",
       "      <td>6.919805</td>\n",
       "      <td>5.827155</td>\n",
       "      <td>6.301645</td>\n",
       "      <td>5.840099</td>\n",
       "      <td>6.317194</td>\n",
       "      <td>5.471434</td>\n",
       "      <td>6.059663</td>\n",
       "      <td>4.746678</td>\n",
       "      <td>...</td>\n",
       "      <td>13.934514</td>\n",
       "      <td>15.268341</td>\n",
       "      <td>14.831855</td>\n",
       "      <td>16.081953</td>\n",
       "      <td>15.044204</td>\n",
       "      <td>16.227798</td>\n",
       "      <td>14.266015</td>\n",
       "      <td>14.540649</td>\n",
       "      <td>14.663971</td>\n",
       "      <td>14.160469</td>\n",
       "    </tr>\n",
       "    <tr>\n",
       "      <th>329_120501</th>\n",
       "      <td>5.770291</td>\n",
       "      <td>5.571338</td>\n",
       "      <td>6.551497</td>\n",
       "      <td>5.843202</td>\n",
       "      <td>6.341374</td>\n",
       "      <td>6.333088</td>\n",
       "      <td>5.651528</td>\n",
       "      <td>5.262724</td>\n",
       "      <td>5.920430</td>\n",
       "      <td>6.518502</td>\n",
       "      <td>...</td>\n",
       "      <td>13.881008</td>\n",
       "      <td>15.387414</td>\n",
       "      <td>14.581639</td>\n",
       "      <td>15.892160</td>\n",
       "      <td>15.299073</td>\n",
       "      <td>16.404819</td>\n",
       "      <td>14.532534</td>\n",
       "      <td>14.286810</td>\n",
       "      <td>14.734365</td>\n",
       "      <td>14.244728</td>\n",
       "    </tr>\n",
       "    <tr>\n",
       "      <th>677_120604</th>\n",
       "      <td>5.730042</td>\n",
       "      <td>5.590074</td>\n",
       "      <td>6.534850</td>\n",
       "      <td>6.416038</td>\n",
       "      <td>5.799050</td>\n",
       "      <td>6.498845</td>\n",
       "      <td>5.378012</td>\n",
       "      <td>5.148279</td>\n",
       "      <td>6.029614</td>\n",
       "      <td>6.705390</td>\n",
       "      <td>...</td>\n",
       "      <td>13.942636</td>\n",
       "      <td>15.407128</td>\n",
       "      <td>14.648131</td>\n",
       "      <td>15.880156</td>\n",
       "      <td>15.168871</td>\n",
       "      <td>16.166154</td>\n",
       "      <td>14.543174</td>\n",
       "      <td>14.405995</td>\n",
       "      <td>14.565591</td>\n",
       "      <td>14.089143</td>\n",
       "    </tr>\n",
       "    <tr>\n",
       "      <th>352_120501</th>\n",
       "      <td>5.586413</td>\n",
       "      <td>6.076496</td>\n",
       "      <td>6.766220</td>\n",
       "      <td>5.906225</td>\n",
       "      <td>5.522679</td>\n",
       "      <td>6.528951</td>\n",
       "      <td>5.115893</td>\n",
       "      <td>4.970338</td>\n",
       "      <td>6.112744</td>\n",
       "      <td>6.614458</td>\n",
       "      <td>...</td>\n",
       "      <td>14.144108</td>\n",
       "      <td>15.391904</td>\n",
       "      <td>15.014050</td>\n",
       "      <td>16.107207</td>\n",
       "      <td>15.109578</td>\n",
       "      <td>15.868815</td>\n",
       "      <td>14.531830</td>\n",
       "      <td>14.312570</td>\n",
       "      <td>14.020338</td>\n",
       "      <td>13.862421</td>\n",
       "    </tr>\n",
       "    <tr>\n",
       "      <th>...</th>\n",
       "      <td>...</td>\n",
       "      <td>...</td>\n",
       "      <td>...</td>\n",
       "      <td>...</td>\n",
       "      <td>...</td>\n",
       "      <td>...</td>\n",
       "      <td>...</td>\n",
       "      <td>...</td>\n",
       "      <td>...</td>\n",
       "      <td>...</td>\n",
       "      <td>...</td>\n",
       "      <td>...</td>\n",
       "      <td>...</td>\n",
       "      <td>...</td>\n",
       "      <td>...</td>\n",
       "      <td>...</td>\n",
       "      <td>...</td>\n",
       "      <td>...</td>\n",
       "      <td>...</td>\n",
       "      <td>...</td>\n",
       "      <td>...</td>\n",
       "    </tr>\n",
       "    <tr>\n",
       "      <th>274_120430</th>\n",
       "      <td>5.789182</td>\n",
       "      <td>5.817128</td>\n",
       "      <td>6.524711</td>\n",
       "      <td>5.989930</td>\n",
       "      <td>5.069280</td>\n",
       "      <td>6.728563</td>\n",
       "      <td>5.046532</td>\n",
       "      <td>5.014920</td>\n",
       "      <td>5.522375</td>\n",
       "      <td>6.862786</td>\n",
       "      <td>...</td>\n",
       "      <td>14.168821</td>\n",
       "      <td>15.375749</td>\n",
       "      <td>14.629781</td>\n",
       "      <td>15.977656</td>\n",
       "      <td>14.943650</td>\n",
       "      <td>16.087471</td>\n",
       "      <td>14.176932</td>\n",
       "      <td>14.434823</td>\n",
       "      <td>14.264851</td>\n",
       "      <td>14.028525</td>\n",
       "    </tr>\n",
       "    <tr>\n",
       "      <th>494_120515</th>\n",
       "      <td>6.018065</td>\n",
       "      <td>5.677319</td>\n",
       "      <td>6.560884</td>\n",
       "      <td>5.874149</td>\n",
       "      <td>6.275374</td>\n",
       "      <td>6.370159</td>\n",
       "      <td>6.139996</td>\n",
       "      <td>5.273347</td>\n",
       "      <td>5.982503</td>\n",
       "      <td>6.746906</td>\n",
       "      <td>...</td>\n",
       "      <td>13.748028</td>\n",
       "      <td>15.177639</td>\n",
       "      <td>14.108884</td>\n",
       "      <td>15.720903</td>\n",
       "      <td>14.789356</td>\n",
       "      <td>16.408059</td>\n",
       "      <td>14.299760</td>\n",
       "      <td>14.454185</td>\n",
       "      <td>15.004597</td>\n",
       "      <td>14.081364</td>\n",
       "    </tr>\n",
       "    <tr>\n",
       "      <th>587_120522</th>\n",
       "      <td>5.745142</td>\n",
       "      <td>5.407824</td>\n",
       "      <td>6.210405</td>\n",
       "      <td>5.703783</td>\n",
       "      <td>6.303764</td>\n",
       "      <td>6.477004</td>\n",
       "      <td>5.215186</td>\n",
       "      <td>4.934470</td>\n",
       "      <td>5.994745</td>\n",
       "      <td>6.737472</td>\n",
       "      <td>...</td>\n",
       "      <td>13.800682</td>\n",
       "      <td>15.222724</td>\n",
       "      <td>14.017319</td>\n",
       "      <td>15.832479</td>\n",
       "      <td>14.961940</td>\n",
       "      <td>16.218314</td>\n",
       "      <td>14.014324</td>\n",
       "      <td>13.962086</td>\n",
       "      <td>14.715419</td>\n",
       "      <td>14.260375</td>\n",
       "    </tr>\n",
       "    <tr>\n",
       "      <th>564_120517</th>\n",
       "      <td>6.731287</td>\n",
       "      <td>6.111179</td>\n",
       "      <td>7.596831</td>\n",
       "      <td>4.791077</td>\n",
       "      <td>6.617189</td>\n",
       "      <td>7.258635</td>\n",
       "      <td>5.702683</td>\n",
       "      <td>5.343294</td>\n",
       "      <td>5.671275</td>\n",
       "      <td>4.666189</td>\n",
       "      <td>...</td>\n",
       "      <td>14.055791</td>\n",
       "      <td>15.814267</td>\n",
       "      <td>14.924577</td>\n",
       "      <td>16.048663</td>\n",
       "      <td>15.441504</td>\n",
       "      <td>16.720855</td>\n",
       "      <td>14.801203</td>\n",
       "      <td>14.629405</td>\n",
       "      <td>14.749004</td>\n",
       "      <td>14.511351</td>\n",
       "    </tr>\n",
       "    <tr>\n",
       "      <th>483_120515</th>\n",
       "      <td>5.405933</td>\n",
       "      <td>5.543189</td>\n",
       "      <td>6.437311</td>\n",
       "      <td>5.687487</td>\n",
       "      <td>6.263770</td>\n",
       "      <td>5.975702</td>\n",
       "      <td>5.470676</td>\n",
       "      <td>5.080438</td>\n",
       "      <td>5.750412</td>\n",
       "      <td>6.499231</td>\n",
       "      <td>...</td>\n",
       "      <td>13.857949</td>\n",
       "      <td>15.308758</td>\n",
       "      <td>14.376745</td>\n",
       "      <td>15.986600</td>\n",
       "      <td>15.132833</td>\n",
       "      <td>16.341302</td>\n",
       "      <td>14.422828</td>\n",
       "      <td>14.239816</td>\n",
       "      <td>14.689673</td>\n",
       "      <td>14.314720</td>\n",
       "    </tr>\n",
       "  </tbody>\n",
       "</table>\n",
       "<p>164 rows × 113012 columns</p>\n",
       "</div>"
      ],
      "text/plain": [
       "            ENSG00000001167_ENSG00000000460  ENSG00000001167_ENSG00000001167  \\\n",
       "02_120405                          5.985459                         5.350591   \n",
       "292_120430                         5.934636                         5.062648   \n",
       "329_120501                         5.770291                         5.571338   \n",
       "677_120604                         5.730042                         5.590074   \n",
       "352_120501                         5.586413                         6.076496   \n",
       "...                                     ...                              ...   \n",
       "274_120430                         5.789182                         5.817128   \n",
       "494_120515                         6.018065                         5.677319   \n",
       "587_120522                         5.745142                         5.407824   \n",
       "564_120517                         6.731287                         6.111179   \n",
       "483_120515                         5.405933                         5.543189   \n",
       "\n",
       "            ENSG00000001167_ENSG00000003056  ENSG00000001167_ENSG00000004799  \\\n",
       "02_120405                          6.520921                         5.590399   \n",
       "292_120430                         6.919805                         5.827155   \n",
       "329_120501                         6.551497                         5.843202   \n",
       "677_120604                         6.534850                         6.416038   \n",
       "352_120501                         6.766220                         5.906225   \n",
       "...                                     ...                              ...   \n",
       "274_120430                         6.524711                         5.989930   \n",
       "494_120515                         6.560884                         5.874149   \n",
       "587_120522                         6.210405                         5.703783   \n",
       "564_120517                         7.596831                         4.791077   \n",
       "483_120515                         6.437311                         5.687487   \n",
       "\n",
       "            ENSG00000001167_ENSG00000006007  ENSG00000001167_ENSG00000008311  \\\n",
       "02_120405                          5.920805                         5.691567   \n",
       "292_120430                         6.301645                         5.840099   \n",
       "329_120501                         6.341374                         6.333088   \n",
       "677_120604                         5.799050                         6.498845   \n",
       "352_120501                         5.522679                         6.528951   \n",
       "...                                     ...                              ...   \n",
       "274_120430                         5.069280                         6.728563   \n",
       "494_120515                         6.275374                         6.370159   \n",
       "587_120522                         6.303764                         6.477004   \n",
       "564_120517                         6.617189                         7.258635   \n",
       "483_120515                         6.263770                         5.975702   \n",
       "\n",
       "            ENSG00000001167_ENSG00000010438  ENSG00000001167_ENSG00000011260  \\\n",
       "02_120405                          6.198086                         5.239286   \n",
       "292_120430                         6.317194                         5.471434   \n",
       "329_120501                         5.651528                         5.262724   \n",
       "677_120604                         5.378012                         5.148279   \n",
       "352_120501                         5.115893                         4.970338   \n",
       "...                                     ...                              ...   \n",
       "274_120430                         5.046532                         5.014920   \n",
       "494_120515                         6.139996                         5.273347   \n",
       "587_120522                         5.215186                         4.934470   \n",
       "564_120517                         5.702683                         5.343294   \n",
       "483_120515                         5.470676                         5.080438   \n",
       "\n",
       "            ENSG00000001167_ENSG00000012660  ENSG00000001167_ENSG00000021826  \\\n",
       "02_120405                          5.633695                         6.286101   \n",
       "292_120430                         6.059663                         4.746678   \n",
       "329_120501                         5.920430                         6.518502   \n",
       "677_120604                         6.029614                         6.705390   \n",
       "352_120501                         6.112744                         6.614458   \n",
       "...                                     ...                              ...   \n",
       "274_120430                         5.522375                         6.862786   \n",
       "494_120515                         5.982503                         6.746906   \n",
       "587_120522                         5.994745                         6.737472   \n",
       "564_120517                         5.671275                         4.666189   \n",
       "483_120515                         5.750412                         6.499231   \n",
       "\n",
       "            ...  ENSG00000278129_ENSG00000265033  \\\n",
       "02_120405   ...                        13.361266   \n",
       "292_120430  ...                        13.934514   \n",
       "329_120501  ...                        13.881008   \n",
       "677_120604  ...                        13.942636   \n",
       "352_120501  ...                        14.144108   \n",
       "...         ...                              ...   \n",
       "274_120430  ...                        14.168821   \n",
       "494_120515  ...                        13.748028   \n",
       "587_120522  ...                        13.800682   \n",
       "564_120517  ...                        14.055791   \n",
       "483_120515  ...                        13.857949   \n",
       "\n",
       "            ENSG00000278129_ENSG00000266538  ENSG00000278129_ENSG00000271971  \\\n",
       "02_120405                         15.340846                        14.127553   \n",
       "292_120430                        15.268341                        14.831855   \n",
       "329_120501                        15.387414                        14.581639   \n",
       "677_120604                        15.407128                        14.648131   \n",
       "352_120501                        15.391904                        15.014050   \n",
       "...                                     ...                              ...   \n",
       "274_120430                        15.375749                        14.629781   \n",
       "494_120515                        15.177639                        14.108884   \n",
       "587_120522                        15.222724                        14.017319   \n",
       "564_120517                        15.814267                        14.924577   \n",
       "483_120515                        15.308758                        14.376745   \n",
       "\n",
       "            ENSG00000278129_ENSG00000272356  ENSG00000278129_ENSG00000273240  \\\n",
       "02_120405                         15.299297                        15.645706   \n",
       "292_120430                        16.081953                        15.044204   \n",
       "329_120501                        15.892160                        15.299073   \n",
       "677_120604                        15.880156                        15.168871   \n",
       "352_120501                        16.107207                        15.109578   \n",
       "...                                     ...                              ...   \n",
       "274_120430                        15.977656                        14.943650   \n",
       "494_120515                        15.720903                        14.789356   \n",
       "587_120522                        15.832479                        14.961940   \n",
       "564_120517                        16.048663                        15.441504   \n",
       "483_120515                        15.986600                        15.132833   \n",
       "\n",
       "            ENSG00000278129_ENSG00000273367  ENSG00000278129_ENSG00000273674  \\\n",
       "02_120405                         16.430995                        14.047174   \n",
       "292_120430                        16.227798                        14.266015   \n",
       "329_120501                        16.404819                        14.532534   \n",
       "677_120604                        16.166154                        14.543174   \n",
       "352_120501                        15.868815                        14.531830   \n",
       "...                                     ...                              ...   \n",
       "274_120430                        16.087471                        14.176932   \n",
       "494_120515                        16.408059                        14.299760   \n",
       "587_120522                        16.218314                        14.014324   \n",
       "564_120517                        16.720855                        14.801203   \n",
       "483_120515                        16.341302                        14.422828   \n",
       "\n",
       "            ENSG00000278129_ENSG00000274561  ENSG00000278129_ENSG00000278576  \\\n",
       "02_120405                         13.946036                        15.331664   \n",
       "292_120430                        14.540649                        14.663971   \n",
       "329_120501                        14.286810                        14.734365   \n",
       "677_120604                        14.405995                        14.565591   \n",
       "352_120501                        14.312570                        14.020338   \n",
       "...                                     ...                              ...   \n",
       "274_120430                        14.434823                        14.264851   \n",
       "494_120515                        14.454185                        15.004597   \n",
       "587_120522                        13.962086                        14.715419   \n",
       "564_120517                        14.629405                        14.749004   \n",
       "483_120515                        14.239816                        14.689673   \n",
       "\n",
       "            ENSG00000278129_ENSG00000280088  \n",
       "02_120405                         14.668447  \n",
       "292_120430                        14.160469  \n",
       "329_120501                        14.244728  \n",
       "677_120604                        14.089143  \n",
       "352_120501                        13.862421  \n",
       "...                                     ...  \n",
       "274_120430                        14.028525  \n",
       "494_120515                        14.081364  \n",
       "587_120522                        14.260375  \n",
       "564_120517                        14.511351  \n",
       "483_120515                        14.314720  \n",
       "\n",
       "[164 rows x 113012 columns]"
      ]
     },
     "execution_count": 103,
     "metadata": {},
     "output_type": "execute_result"
    }
   ],
   "source": [
    "data = data.T\n",
    "data"
   ]
  },
  {
   "cell_type": "code",
   "execution_count": 104,
   "id": "c934613c-ae19-4c3b-b0d1-7d94e8497be1",
   "metadata": {},
   "outputs": [],
   "source": [
    "clinical_data = pd.read_csv('../Preprocessed_all_data/Expression_clinical_data/clinical_data_AD_NCI_preprocessed_removed_batch_0.csv')"
   ]
  },
  {
   "cell_type": "code",
   "execution_count": 105,
   "id": "d9ef70a1-95ac-47ed-90e8-f06c190cac4f",
   "metadata": {},
   "outputs": [
    {
     "data": {
      "text/html": [
       "<div>\n",
       "<style scoped>\n",
       "    .dataframe tbody tr th:only-of-type {\n",
       "        vertical-align: middle;\n",
       "    }\n",
       "\n",
       "    .dataframe tbody tr th {\n",
       "        vertical-align: top;\n",
       "    }\n",
       "\n",
       "    .dataframe thead th {\n",
       "        text-align: right;\n",
       "    }\n",
       "</style>\n",
       "<table border=\"1\" class=\"dataframe\">\n",
       "  <thead>\n",
       "    <tr style=\"text-align: right;\">\n",
       "      <th></th>\n",
       "      <th>specimenID</th>\n",
       "      <th>Batch</th>\n",
       "      <th>educ</th>\n",
       "      <th>cogdx</th>\n",
       "      <th>race</th>\n",
       "      <th>pmi</th>\n",
       "      <th>age_at_visit_max</th>\n",
       "      <th>ceradsc</th>\n",
       "      <th>braaksc</th>\n",
       "      <th>msex</th>\n",
       "      <th>Category</th>\n",
       "    </tr>\n",
       "  </thead>\n",
       "  <tbody>\n",
       "    <tr>\n",
       "      <th>0</th>\n",
       "      <td>23_120411</td>\n",
       "      <td>6.0</td>\n",
       "      <td>18.0</td>\n",
       "      <td>4.0</td>\n",
       "      <td>1.0</td>\n",
       "      <td>6.416667</td>\n",
       "      <td>90.000000</td>\n",
       "      <td>1.0</td>\n",
       "      <td>4.0</td>\n",
       "      <td>0.0</td>\n",
       "      <td>1</td>\n",
       "    </tr>\n",
       "    <tr>\n",
       "      <th>1</th>\n",
       "      <td>591_120522</td>\n",
       "      <td>2.0</td>\n",
       "      <td>12.0</td>\n",
       "      <td>4.0</td>\n",
       "      <td>1.0</td>\n",
       "      <td>5.200000</td>\n",
       "      <td>90.000000</td>\n",
       "      <td>1.0</td>\n",
       "      <td>4.0</td>\n",
       "      <td>0.0</td>\n",
       "      <td>1</td>\n",
       "    </tr>\n",
       "    <tr>\n",
       "      <th>2</th>\n",
       "      <td>691_120605</td>\n",
       "      <td>5.0</td>\n",
       "      <td>14.0</td>\n",
       "      <td>1.0</td>\n",
       "      <td>1.0</td>\n",
       "      <td>4.833333</td>\n",
       "      <td>90.000000</td>\n",
       "      <td>4.0</td>\n",
       "      <td>3.0</td>\n",
       "      <td>0.0</td>\n",
       "      <td>0</td>\n",
       "    </tr>\n",
       "    <tr>\n",
       "      <th>3</th>\n",
       "      <td>588_120522</td>\n",
       "      <td>1.0</td>\n",
       "      <td>18.0</td>\n",
       "      <td>1.0</td>\n",
       "      <td>1.0</td>\n",
       "      <td>4.400000</td>\n",
       "      <td>90.000000</td>\n",
       "      <td>4.0</td>\n",
       "      <td>4.0</td>\n",
       "      <td>0.0</td>\n",
       "      <td>0</td>\n",
       "    </tr>\n",
       "    <tr>\n",
       "      <th>4</th>\n",
       "      <td>604_120523</td>\n",
       "      <td>2.0</td>\n",
       "      <td>20.0</td>\n",
       "      <td>4.0</td>\n",
       "      <td>1.0</td>\n",
       "      <td>17.833333</td>\n",
       "      <td>90.000000</td>\n",
       "      <td>1.0</td>\n",
       "      <td>5.0</td>\n",
       "      <td>0.0</td>\n",
       "      <td>1</td>\n",
       "    </tr>\n",
       "    <tr>\n",
       "      <th>...</th>\n",
       "      <td>...</td>\n",
       "      <td>...</td>\n",
       "      <td>...</td>\n",
       "      <td>...</td>\n",
       "      <td>...</td>\n",
       "      <td>...</td>\n",
       "      <td>...</td>\n",
       "      <td>...</td>\n",
       "      <td>...</td>\n",
       "      <td>...</td>\n",
       "      <td>...</td>\n",
       "    </tr>\n",
       "    <tr>\n",
       "      <th>159</th>\n",
       "      <td>677_120604</td>\n",
       "      <td>4.0</td>\n",
       "      <td>23.0</td>\n",
       "      <td>1.0</td>\n",
       "      <td>1.0</td>\n",
       "      <td>18.666667</td>\n",
       "      <td>71.720739</td>\n",
       "      <td>4.0</td>\n",
       "      <td>3.0</td>\n",
       "      <td>0.0</td>\n",
       "      <td>0</td>\n",
       "    </tr>\n",
       "    <tr>\n",
       "      <th>160</th>\n",
       "      <td>142_120419</td>\n",
       "      <td>6.0</td>\n",
       "      <td>23.0</td>\n",
       "      <td>1.0</td>\n",
       "      <td>1.0</td>\n",
       "      <td>7.000000</td>\n",
       "      <td>71.603012</td>\n",
       "      <td>4.0</td>\n",
       "      <td>2.0</td>\n",
       "      <td>1.0</td>\n",
       "      <td>0</td>\n",
       "    </tr>\n",
       "    <tr>\n",
       "      <th>161</th>\n",
       "      <td>120_120418</td>\n",
       "      <td>5.0</td>\n",
       "      <td>26.0</td>\n",
       "      <td>1.0</td>\n",
       "      <td>1.0</td>\n",
       "      <td>4.083333</td>\n",
       "      <td>71.482546</td>\n",
       "      <td>4.0</td>\n",
       "      <td>1.0</td>\n",
       "      <td>1.0</td>\n",
       "      <td>0</td>\n",
       "    </tr>\n",
       "    <tr>\n",
       "      <th>162</th>\n",
       "      <td>483_120515</td>\n",
       "      <td>1.0</td>\n",
       "      <td>10.0</td>\n",
       "      <td>1.0</td>\n",
       "      <td>1.0</td>\n",
       "      <td>5.433333</td>\n",
       "      <td>70.510609</td>\n",
       "      <td>4.0</td>\n",
       "      <td>0.0</td>\n",
       "      <td>1.0</td>\n",
       "      <td>0</td>\n",
       "    </tr>\n",
       "    <tr>\n",
       "      <th>163</th>\n",
       "      <td>174_120424</td>\n",
       "      <td>5.0</td>\n",
       "      <td>12.0</td>\n",
       "      <td>1.0</td>\n",
       "      <td>1.0</td>\n",
       "      <td>5.000000</td>\n",
       "      <td>66.959617</td>\n",
       "      <td>4.0</td>\n",
       "      <td>1.0</td>\n",
       "      <td>1.0</td>\n",
       "      <td>0</td>\n",
       "    </tr>\n",
       "  </tbody>\n",
       "</table>\n",
       "<p>164 rows × 11 columns</p>\n",
       "</div>"
      ],
      "text/plain": [
       "     specimenID  Batch  educ  cogdx  race        pmi  age_at_visit_max  \\\n",
       "0     23_120411    6.0  18.0    4.0   1.0   6.416667         90.000000   \n",
       "1    591_120522    2.0  12.0    4.0   1.0   5.200000         90.000000   \n",
       "2    691_120605    5.0  14.0    1.0   1.0   4.833333         90.000000   \n",
       "3    588_120522    1.0  18.0    1.0   1.0   4.400000         90.000000   \n",
       "4    604_120523    2.0  20.0    4.0   1.0  17.833333         90.000000   \n",
       "..          ...    ...   ...    ...   ...        ...               ...   \n",
       "159  677_120604    4.0  23.0    1.0   1.0  18.666667         71.720739   \n",
       "160  142_120419    6.0  23.0    1.0   1.0   7.000000         71.603012   \n",
       "161  120_120418    5.0  26.0    1.0   1.0   4.083333         71.482546   \n",
       "162  483_120515    1.0  10.0    1.0   1.0   5.433333         70.510609   \n",
       "163  174_120424    5.0  12.0    1.0   1.0   5.000000         66.959617   \n",
       "\n",
       "     ceradsc  braaksc  msex  Category  \n",
       "0        1.0      4.0   0.0         1  \n",
       "1        1.0      4.0   0.0         1  \n",
       "2        4.0      3.0   0.0         0  \n",
       "3        4.0      4.0   0.0         0  \n",
       "4        1.0      5.0   0.0         1  \n",
       "..       ...      ...   ...       ...  \n",
       "159      4.0      3.0   0.0         0  \n",
       "160      4.0      2.0   1.0         0  \n",
       "161      4.0      1.0   1.0         0  \n",
       "162      4.0      0.0   1.0         0  \n",
       "163      4.0      1.0   1.0         0  \n",
       "\n",
       "[164 rows x 11 columns]"
      ]
     },
     "execution_count": 105,
     "metadata": {},
     "output_type": "execute_result"
    }
   ],
   "source": [
    "clinical_data"
   ]
  },
  {
   "cell_type": "code",
   "execution_count": 106,
   "id": "4babc6b1-cd34-42f6-be4a-b33fb2bfb920",
   "metadata": {},
   "outputs": [
    {
     "data": {
      "text/plain": [
       "Index(['specimenID', 'Batch', 'educ', 'cogdx', 'race', 'pmi',\n",
       "       'age_at_visit_max', 'ceradsc', 'braaksc', 'msex', 'Category'],\n",
       "      dtype='object')"
      ]
     },
     "execution_count": 106,
     "metadata": {},
     "output_type": "execute_result"
    }
   ],
   "source": [
    "clinical_data.columns"
   ]
  },
  {
   "cell_type": "code",
   "execution_count": 107,
   "id": "984e96d5-777e-4d9b-b761-c6e5d5ef5049",
   "metadata": {},
   "outputs": [
    {
     "data": {
      "text/html": [
       "<div>\n",
       "<style scoped>\n",
       "    .dataframe tbody tr th:only-of-type {\n",
       "        vertical-align: middle;\n",
       "    }\n",
       "\n",
       "    .dataframe tbody tr th {\n",
       "        vertical-align: top;\n",
       "    }\n",
       "\n",
       "    .dataframe thead th {\n",
       "        text-align: right;\n",
       "    }\n",
       "</style>\n",
       "<table border=\"1\" class=\"dataframe\">\n",
       "  <thead>\n",
       "    <tr style=\"text-align: right;\">\n",
       "      <th></th>\n",
       "      <th>specimenID</th>\n",
       "      <th>Category</th>\n",
       "    </tr>\n",
       "  </thead>\n",
       "  <tbody>\n",
       "    <tr>\n",
       "      <th>0</th>\n",
       "      <td>23_120411</td>\n",
       "      <td>1</td>\n",
       "    </tr>\n",
       "    <tr>\n",
       "      <th>1</th>\n",
       "      <td>591_120522</td>\n",
       "      <td>1</td>\n",
       "    </tr>\n",
       "    <tr>\n",
       "      <th>2</th>\n",
       "      <td>691_120605</td>\n",
       "      <td>0</td>\n",
       "    </tr>\n",
       "    <tr>\n",
       "      <th>3</th>\n",
       "      <td>588_120522</td>\n",
       "      <td>0</td>\n",
       "    </tr>\n",
       "    <tr>\n",
       "      <th>4</th>\n",
       "      <td>604_120523</td>\n",
       "      <td>1</td>\n",
       "    </tr>\n",
       "    <tr>\n",
       "      <th>...</th>\n",
       "      <td>...</td>\n",
       "      <td>...</td>\n",
       "    </tr>\n",
       "    <tr>\n",
       "      <th>159</th>\n",
       "      <td>677_120604</td>\n",
       "      <td>0</td>\n",
       "    </tr>\n",
       "    <tr>\n",
       "      <th>160</th>\n",
       "      <td>142_120419</td>\n",
       "      <td>0</td>\n",
       "    </tr>\n",
       "    <tr>\n",
       "      <th>161</th>\n",
       "      <td>120_120418</td>\n",
       "      <td>0</td>\n",
       "    </tr>\n",
       "    <tr>\n",
       "      <th>162</th>\n",
       "      <td>483_120515</td>\n",
       "      <td>0</td>\n",
       "    </tr>\n",
       "    <tr>\n",
       "      <th>163</th>\n",
       "      <td>174_120424</td>\n",
       "      <td>0</td>\n",
       "    </tr>\n",
       "  </tbody>\n",
       "</table>\n",
       "<p>164 rows × 2 columns</p>\n",
       "</div>"
      ],
      "text/plain": [
       "     specimenID  Category\n",
       "0     23_120411         1\n",
       "1    591_120522         1\n",
       "2    691_120605         0\n",
       "3    588_120522         0\n",
       "4    604_120523         1\n",
       "..          ...       ...\n",
       "159  677_120604         0\n",
       "160  142_120419         0\n",
       "161  120_120418         0\n",
       "162  483_120515         0\n",
       "163  174_120424         0\n",
       "\n",
       "[164 rows x 2 columns]"
      ]
     },
     "execution_count": 107,
     "metadata": {},
     "output_type": "execute_result"
    }
   ],
   "source": [
    "clinical_data = clinical_data[['specimenID','Category']]\n",
    "clinical_data"
   ]
  },
  {
   "cell_type": "code",
   "execution_count": 108,
   "id": "52597fcc-f723-4676-8d0b-29753582e1a7",
   "metadata": {},
   "outputs": [],
   "source": [
    "def return_diagnosis(i):\n",
    "    print(i)\n",
    "    if clinical_data[clinical_data.specimenID==i].Category.values[0] ==1:\n",
    "        return 'AD'\n",
    "    else:\n",
    "        return 'NCI'\n",
    "        "
   ]
  },
  {
   "cell_type": "code",
   "execution_count": 109,
   "id": "3ec8c3a6-94ea-46ec-8996-660309ab29bb",
   "metadata": {},
   "outputs": [
    {
     "name": "stdout",
     "output_type": "stream",
     "text": [
      "02_120405\n",
      "292_120430\n",
      "329_120501\n",
      "677_120604\n",
      "352_120501\n",
      "245_120426\n",
      "630_120524\n",
      "829_130725\n",
      "146_120419\n",
      "285_120430\n",
      "647_120529\n",
      "706_120605\n",
      "638_120524\n",
      "680_120604\n",
      "11_120410\n",
      "951_131107\n",
      "79_120417\n",
      "550_120517\n",
      "405_120503\n",
      "469_120514\n",
      "628_120524\n",
      "340_120501\n",
      "501_120515\n",
      "444_120507\n",
      "497_120515\n",
      "554_120517\n",
      "708_120531\n",
      "721_120531\n",
      "508_120515\n",
      "787_130530\n",
      "427_120507\n",
      "531_120516\n",
      "588_120522\n",
      "547_120516\n",
      "420_120507\n",
      "104_120418\n",
      "459_120514\n",
      "142_120419\n",
      "606_120523\n",
      "28_120411\n",
      "812_130702\n",
      "12_120410\n",
      "193_120424\n",
      "82_120417\n",
      "461_120514\n",
      "695_120605\n",
      "196_120424\n",
      "237_120426\n",
      "65_120417\n",
      "626_120524\n",
      "243_120426\n",
      "408_120503\n",
      "214_120425\n",
      "520_120515\n",
      "88_120417\n",
      "605_120523\n",
      "534_120516\n",
      "74_120417\n",
      "228_120425\n",
      "310_120430\n",
      "689_120604\n",
      "505_120515\n",
      "691_120605\n",
      "407_120503\n",
      "318_120501\n",
      "704_120605\n",
      "76_120417\n",
      "45_120416\n",
      "646_120524\n",
      "635_120524\n",
      "429_120507\n",
      "604_120523\n",
      "553_120517\n",
      "511_120515\n",
      "174_120424\n",
      "663_120530\n",
      "545_120516\n",
      "482_120514\n",
      "929_131031\n",
      "568_120521\n",
      "326_120501\n",
      "77_120417\n",
      "232_120425\n",
      "286_120430\n",
      "602_120523\n",
      "202_120424\n",
      "181_120424\n",
      "321_120501\n",
      "364_120502\n",
      "122_120418\n",
      "24_120411\n",
      "591_120522\n",
      "952_131107\n",
      "486_120515\n",
      "345_120501\n",
      "713_120531\n",
      "72_120417\n",
      "624_120524\n",
      "567_120521\n",
      "70_120417\n",
      "950_131107\n",
      "470_120514\n",
      "715_120531\n",
      "705_120605\n",
      "384_120503\n",
      "703_120605\n",
      "56_120417\n",
      "386_120503\n",
      "537_120516\n",
      "711_120531\n",
      "231_120425\n",
      "04_120405\n",
      "502_120515\n",
      "253_120426\n",
      "289_120430\n",
      "649_120529\n",
      "36_120416\n",
      "304_120430\n",
      "145_120419\n",
      "331_120501\n",
      "369_120502\n",
      "481_120514\n",
      "418_120507\n",
      "186_120424\n",
      "23_120411\n",
      "213_120425\n",
      "637_120524\n",
      "360_120502\n",
      "298_120430\n",
      "355_120501\n",
      "617_120524\n",
      "283_120430\n",
      "938_131101\n",
      "229_120425\n",
      "424_120507\n",
      "350_120501\n",
      "182_120424\n",
      "57_120417\n",
      "323_120501\n",
      "280_120430\n",
      "309_120430\n",
      "173_120424\n",
      "120_120418\n",
      "607_120523\n",
      "168_120423\n",
      "434_120507\n",
      "314_120501\n",
      "942_131101\n",
      "152_120419\n",
      "633_120524\n",
      "197_120424\n",
      "498_120515\n",
      "460_120514\n",
      "363_120502\n",
      "290_120430\n",
      "456_120507\n",
      "34_120416\n",
      "551_120517\n",
      "254_120426\n",
      "274_120430\n",
      "494_120515\n",
      "587_120522\n",
      "564_120517\n",
      "483_120515\n"
     ]
    }
   ],
   "source": [
    "label = [return_diagnosis(str(i).strip()) for i in data.index]"
   ]
  },
  {
   "cell_type": "code",
   "execution_count": 110,
   "id": "4ebdb22f-73fd-4cdf-9576-ada3bbfb6e60",
   "metadata": {},
   "outputs": [
    {
     "data": {
      "text/plain": [
       "94"
      ]
     },
     "execution_count": 110,
     "metadata": {},
     "output_type": "execute_result"
    }
   ],
   "source": [
    "label.count('AD')"
   ]
  },
  {
   "cell_type": "code",
   "execution_count": 111,
   "id": "9d95586c-7e09-4c61-a85f-1d7f677ed126",
   "metadata": {},
   "outputs": [
    {
     "data": {
      "text/plain": [
       "70"
      ]
     },
     "execution_count": 111,
     "metadata": {},
     "output_type": "execute_result"
    }
   ],
   "source": [
    "label.count('NCI')"
   ]
  },
  {
   "cell_type": "code",
   "execution_count": 112,
   "id": "7addc61a-18b9-49d9-970b-66407f1c3527",
   "metadata": {},
   "outputs": [
    {
     "data": {
      "text/plain": [
       "164"
      ]
     },
     "execution_count": 112,
     "metadata": {},
     "output_type": "execute_result"
    }
   ],
   "source": [
    "len(label)"
   ]
  },
  {
   "cell_type": "code",
   "execution_count": 113,
   "id": "cde7cb97-3243-4e1c-aa9a-d8061f3421f5",
   "metadata": {},
   "outputs": [],
   "source": [
    "data['Label'] = label\n",
    "combined = data.copy()"
   ]
  },
  {
   "cell_type": "code",
   "execution_count": 114,
   "id": "dee13aca-7226-4908-8ab9-9698ed9b86b1",
   "metadata": {},
   "outputs": [
    {
     "data": {
      "text/html": [
       "<div>\n",
       "<style scoped>\n",
       "    .dataframe tbody tr th:only-of-type {\n",
       "        vertical-align: middle;\n",
       "    }\n",
       "\n",
       "    .dataframe tbody tr th {\n",
       "        vertical-align: top;\n",
       "    }\n",
       "\n",
       "    .dataframe thead th {\n",
       "        text-align: right;\n",
       "    }\n",
       "</style>\n",
       "<table border=\"1\" class=\"dataframe\">\n",
       "  <thead>\n",
       "    <tr style=\"text-align: right;\">\n",
       "      <th></th>\n",
       "      <th>ENSG00000001167_ENSG00000000460</th>\n",
       "      <th>ENSG00000001167_ENSG00000001167</th>\n",
       "      <th>ENSG00000001167_ENSG00000003056</th>\n",
       "      <th>ENSG00000001167_ENSG00000004799</th>\n",
       "      <th>ENSG00000001167_ENSG00000006007</th>\n",
       "      <th>ENSG00000001167_ENSG00000008311</th>\n",
       "      <th>ENSG00000001167_ENSG00000010438</th>\n",
       "      <th>ENSG00000001167_ENSG00000011260</th>\n",
       "      <th>ENSG00000001167_ENSG00000012660</th>\n",
       "      <th>ENSG00000001167_ENSG00000021826</th>\n",
       "      <th>...</th>\n",
       "      <th>ENSG00000278129_ENSG00000266538</th>\n",
       "      <th>ENSG00000278129_ENSG00000271971</th>\n",
       "      <th>ENSG00000278129_ENSG00000272356</th>\n",
       "      <th>ENSG00000278129_ENSG00000273240</th>\n",
       "      <th>ENSG00000278129_ENSG00000273367</th>\n",
       "      <th>ENSG00000278129_ENSG00000273674</th>\n",
       "      <th>ENSG00000278129_ENSG00000274561</th>\n",
       "      <th>ENSG00000278129_ENSG00000278576</th>\n",
       "      <th>ENSG00000278129_ENSG00000280088</th>\n",
       "      <th>Label</th>\n",
       "    </tr>\n",
       "  </thead>\n",
       "  <tbody>\n",
       "    <tr>\n",
       "      <th>02_120405</th>\n",
       "      <td>5.985459</td>\n",
       "      <td>5.350591</td>\n",
       "      <td>6.520921</td>\n",
       "      <td>5.590399</td>\n",
       "      <td>5.920805</td>\n",
       "      <td>5.691567</td>\n",
       "      <td>6.198086</td>\n",
       "      <td>5.239286</td>\n",
       "      <td>5.633695</td>\n",
       "      <td>6.286101</td>\n",
       "      <td>...</td>\n",
       "      <td>15.340846</td>\n",
       "      <td>14.127553</td>\n",
       "      <td>15.299297</td>\n",
       "      <td>15.645706</td>\n",
       "      <td>16.430995</td>\n",
       "      <td>14.047174</td>\n",
       "      <td>13.946036</td>\n",
       "      <td>15.331664</td>\n",
       "      <td>14.668447</td>\n",
       "      <td>AD</td>\n",
       "    </tr>\n",
       "    <tr>\n",
       "      <th>292_120430</th>\n",
       "      <td>5.934636</td>\n",
       "      <td>5.062648</td>\n",
       "      <td>6.919805</td>\n",
       "      <td>5.827155</td>\n",
       "      <td>6.301645</td>\n",
       "      <td>5.840099</td>\n",
       "      <td>6.317194</td>\n",
       "      <td>5.471434</td>\n",
       "      <td>6.059663</td>\n",
       "      <td>4.746678</td>\n",
       "      <td>...</td>\n",
       "      <td>15.268341</td>\n",
       "      <td>14.831855</td>\n",
       "      <td>16.081953</td>\n",
       "      <td>15.044204</td>\n",
       "      <td>16.227798</td>\n",
       "      <td>14.266015</td>\n",
       "      <td>14.540649</td>\n",
       "      <td>14.663971</td>\n",
       "      <td>14.160469</td>\n",
       "      <td>AD</td>\n",
       "    </tr>\n",
       "    <tr>\n",
       "      <th>329_120501</th>\n",
       "      <td>5.770291</td>\n",
       "      <td>5.571338</td>\n",
       "      <td>6.551497</td>\n",
       "      <td>5.843202</td>\n",
       "      <td>6.341374</td>\n",
       "      <td>6.333088</td>\n",
       "      <td>5.651528</td>\n",
       "      <td>5.262724</td>\n",
       "      <td>5.920430</td>\n",
       "      <td>6.518502</td>\n",
       "      <td>...</td>\n",
       "      <td>15.387414</td>\n",
       "      <td>14.581639</td>\n",
       "      <td>15.892160</td>\n",
       "      <td>15.299073</td>\n",
       "      <td>16.404819</td>\n",
       "      <td>14.532534</td>\n",
       "      <td>14.286810</td>\n",
       "      <td>14.734365</td>\n",
       "      <td>14.244728</td>\n",
       "      <td>NCI</td>\n",
       "    </tr>\n",
       "    <tr>\n",
       "      <th>677_120604</th>\n",
       "      <td>5.730042</td>\n",
       "      <td>5.590074</td>\n",
       "      <td>6.534850</td>\n",
       "      <td>6.416038</td>\n",
       "      <td>5.799050</td>\n",
       "      <td>6.498845</td>\n",
       "      <td>5.378012</td>\n",
       "      <td>5.148279</td>\n",
       "      <td>6.029614</td>\n",
       "      <td>6.705390</td>\n",
       "      <td>...</td>\n",
       "      <td>15.407128</td>\n",
       "      <td>14.648131</td>\n",
       "      <td>15.880156</td>\n",
       "      <td>15.168871</td>\n",
       "      <td>16.166154</td>\n",
       "      <td>14.543174</td>\n",
       "      <td>14.405995</td>\n",
       "      <td>14.565591</td>\n",
       "      <td>14.089143</td>\n",
       "      <td>NCI</td>\n",
       "    </tr>\n",
       "    <tr>\n",
       "      <th>352_120501</th>\n",
       "      <td>5.586413</td>\n",
       "      <td>6.076496</td>\n",
       "      <td>6.766220</td>\n",
       "      <td>5.906225</td>\n",
       "      <td>5.522679</td>\n",
       "      <td>6.528951</td>\n",
       "      <td>5.115893</td>\n",
       "      <td>4.970338</td>\n",
       "      <td>6.112744</td>\n",
       "      <td>6.614458</td>\n",
       "      <td>...</td>\n",
       "      <td>15.391904</td>\n",
       "      <td>15.014050</td>\n",
       "      <td>16.107207</td>\n",
       "      <td>15.109578</td>\n",
       "      <td>15.868815</td>\n",
       "      <td>14.531830</td>\n",
       "      <td>14.312570</td>\n",
       "      <td>14.020338</td>\n",
       "      <td>13.862421</td>\n",
       "      <td>NCI</td>\n",
       "    </tr>\n",
       "    <tr>\n",
       "      <th>...</th>\n",
       "      <td>...</td>\n",
       "      <td>...</td>\n",
       "      <td>...</td>\n",
       "      <td>...</td>\n",
       "      <td>...</td>\n",
       "      <td>...</td>\n",
       "      <td>...</td>\n",
       "      <td>...</td>\n",
       "      <td>...</td>\n",
       "      <td>...</td>\n",
       "      <td>...</td>\n",
       "      <td>...</td>\n",
       "      <td>...</td>\n",
       "      <td>...</td>\n",
       "      <td>...</td>\n",
       "      <td>...</td>\n",
       "      <td>...</td>\n",
       "      <td>...</td>\n",
       "      <td>...</td>\n",
       "      <td>...</td>\n",
       "      <td>...</td>\n",
       "    </tr>\n",
       "    <tr>\n",
       "      <th>274_120430</th>\n",
       "      <td>5.789182</td>\n",
       "      <td>5.817128</td>\n",
       "      <td>6.524711</td>\n",
       "      <td>5.989930</td>\n",
       "      <td>5.069280</td>\n",
       "      <td>6.728563</td>\n",
       "      <td>5.046532</td>\n",
       "      <td>5.014920</td>\n",
       "      <td>5.522375</td>\n",
       "      <td>6.862786</td>\n",
       "      <td>...</td>\n",
       "      <td>15.375749</td>\n",
       "      <td>14.629781</td>\n",
       "      <td>15.977656</td>\n",
       "      <td>14.943650</td>\n",
       "      <td>16.087471</td>\n",
       "      <td>14.176932</td>\n",
       "      <td>14.434823</td>\n",
       "      <td>14.264851</td>\n",
       "      <td>14.028525</td>\n",
       "      <td>NCI</td>\n",
       "    </tr>\n",
       "    <tr>\n",
       "      <th>494_120515</th>\n",
       "      <td>6.018065</td>\n",
       "      <td>5.677319</td>\n",
       "      <td>6.560884</td>\n",
       "      <td>5.874149</td>\n",
       "      <td>6.275374</td>\n",
       "      <td>6.370159</td>\n",
       "      <td>6.139996</td>\n",
       "      <td>5.273347</td>\n",
       "      <td>5.982503</td>\n",
       "      <td>6.746906</td>\n",
       "      <td>...</td>\n",
       "      <td>15.177639</td>\n",
       "      <td>14.108884</td>\n",
       "      <td>15.720903</td>\n",
       "      <td>14.789356</td>\n",
       "      <td>16.408059</td>\n",
       "      <td>14.299760</td>\n",
       "      <td>14.454185</td>\n",
       "      <td>15.004597</td>\n",
       "      <td>14.081364</td>\n",
       "      <td>AD</td>\n",
       "    </tr>\n",
       "    <tr>\n",
       "      <th>587_120522</th>\n",
       "      <td>5.745142</td>\n",
       "      <td>5.407824</td>\n",
       "      <td>6.210405</td>\n",
       "      <td>5.703783</td>\n",
       "      <td>6.303764</td>\n",
       "      <td>6.477004</td>\n",
       "      <td>5.215186</td>\n",
       "      <td>4.934470</td>\n",
       "      <td>5.994745</td>\n",
       "      <td>6.737472</td>\n",
       "      <td>...</td>\n",
       "      <td>15.222724</td>\n",
       "      <td>14.017319</td>\n",
       "      <td>15.832479</td>\n",
       "      <td>14.961940</td>\n",
       "      <td>16.218314</td>\n",
       "      <td>14.014324</td>\n",
       "      <td>13.962086</td>\n",
       "      <td>14.715419</td>\n",
       "      <td>14.260375</td>\n",
       "      <td>NCI</td>\n",
       "    </tr>\n",
       "    <tr>\n",
       "      <th>564_120517</th>\n",
       "      <td>6.731287</td>\n",
       "      <td>6.111179</td>\n",
       "      <td>7.596831</td>\n",
       "      <td>4.791077</td>\n",
       "      <td>6.617189</td>\n",
       "      <td>7.258635</td>\n",
       "      <td>5.702683</td>\n",
       "      <td>5.343294</td>\n",
       "      <td>5.671275</td>\n",
       "      <td>4.666189</td>\n",
       "      <td>...</td>\n",
       "      <td>15.814267</td>\n",
       "      <td>14.924577</td>\n",
       "      <td>16.048663</td>\n",
       "      <td>15.441504</td>\n",
       "      <td>16.720855</td>\n",
       "      <td>14.801203</td>\n",
       "      <td>14.629405</td>\n",
       "      <td>14.749004</td>\n",
       "      <td>14.511351</td>\n",
       "      <td>NCI</td>\n",
       "    </tr>\n",
       "    <tr>\n",
       "      <th>483_120515</th>\n",
       "      <td>5.405933</td>\n",
       "      <td>5.543189</td>\n",
       "      <td>6.437311</td>\n",
       "      <td>5.687487</td>\n",
       "      <td>6.263770</td>\n",
       "      <td>5.975702</td>\n",
       "      <td>5.470676</td>\n",
       "      <td>5.080438</td>\n",
       "      <td>5.750412</td>\n",
       "      <td>6.499231</td>\n",
       "      <td>...</td>\n",
       "      <td>15.308758</td>\n",
       "      <td>14.376745</td>\n",
       "      <td>15.986600</td>\n",
       "      <td>15.132833</td>\n",
       "      <td>16.341302</td>\n",
       "      <td>14.422828</td>\n",
       "      <td>14.239816</td>\n",
       "      <td>14.689673</td>\n",
       "      <td>14.314720</td>\n",
       "      <td>NCI</td>\n",
       "    </tr>\n",
       "  </tbody>\n",
       "</table>\n",
       "<p>164 rows × 113013 columns</p>\n",
       "</div>"
      ],
      "text/plain": [
       "            ENSG00000001167_ENSG00000000460  ENSG00000001167_ENSG00000001167  \\\n",
       "02_120405                          5.985459                         5.350591   \n",
       "292_120430                         5.934636                         5.062648   \n",
       "329_120501                         5.770291                         5.571338   \n",
       "677_120604                         5.730042                         5.590074   \n",
       "352_120501                         5.586413                         6.076496   \n",
       "...                                     ...                              ...   \n",
       "274_120430                         5.789182                         5.817128   \n",
       "494_120515                         6.018065                         5.677319   \n",
       "587_120522                         5.745142                         5.407824   \n",
       "564_120517                         6.731287                         6.111179   \n",
       "483_120515                         5.405933                         5.543189   \n",
       "\n",
       "            ENSG00000001167_ENSG00000003056  ENSG00000001167_ENSG00000004799  \\\n",
       "02_120405                          6.520921                         5.590399   \n",
       "292_120430                         6.919805                         5.827155   \n",
       "329_120501                         6.551497                         5.843202   \n",
       "677_120604                         6.534850                         6.416038   \n",
       "352_120501                         6.766220                         5.906225   \n",
       "...                                     ...                              ...   \n",
       "274_120430                         6.524711                         5.989930   \n",
       "494_120515                         6.560884                         5.874149   \n",
       "587_120522                         6.210405                         5.703783   \n",
       "564_120517                         7.596831                         4.791077   \n",
       "483_120515                         6.437311                         5.687487   \n",
       "\n",
       "            ENSG00000001167_ENSG00000006007  ENSG00000001167_ENSG00000008311  \\\n",
       "02_120405                          5.920805                         5.691567   \n",
       "292_120430                         6.301645                         5.840099   \n",
       "329_120501                         6.341374                         6.333088   \n",
       "677_120604                         5.799050                         6.498845   \n",
       "352_120501                         5.522679                         6.528951   \n",
       "...                                     ...                              ...   \n",
       "274_120430                         5.069280                         6.728563   \n",
       "494_120515                         6.275374                         6.370159   \n",
       "587_120522                         6.303764                         6.477004   \n",
       "564_120517                         6.617189                         7.258635   \n",
       "483_120515                         6.263770                         5.975702   \n",
       "\n",
       "            ENSG00000001167_ENSG00000010438  ENSG00000001167_ENSG00000011260  \\\n",
       "02_120405                          6.198086                         5.239286   \n",
       "292_120430                         6.317194                         5.471434   \n",
       "329_120501                         5.651528                         5.262724   \n",
       "677_120604                         5.378012                         5.148279   \n",
       "352_120501                         5.115893                         4.970338   \n",
       "...                                     ...                              ...   \n",
       "274_120430                         5.046532                         5.014920   \n",
       "494_120515                         6.139996                         5.273347   \n",
       "587_120522                         5.215186                         4.934470   \n",
       "564_120517                         5.702683                         5.343294   \n",
       "483_120515                         5.470676                         5.080438   \n",
       "\n",
       "            ENSG00000001167_ENSG00000012660  ENSG00000001167_ENSG00000021826  \\\n",
       "02_120405                          5.633695                         6.286101   \n",
       "292_120430                         6.059663                         4.746678   \n",
       "329_120501                         5.920430                         6.518502   \n",
       "677_120604                         6.029614                         6.705390   \n",
       "352_120501                         6.112744                         6.614458   \n",
       "...                                     ...                              ...   \n",
       "274_120430                         5.522375                         6.862786   \n",
       "494_120515                         5.982503                         6.746906   \n",
       "587_120522                         5.994745                         6.737472   \n",
       "564_120517                         5.671275                         4.666189   \n",
       "483_120515                         5.750412                         6.499231   \n",
       "\n",
       "            ...  ENSG00000278129_ENSG00000266538  \\\n",
       "02_120405   ...                        15.340846   \n",
       "292_120430  ...                        15.268341   \n",
       "329_120501  ...                        15.387414   \n",
       "677_120604  ...                        15.407128   \n",
       "352_120501  ...                        15.391904   \n",
       "...         ...                              ...   \n",
       "274_120430  ...                        15.375749   \n",
       "494_120515  ...                        15.177639   \n",
       "587_120522  ...                        15.222724   \n",
       "564_120517  ...                        15.814267   \n",
       "483_120515  ...                        15.308758   \n",
       "\n",
       "            ENSG00000278129_ENSG00000271971  ENSG00000278129_ENSG00000272356  \\\n",
       "02_120405                         14.127553                        15.299297   \n",
       "292_120430                        14.831855                        16.081953   \n",
       "329_120501                        14.581639                        15.892160   \n",
       "677_120604                        14.648131                        15.880156   \n",
       "352_120501                        15.014050                        16.107207   \n",
       "...                                     ...                              ...   \n",
       "274_120430                        14.629781                        15.977656   \n",
       "494_120515                        14.108884                        15.720903   \n",
       "587_120522                        14.017319                        15.832479   \n",
       "564_120517                        14.924577                        16.048663   \n",
       "483_120515                        14.376745                        15.986600   \n",
       "\n",
       "            ENSG00000278129_ENSG00000273240  ENSG00000278129_ENSG00000273367  \\\n",
       "02_120405                         15.645706                        16.430995   \n",
       "292_120430                        15.044204                        16.227798   \n",
       "329_120501                        15.299073                        16.404819   \n",
       "677_120604                        15.168871                        16.166154   \n",
       "352_120501                        15.109578                        15.868815   \n",
       "...                                     ...                              ...   \n",
       "274_120430                        14.943650                        16.087471   \n",
       "494_120515                        14.789356                        16.408059   \n",
       "587_120522                        14.961940                        16.218314   \n",
       "564_120517                        15.441504                        16.720855   \n",
       "483_120515                        15.132833                        16.341302   \n",
       "\n",
       "            ENSG00000278129_ENSG00000273674  ENSG00000278129_ENSG00000274561  \\\n",
       "02_120405                         14.047174                        13.946036   \n",
       "292_120430                        14.266015                        14.540649   \n",
       "329_120501                        14.532534                        14.286810   \n",
       "677_120604                        14.543174                        14.405995   \n",
       "352_120501                        14.531830                        14.312570   \n",
       "...                                     ...                              ...   \n",
       "274_120430                        14.176932                        14.434823   \n",
       "494_120515                        14.299760                        14.454185   \n",
       "587_120522                        14.014324                        13.962086   \n",
       "564_120517                        14.801203                        14.629405   \n",
       "483_120515                        14.422828                        14.239816   \n",
       "\n",
       "            ENSG00000278129_ENSG00000278576  ENSG00000278129_ENSG00000280088  \\\n",
       "02_120405                         15.331664                        14.668447   \n",
       "292_120430                        14.663971                        14.160469   \n",
       "329_120501                        14.734365                        14.244728   \n",
       "677_120604                        14.565591                        14.089143   \n",
       "352_120501                        14.020338                        13.862421   \n",
       "...                                     ...                              ...   \n",
       "274_120430                        14.264851                        14.028525   \n",
       "494_120515                        15.004597                        14.081364   \n",
       "587_120522                        14.715419                        14.260375   \n",
       "564_120517                        14.749004                        14.511351   \n",
       "483_120515                        14.689673                        14.314720   \n",
       "\n",
       "            Label  \n",
       "02_120405      AD  \n",
       "292_120430     AD  \n",
       "329_120501    NCI  \n",
       "677_120604    NCI  \n",
       "352_120501    NCI  \n",
       "...           ...  \n",
       "274_120430    NCI  \n",
       "494_120515     AD  \n",
       "587_120522    NCI  \n",
       "564_120517    NCI  \n",
       "483_120515    NCI  \n",
       "\n",
       "[164 rows x 113013 columns]"
      ]
     },
     "execution_count": 114,
     "metadata": {},
     "output_type": "execute_result"
    }
   ],
   "source": [
    "combined"
   ]
  },
  {
   "cell_type": "code",
   "execution_count": 115,
   "id": "016cd30b-c4e8-4a5c-b377-432300b3e2a8",
   "metadata": {},
   "outputs": [
    {
     "name": "stdout",
     "output_type": "stream",
     "text": [
      "Requirement already satisfied: seaborn in /home/anwer/.conda/envs/tf-gpu/lib/python3.12/site-packages (0.13.2)\n",
      "Requirement already satisfied: numpy!=1.24.0,>=1.20 in /home/anwer/.conda/envs/tf-gpu/lib/python3.12/site-packages (from seaborn) (1.26.4)\n",
      "Requirement already satisfied: pandas>=1.2 in /home/anwer/.conda/envs/tf-gpu/lib/python3.12/site-packages (from seaborn) (2.2.2)\n",
      "Requirement already satisfied: matplotlib!=3.6.1,>=3.4 in /home/anwer/.conda/envs/tf-gpu/lib/python3.12/site-packages (from seaborn) (3.9.0)\n",
      "Requirement already satisfied: contourpy>=1.0.1 in /home/anwer/.conda/envs/tf-gpu/lib/python3.12/site-packages (from matplotlib!=3.6.1,>=3.4->seaborn) (1.2.1)\n",
      "Requirement already satisfied: cycler>=0.10 in /home/anwer/.conda/envs/tf-gpu/lib/python3.12/site-packages (from matplotlib!=3.6.1,>=3.4->seaborn) (0.12.1)\n",
      "Requirement already satisfied: fonttools>=4.22.0 in /home/anwer/.conda/envs/tf-gpu/lib/python3.12/site-packages (from matplotlib!=3.6.1,>=3.4->seaborn) (4.53.0)\n",
      "Requirement already satisfied: kiwisolver>=1.3.1 in /home/anwer/.conda/envs/tf-gpu/lib/python3.12/site-packages (from matplotlib!=3.6.1,>=3.4->seaborn) (1.4.5)\n",
      "Requirement already satisfied: packaging>=20.0 in /home/anwer/.conda/envs/tf-gpu/lib/python3.12/site-packages (from matplotlib!=3.6.1,>=3.4->seaborn) (24.1)\n",
      "Requirement already satisfied: pillow>=8 in /home/anwer/.conda/envs/tf-gpu/lib/python3.12/site-packages (from matplotlib!=3.6.1,>=3.4->seaborn) (10.3.0)\n",
      "Requirement already satisfied: pyparsing>=2.3.1 in /home/anwer/.conda/envs/tf-gpu/lib/python3.12/site-packages (from matplotlib!=3.6.1,>=3.4->seaborn) (3.1.2)\n",
      "Requirement already satisfied: python-dateutil>=2.7 in /home/anwer/.local/lib/python3.12/site-packages (from matplotlib!=3.6.1,>=3.4->seaborn) (2.9.0.post0)\n",
      "Requirement already satisfied: pytz>=2020.1 in /home/anwer/.conda/envs/tf-gpu/lib/python3.12/site-packages (from pandas>=1.2->seaborn) (2024.1)\n",
      "Requirement already satisfied: tzdata>=2022.7 in /home/anwer/.conda/envs/tf-gpu/lib/python3.12/site-packages (from pandas>=1.2->seaborn) (2024.1)\n",
      "Requirement already satisfied: six>=1.5 in /home/anwer/.local/lib/python3.12/site-packages (from python-dateutil>=2.7->matplotlib!=3.6.1,>=3.4->seaborn) (1.16.0)\n"
     ]
    },
    {
     "data": {
      "image/png": "[encoded data removed]",
      "text/plain": [
       "<Figure size 800x800 with 1 Axes>"
      ]
     },
     "metadata": {},
     "output_type": "display_data"
    }
   ],
   "source": [
    "!pip install seaborn\n",
    "import pandas as pd\n",
    "from sklearn.decomposition import PCA\n",
    "import matplotlib.pyplot as plt\n",
    "import seaborn as sns\n",
    "\n",
    "# Generate sample data (replace this with your own DataFrame)\n",
    "\n",
    "\n",
    "# Assuming your DataFrame contains only numeric values\n",
    "# If not, you might need to preprocess your data accordingly\n",
    "\n",
    "# Perform PCA\n",
    "pca = PCA(n_components=2)\n",
    "principal_components = pca.fit_transform(combined.drop(columns = 'Label'))\n",
    "\n",
    "# Create a new DataFrame with the principal components\n",
    "pc_df = pd.DataFrame(data=principal_components, columns=['PC1', 'PC2'])\n",
    "\n",
    "# Concatenate the principal components DataFrame with the original DataFrame\n",
    "final_df = pd.concat([pc_df], axis=1)\n",
    "final_df['Label'] = label\n",
    "final_df.index = combined.index\n",
    "\n",
    "\n",
    "# Plot the PCA results\n",
    "plt.figure(figsize=(8, 8))\n",
    "sns.scatterplot(x='PC1', y='PC2', data=final_df, hue = label)\n",
    "plt.title('PCA Plot')\n",
    "plt.xlabel('Principal Component 1 (PC1)')\n",
    "plt.ylabel('Principal Component 2 (PC2)')\n",
    "plt.show()\n"
   ]
  },
  {
   "cell_type": "code",
   "execution_count": 116,
   "id": "a17d1adb-3f03-4846-baf8-9e6a25cd4a41",
   "metadata": {},
   "outputs": [],
   "source": [
    "remove = final_df[final_df.PC1> 80].index.tolist()"
   ]
  },
  {
   "cell_type": "code",
   "execution_count": 117,
   "id": "d3d85246-27ba-4cbe-900c-e35a949240a9",
   "metadata": {},
   "outputs": [
    {
     "data": {
      "text/plain": [
       "['28_120411', '605_120523', '646_120524', '369_120502', '152_120419']"
      ]
     },
     "execution_count": 117,
     "metadata": {},
     "output_type": "execute_result"
    }
   ],
   "source": [
    "remove"
   ]
  },
  {
   "cell_type": "code",
   "execution_count": 118,
   "id": "5105aea9-59d7-451d-9fff-5195299bec9b",
   "metadata": {},
   "outputs": [],
   "source": [
    "outlier_corrected_combined = combined[~combined.index.isin(remove)]"
   ]
  },
  {
   "cell_type": "code",
   "execution_count": 119,
   "id": "192b3a44-7e7a-44a3-989a-98c4d3379d51",
   "metadata": {},
   "outputs": [
    {
     "data": {
      "image/png": "[encoded data removed]",
      "text/plain": [
       "<Figure size 800x800 with 1 Axes>"
      ]
     },
     "metadata": {},
     "output_type": "display_data"
    }
   ],
   "source": [
    "import pandas as pd\n",
    "from sklearn.decomposition import PCA\n",
    "import matplotlib.pyplot as plt\n",
    "import seaborn as sns\n",
    "\n",
    "# Generate sample data (replace this with your own DataFrame)\n",
    "\n",
    "\n",
    "# Assuming your DataFrame contains only numeric values\n",
    "# If not, you might need to preprocess your data accordingly\n",
    "\n",
    "# Perform PCA\n",
    "pca = PCA(n_components=2)\n",
    "principal_components = pca.fit_transform(outlier_corrected_combined .drop(columns = 'Label'))\n",
    "\n",
    "# Create a new DataFrame with the principal components\n",
    "pc_df = pd.DataFrame(data=principal_components, columns=['PC1', 'PC2'])\n",
    "\n",
    "# Concatenate the principal components DataFrame with the original DataFrame\n",
    "final_df = pd.concat([pc_df], axis=1)\n",
    "final_df['Label'] = outlier_corrected_combined.Label.tolist()\n",
    "final_df.index = outlier_corrected_combined.index\n",
    "Label = outlier_corrected_combined.Label.tolist()\n",
    "\n",
    "# Plot the PCA results\n",
    "plt.figure(figsize=(8, 8))\n",
    "sns.scatterplot(x='PC1', y='PC2', data=final_df, hue = Label )\n",
    "plt.title('PCA Plot')\n",
    "plt.xlabel('Principal Component 1 (PC1)')\n",
    "plt.ylabel('Principal Component 2 (PC2)')\n",
    "plt.show()\n"
   ]
  },
  {
   "cell_type": "code",
   "execution_count": 120,
   "id": "0245c2fc-fe16-4e8d-b114-ced4ec11394b",
   "metadata": {},
   "outputs": [
    {
     "data": {
      "text/html": [
       "<div>\n",
       "<style scoped>\n",
       "    .dataframe tbody tr th:only-of-type {\n",
       "        vertical-align: middle;\n",
       "    }\n",
       "\n",
       "    .dataframe tbody tr th {\n",
       "        vertical-align: top;\n",
       "    }\n",
       "\n",
       "    .dataframe thead th {\n",
       "        text-align: right;\n",
       "    }\n",
       "</style>\n",
       "<table border=\"1\" class=\"dataframe\">\n",
       "  <thead>\n",
       "    <tr style=\"text-align: right;\">\n",
       "      <th></th>\n",
       "      <th>PC1</th>\n",
       "      <th>PC2</th>\n",
       "    </tr>\n",
       "  </thead>\n",
       "  <tbody>\n",
       "    <tr>\n",
       "      <th>0</th>\n",
       "      <td>-9.867805</td>\n",
       "      <td>57.427139</td>\n",
       "    </tr>\n",
       "    <tr>\n",
       "      <th>1</th>\n",
       "      <td>-14.678371</td>\n",
       "      <td>14.570641</td>\n",
       "    </tr>\n",
       "    <tr>\n",
       "      <th>2</th>\n",
       "      <td>15.850766</td>\n",
       "      <td>-9.626581</td>\n",
       "    </tr>\n",
       "    <tr>\n",
       "      <th>3</th>\n",
       "      <td>-3.308977</td>\n",
       "      <td>-18.872256</td>\n",
       "    </tr>\n",
       "    <tr>\n",
       "      <th>4</th>\n",
       "      <td>58.033628</td>\n",
       "      <td>-3.592592</td>\n",
       "    </tr>\n",
       "    <tr>\n",
       "      <th>...</th>\n",
       "      <td>...</td>\n",
       "      <td>...</td>\n",
       "    </tr>\n",
       "    <tr>\n",
       "      <th>154</th>\n",
       "      <td>50.885743</td>\n",
       "      <td>-11.813825</td>\n",
       "    </tr>\n",
       "    <tr>\n",
       "      <th>155</th>\n",
       "      <td>3.310616</td>\n",
       "      <td>-11.446366</td>\n",
       "    </tr>\n",
       "    <tr>\n",
       "      <th>156</th>\n",
       "      <td>-30.118660</td>\n",
       "      <td>-23.036093</td>\n",
       "    </tr>\n",
       "    <tr>\n",
       "      <th>157</th>\n",
       "      <td>45.426322</td>\n",
       "      <td>-16.591263</td>\n",
       "    </tr>\n",
       "    <tr>\n",
       "      <th>158</th>\n",
       "      <td>-3.337507</td>\n",
       "      <td>17.512825</td>\n",
       "    </tr>\n",
       "  </tbody>\n",
       "</table>\n",
       "<p>159 rows × 2 columns</p>\n",
       "</div>"
      ],
      "text/plain": [
       "           PC1        PC2\n",
       "0    -9.867805  57.427139\n",
       "1   -14.678371  14.570641\n",
       "2    15.850766  -9.626581\n",
       "3    -3.308977 -18.872256\n",
       "4    58.033628  -3.592592\n",
       "..         ...        ...\n",
       "154  50.885743 -11.813825\n",
       "155   3.310616 -11.446366\n",
       "156 -30.118660 -23.036093\n",
       "157  45.426322 -16.591263\n",
       "158  -3.337507  17.512825\n",
       "\n",
       "[159 rows x 2 columns]"
      ]
     },
     "execution_count": 120,
     "metadata": {},
     "output_type": "execute_result"
    }
   ],
   "source": [
    "pc_df"
   ]
  },
  {
   "cell_type": "code",
   "execution_count": 121,
   "id": "7712cf9a-93f4-45a8-8e66-292f6d1bdac9",
   "metadata": {},
   "outputs": [
    {
     "data": {
      "text/html": [
       "<div>\n",
       "<style scoped>\n",
       "    .dataframe tbody tr th:only-of-type {\n",
       "        vertical-align: middle;\n",
       "    }\n",
       "\n",
       "    .dataframe tbody tr th {\n",
       "        vertical-align: top;\n",
       "    }\n",
       "\n",
       "    .dataframe thead th {\n",
       "        text-align: right;\n",
       "    }\n",
       "</style>\n",
       "<table border=\"1\" class=\"dataframe\">\n",
       "  <thead>\n",
       "    <tr style=\"text-align: right;\">\n",
       "      <th></th>\n",
       "      <th>PC1</th>\n",
       "      <th>PC2</th>\n",
       "      <th>Label</th>\n",
       "    </tr>\n",
       "  </thead>\n",
       "  <tbody>\n",
       "    <tr>\n",
       "      <th>02_120405</th>\n",
       "      <td>-9.867805</td>\n",
       "      <td>57.427139</td>\n",
       "      <td>AD</td>\n",
       "    </tr>\n",
       "    <tr>\n",
       "      <th>292_120430</th>\n",
       "      <td>-14.678371</td>\n",
       "      <td>14.570641</td>\n",
       "      <td>AD</td>\n",
       "    </tr>\n",
       "    <tr>\n",
       "      <th>329_120501</th>\n",
       "      <td>15.850766</td>\n",
       "      <td>-9.626581</td>\n",
       "      <td>NCI</td>\n",
       "    </tr>\n",
       "    <tr>\n",
       "      <th>677_120604</th>\n",
       "      <td>-3.308977</td>\n",
       "      <td>-18.872256</td>\n",
       "      <td>NCI</td>\n",
       "    </tr>\n",
       "    <tr>\n",
       "      <th>352_120501</th>\n",
       "      <td>58.033628</td>\n",
       "      <td>-3.592592</td>\n",
       "      <td>NCI</td>\n",
       "    </tr>\n",
       "    <tr>\n",
       "      <th>...</th>\n",
       "      <td>...</td>\n",
       "      <td>...</td>\n",
       "      <td>...</td>\n",
       "    </tr>\n",
       "    <tr>\n",
       "      <th>274_120430</th>\n",
       "      <td>50.885743</td>\n",
       "      <td>-11.813825</td>\n",
       "      <td>NCI</td>\n",
       "    </tr>\n",
       "    <tr>\n",
       "      <th>494_120515</th>\n",
       "      <td>3.310616</td>\n",
       "      <td>-11.446366</td>\n",
       "      <td>AD</td>\n",
       "    </tr>\n",
       "    <tr>\n",
       "      <th>587_120522</th>\n",
       "      <td>-30.118660</td>\n",
       "      <td>-23.036093</td>\n",
       "      <td>NCI</td>\n",
       "    </tr>\n",
       "    <tr>\n",
       "      <th>564_120517</th>\n",
       "      <td>45.426322</td>\n",
       "      <td>-16.591263</td>\n",
       "      <td>NCI</td>\n",
       "    </tr>\n",
       "    <tr>\n",
       "      <th>483_120515</th>\n",
       "      <td>-3.337507</td>\n",
       "      <td>17.512825</td>\n",
       "      <td>NCI</td>\n",
       "    </tr>\n",
       "  </tbody>\n",
       "</table>\n",
       "<p>159 rows × 3 columns</p>\n",
       "</div>"
      ],
      "text/plain": [
       "                  PC1        PC2 Label\n",
       "02_120405   -9.867805  57.427139    AD\n",
       "292_120430 -14.678371  14.570641    AD\n",
       "329_120501  15.850766  -9.626581   NCI\n",
       "677_120604  -3.308977 -18.872256   NCI\n",
       "352_120501  58.033628  -3.592592   NCI\n",
       "...               ...        ...   ...\n",
       "274_120430  50.885743 -11.813825   NCI\n",
       "494_120515   3.310616 -11.446366    AD\n",
       "587_120522 -30.118660 -23.036093   NCI\n",
       "564_120517  45.426322 -16.591263   NCI\n",
       "483_120515  -3.337507  17.512825   NCI\n",
       "\n",
       "[159 rows x 3 columns]"
      ]
     },
     "execution_count": 121,
     "metadata": {},
     "output_type": "execute_result"
    }
   ],
   "source": [
    "final_df"
   ]
  },
  {
   "cell_type": "code",
   "execution_count": 122,
   "id": "592cfa68-0dd1-4fe5-9a0e-f7a61d7d5d6e",
   "metadata": {},
   "outputs": [],
   "source": [
    "# coming from seperate aggregate network\n",
    "\n",
    "relevant_important_genes_from_seperate_aggregate_network = ['ENSG00000186300_ENSG00000215193',\n",
    " 'ENSG00000166823_ENSG00000178199',\n",
    " 'ENSG00000157557_ENSG00000121903',\n",
    " 'ENSG00000138336_ENSG00000161381',\n",
    " 'ENSG00000028277_ENSG00000039139',\n",
    " 'ENSG00000081059_ENSG00000255561',\n",
    " 'ENSG00000167981_ENSG00000143222',\n",
    " 'ENSG00000198482_ENSG00000156219',\n",
    " 'ENSG00000188786_ENSG00000083799',\n",
    " 'ENSG00000168874_ENSG00000139197',\n",
    " 'ENSG00000139800_ENSG00000150175',\n",
    " 'ENSG00000079432_ENSG00000214425',\n",
    " 'ENSG00000162992_ENSG00000139197',\n",
    " 'ENSG00000256294_ENSG00000272576',\n",
    " 'ENSG00000169635_ENSG00000234841',\n",
    " 'ENSG00000125850_ENSG00000198783',\n",
    " 'ENSG00000078900_ENSG00000062096',\n",
    " 'ENSG00000120837_ENSG00000123179',\n",
    " 'ENSG00000079432_ENSG00000188234',\n",
    " 'ENSG00000188786_ENSG00000162384',\n",
    " 'ENSG00000251369_ENSG00000265018',\n",
    " 'ENSG00000234284_ENSG00000149089',\n",
    " 'ENSG00000198429_ENSG00000107262',\n",
    " 'ENSG00000188785_ENSG00000122641']"
   ]
  },
  {
   "cell_type": "code",
   "execution_count": 123,
   "id": "4995e7e6-210a-4171-af66-c915da4ccf1c",
   "metadata": {},
   "outputs": [
    {
     "name": "stderr",
     "output_type": "stream",
     "text": [
      "100%|██████████████████████████████████████████████████████████████████████████████████████████████████████████████████████████████████████| 1/1 [00:00<00:00, 123.81it/s]"
     ]
    },
    {
     "name": "stdout",
     "output_type": "stream",
     "text": [
      "Accuracy: 0.88\n",
      "\n",
      "Confusion Matrix:\n",
      "[[17  1]\n",
      " [ 3 11]]\n",
      "\n",
      "Classification Report:\n",
      "              precision    recall  f1-score   support\n",
      "\n",
      "          AD       0.85      0.94      0.89        18\n",
      "         NCI       0.92      0.79      0.85        14\n",
      "\n",
      "    accuracy                           0.88        32\n",
      "   macro avg       0.88      0.87      0.87        32\n",
      "weighted avg       0.88      0.88      0.87        32\n",
      "\n"
     ]
    },
    {
     "name": "stderr",
     "output_type": "stream",
     "text": [
      "\n"
     ]
    }
   ],
   "source": [
    "import pandas as pd\n",
    "import random\n",
    "from sklearn.metrics import f1_score\n",
    "from sklearn.decomposition import PCA\n",
    "from sklearn.model_selection import train_test_split\n",
    "from sklearn.linear_model import LogisticRegression\n",
    "from sklearn.metrics import accuracy_score, classification_report, confusion_matrix\n",
    "from sklearn.preprocessing import StandardScaler\n",
    "\n",
    "import numpy as np\n",
    "\n",
    "# Set the random seed\n",
    "np.random.seed(42)\n",
    "# Assuming your DataFrame contains only numeric values\n",
    "# If not, you might need to preprocess your data accordingly\n",
    "f1_scores = []\n",
    "accuracies = []\n",
    "for i in tqdm(range(1)):\n",
    "    \n",
    "# Split the data into training and testing sets\n",
    "    #filtered_genes = random.sample(list(sorted_dct_desc.keys())[0:1000], 40) + ['Label']\n",
    "    filtered_genes = set(['ENSG00000186300_ENSG00000215193',\n",
    " 'ENSG00000166823_ENSG00000178199',\n",
    " 'ENSG00000157557_ENSG00000121903',\n",
    " 'ENSG00000138336_ENSG00000161381',\n",
    " 'ENSG00000028277_ENSG00000039139',\n",
    " 'ENSG00000081059_ENSG00000255561',\n",
    " 'ENSG00000167981_ENSG00000143222',\n",
    " 'ENSG00000198482_ENSG00000156219',\n",
    " 'ENSG00000188786_ENSG00000083799',\n",
    " 'ENSG00000168874_ENSG00000139197',\n",
    " 'ENSG00000139800_ENSG00000150175',\n",
    " 'ENSG00000079432_ENSG00000214425',\n",
    " 'ENSG00000162992_ENSG00000139197',\n",
    " 'ENSG00000256294_ENSG00000272576',\n",
    " 'ENSG00000169635_ENSG00000234841',\n",
    " 'ENSG00000125850_ENSG00000198783',\n",
    " 'ENSG00000078900_ENSG00000062096',\n",
    " 'ENSG00000120837_ENSG00000123179',\n",
    " 'ENSG00000079432_ENSG00000188234',\n",
    " 'ENSG00000188786_ENSG00000162384',\n",
    " 'ENSG00000251369_ENSG00000265018',\n",
    " 'ENSG00000234284_ENSG00000149089',\n",
    " 'ENSG00000198429_ENSG00000107262',\n",
    " 'ENSG00000188785_ENSG00000122641','Label']) - set(['ENSG00000166823_ENSG00000178199', 'ENSG00000138336_ENSG00000161381', 'ENSG00000198482_ENSG00000156219', 'ENSG00000168874_ENSG00000139197', 'ENSG00000162992_ENSG00000139197', 'ENSG00000120837_ENSG00000123179', 'ENSG00000234284_ENSG00000149089'])\n",
    "\n",
    "    filtered_balanced_outlier_corrected_combined = outlier_corrected_combined[list(filtered_genes)] \n",
    "\n",
    "    X_train, X_test, y_train, y_test = train_test_split(filtered_balanced_outlier_corrected_combined.drop(columns='Label'), filtered_balanced_outlier_corrected_combined['Label'], test_size=0.2, random_state=42)\n",
    "    #X_train = filtered_balanced_outlier_corrected_combined.drop(columns='Label')\n",
    "    #y_train = filtered_balanced_outlier_corrected_combined['Label']\n",
    "    \n",
    "\n",
    "\n",
    "        # Initialize and train the logistic regression model\n",
    "    scaler = StandardScaler()\n",
    "    X_train_scaled = scaler.fit_transform(X_train)\n",
    "    X_test_scaled = scaler.transform(X_test)\n",
    "    model = LogisticRegression(class_weight={'AD':1.4,'NCI':1})\n",
    "    model.fit(X_train_scaled, y_train)\n",
    "\n",
    "        # Make predictions on the test set\n",
    "    y_pred = model.predict(X_test_scaled)\n",
    "\n",
    "        # Evaluate the model performance\n",
    "    accuracy = accuracy_score(y_test, y_pred)\n",
    "    conf_matrix = confusion_matrix(y_test, y_pred)\n",
    "    class_report = classification_report(y_test, y_pred)\n",
    "    accuracies.append(accuracy)\n",
    "    accuracy = accuracy_score(y_test, y_pred)\n",
    "    conf_matrix = confusion_matrix(y_test, y_pred)\n",
    "    class_report = classification_report(y_test, y_pred)\n",
    "    accuracies.append(accuracy)\n",
    "  \n",
    "    print(f\"Accuracy: {accuracy:.2f}\")\n",
    "    print(\"\\nConfusion Matrix:\")\n",
    "    print(conf_matrix)\n",
    "    print(\"\\nClassification Report:\")\n",
    "    print(class_report)\n",
    "    TP, FN, FP, TN = conf_matrix.ravel()\n",
    "    precision = TP / (TP + FP) if (TP + FP) != 0 else 0\n",
    "    recall = TP / (TP + FN) if (TP + FN) != 0 else 0\n",
    "    f1 = 2 * (precision * recall) / (precision + recall) if (precision + recall) != 0 else 0\n",
    "    \n"
   ]
  },
  {
   "cell_type": "code",
   "execution_count": 124,
   "id": "7b5df793-9105-4be8-b031-e62add8b19c3",
   "metadata": {},
   "outputs": [
    {
     "data": {
      "text/plain": [
       "18"
      ]
     },
     "execution_count": 124,
     "metadata": {},
     "output_type": "execute_result"
    }
   ],
   "source": [
    "len(filtered_genes)"
   ]
  },
  {
   "cell_type": "code",
   "execution_count": 125,
   "id": "c9aa804d-b723-4df8-a43c-76771a2496d9",
   "metadata": {},
   "outputs": [
    {
     "name": "stdout",
     "output_type": "stream",
     "text": [
      "0.85 0.9444444444444444 0.8947368421052632\n"
     ]
    }
   ],
   "source": [
    "print(precision,recall,f1)"
   ]
  },
  {
   "cell_type": "code",
   "execution_count": 126,
   "id": "d44b3bea-2a95-4342-9884-a1d4b151210f",
   "metadata": {},
   "outputs": [
    {
     "data": {
      "image/png": "[encoded data removed]",
      "text/plain": [
       "<Figure size 640x480 with 2 Axes>"
      ]
     },
     "metadata": {},
     "output_type": "display_data"
    }
   ],
   "source": [
    "from sklearn.metrics import confusion_matrix, ConfusionMatrixDisplay\n",
    "disp = ConfusionMatrixDisplay(confusion_matrix=conf_matrix,\n",
    "                              display_labels=model.classes_)\n",
    "disp.plot()\n",
    "plt.show()"
   ]
  },
  {
   "cell_type": "code",
   "execution_count": 47,
   "id": "dfda64db-f93c-499f-8a21-4895cb11dee4",
   "metadata": {},
   "outputs": [
    {
     "data": {
      "text/plain": [
       "['ENSG00000001167_ENSG00000000460',\n",
       " 'ENSG00000001167_ENSG00000001167',\n",
       " 'ENSG00000001167_ENSG00000003056',\n",
       " 'ENSG00000001167_ENSG00000004799',\n",
       " 'ENSG00000001167_ENSG00000006007',\n",
       " 'ENSG00000001167_ENSG00000008311',\n",
       " 'ENSG00000001167_ENSG00000010438',\n",
       " 'ENSG00000001167_ENSG00000011260',\n",
       " 'ENSG00000001167_ENSG00000012660',\n",
       " 'ENSG00000001167_ENSG00000021826']"
      ]
     },
     "execution_count": 47,
     "metadata": {},
     "output_type": "execute_result"
    }
   ],
   "source": [
    "outlier_corrected_combined.columns.tolist()[0:10]\n"
   ]
  },
  {
   "cell_type": "code",
   "execution_count": 127,
   "id": "dd40570a-9026-4fd5-9187-4e35a9c29b24",
   "metadata": {},
   "outputs": [
    {
     "name": "stderr",
     "output_type": "stream",
     "text": [
      "100%|████████████████████████████████████████████████████████████████████████████████████████████████████████████████████████████████| 1000/1000 [00:08<00:00, 114.76it/s]\n",
      "100%|█████████████████████████████████████████████████████████████████████████████████████████████████████████████████████████████████| 1000/1000 [00:25<00:00, 39.90it/s]\n",
      "100%|█████████████████████████████████████████████████████████████████████████████████████████████████████████████████████████████████| 1000/1000 [00:54<00:00, 18.45it/s]\n",
      "100%|█████████████████████████████████████████████████████████████████████████████████████████████████████████████████████████████████| 1000/1000 [01:14<00:00, 13.46it/s]\n",
      "100%|█████████████████████████████████████████████████████████████████████████████████████████████████████████████████████████████████| 1000/1000 [01:30<00:00, 11.09it/s]\n"
     ]
    }
   ],
   "source": [
    "import pandas as pd\n",
    "import random\n",
    "from sklearn.metrics import f1_score\n",
    "from sklearn.decomposition import PCA\n",
    "from sklearn.model_selection import train_test_split\n",
    "from sklearn.linear_model import LogisticRegression\n",
    "from sklearn.metrics import accuracy_score, classification_report, confusion_matrix\n",
    "from sklearn.preprocessing import StandardScaler\n",
    "\n",
    "import numpy as np\n",
    "\n",
    "# Set the random seed\n",
    "np.random.seed(42)\n",
    "# Assuming your DataFrame contains only numeric values\n",
    "# If not, you might need to preprocess your data accordingly\n",
    "f1_scores = []\n",
    "precisions = []\n",
    "recalls = []\n",
    "\n",
    "start = 18\n",
    "step = 2000\n",
    "\n",
    "f1_dict = {}\n",
    "precisions_dict = {}\n",
    "recalls_dict = {}\n",
    "\n",
    "for k in range(5):\n",
    "        \n",
    "    base_value = start + k * step\n",
    "\n",
    "    f1_scores = []\n",
    "    precisions = []\n",
    "    recalls = []\n",
    "    for i in tqdm(range(1000)):\n",
    "        \n",
    "    # Split the data into training and testing sets\n",
    "        \n",
    "        genes_list = [value for value in outlier_corrected_combined.columns.tolist() if value != 'Label']\n",
    "\n",
    "        filtered_genes = random.sample(genes_list, base_value) + ['Label']\n",
    "        \n",
    "        filtered_balanced_outlier_corrected_combined = outlier_corrected_combined[list(filtered_genes)] \n",
    "    \n",
    "        X_train, X_test, y_train, y_test = train_test_split(filtered_balanced_outlier_corrected_combined.drop(columns='Label'), filtered_balanced_outlier_corrected_combined['Label'], test_size=0.2, random_state=42)\n",
    "        #X_train = filtered_balanced_outlier_corrected_combined.drop(columns='Label')\n",
    "        #y_train = filtered_balanced_outlier_corrected_combined['Label']\n",
    "        \n",
    "    \n",
    "    \n",
    "            # Initialize and train the logistic regression model\n",
    "        scaler = StandardScaler()\n",
    "        X_train_scaled = scaler.fit_transform(X_train)\n",
    "        X_test_scaled = scaler.transform(X_test)\n",
    "        model = LogisticRegression(class_weight={'AD':1.2,'NCI':1})\n",
    "        try:\n",
    "            model.fit(X_train_scaled, y_train)\n",
    "        except:\n",
    "            print(y_train)\n",
    "            # Make predictions on the test set\n",
    "        y_pred = model.predict(X_test_scaled)\n",
    "    \n",
    "            # Evaluate the model performance\n",
    "        accuracy = accuracy_score(y_test, y_pred)\n",
    "        conf_matrix = confusion_matrix(y_test, y_pred)\n",
    "        class_report = classification_report(y_test, y_pred)\n",
    "        accuracies.append(accuracy)\n",
    "        accuracy = accuracy_score(y_test, y_pred)\n",
    "        conf_matrix = confusion_matrix(y_test, y_pred)\n",
    "        class_report = classification_report(y_test, y_pred)\n",
    "        accuracies.append(accuracy)\n",
    "      \n",
    "        #print(f\"Accuracy: {accuracy:.2f}\")\n",
    "        #print(\"\\nConfusion Matrix:\")\n",
    "        #print(conf_matrix)\n",
    "        #print(\"\\nClassification Report:\")\n",
    "        #print(class_report)\n",
    "        TP, FN, FP, TN = conf_matrix.ravel()\n",
    "        precision = TP / (TP + FP) if (TP + FP) != 0 else 0\n",
    "        recall = TP / (TP + FN) if (TP + FN) != 0 else 0\n",
    "        f1 = 2 * (precision * recall) / (precision + recall) if (precision + recall) != 0 else 0\n",
    "        precisions.append(precision)\n",
    "        recalls.append(recall)\n",
    "        f1_scores.append(f1)\n",
    "        \n",
    "    f1_dict[f'{k}_f1'] = f1_scores\n",
    "    precisions_dict[f'{k}_precisions'] = precisions\n",
    "    recalls_dict[f'{k}_recalls'] = recalls\n",
    "\n"
   ]
  },
  {
   "cell_type": "code",
   "execution_count": 55,
   "id": "6ad17a7a-ac29-429a-b142-8e29f4c5d508",
   "metadata": {},
   "outputs": [
    {
     "data": {
      "text/plain": [
       "0.6666666666666666"
      ]
     },
     "execution_count": 55,
     "metadata": {},
     "output_type": "execute_result"
    }
   ],
   "source": [
    "np.percentile(precisions,95)"
   ]
  },
  {
   "cell_type": "code",
   "execution_count": 56,
   "id": "35f748d2-4eb7-4f5a-b6cf-defab5fee234",
   "metadata": {},
   "outputs": [
    {
     "data": {
      "text/plain": [
       "0.8333333333333334"
      ]
     },
     "execution_count": 56,
     "metadata": {},
     "output_type": "execute_result"
    }
   ],
   "source": [
    "np.percentile(recall,95)"
   ]
  },
  {
   "cell_type": "code",
   "execution_count": 129,
   "id": "750446d0-2a6d-4145-ae17-e4e4927dad4f",
   "metadata": {},
   "outputs": [
    {
     "data": {
      "text/plain": [
       "<module 'matplotlib.pyplot' from '/home/anwer/.conda/envs/tf-gpu/lib/python3.12/site-packages/matplotlib/pyplot.py'>"
      ]
     },
     "execution_count": 129,
     "metadata": {},
     "output_type": "execute_result"
    },
    {
     "data": {
      "image/png": "[encoded data removed]",
      "text/plain": [
       "<Figure size 2000x1200 with 1 Axes>"
      ]
     },
     "metadata": {},
     "output_type": "display_data"
    }
   ],
   "source": [
    "import matplotlib.pyplot as plt\n",
    "\n",
    "# Sample data\n",
    "data1 = f1_dict['0_f1']\n",
    "data2 = f1_dict['1_f1']\n",
    "data3 = f1_dict['2_f1']\n",
    "data4 = f1_dict['3_f1']\n",
    "data5 = f1_dict['4_f1']\n",
    "# Combine the data into a list of lists\n",
    "data = [data1, data2, data3, data4, data5]\n",
    "\n",
    "plt.figure(figsize=(20, 12))\n",
    "plt.text(1, plt.ylim()[0] - (plt.ylim()[1] - plt.ylim()[0]) * 0.1, 'F1 scores on Important Genes: 0.89', horizontalalignment='right', fontsize=20, transform=plt.gca().transAxes)\n",
    "\n",
    "# Create a boxplot\n",
    "box = plt.boxplot(data, patch_artist=True)\n",
    "\n",
    "# Define colors for each component\n",
    "box_colors = ['lightblue', 'lightgreen', 'lightcoral','darkred','pink']\n",
    "\n",
    "# Color the boxes\n",
    "for patch, color in zip(box['boxes'], box_colors):\n",
    "    patch.set_facecolor(color)\n",
    "\n",
    "# Color the whiskers\n",
    "\n",
    "\n",
    "\n",
    "\n",
    "# Color the fliers\n",
    "for flier, color in zip(box['fliers'], flier_colors):\n",
    "    flier.set(markerfacecolor=color, marker='o', alpha=0.5)\n",
    "\n",
    "# Add title and labels\n",
    "plt.title('F1-scores')\n",
    "plt.xlabel('Dataset', fontsize=24)\n",
    "plt.ylabel('Value', fontsize=24)\n",
    "plt.xticks([1, 2, 3, 4, 5], ['18 TF_Genes', '518 TF_Genes', '1018 TF_Genes', '1518 TF_Genes', '2018 TF_Genes'], fontsize=14)\n",
    "percentiles_95 = [np.percentile(d, 95) for d in data]\n",
    "for i, percentile in enumerate(percentiles_95, start=1):\n",
    "    plt.plot([i - 0.4, i + 0.4], [percentile, percentile], color='red', linestyle='--')\n",
    "    plt.text(i, percentile, f'95th percentile: {percentile:.2f}', horizontalalignment='center', color='red', fontsize=14)\n",
    "\n",
    "\n",
    "# Display the plot\n",
    "plt\n"
   ]
  },
  {
   "cell_type": "code",
   "execution_count": 130,
   "id": "0eda88aa-20b8-4937-875b-4dff19e6a5ab",
   "metadata": {},
   "outputs": [
    {
     "data": {
      "text/plain": [
       "<module 'matplotlib.pyplot' from '/home/anwer/.conda/envs/tf-gpu/lib/python3.12/site-packages/matplotlib/pyplot.py'>"
      ]
     },
     "execution_count": 130,
     "metadata": {},
     "output_type": "execute_result"
    },
    {
     "data": {
      "image/png": "[encoded data removed]",
      "text/plain": [
       "<Figure size 2000x1200 with 1 Axes>"
      ]
     },
     "metadata": {},
     "output_type": "display_data"
    }
   ],
   "source": [
    "import matplotlib.pyplot as plt\n",
    "\n",
    "# Sample data\n",
    "data1 = recalls_dict['0_recalls']\n",
    "data2 = recalls_dict['1_recalls']\n",
    "data3 = recalls_dict['2_recalls']\n",
    "data4 = recalls_dict['3_recalls']\n",
    "data5 = recalls_dict['4_recalls']\n",
    "# Combine the data into a list of lists\n",
    "data = [data1, data2, data3, data4, data5]\n",
    "plt.figure(figsize=(20, 12))\n",
    "plt.text(1, plt.ylim()[0] - (plt.ylim()[1] - plt.ylim()[0]) * 0.1, 'Recall scores on Important Genes: 0.94', horizontalalignment='right', fontsize=20, transform=plt.gca().transAxes)\n",
    "\n",
    "# Create a boxplot\n",
    "box = plt.boxplot(data, patch_artist=True)\n",
    "\n",
    "# Define colors for each component\n",
    "box_colors = ['lightblue', 'lightgreen', 'lightcoral','darkred','pink']\n",
    "\n",
    "# Color the boxes\n",
    "for patch, color in zip(box['boxes'], box_colors):\n",
    "    patch.set_facecolor(color)\n",
    "\n",
    "# Color the whiskers\n",
    "\n",
    "\n",
    "\n",
    "\n",
    "# Color the fliers\n",
    "for flier, color in zip(box['fliers'], flier_colors):\n",
    "    flier.set(markerfacecolor=color, marker='o', alpha=0.5)\n",
    "\n",
    "# Add title and labels\n",
    "plt.title('F1-scores')\n",
    "plt.xlabel('Dataset', fontsize=24)\n",
    "plt.ylabel('Value', fontsize=24)\n",
    "plt.xticks([1, 2, 3, 4, 5], ['18 TF_Genes', '518 TF_Genes', '1018 TF_Genes', '1518 TF_Genes', '2018 TF_Genes'], fontsize=14)\n",
    "percentiles_95 = [np.percentile(d, 95) for d in data]\n",
    "for i, percentile in enumerate(percentiles_95, start=1):\n",
    "    plt.plot([i - 0.4, i + 0.4], [percentile, percentile], color='red', linestyle='--')\n",
    "    plt.text(i, percentile, f'95th percentile: {percentile:.2f}', horizontalalignment='center', color='red', fontsize=14)\n",
    "\n",
    "\n",
    "# Display the plot\n",
    "plt\n"
   ]
  },
  {
   "cell_type": "code",
   "execution_count": 131,
   "id": "cfde2ae7-89cb-4f36-98a5-83fc08a7b5bb",
   "metadata": {},
   "outputs": [
    {
     "data": {
      "text/plain": [
       "<module 'matplotlib.pyplot' from '/home/anwer/.conda/envs/tf-gpu/lib/python3.12/site-packages/matplotlib/pyplot.py'>"
      ]
     },
     "execution_count": 131,
     "metadata": {},
     "output_type": "execute_result"
    },
    {
     "data": {
      "image/png": "[encoded data removed]",
      "text/plain": [
       "<Figure size 2000x1200 with 1 Axes>"
      ]
     },
     "metadata": {},
     "output_type": "display_data"
    }
   ],
   "source": [
    "import matplotlib.pyplot as plt\n",
    "\n",
    "# Sample data\n",
    "data1 = precisions_dict['0_precisions']\n",
    "data2 = precisions_dict['1_precisions']\n",
    "data3 = precisions_dict['2_precisions']\n",
    "data4 = precisions_dict['3_precisions']\n",
    "data5 = precisions_dict['4_precisions']\n",
    "# Combine the data into a list of lists\n",
    "data = [data1, data2, data3, data4, data5]\n",
    "plt.figure(figsize=(20, 12))\n",
    "plt.text(1, plt.ylim()[0] - (plt.ylim()[1] - plt.ylim()[0]) * 0.1, 'Precision scores on Important Genes: 0.85', horizontalalignment='right', fontsize=20, transform=plt.gca().transAxes)\n",
    "\n",
    "# Create a boxplot\n",
    "box = plt.boxplot(data, patch_artist=True)\n",
    "\n",
    "# Define colors for each component\n",
    "box_colors = ['lightblue', 'lightgreen', 'lightcoral','darkred','pink']\n",
    "\n",
    "# Color the boxes\n",
    "for patch, color in zip(box['boxes'], box_colors):\n",
    "    patch.set_facecolor(color)\n",
    "\n",
    "# Color the whiskers\n",
    "\n",
    "\n",
    "\n",
    "\n",
    "# Color the fliers\n",
    "for flier, color in zip(box['fliers'], flier_colors):\n",
    "    flier.set(markerfacecolor=color, marker='o', alpha=0.5)\n",
    "\n",
    "# Add title and labels\n",
    "plt.title('F1-scores')\n",
    "plt.xlabel('Dataset', fontsize=24)\n",
    "plt.ylabel('Value', fontsize=24)\n",
    "plt.xticks([1, 2, 3, 4, 5], ['18 TF_Genes', '518 TF_Genes', '1018 TF_Genes', '1518 TF_Genes', '2018 TF_Genes'], fontsize=14)\n",
    "percentiles_95 = [np.percentile(d, 95) for d in data]\n",
    "for i, percentile in enumerate(percentiles_95, start=1):\n",
    "    plt.plot([i - 0.4, i + 0.4], [percentile, percentile], color='red', linestyle='--')\n",
    "    plt.text(i, percentile, f'95th percentile: {percentile:.2f}', horizontalalignment='center', color='red', fontsize=14)\n",
    "\n",
    "\n",
    "# Display the plot\n",
    "plt\n"
   ]
  },
  {
   "cell_type": "code",
   "execution_count": 70,
   "id": "08194abc-5763-4b21-ad03-116079d6fb9e",
   "metadata": {},
   "outputs": [
    {
     "data": {
      "text/html": [
       "<div>\n",
       "<style scoped>\n",
       "    .dataframe tbody tr th:only-of-type {\n",
       "        vertical-align: middle;\n",
       "    }\n",
       "\n",
       "    .dataframe tbody tr th {\n",
       "        vertical-align: top;\n",
       "    }\n",
       "\n",
       "    .dataframe thead th {\n",
       "        text-align: right;\n",
       "    }\n",
       "</style>\n",
       "<table border=\"1\" class=\"dataframe\">\n",
       "  <thead>\n",
       "    <tr style=\"text-align: right;\">\n",
       "      <th></th>\n",
       "      <th>ENSG00000142556_ENSG00000161551</th>\n",
       "      <th>ENSG00000116819_ENSG00000267309</th>\n",
       "      <th>ENSG00000129535_ENSG00000141753</th>\n",
       "      <th>ENSG00000141905_ENSG00000225140</th>\n",
       "      <th>ENSG00000131931_ENSG00000132405</th>\n",
       "      <th>ENSG00000173153_ENSG00000162512</th>\n",
       "      <th>ENSG00000172379_ENSG00000118482</th>\n",
       "      <th>ENSG00000135111_ENSG00000176853</th>\n",
       "      <th>ENSG00000138378_ENSG00000070018</th>\n",
       "      <th>ENSG00000184271_ENSG00000196116</th>\n",
       "      <th>...</th>\n",
       "      <th>ENSG00000143178_ENSG00000089335</th>\n",
       "      <th>ENSG00000149050_ENSG00000260032</th>\n",
       "      <th>ENSG00000018869_ENSG00000131398</th>\n",
       "      <th>ENSG00000152284_ENSG00000179051</th>\n",
       "      <th>ENSG00000176887_ENSG00000278576</th>\n",
       "      <th>ENSG00000275111_ENSG00000138193</th>\n",
       "      <th>ENSG00000102935_ENSG00000176014</th>\n",
       "      <th>ENSG00000162419_ENSG00000114861</th>\n",
       "      <th>ENSG00000170100_ENSG00000255458</th>\n",
       "      <th>ENSG00000272602_ENSG00000113048</th>\n",
       "    </tr>\n",
       "  </thead>\n",
       "  <tbody>\n",
       "    <tr>\n",
       "      <th>695_120605</th>\n",
       "      <td>9.046474</td>\n",
       "      <td>7.091823</td>\n",
       "      <td>8.119089</td>\n",
       "      <td>6.858305</td>\n",
       "      <td>6.400717</td>\n",
       "      <td>4.979906</td>\n",
       "      <td>7.618767</td>\n",
       "      <td>8.082727</td>\n",
       "      <td>6.595542</td>\n",
       "      <td>10.586424</td>\n",
       "      <td>...</td>\n",
       "      <td>14.240263</td>\n",
       "      <td>10.072009</td>\n",
       "      <td>5.188957</td>\n",
       "      <td>5.473962</td>\n",
       "      <td>11.345266</td>\n",
       "      <td>5.271768</td>\n",
       "      <td>7.967823</td>\n",
       "      <td>18.147490</td>\n",
       "      <td>7.480932</td>\n",
       "      <td>11.103549</td>\n",
       "    </tr>\n",
       "    <tr>\n",
       "      <th>617_120524</th>\n",
       "      <td>8.814855</td>\n",
       "      <td>6.872265</td>\n",
       "      <td>7.547221</td>\n",
       "      <td>6.706216</td>\n",
       "      <td>7.139180</td>\n",
       "      <td>5.072570</td>\n",
       "      <td>7.235911</td>\n",
       "      <td>8.076246</td>\n",
       "      <td>6.161525</td>\n",
       "      <td>10.188628</td>\n",
       "      <td>...</td>\n",
       "      <td>13.959182</td>\n",
       "      <td>10.265947</td>\n",
       "      <td>4.785390</td>\n",
       "      <td>5.566021</td>\n",
       "      <td>11.188664</td>\n",
       "      <td>5.304896</td>\n",
       "      <td>7.961683</td>\n",
       "      <td>17.934332</td>\n",
       "      <td>7.723942</td>\n",
       "      <td>10.405836</td>\n",
       "    </tr>\n",
       "    <tr>\n",
       "      <th>231_120425</th>\n",
       "      <td>8.823735</td>\n",
       "      <td>6.904529</td>\n",
       "      <td>8.097540</td>\n",
       "      <td>6.117578</td>\n",
       "      <td>6.711683</td>\n",
       "      <td>5.172153</td>\n",
       "      <td>7.412098</td>\n",
       "      <td>8.158404</td>\n",
       "      <td>6.379255</td>\n",
       "      <td>10.209147</td>\n",
       "      <td>...</td>\n",
       "      <td>13.280891</td>\n",
       "      <td>9.769767</td>\n",
       "      <td>4.898443</td>\n",
       "      <td>5.551584</td>\n",
       "      <td>11.140212</td>\n",
       "      <td>5.518000</td>\n",
       "      <td>7.205970</td>\n",
       "      <td>18.162786</td>\n",
       "      <td>7.483109</td>\n",
       "      <td>10.183222</td>\n",
       "    </tr>\n",
       "    <tr>\n",
       "      <th>70_120417</th>\n",
       "      <td>9.339341</td>\n",
       "      <td>7.057661</td>\n",
       "      <td>8.267635</td>\n",
       "      <td>7.091835</td>\n",
       "      <td>6.377342</td>\n",
       "      <td>5.164781</td>\n",
       "      <td>7.148622</td>\n",
       "      <td>8.046848</td>\n",
       "      <td>5.540689</td>\n",
       "      <td>10.698191</td>\n",
       "      <td>...</td>\n",
       "      <td>14.256121</td>\n",
       "      <td>10.095674</td>\n",
       "      <td>4.907392</td>\n",
       "      <td>5.752472</td>\n",
       "      <td>11.016108</td>\n",
       "      <td>5.599837</td>\n",
       "      <td>8.500861</td>\n",
       "      <td>17.064570</td>\n",
       "      <td>8.189378</td>\n",
       "      <td>10.598219</td>\n",
       "    </tr>\n",
       "    <tr>\n",
       "      <th>72_120417</th>\n",
       "      <td>9.009900</td>\n",
       "      <td>8.086129</td>\n",
       "      <td>8.622118</td>\n",
       "      <td>6.223953</td>\n",
       "      <td>5.447754</td>\n",
       "      <td>5.018412</td>\n",
       "      <td>7.231390</td>\n",
       "      <td>8.635949</td>\n",
       "      <td>5.882826</td>\n",
       "      <td>9.915239</td>\n",
       "      <td>...</td>\n",
       "      <td>14.160776</td>\n",
       "      <td>9.783054</td>\n",
       "      <td>5.763057</td>\n",
       "      <td>5.695760</td>\n",
       "      <td>11.190826</td>\n",
       "      <td>5.781965</td>\n",
       "      <td>7.910081</td>\n",
       "      <td>18.783472</td>\n",
       "      <td>7.555332</td>\n",
       "      <td>10.418004</td>\n",
       "    </tr>\n",
       "    <tr>\n",
       "      <th>...</th>\n",
       "      <td>...</td>\n",
       "      <td>...</td>\n",
       "      <td>...</td>\n",
       "      <td>...</td>\n",
       "      <td>...</td>\n",
       "      <td>...</td>\n",
       "      <td>...</td>\n",
       "      <td>...</td>\n",
       "      <td>...</td>\n",
       "      <td>...</td>\n",
       "      <td>...</td>\n",
       "      <td>...</td>\n",
       "      <td>...</td>\n",
       "      <td>...</td>\n",
       "      <td>...</td>\n",
       "      <td>...</td>\n",
       "      <td>...</td>\n",
       "      <td>...</td>\n",
       "      <td>...</td>\n",
       "      <td>...</td>\n",
       "      <td>...</td>\n",
       "    </tr>\n",
       "    <tr>\n",
       "      <th>498_120515</th>\n",
       "      <td>9.009452</td>\n",
       "      <td>6.905007</td>\n",
       "      <td>8.368242</td>\n",
       "      <td>8.181589</td>\n",
       "      <td>5.934175</td>\n",
       "      <td>4.967585</td>\n",
       "      <td>7.138173</td>\n",
       "      <td>7.854498</td>\n",
       "      <td>6.139713</td>\n",
       "      <td>10.226120</td>\n",
       "      <td>...</td>\n",
       "      <td>14.232251</td>\n",
       "      <td>9.833963</td>\n",
       "      <td>5.046990</td>\n",
       "      <td>5.835865</td>\n",
       "      <td>11.541905</td>\n",
       "      <td>5.552361</td>\n",
       "      <td>7.727681</td>\n",
       "      <td>18.019815</td>\n",
       "      <td>7.549443</td>\n",
       "      <td>10.467833</td>\n",
       "    </tr>\n",
       "    <tr>\n",
       "      <th>145_120419</th>\n",
       "      <td>9.827448</td>\n",
       "      <td>6.939402</td>\n",
       "      <td>8.160265</td>\n",
       "      <td>7.325192</td>\n",
       "      <td>6.766243</td>\n",
       "      <td>5.225063</td>\n",
       "      <td>7.462831</td>\n",
       "      <td>8.272955</td>\n",
       "      <td>5.973107</td>\n",
       "      <td>10.045486</td>\n",
       "      <td>...</td>\n",
       "      <td>14.197290</td>\n",
       "      <td>9.748413</td>\n",
       "      <td>4.784854</td>\n",
       "      <td>6.541397</td>\n",
       "      <td>11.338675</td>\n",
       "      <td>5.251180</td>\n",
       "      <td>7.838765</td>\n",
       "      <td>17.699477</td>\n",
       "      <td>6.738295</td>\n",
       "      <td>10.362992</td>\n",
       "    </tr>\n",
       "    <tr>\n",
       "      <th>929_131031</th>\n",
       "      <td>9.001708</td>\n",
       "      <td>7.093502</td>\n",
       "      <td>8.452788</td>\n",
       "      <td>5.718356</td>\n",
       "      <td>6.671064</td>\n",
       "      <td>4.256472</td>\n",
       "      <td>6.711659</td>\n",
       "      <td>8.002953</td>\n",
       "      <td>5.574325</td>\n",
       "      <td>10.465432</td>\n",
       "      <td>...</td>\n",
       "      <td>13.439126</td>\n",
       "      <td>9.841832</td>\n",
       "      <td>4.647968</td>\n",
       "      <td>6.254384</td>\n",
       "      <td>11.040105</td>\n",
       "      <td>4.638348</td>\n",
       "      <td>4.625900</td>\n",
       "      <td>18.846542</td>\n",
       "      <td>6.217745</td>\n",
       "      <td>10.048291</td>\n",
       "    </tr>\n",
       "    <tr>\n",
       "      <th>427_120507</th>\n",
       "      <td>8.841893</td>\n",
       "      <td>5.688782</td>\n",
       "      <td>8.049078</td>\n",
       "      <td>5.591598</td>\n",
       "      <td>6.819357</td>\n",
       "      <td>4.700271</td>\n",
       "      <td>6.677850</td>\n",
       "      <td>7.900762</td>\n",
       "      <td>6.727610</td>\n",
       "      <td>9.141003</td>\n",
       "      <td>...</td>\n",
       "      <td>14.237693</td>\n",
       "      <td>9.905396</td>\n",
       "      <td>4.786715</td>\n",
       "      <td>5.585568</td>\n",
       "      <td>11.202131</td>\n",
       "      <td>5.169848</td>\n",
       "      <td>7.967808</td>\n",
       "      <td>18.189669</td>\n",
       "      <td>7.337074</td>\n",
       "      <td>9.939302</td>\n",
       "    </tr>\n",
       "    <tr>\n",
       "      <th>174_120424</th>\n",
       "      <td>8.902627</td>\n",
       "      <td>6.872257</td>\n",
       "      <td>7.766272</td>\n",
       "      <td>6.695210</td>\n",
       "      <td>6.782957</td>\n",
       "      <td>4.698985</td>\n",
       "      <td>7.547622</td>\n",
       "      <td>7.917205</td>\n",
       "      <td>6.197841</td>\n",
       "      <td>10.204800</td>\n",
       "      <td>...</td>\n",
       "      <td>14.374099</td>\n",
       "      <td>9.684606</td>\n",
       "      <td>4.947367</td>\n",
       "      <td>5.415443</td>\n",
       "      <td>11.241537</td>\n",
       "      <td>5.187847</td>\n",
       "      <td>7.837985</td>\n",
       "      <td>18.276917</td>\n",
       "      <td>7.572231</td>\n",
       "      <td>10.303588</td>\n",
       "    </tr>\n",
       "  </tbody>\n",
       "</table>\n",
       "<p>127 rows × 37 columns</p>\n",
       "</div>"
      ],
      "text/plain": [
       "            ENSG00000142556_ENSG00000161551  ENSG00000116819_ENSG00000267309  \\\n",
       "695_120605                         9.046474                         7.091823   \n",
       "617_120524                         8.814855                         6.872265   \n",
       "231_120425                         8.823735                         6.904529   \n",
       "70_120417                          9.339341                         7.057661   \n",
       "72_120417                          9.009900                         8.086129   \n",
       "...                                     ...                              ...   \n",
       "498_120515                         9.009452                         6.905007   \n",
       "145_120419                         9.827448                         6.939402   \n",
       "929_131031                         9.001708                         7.093502   \n",
       "427_120507                         8.841893                         5.688782   \n",
       "174_120424                         8.902627                         6.872257   \n",
       "\n",
       "            ENSG00000129535_ENSG00000141753  ENSG00000141905_ENSG00000225140  \\\n",
       "695_120605                         8.119089                         6.858305   \n",
       "617_120524                         7.547221                         6.706216   \n",
       "231_120425                         8.097540                         6.117578   \n",
       "70_120417                          8.267635                         7.091835   \n",
       "72_120417                          8.622118                         6.223953   \n",
       "...                                     ...                              ...   \n",
       "498_120515                         8.368242                         8.181589   \n",
       "145_120419                         8.160265                         7.325192   \n",
       "929_131031                         8.452788                         5.718356   \n",
       "427_120507                         8.049078                         5.591598   \n",
       "174_120424                         7.766272                         6.695210   \n",
       "\n",
       "            ENSG00000131931_ENSG00000132405  ENSG00000173153_ENSG00000162512  \\\n",
       "695_120605                         6.400717                         4.979906   \n",
       "617_120524                         7.139180                         5.072570   \n",
       "231_120425                         6.711683                         5.172153   \n",
       "70_120417                          6.377342                         5.164781   \n",
       "72_120417                          5.447754                         5.018412   \n",
       "...                                     ...                              ...   \n",
       "498_120515                         5.934175                         4.967585   \n",
       "145_120419                         6.766243                         5.225063   \n",
       "929_131031                         6.671064                         4.256472   \n",
       "427_120507                         6.819357                         4.700271   \n",
       "174_120424                         6.782957                         4.698985   \n",
       "\n",
       "            ENSG00000172379_ENSG00000118482  ENSG00000135111_ENSG00000176853  \\\n",
       "695_120605                         7.618767                         8.082727   \n",
       "617_120524                         7.235911                         8.076246   \n",
       "231_120425                         7.412098                         8.158404   \n",
       "70_120417                          7.148622                         8.046848   \n",
       "72_120417                          7.231390                         8.635949   \n",
       "...                                     ...                              ...   \n",
       "498_120515                         7.138173                         7.854498   \n",
       "145_120419                         7.462831                         8.272955   \n",
       "929_131031                         6.711659                         8.002953   \n",
       "427_120507                         6.677850                         7.900762   \n",
       "174_120424                         7.547622                         7.917205   \n",
       "\n",
       "            ENSG00000138378_ENSG00000070018  ENSG00000184271_ENSG00000196116  \\\n",
       "695_120605                         6.595542                        10.586424   \n",
       "617_120524                         6.161525                        10.188628   \n",
       "231_120425                         6.379255                        10.209147   \n",
       "70_120417                          5.540689                        10.698191   \n",
       "72_120417                          5.882826                         9.915239   \n",
       "...                                     ...                              ...   \n",
       "498_120515                         6.139713                        10.226120   \n",
       "145_120419                         5.973107                        10.045486   \n",
       "929_131031                         5.574325                        10.465432   \n",
       "427_120507                         6.727610                         9.141003   \n",
       "174_120424                         6.197841                        10.204800   \n",
       "\n",
       "            ...  ENSG00000143178_ENSG00000089335  \\\n",
       "695_120605  ...                        14.240263   \n",
       "617_120524  ...                        13.959182   \n",
       "231_120425  ...                        13.280891   \n",
       "70_120417   ...                        14.256121   \n",
       "72_120417   ...                        14.160776   \n",
       "...         ...                              ...   \n",
       "498_120515  ...                        14.232251   \n",
       "145_120419  ...                        14.197290   \n",
       "929_131031  ...                        13.439126   \n",
       "427_120507  ...                        14.237693   \n",
       "174_120424  ...                        14.374099   \n",
       "\n",
       "            ENSG00000149050_ENSG00000260032  ENSG00000018869_ENSG00000131398  \\\n",
       "695_120605                        10.072009                         5.188957   \n",
       "617_120524                        10.265947                         4.785390   \n",
       "231_120425                         9.769767                         4.898443   \n",
       "70_120417                         10.095674                         4.907392   \n",
       "72_120417                          9.783054                         5.763057   \n",
       "...                                     ...                              ...   \n",
       "498_120515                         9.833963                         5.046990   \n",
       "145_120419                         9.748413                         4.784854   \n",
       "929_131031                         9.841832                         4.647968   \n",
       "427_120507                         9.905396                         4.786715   \n",
       "174_120424                         9.684606                         4.947367   \n",
       "\n",
       "            ENSG00000152284_ENSG00000179051  ENSG00000176887_ENSG00000278576  \\\n",
       "695_120605                         5.473962                        11.345266   \n",
       "617_120524                         5.566021                        11.188664   \n",
       "231_120425                         5.551584                        11.140212   \n",
       "70_120417                          5.752472                        11.016108   \n",
       "72_120417                          5.695760                        11.190826   \n",
       "...                                     ...                              ...   \n",
       "498_120515                         5.835865                        11.541905   \n",
       "145_120419                         6.541397                        11.338675   \n",
       "929_131031                         6.254384                        11.040105   \n",
       "427_120507                         5.585568                        11.202131   \n",
       "174_120424                         5.415443                        11.241537   \n",
       "\n",
       "            ENSG00000275111_ENSG00000138193  ENSG00000102935_ENSG00000176014  \\\n",
       "695_120605                         5.271768                         7.967823   \n",
       "617_120524                         5.304896                         7.961683   \n",
       "231_120425                         5.518000                         7.205970   \n",
       "70_120417                          5.599837                         8.500861   \n",
       "72_120417                          5.781965                         7.910081   \n",
       "...                                     ...                              ...   \n",
       "498_120515                         5.552361                         7.727681   \n",
       "145_120419                         5.251180                         7.838765   \n",
       "929_131031                         4.638348                         4.625900   \n",
       "427_120507                         5.169848                         7.967808   \n",
       "174_120424                         5.187847                         7.837985   \n",
       "\n",
       "            ENSG00000162419_ENSG00000114861  ENSG00000170100_ENSG00000255458  \\\n",
       "695_120605                        18.147490                         7.480932   \n",
       "617_120524                        17.934332                         7.723942   \n",
       "231_120425                        18.162786                         7.483109   \n",
       "70_120417                         17.064570                         8.189378   \n",
       "72_120417                         18.783472                         7.555332   \n",
       "...                                     ...                              ...   \n",
       "498_120515                        18.019815                         7.549443   \n",
       "145_120419                        17.699477                         6.738295   \n",
       "929_131031                        18.846542                         6.217745   \n",
       "427_120507                        18.189669                         7.337074   \n",
       "174_120424                        18.276917                         7.572231   \n",
       "\n",
       "            ENSG00000272602_ENSG00000113048  \n",
       "695_120605                        11.103549  \n",
       "617_120524                        10.405836  \n",
       "231_120425                        10.183222  \n",
       "70_120417                         10.598219  \n",
       "72_120417                         10.418004  \n",
       "...                                     ...  \n",
       "498_120515                        10.467833  \n",
       "145_120419                        10.362992  \n",
       "929_131031                        10.048291  \n",
       "427_120507                         9.939302  \n",
       "174_120424                        10.303588  \n",
       "\n",
       "[127 rows x 37 columns]"
      ]
     },
     "execution_count": 70,
     "metadata": {},
     "output_type": "execute_result"
    }
   ],
   "source": [
    "X_train"
   ]
  },
  {
   "cell_type": "code",
   "execution_count": 71,
   "id": "da9cc1a2-6f91-4dc4-9369-82efca901a36",
   "metadata": {},
   "outputs": [
    {
     "data": {
      "image/png": "[encoded data removed]",
      "text/plain": [
       "<Figure size 640x480 with 2 Axes>"
      ]
     },
     "metadata": {},
     "output_type": "display_data"
    }
   ],
   "source": []
  },
  {
   "cell_type": "code",
   "execution_count": null,
   "id": "c813ea0d-e7c7-49e7-bc10-0d06b3919c72",
   "metadata": {},
   "outputs": [],
   "source": []
  }
 ],
 "metadata": {
  "kernelspec": {
   "display_name": "Python 3 (ipykernel)",
   "language": "python",
   "name": "python3"
  },
  "language_info": {
   "codemirror_mode": {
    "name": "ipython",
    "version": 3
   },
   "file_extension": ".py",
   "mimetype": "text/x-python",
   "name": "python",
   "nbconvert_exporter": "python",
   "pygments_lexer": "ipython3",
   "version": "3.12.2"
  }
 },
 "nbformat": 4,
 "nbformat_minor": 5
}
