{
 "cells": [
  {
   "cell_type": "code",
   "execution_count": 20,
   "id": "7f82aa62-6c2b-431f-9f3b-9312a37ff63d",
   "metadata": {},
   "outputs": [
    {
     "name": "stdout",
     "output_type": "stream",
     "text": [
      "633\n"
     ]
    }
   ],
   "source": [
    "! ls -1 preprocessed_GRN_files_all | wc -l "
   ]
  },
  {
   "cell_type": "code",
   "execution_count": 1,
   "id": "3f85b92e-f066-4922-95e9-92bee2ea89f9",
   "metadata": {},
   "outputs": [],
   "source": [
    "import pandas as pd\n",
    "import os\n",
    "from tqdm import tqdm"
   ]
  },
  {
   "cell_type": "code",
   "execution_count": 5,
   "id": "de6f39bc-7481-4702-8cf0-a09ec5b41fc6",
   "metadata": {},
   "outputs": [
    {
     "name": "stdout",
     "output_type": "stream",
     "text": [
      "/cephyr/NOBACKUP/groups/naiss2023-23-453/stratified_GRN\n"
     ]
    }
   ],
   "source": [
    "!pwd"
   ]
  },
  {
   "cell_type": "code",
   "execution_count": 6,
   "id": "1e00000c-416f-4a24-ba89-7626a3f776ae",
   "metadata": {},
   "outputs": [
    {
     "name": "stdout",
     "output_type": "stream",
     "text": [
      "01_120405.csv\t299_120430.csv\t492_120515.csv\t680_120604.csv\n",
      "02_120405.csv\t29_120416.csv\t493_120515.csv\t681_120604.csv\n",
      "03_120405.csv\t300_120430.csv\t494_120515.csv\t682_120604.csv\n",
      "04_120405.csv\t302_120430.csv\t495_120515.csv\t683_120604.csv\n",
      "05_120405.csv\t303_120430.csv\t496_120515.csv\t684_120604.csv\n",
      "07_120410.csv\t304_120430.csv\t497_120515.csv\t685_120604.csv\n",
      "08_120410.csv\t305_120430.csv\t498_120515.csv\t687_120604.csv\n",
      "100_120417.csv\t306_120430.csv\t500_120515.csv\t688_120604.csv\n",
      "101_120418.csv\t307_120430.csv\t501_120515.csv\t689_120604.csv\n",
      "102_120418.csv\t309_120430.csv\t502_120515.csv\t68_120417.csv\n",
      "103_120418.csv\t30_120416.csv\t505_120515.csv\t690_120604.csv\n",
      "104_120418.csv\t310_120430.csv\t506_120515.csv\t691_120605.csv\n",
      "108_120418.csv\t312_120430.csv\t507_120515.csv\t693_120605.csv\n",
      "109_120418.csv\t314_120501.csv\t508_120515.csv\t694_120605.csv\n",
      "111_120418.csv\t315_120501.csv\t509_120515.csv\t695_120605.csv\n",
      "112_120418.csv\t318_120501.csv\t510_120515.csv\t697_120605.csv\n",
      "113_120418.csv\t321_120501.csv\t511_120515.csv\t698_120605.csv\n",
      "115_120418.csv\t322_120501.csv\t513_120515.csv\t699_120605.csv\n",
      "116_120418.csv\t323_120501.csv\t515_120515.csv\t69_120417.csv\n",
      "118_120418.csv\t325_120501.csv\t516_120515.csv\t700_120605.csv\n",
      "119_120418.csv\t326_120501.csv\t517_120515.csv\t701_120605.csv\n",
      "11_120410.csv\t327_120501.csv\t51_120416.csv\t702_120605.csv\n",
      "120_120418.csv\t328_120501.csv\t520_120515.csv\t703_120605.csv\n",
      "121_120418.csv\t329_120501.csv\t521_120515.csv\t704_120605.csv\n",
      "122_120418.csv\t32_120416.csv\t522_120515.csv\t705_120605.csv\n",
      "124_120419.csv\t331_120501.csv\t523_120515.csv\t706_120605.csv\n",
      "125_120419.csv\t332_120501.csv\t524_120515.csv\t707_120531.csv\n",
      "126_120419.csv\t334_120501.csv\t525_120515.csv\t708_120531.csv\n",
      "128_120419.csv\t335_120501.csv\t526_120515.csv\t709_120531.csv\n",
      "129_120419.csv\t336_120501.csv\t528_120515.csv\t70_120417.csv\n",
      "12_120410.csv\t337_120501.csv\t52_120416.csv\t710_120531.csv\n",
      "130_120419.csv\t339_120501.csv\t530_120515.csv\t711_120531.csv\n",
      "131_120419.csv\t33_120416.csv\t531_120516.csv\t713_120531.csv\n",
      "132_120419.csv\t340_120501.csv\t532_120516.csv\t714_120531.csv\n",
      "133_120419.csv\t344_120501.csv\t533_120516.csv\t715_120531.csv\n",
      "134_120419.csv\t345_120501.csv\t534_120516.csv\t716_120531.csv\n",
      "136_120419.csv\t347_120501.csv\t535_120516.csv\t718_120531.csv\n",
      "138_120419.csv\t349_120501.csv\t536_120516.csv\t720_120531.csv\n",
      "140_120419.csv\t34_120416.csv\t537_120516.csv\t721_120531.csv\n",
      "141_120419.csv\t350_120501.csv\t538_120516.csv\t722_120531.csv\n",
      "142_120419.csv\t351_120501.csv\t539_120516.csv\t724_120605.csv\n",
      "145_120419.csv\t352_120501.csv\t53_120417.csv\t72_120417.csv\n",
      "146_120419.csv\t353_120501.csv\t540_120516.csv\t73_120417.csv\n",
      "149_120419.csv\t354_120501.csv\t541_120516.csv\t74_120417.csv\n",
      "14_120410.csv\t355_120501.csv\t542_120516.csv\t75_120417.csv\n",
      "150_120419.csv\t356_120501.csv\t543_120516.csv\t763_130520.csv\n",
      "152_120419.csv\t358_120502.csv\t544_120516.csv\t767_130523.csv\n",
      "153_120423.csv\t359_120502.csv\t545_120516.csv\t768_130523.csv\n",
      "154_120423.csv\t35_120416.csv\t547_120516.csv\t769_130523.csv\n",
      "155_120423.csv\t360_120502.csv\t548_120516.csv\t76_120417.csv\n",
      "158_120423.csv\t363_120502.csv\t549_120517.csv\t770_130523.csv\n",
      "159_120423.csv\t364_120502.csv\t54_120417.csv\t775_130528.csv\n",
      "15_120410.csv\t366_120502.csv\t550_120517.csv\t776_130528.csv\n",
      "160_120423.csv\t367_120502.csv\t551_120517.csv\t777_130528.csv\n",
      "162_120423.csv\t368_120502.csv\t553_120517.csv\t778_130528.csv\n",
      "164_120423.csv\t369_120502.csv\t554_120517.csv\t77_120417.csv\n",
      "165_120423.csv\t36_120416.csv\t555_120517.csv\t781_130528.csv\n",
      "166_120423.csv\t370_120502.csv\t556_120517.csv\t786_130530.csv\n",
      "168_120423.csv\t371_120502.csv\t557_120517.csv\t787_130530.csv\n",
      "170_120423.csv\t372_120502.csv\t559_120517.csv\t78_120417.csv\n",
      "171_120423.csv\t375_120502.csv\t560_120517.csv\t790_130530.csv\n",
      "173_120424.csv\t377_120503.csv\t561_120517.csv\t792_130530.csv\n",
      "174_120424.csv\t378_120503.csv\t562_120517.csv\t793_130530.csv\n",
      "176_120424.csv\t37_120416.csv\t563_120517.csv\t796_130701.csv\n",
      "177_120424.csv\t381_120503.csv\t564_120517.csv\t797_130701.csv\n",
      "179_120424.csv\t383_120503.csv\t565_120517.csv\t799_130701.csv\n",
      "180_120424.csv\t384_120503.csv\t567_120521.csv\t79_120417.csv\n",
      "181_120424.csv\t385_120503.csv\t568_120521.csv\t803_130701.csv\n",
      "182_120424.csv\t386_120503.csv\t569_120521.csv\t805_130701.csv\n",
      "183_120424.csv\t388_120503.csv\t56_120417.csv\t807_130701.csv\n",
      "185_120424.csv\t389_120503.csv\t571_120521.csv\t809_130702.csv\n",
      "186_120424.csv\t38_120416.csv\t572_120521.csv\t80_120417.csv\n",
      "187_120424.csv\t390_120503.csv\t573_120521.csv\t810_130702.csv\n",
      "188_120424.csv\t391_120503.csv\t574_120521.csv\t811_130702.csv\n",
      "190_120424.csv\t392_120503.csv\t575_120521.csv\t812_130702.csv\n",
      "191_120424.csv\t393_120503.csv\t576_120521.csv\t813_130702.csv\n",
      "193_120424.csv\t394_120503.csv\t577_120521.csv\t815_130702.csv\n",
      "196_120424.csv\t396_120503.csv\t578_120521.csv\t81_120417.csv\n",
      "197_120424.csv\t397_120503.csv\t57_120417.csv\t820_130725.csv\n",
      "19_120411.csv\t398_120503.csv\t580_120521.csv\t821_130725.csv\n",
      "200_120424.csv\t399_120503.csv\t581_120521.csv\t824_130725.csv\n",
      "201_120424.csv\t39_120416.csv\t582_120521.csv\t826_130725.csv\n",
      "202_120424.csv\t402_120503.csv\t583_120522.csv\t829_130725.csv\n",
      "203_120424.csv\t403_120503.csv\t584_120522.csv\t82_120417.csv\n",
      "204_120424.csv\t405_120503.csv\t586_120522.csv\t831_130725.csv\n",
      "206_120424.csv\t406_120503.csv\t587_120522.csv\t833_130729.csv\n",
      "207_120424.csv\t407_120503.csv\t588_120522.csv\t834_130729.csv\n",
      "20_120411.csv\t408_120503.csv\t589_120522.csv\t83_120417.csv\n",
      "212_120424.csv\t40_120416.csv\t58_120417.csv\t844_130830.csv\n",
      "213_120425.csv\t410_120503.csv\t590_120522.csv\t845_130830.csv\n",
      "214_120425.csv\t411_120503.csv\t591_120522.csv\t846_130830.csv\n",
      "215_120425.csv\t412_120503.csv\t593_120522.csv\t847_130830.csv\n",
      "216_120425.csv\t413_120503.csv\t594_120522.csv\t84_120417.csv\n",
      "218_120425.csv\t414_120503.csv\t595_120522.csv\t857_130905.csv\n",
      "219_120425.csv\t415_120503.csv\t596_120522.csv\t861_130911.csv\n",
      "21_120411.csv\t416_120503.csv\t599_120523.csv\t862_130911.csv\n",
      "220_120425.csv\t418_120507.csv\t600_120523.csv\t864_130911.csv\n",
      "221_120425.csv\t419_120507.csv\t602_120523.csv\t865_130911.csv\n",
      "222_120425.csv\t420_120507.csv\t603_120523.csv\t871_130911.csv\n",
      "224_120425.csv\t423_120507.csv\t604_120523.csv\t876_130918.csv\n",
      "227_120425.csv\t424_120507.csv\t605_120523.csv\t879_130918.csv\n",
      "228_120425.csv\t425_120507.csv\t606_120523.csv\t881_130918.csv\n",
      "229_120425.csv\t426_120507.csv\t607_120523.csv\t882_130918.csv\n",
      "231_120425.csv\t427_120507.csv\t608_120523.csv\t884_130923.csv\n",
      "232_120425.csv\t428_120507.csv\t60_120417.csv\t885_130923.csv\n",
      "234_120425.csv\t429_120507.csv\t610_120523.csv\t887_130923.csv\n",
      "236_120425.csv\t430_120507.csv\t613_120523.csv\t889_130923.csv\n",
      "237_120426.csv\t431_120507.csv\t614_120523.csv\t88_120417.csv\n",
      "238_120426.csv\t433_120507.csv\t616_120524.csv\t892_130923.csv\n",
      "23_120411.csv\t434_120507.csv\t617_120524.csv\t893_130923.csv\n",
      "240_120426.csv\t435_120507.csv\t618_120524.csv\t894_130923.csv\n",
      "241_120426.csv\t437_120507.csv\t619_120524.csv\t895_130923.csv\n",
      "242_120426.csv\t438_120507.csv\t620_120524.csv\t899_131010.csv\n",
      "243_120426.csv\t440_120507.csv\t624_120524.csv\t89_120417.csv\n",
      "244_120426.csv\t443_120507.csv\t625_120524.csv\t900_131010.csv\n",
      "245_120426.csv\t444_120507.csv\t626_120524.csv\t901_131010.csv\n",
      "246_120426.csv\t445_120507.csv\t628_120524.csv\t905_131010.csv\n",
      "248_120426.csv\t448_120507.csv\t629_120524.csv\t909_131031.csv\n",
      "24_120411.csv\t449_120507.csv\t630_120524.csv\t90_120417.csv\n",
      "250_120426.csv\t44_120416.csv\t631_120524.csv\t911_131031.csv\n",
      "251_120426.csv\t450_120507.csv\t632_120524.csv\t922_131031.csv\n",
      "252_120426.csv\t451_120507.csv\t633_120524.csv\t923_131031.csv\n",
      "253_120426.csv\t452_120507.csv\t634_120524.csv\t924_131031.csv\n",
      "254_120426.csv\t453_120507.csv\t635_120524.csv\t925_131031.csv\n",
      "255_120426.csv\t456_120507.csv\t636_120524.csv\t926_131031.csv\n",
      "256_120426.csv\t458_120507.csv\t637_120524.csv\t927_131031.csv\n",
      "257_120426.csv\t459_120514.csv\t638_120524.csv\t929_131031.csv\n",
      "258_120426.csv\t45_120416.csv\t641_120524.csv\t932_131101.csv\n",
      "259_120426.csv\t460_120514.csv\t643_120524.csv\t934_131101.csv\n",
      "25_120411.csv\t461_120514.csv\t644_120524.csv\t935_131101.csv\n",
      "260_120426.csv\t462_120514.csv\t646_120524.csv\t936_131101.csv\n",
      "266_120430.csv\t463_120514.csv\t647_120529.csv\t937_131101.csv\n",
      "267_120430.csv\t464_120514.csv\t648_120529.csv\t938_131101.csv\n",
      "269_120430.csv\t466_120514.csv\t649_120529.csv\t939_131101.csv\n",
      "26_120411.csv\t468_120514.csv\t64_120417.csv\t93_120417.csv\n",
      "270_120430.csv\t469_120514.csv\t653_120529.csv\t940_131101.csv\n",
      "271_120430.csv\t46_120416.csv\t654_120529.csv\t941_131101.csv\n",
      "272_120430.csv\t470_120514.csv\t656_120529.csv\t942_131101.csv\n",
      "273_120430.csv\t471_120514.csv\t657_120529.csv\t943_131101.csv\n",
      "274_120430.csv\t472_120514.csv\t65_120417.csv\t944_131107.csv\n",
      "276_120430.csv\t473_120514.csv\t660_120530.csv\t945_131107.csv\n",
      "277_120430.csv\t474_120514.csv\t662_120530.csv\t946_131107.csv\n",
      "279_120430.csv\t475_120514.csv\t663_120530.csv\t949_131107.csv\n",
      "280_120430.csv\t476_120514.csv\t664_120530.csv\t94_120417.csv\n",
      "281_120430.csv\t477_120514.csv\t665_120530.csv\t950_131107.csv\n",
      "283_120430.csv\t478_120514.csv\t666_120530.csv\t951_131107.csv\n",
      "284_120430.csv\t479_120514.csv\t668_120530.csv\t952_131107.csv\n",
      "285_120430.csv\t47_120416.csv\t669_120530.csv\t954_131107.csv\n",
      "286_120430.csv\t480_120514.csv\t66_120417.csv\t956_131107.csv\n",
      "287_120430.csv\t481_120514.csv\t670_120530.csv\t957_131107.csv\n",
      "288_120430.csv\t482_120514.csv\t671_120530.csv\t958_131107.csv\n",
      "289_120430.csv\t483_120515.csv\t672_120530.csv\t96_120417.csv\n",
      "28_120411.csv\t484_120515.csv\t673_120530.csv\t97_120417.csv\n",
      "290_120430.csv\t485_120515.csv\t674_120530.csv\t98_120417.csv\n",
      "291_120430.csv\t486_120515.csv\t675_120604.csv\tR24_131017.csv\n",
      "292_120430.csv\t487_120515.csv\t676_120604.csv\tredo4_140501.csv\n",
      "294_120430.csv\t488_120515.csv\t677_120604.csv\n",
      "296_120430.csv\t489_120515.csv\t678_120604.csv\n",
      "298_120430.csv\t491_120515.csv\t679_120604.csv\n"
     ]
    }
   ],
   "source": [
    "!ls preprocessed_GRN_files_all/"
   ]
  },
  {
   "cell_type": "code",
   "execution_count": 7,
   "id": "a03642ba-79f2-4825-b918-84e5ba43e120",
   "metadata": {},
   "outputs": [],
   "source": [
    "data_x = pd.read_csv('preprocessed_GRN_files_all/101_120418.csv')"
   ]
  },
  {
   "cell_type": "code",
   "execution_count": 3,
   "id": "dd93f665-4b4f-4021-87d2-6be3bd7e1f68",
   "metadata": {},
   "outputs": [],
   "source": [
    "data_raw = pd.read_csv('./GRN_output/lioness.101_120418.8.csv')"
   ]
  },
  {
   "cell_type": "code",
   "execution_count": null,
   "id": "5254a771-7309-45af-9a56-5da197108187",
   "metadata": {},
   "outputs": [],
   "source": [
    "len(data_x)"
   ]
  },
  {
   "cell_type": "code",
   "execution_count": null,
   "id": "2b63b5ee-da31-43b3-a1d1-0b3dd4bace13",
   "metadata": {},
   "outputs": [],
   "source": [
    "import pandas as pd\n",
    "import seaborn as sns\n",
    "import matplotlib.pyplot as plt\n",
    "\n",
    "# Create a sample DataFrame\n",
    "\n",
    "\n",
    "# Plot the distribution using Seaborn\n",
    "sns.histplot(data=data_x ,x='Weights', kde=True)\n",
    "plt.xlabel('Values')\n",
    "plt.ylabel('Density')\n",
    "plt.title('Distribution Plot with KDE')\n",
    "plt.show()"
   ]
  },
  {
   "cell_type": "code",
   "execution_count": null,
   "id": "404cbff2-1be1-4335-b83e-5d58fc97ef05",
   "metadata": {},
   "outputs": [],
   "source": [
    "data_x[data_x.Weights>0].sort_values(by = 'Weights',ascending = False)"
   ]
  },
  {
   "cell_type": "code",
   "execution_count": 53,
   "id": "682cca81-c581-48bd-b66e-23763ace034c",
   "metadata": {},
   "outputs": [],
   "source": [
    "data_raw.set_index('Unnamed: 0', inplace = True)\n"
   ]
  },
  {
   "cell_type": "code",
   "execution_count": 69,
   "id": "af1de386-b51b-437b-a208-3545b85bd167",
   "metadata": {},
   "outputs": [
    {
     "data": {
      "text/plain": [
       "11392000"
      ]
     },
     "execution_count": 69,
     "metadata": {},
     "output_type": "execute_result"
    }
   ],
   "source": [
    "712*16000"
   ]
  },
  {
   "cell_type": "code",
   "execution_count": null,
   "id": "898d99eb-1850-4f3c-8f2f-ad38e2891f6f",
   "metadata": {},
   "outputs": [],
   "source": [
    "for i,j in data_x.iterrows():\n",
    "    print(data_raw.loc[j.TF,j.Genes] == j.Weights)"
   ]
  },
  {
   "cell_type": "code",
   "execution_count": 58,
   "id": "aad03fd7-ec56-4d4e-909a-fe96a8dfca50",
   "metadata": {},
   "outputs": [
    {
     "data": {
      "text/html": [
       "<div>\n",
       "<style scoped>\n",
       "    .dataframe tbody tr th:only-of-type {\n",
       "        vertical-align: middle;\n",
       "    }\n",
       "\n",
       "    .dataframe tbody tr th {\n",
       "        vertical-align: top;\n",
       "    }\n",
       "\n",
       "    .dataframe thead th {\n",
       "        text-align: right;\n",
       "    }\n",
       "</style>\n",
       "<table border=\"1\" class=\"dataframe\">\n",
       "  <thead>\n",
       "    <tr style=\"text-align: right;\">\n",
       "      <th></th>\n",
       "      <th>TF</th>\n",
       "      <th>Genes</th>\n",
       "      <th>Weights</th>\n",
       "    </tr>\n",
       "  </thead>\n",
       "  <tbody>\n",
       "    <tr>\n",
       "      <th>5451123</th>\n",
       "      <td>ENSG00000153879</td>\n",
       "      <td>ENSG00000153132</td>\n",
       "      <td>29.489439</td>\n",
       "    </tr>\n",
       "    <tr>\n",
       "      <th>11589557</th>\n",
       "      <td>ENSG00000221869</td>\n",
       "      <td>ENSG00000153132</td>\n",
       "      <td>29.316670</td>\n",
       "    </tr>\n",
       "    <tr>\n",
       "      <th>5448479</th>\n",
       "      <td>ENSG00000153879</td>\n",
       "      <td>ENSG00000130770</td>\n",
       "      <td>28.976439</td>\n",
       "    </tr>\n",
       "    <tr>\n",
       "      <th>11586913</th>\n",
       "      <td>ENSG00000221869</td>\n",
       "      <td>ENSG00000130770</td>\n",
       "      <td>28.880248</td>\n",
       "    </tr>\n",
       "    <tr>\n",
       "      <th>5444590</th>\n",
       "      <td>ENSG00000153879</td>\n",
       "      <td>ENSG00000083307</td>\n",
       "      <td>28.660710</td>\n",
       "    </tr>\n",
       "    <tr>\n",
       "      <th>...</th>\n",
       "      <td>...</td>\n",
       "      <td>...</td>\n",
       "      <td>...</td>\n",
       "    </tr>\n",
       "    <tr>\n",
       "      <th>1125392</th>\n",
       "      <td>ENSG00000088876</td>\n",
       "      <td>ENSG00000137720</td>\n",
       "      <td>5.442042</td>\n",
       "    </tr>\n",
       "    <tr>\n",
       "      <th>8161228</th>\n",
       "      <td>ENSG00000177551</td>\n",
       "      <td>ENSG00000126858</td>\n",
       "      <td>5.442030</td>\n",
       "    </tr>\n",
       "    <tr>\n",
       "      <th>7618257</th>\n",
       "      <td>ENSG00000172819</td>\n",
       "      <td>ENSG00000123411</td>\n",
       "      <td>5.442011</td>\n",
       "    </tr>\n",
       "    <tr>\n",
       "      <th>11498282</th>\n",
       "      <td>ENSG00000213762</td>\n",
       "      <td>ENSG00000084731</td>\n",
       "      <td>5.442002</td>\n",
       "    </tr>\n",
       "    <tr>\n",
       "      <th>3908937</th>\n",
       "      <td>ENSG00000131061</td>\n",
       "      <td>ENSG00000162595</td>\n",
       "      <td>5.441985</td>\n",
       "    </tr>\n",
       "  </tbody>\n",
       "</table>\n",
       "<p>200000 rows × 3 columns</p>\n",
       "</div>"
      ],
      "text/plain": [
       "                       TF            Genes    Weights\n",
       "5451123   ENSG00000153879  ENSG00000153132  29.489439\n",
       "11589557  ENSG00000221869  ENSG00000153132  29.316670\n",
       "5448479   ENSG00000153879  ENSG00000130770  28.976439\n",
       "11586913  ENSG00000221869  ENSG00000130770  28.880248\n",
       "5444590   ENSG00000153879  ENSG00000083307  28.660710\n",
       "...                   ...              ...        ...\n",
       "1125392   ENSG00000088876  ENSG00000137720   5.442042\n",
       "8161228   ENSG00000177551  ENSG00000126858   5.442030\n",
       "7618257   ENSG00000172819  ENSG00000123411   5.442011\n",
       "11498282  ENSG00000213762  ENSG00000084731   5.442002\n",
       "3908937   ENSG00000131061  ENSG00000162595   5.441985\n",
       "\n",
       "[200000 rows x 3 columns]"
      ]
     },
     "execution_count": 58,
     "metadata": {},
     "output_type": "execute_result"
    }
   ],
   "source": [
    "data_x.sort_values(by = 'Weights', ascending = False).iloc[0:200000,:]"
   ]
  },
  {
   "cell_type": "code",
   "execution_count": 74,
   "id": "ae5ee9ef-b253-4ef6-baea-dd2bf9d8f8a7",
   "metadata": {},
   "outputs": [
    {
     "name": "stderr",
     "output_type": "stream",
     "text": [
      "  0%|                                                   | 0/633 [00:00<?, ?it/s]"
     ]
    },
    {
     "name": "stdout",
     "output_type": "stream",
     "text": [
      "3794746\n"
     ]
    },
    {
     "name": "stderr",
     "output_type": "stream",
     "text": [
      "  0%|                                         | 1/633 [00:21<3:41:16, 21.01s/it]"
     ]
    },
    {
     "name": "stdout",
     "output_type": "stream",
     "text": [
      "2638434\n"
     ]
    },
    {
     "name": "stderr",
     "output_type": "stream",
     "text": [
      "  0%|▏                                        | 2/633 [00:36<3:07:02, 17.79s/it]"
     ]
    },
    {
     "name": "stdout",
     "output_type": "stream",
     "text": [
      "2730234\n"
     ]
    },
    {
     "name": "stderr",
     "output_type": "stream",
     "text": [
      "  0%|▏                                        | 3/633 [00:52<2:55:53, 16.75s/it]"
     ]
    },
    {
     "name": "stdout",
     "output_type": "stream",
     "text": [
      "2611110\n"
     ]
    },
    {
     "name": "stderr",
     "output_type": "stream",
     "text": [
      "  1%|▎                                        | 4/633 [01:08<2:55:54, 16.78s/it]"
     ]
    },
    {
     "name": "stdout",
     "output_type": "stream",
     "text": [
      "3173473\n"
     ]
    },
    {
     "name": "stderr",
     "output_type": "stream",
     "text": [
      "  1%|▎                                        | 5/633 [01:29<3:10:54, 18.24s/it]"
     ]
    },
    {
     "name": "stdout",
     "output_type": "stream",
     "text": [
      "3136409\n"
     ]
    },
    {
     "name": "stderr",
     "output_type": "stream",
     "text": [
      "  1%|▍                                        | 6/633 [01:50<3:20:02, 19.14s/it]"
     ]
    },
    {
     "name": "stdout",
     "output_type": "stream",
     "text": [
      "4130791\n"
     ]
    },
    {
     "name": "stderr",
     "output_type": "stream",
     "text": [
      "  1%|▍                                        | 7/633 [02:14<3:35:21, 20.64s/it]"
     ]
    },
    {
     "name": "stdout",
     "output_type": "stream",
     "text": [
      "3661790\n"
     ]
    },
    {
     "name": "stderr",
     "output_type": "stream",
     "text": [
      "  1%|▌                                        | 8/633 [02:32<3:26:26, 19.82s/it]"
     ]
    },
    {
     "name": "stdout",
     "output_type": "stream",
     "text": [
      "4604730\n"
     ]
    },
    {
     "name": "stderr",
     "output_type": "stream",
     "text": [
      "  1%|▌                                        | 9/633 [02:52<3:25:51, 19.79s/it]"
     ]
    },
    {
     "name": "stdout",
     "output_type": "stream",
     "text": [
      "2699800\n"
     ]
    },
    {
     "name": "stderr",
     "output_type": "stream",
     "text": [
      "  2%|▋                                       | 10/633 [03:07<3:12:30, 18.54s/it]"
     ]
    },
    {
     "name": "stdout",
     "output_type": "stream",
     "text": [
      "2407573\n"
     ]
    },
    {
     "name": "stderr",
     "output_type": "stream",
     "text": [
      "  2%|▋                                       | 11/633 [03:23<3:01:39, 17.52s/it]"
     ]
    },
    {
     "name": "stdout",
     "output_type": "stream",
     "text": [
      "2513087\n"
     ]
    },
    {
     "name": "stderr",
     "output_type": "stream",
     "text": [
      "  2%|▊                                       | 12/633 [03:38<2:55:54, 17.00s/it]"
     ]
    },
    {
     "name": "stdout",
     "output_type": "stream",
     "text": [
      "2613745\n"
     ]
    },
    {
     "name": "stderr",
     "output_type": "stream",
     "text": [
      "  2%|▊                                       | 13/633 [03:54<2:52:30, 16.69s/it]"
     ]
    },
    {
     "name": "stdout",
     "output_type": "stream",
     "text": [
      "2715506\n"
     ]
    },
    {
     "name": "stderr",
     "output_type": "stream",
     "text": [
      "  2%|▉                                       | 14/633 [04:10<2:49:20, 16.41s/it]"
     ]
    },
    {
     "name": "stdout",
     "output_type": "stream",
     "text": [
      "3638942\n"
     ]
    },
    {
     "name": "stderr",
     "output_type": "stream",
     "text": [
      "  2%|▉                                       | 15/633 [04:28<2:52:37, 16.76s/it]"
     ]
    },
    {
     "name": "stdout",
     "output_type": "stream",
     "text": [
      "2626286\n"
     ]
    },
    {
     "name": "stderr",
     "output_type": "stream",
     "text": [
      "  3%|█                                       | 16/633 [04:43<2:48:03, 16.34s/it]"
     ]
    },
    {
     "name": "stdout",
     "output_type": "stream",
     "text": [
      "3008787\n"
     ]
    },
    {
     "name": "stderr",
     "output_type": "stream",
     "text": [
      "  3%|█                                       | 17/633 [04:59<2:47:03, 16.27s/it]"
     ]
    },
    {
     "name": "stdout",
     "output_type": "stream",
     "text": [
      "2703431\n"
     ]
    },
    {
     "name": "stderr",
     "output_type": "stream",
     "text": [
      "  3%|█▏                                      | 18/633 [05:15<2:44:07, 16.01s/it]"
     ]
    },
    {
     "name": "stdout",
     "output_type": "stream",
     "text": [
      "2887305\n"
     ]
    },
    {
     "name": "stderr",
     "output_type": "stream",
     "text": [
      "  3%|█▏                                      | 19/633 [05:30<2:43:30, 15.98s/it]"
     ]
    },
    {
     "name": "stdout",
     "output_type": "stream",
     "text": [
      "2446265\n"
     ]
    },
    {
     "name": "stderr",
     "output_type": "stream",
     "text": [
      "  3%|█▎                                      | 20/633 [05:45<2:40:04, 15.67s/it]"
     ]
    },
    {
     "name": "stdout",
     "output_type": "stream",
     "text": [
      "5365284\n"
     ]
    },
    {
     "name": "stderr",
     "output_type": "stream",
     "text": [
      "  3%|█▎                                      | 21/633 [06:07<2:56:54, 17.34s/it]"
     ]
    },
    {
     "name": "stdout",
     "output_type": "stream",
     "text": [
      "2556478\n"
     ]
    },
    {
     "name": "stderr",
     "output_type": "stream",
     "text": [
      "  3%|█▍                                      | 22/633 [06:22<2:50:39, 16.76s/it]"
     ]
    },
    {
     "name": "stdout",
     "output_type": "stream",
     "text": [
      "2810133\n"
     ]
    },
    {
     "name": "stderr",
     "output_type": "stream",
     "text": [
      "  4%|█▍                                      | 23/633 [06:38<2:47:38, 16.49s/it]"
     ]
    },
    {
     "name": "stdout",
     "output_type": "stream",
     "text": [
      "3613090\n"
     ]
    },
    {
     "name": "stderr",
     "output_type": "stream",
     "text": [
      "  4%|█▌                                      | 24/633 [06:55<2:49:52, 16.74s/it]"
     ]
    },
    {
     "name": "stdout",
     "output_type": "stream",
     "text": [
      "3763235\n"
     ]
    },
    {
     "name": "stderr",
     "output_type": "stream",
     "text": [
      "  4%|█▌                                      | 25/633 [07:14<2:55:33, 17.32s/it]"
     ]
    },
    {
     "name": "stdout",
     "output_type": "stream",
     "text": [
      "2899622\n"
     ]
    },
    {
     "name": "stderr",
     "output_type": "stream",
     "text": [
      "  4%|█▋                                      | 26/633 [07:30<2:50:07, 16.82s/it]"
     ]
    },
    {
     "name": "stdout",
     "output_type": "stream",
     "text": [
      "2488800\n"
     ]
    },
    {
     "name": "stderr",
     "output_type": "stream",
     "text": [
      "  4%|█▋                                      | 27/633 [07:45<2:44:09, 16.25s/it]"
     ]
    },
    {
     "name": "stdout",
     "output_type": "stream",
     "text": [
      "2704366\n"
     ]
    },
    {
     "name": "stderr",
     "output_type": "stream",
     "text": [
      "  4%|█▊                                      | 28/633 [08:02<2:48:41, 16.73s/it]"
     ]
    },
    {
     "name": "stdout",
     "output_type": "stream",
     "text": [
      "2802185\n"
     ]
    },
    {
     "name": "stderr",
     "output_type": "stream",
     "text": [
      "  5%|█▊                                      | 29/633 [08:22<2:57:04, 17.59s/it]"
     ]
    },
    {
     "name": "stdout",
     "output_type": "stream",
     "text": [
      "3448808\n"
     ]
    },
    {
     "name": "stderr",
     "output_type": "stream",
     "text": [
      "  5%|█▉                                      | 30/633 [08:44<3:09:44, 18.88s/it]"
     ]
    },
    {
     "name": "stdout",
     "output_type": "stream",
     "text": [
      "5067673\n"
     ]
    },
    {
     "name": "stderr",
     "output_type": "stream",
     "text": [
      "  5%|█▉                                      | 31/633 [09:08<3:26:43, 20.60s/it]"
     ]
    },
    {
     "name": "stdout",
     "output_type": "stream",
     "text": [
      "3393040\n"
     ]
    },
    {
     "name": "stderr",
     "output_type": "stream",
     "text": [
      "  5%|██                                      | 32/633 [09:30<3:29:20, 20.90s/it]"
     ]
    },
    {
     "name": "stdout",
     "output_type": "stream",
     "text": [
      "2601342\n"
     ]
    },
    {
     "name": "stderr",
     "output_type": "stream",
     "text": [
      "  5%|██                                      | 33/633 [09:51<3:29:53, 20.99s/it]"
     ]
    },
    {
     "name": "stdout",
     "output_type": "stream",
     "text": [
      "3413490\n"
     ]
    },
    {
     "name": "stderr",
     "output_type": "stream",
     "text": [
      "  5%|██▏                                     | 34/633 [10:13<3:32:07, 21.25s/it]"
     ]
    },
    {
     "name": "stdout",
     "output_type": "stream",
     "text": [
      "3251268\n"
     ]
    },
    {
     "name": "stderr",
     "output_type": "stream",
     "text": [
      "  6%|██▏                                     | 35/633 [10:35<3:34:07, 21.48s/it]"
     ]
    },
    {
     "name": "stdout",
     "output_type": "stream",
     "text": [
      "2463216\n"
     ]
    },
    {
     "name": "stderr",
     "output_type": "stream",
     "text": [
      "  6%|██▎                                     | 36/633 [11:00<3:42:34, 22.37s/it]"
     ]
    },
    {
     "name": "stdout",
     "output_type": "stream",
     "text": [
      "2924651\n"
     ]
    },
    {
     "name": "stderr",
     "output_type": "stream",
     "text": [
      "  6%|██▎                                     | 37/633 [11:23<3:44:01, 22.55s/it]"
     ]
    },
    {
     "name": "stdout",
     "output_type": "stream",
     "text": [
      "2688935\n"
     ]
    },
    {
     "name": "stderr",
     "output_type": "stream",
     "text": [
      "  6%|██▍                                     | 38/633 [11:44<3:40:17, 22.21s/it]"
     ]
    },
    {
     "name": "stdout",
     "output_type": "stream",
     "text": [
      "2520984\n"
     ]
    },
    {
     "name": "stderr",
     "output_type": "stream",
     "text": [
      "  6%|██▍                                     | 39/633 [12:05<3:35:02, 21.72s/it]"
     ]
    },
    {
     "name": "stdout",
     "output_type": "stream",
     "text": [
      "2585889\n"
     ]
    },
    {
     "name": "stderr",
     "output_type": "stream",
     "text": [
      "  6%|██▌                                     | 40/633 [12:27<3:37:19, 21.99s/it]"
     ]
    },
    {
     "name": "stdout",
     "output_type": "stream",
     "text": [
      "3006785\n"
     ]
    },
    {
     "name": "stderr",
     "output_type": "stream",
     "text": [
      "  6%|██▌                                     | 41/633 [12:50<3:40:10, 22.31s/it]"
     ]
    },
    {
     "name": "stdout",
     "output_type": "stream",
     "text": [
      "4287191\n"
     ]
    },
    {
     "name": "stderr",
     "output_type": "stream",
     "text": [
      "  7%|██▋                                     | 42/633 [13:14<3:45:19, 22.88s/it]"
     ]
    },
    {
     "name": "stdout",
     "output_type": "stream",
     "text": [
      "2640575\n"
     ]
    },
    {
     "name": "stderr",
     "output_type": "stream",
     "text": [
      "  7%|██▋                                     | 43/633 [13:33<3:33:17, 21.69s/it]"
     ]
    },
    {
     "name": "stdout",
     "output_type": "stream",
     "text": [
      "3037507\n"
     ]
    },
    {
     "name": "stderr",
     "output_type": "stream",
     "text": [
      "  7%|██▊                                     | 44/633 [13:55<3:31:20, 21.53s/it]"
     ]
    },
    {
     "name": "stdout",
     "output_type": "stream",
     "text": [
      "2896613\n"
     ]
    },
    {
     "name": "stderr",
     "output_type": "stream",
     "text": [
      "  7%|██▊                                     | 45/633 [14:11<3:16:07, 20.01s/it]"
     ]
    },
    {
     "name": "stdout",
     "output_type": "stream",
     "text": [
      "2856068\n"
     ]
    },
    {
     "name": "stderr",
     "output_type": "stream",
     "text": [
      "  7%|██▉                                     | 46/633 [14:31<3:16:43, 20.11s/it]"
     ]
    },
    {
     "name": "stdout",
     "output_type": "stream",
     "text": [
      "3303510\n"
     ]
    },
    {
     "name": "stderr",
     "output_type": "stream",
     "text": [
      "  7%|██▉                                     | 47/633 [14:48<3:07:44, 19.22s/it]"
     ]
    },
    {
     "name": "stdout",
     "output_type": "stream",
     "text": [
      "2580295\n"
     ]
    },
    {
     "name": "stderr",
     "output_type": "stream",
     "text": [
      "  8%|███                                     | 48/633 [15:07<3:06:07, 19.09s/it]"
     ]
    },
    {
     "name": "stdout",
     "output_type": "stream",
     "text": [
      "2857766\n"
     ]
    },
    {
     "name": "stderr",
     "output_type": "stream",
     "text": [
      "  8%|███                                     | 49/633 [15:28<3:09:56, 19.51s/it]"
     ]
    },
    {
     "name": "stdout",
     "output_type": "stream",
     "text": [
      "3193773\n"
     ]
    },
    {
     "name": "stderr",
     "output_type": "stream",
     "text": [
      "  8%|███▏                                    | 50/633 [15:45<3:02:01, 18.73s/it]"
     ]
    },
    {
     "name": "stdout",
     "output_type": "stream",
     "text": [
      "2496615\n"
     ]
    },
    {
     "name": "stderr",
     "output_type": "stream",
     "text": [
      "  8%|███▏                                    | 51/633 [16:02<2:57:49, 18.33s/it]"
     ]
    },
    {
     "name": "stdout",
     "output_type": "stream",
     "text": [
      "2840162\n"
     ]
    },
    {
     "name": "stderr",
     "output_type": "stream",
     "text": [
      "  8%|███▎                                    | 52/633 [16:20<2:57:01, 18.28s/it]"
     ]
    },
    {
     "name": "stdout",
     "output_type": "stream",
     "text": [
      "2633809\n"
     ]
    },
    {
     "name": "stderr",
     "output_type": "stream",
     "text": [
      "  8%|███▎                                    | 53/633 [16:39<2:57:13, 18.33s/it]"
     ]
    },
    {
     "name": "stdout",
     "output_type": "stream",
     "text": [
      "3234805\n"
     ]
    },
    {
     "name": "stderr",
     "output_type": "stream",
     "text": [
      "  9%|███▍                                    | 54/633 [16:58<3:00:34, 18.71s/it]"
     ]
    },
    {
     "name": "stdout",
     "output_type": "stream",
     "text": [
      "2970323\n"
     ]
    },
    {
     "name": "stderr",
     "output_type": "stream",
     "text": [
      "  9%|███▍                                    | 55/633 [17:17<3:00:57, 18.78s/it]"
     ]
    },
    {
     "name": "stdout",
     "output_type": "stream",
     "text": [
      "3055107\n"
     ]
    },
    {
     "name": "stderr",
     "output_type": "stream",
     "text": [
      "  9%|███▌                                    | 56/633 [17:38<3:05:46, 19.32s/it]"
     ]
    },
    {
     "name": "stdout",
     "output_type": "stream",
     "text": [
      "3004243\n"
     ]
    },
    {
     "name": "stderr",
     "output_type": "stream",
     "text": [
      "  9%|███▌                                    | 57/633 [17:58<3:07:57, 19.58s/it]"
     ]
    },
    {
     "name": "stdout",
     "output_type": "stream",
     "text": [
      "2847132\n"
     ]
    },
    {
     "name": "stderr",
     "output_type": "stream",
     "text": [
      "  9%|███▋                                    | 58/633 [18:18<3:08:19, 19.65s/it]"
     ]
    },
    {
     "name": "stdout",
     "output_type": "stream",
     "text": [
      "3257775\n"
     ]
    },
    {
     "name": "stderr",
     "output_type": "stream",
     "text": [
      "  9%|███▋                                    | 59/633 [18:41<3:17:57, 20.69s/it]"
     ]
    },
    {
     "name": "stdout",
     "output_type": "stream",
     "text": [
      "2828971\n"
     ]
    },
    {
     "name": "stderr",
     "output_type": "stream",
     "text": [
      "  9%|███▊                                    | 60/633 [18:58<3:07:38, 19.65s/it]"
     ]
    },
    {
     "name": "stdout",
     "output_type": "stream",
     "text": [
      "2937345\n"
     ]
    },
    {
     "name": "stderr",
     "output_type": "stream",
     "text": [
      " 10%|███▊                                    | 61/633 [19:15<2:59:45, 18.86s/it]"
     ]
    },
    {
     "name": "stdout",
     "output_type": "stream",
     "text": [
      "3382644\n"
     ]
    },
    {
     "name": "stderr",
     "output_type": "stream",
     "text": [
      " 10%|███▉                                    | 62/633 [19:33<2:56:15, 18.52s/it]"
     ]
    },
    {
     "name": "stdout",
     "output_type": "stream",
     "text": [
      "2841325\n"
     ]
    },
    {
     "name": "stderr",
     "output_type": "stream",
     "text": [
      " 10%|███▉                                    | 63/633 [19:50<2:52:36, 18.17s/it]"
     ]
    },
    {
     "name": "stdout",
     "output_type": "stream",
     "text": [
      "2596482\n"
     ]
    },
    {
     "name": "stderr",
     "output_type": "stream",
     "text": [
      " 10%|████                                    | 64/633 [20:06<2:44:50, 17.38s/it]"
     ]
    },
    {
     "name": "stdout",
     "output_type": "stream",
     "text": [
      "2660631\n"
     ]
    },
    {
     "name": "stderr",
     "output_type": "stream",
     "text": [
      " 10%|████                                    | 65/633 [20:21<2:38:49, 16.78s/it]"
     ]
    },
    {
     "name": "stdout",
     "output_type": "stream",
     "text": [
      "2716058\n"
     ]
    },
    {
     "name": "stderr",
     "output_type": "stream",
     "text": [
      " 10%|████▏                                   | 66/633 [20:37<2:36:29, 16.56s/it]"
     ]
    },
    {
     "name": "stdout",
     "output_type": "stream",
     "text": [
      "3789317\n"
     ]
    },
    {
     "name": "stderr",
     "output_type": "stream",
     "text": [
      " 11%|████▏                                   | 67/633 [20:56<2:42:35, 17.24s/it]"
     ]
    },
    {
     "name": "stdout",
     "output_type": "stream",
     "text": [
      "4036334\n"
     ]
    },
    {
     "name": "stderr",
     "output_type": "stream",
     "text": [
      " 11%|████▎                                   | 68/633 [21:16<2:48:43, 17.92s/it]"
     ]
    },
    {
     "name": "stdout",
     "output_type": "stream",
     "text": [
      "2659263\n"
     ]
    },
    {
     "name": "stderr",
     "output_type": "stream",
     "text": [
      " 11%|████▎                                   | 69/633 [21:34<2:48:43, 17.95s/it]"
     ]
    },
    {
     "name": "stdout",
     "output_type": "stream",
     "text": [
      "2483288\n"
     ]
    },
    {
     "name": "stderr",
     "output_type": "stream",
     "text": [
      " 11%|████▍                                   | 70/633 [21:49<2:42:14, 17.29s/it]"
     ]
    },
    {
     "name": "stdout",
     "output_type": "stream",
     "text": [
      "3408143\n"
     ]
    },
    {
     "name": "stderr",
     "output_type": "stream",
     "text": [
      " 11%|████▍                                   | 71/633 [22:08<2:46:04, 17.73s/it]"
     ]
    },
    {
     "name": "stdout",
     "output_type": "stream",
     "text": [
      "2573834\n"
     ]
    },
    {
     "name": "stderr",
     "output_type": "stream",
     "text": [
      " 11%|████▌                                   | 72/633 [22:30<2:58:54, 19.13s/it]"
     ]
    },
    {
     "name": "stdout",
     "output_type": "stream",
     "text": [
      "2647717\n"
     ]
    },
    {
     "name": "stderr",
     "output_type": "stream",
     "text": [
      " 12%|████▌                                   | 73/633 [22:54<3:10:31, 20.41s/it]"
     ]
    },
    {
     "name": "stdout",
     "output_type": "stream",
     "text": [
      "3255906\n"
     ]
    },
    {
     "name": "stderr",
     "output_type": "stream",
     "text": [
      " 12%|████▋                                   | 74/633 [23:17<3:16:53, 21.13s/it]"
     ]
    },
    {
     "name": "stdout",
     "output_type": "stream",
     "text": [
      "3063356\n"
     ]
    },
    {
     "name": "stderr",
     "output_type": "stream",
     "text": [
      " 12%|████▋                                   | 75/633 [23:39<3:19:24, 21.44s/it]"
     ]
    },
    {
     "name": "stdout",
     "output_type": "stream",
     "text": [
      "3423459\n"
     ]
    },
    {
     "name": "stderr",
     "output_type": "stream",
     "text": [
      " 12%|████▊                                   | 76/633 [24:02<3:25:07, 22.10s/it]"
     ]
    },
    {
     "name": "stdout",
     "output_type": "stream",
     "text": [
      "2842667\n"
     ]
    },
    {
     "name": "stderr",
     "output_type": "stream",
     "text": [
      " 12%|████▊                                   | 77/633 [24:24<3:24:20, 22.05s/it]"
     ]
    },
    {
     "name": "stdout",
     "output_type": "stream",
     "text": [
      "3249975\n"
     ]
    },
    {
     "name": "stderr",
     "output_type": "stream",
     "text": [
      " 12%|████▉                                   | 78/633 [24:46<3:21:32, 21.79s/it]"
     ]
    },
    {
     "name": "stdout",
     "output_type": "stream",
     "text": [
      "3164613\n"
     ]
    },
    {
     "name": "stderr",
     "output_type": "stream",
     "text": [
      " 12%|████▉                                   | 79/633 [25:06<3:17:56, 21.44s/it]"
     ]
    },
    {
     "name": "stdout",
     "output_type": "stream",
     "text": [
      "2540977\n"
     ]
    },
    {
     "name": "stderr",
     "output_type": "stream",
     "text": [
      " 13%|█████                                   | 80/633 [25:26<3:11:41, 20.80s/it]"
     ]
    },
    {
     "name": "stdout",
     "output_type": "stream",
     "text": [
      "3021189\n"
     ]
    },
    {
     "name": "stderr",
     "output_type": "stream",
     "text": [
      " 13%|█████                                   | 81/633 [25:42<2:58:43, 19.43s/it]"
     ]
    },
    {
     "name": "stdout",
     "output_type": "stream",
     "text": [
      "3059015\n"
     ]
    },
    {
     "name": "stderr",
     "output_type": "stream",
     "text": [
      " 13%|█████▏                                  | 82/633 [25:58<2:50:14, 18.54s/it]"
     ]
    },
    {
     "name": "stdout",
     "output_type": "stream",
     "text": [
      "4247811\n"
     ]
    },
    {
     "name": "stderr",
     "output_type": "stream",
     "text": [
      " 13%|█████▏                                  | 83/633 [26:20<2:59:17, 19.56s/it]"
     ]
    },
    {
     "name": "stdout",
     "output_type": "stream",
     "text": [
      "3083829\n"
     ]
    },
    {
     "name": "stderr",
     "output_type": "stream",
     "text": [
      " 13%|█████▎                                  | 84/633 [26:39<2:56:37, 19.30s/it]"
     ]
    },
    {
     "name": "stdout",
     "output_type": "stream",
     "text": [
      "2591392\n"
     ]
    },
    {
     "name": "stderr",
     "output_type": "stream",
     "text": [
      " 13%|█████▎                                  | 85/633 [26:56<2:50:52, 18.71s/it]"
     ]
    },
    {
     "name": "stdout",
     "output_type": "stream",
     "text": [
      "2722317\n"
     ]
    },
    {
     "name": "stderr",
     "output_type": "stream",
     "text": [
      " 14%|█████▍                                  | 86/633 [27:14<2:48:43, 18.51s/it]"
     ]
    },
    {
     "name": "stdout",
     "output_type": "stream",
     "text": [
      "2958740\n"
     ]
    },
    {
     "name": "stderr",
     "output_type": "stream",
     "text": [
      " 14%|█████▍                                  | 87/633 [27:33<2:49:29, 18.62s/it]"
     ]
    },
    {
     "name": "stdout",
     "output_type": "stream",
     "text": [
      "3801221\n"
     ]
    },
    {
     "name": "stderr",
     "output_type": "stream",
     "text": [
      " 14%|█████▌                                  | 88/633 [27:54<2:54:17, 19.19s/it]"
     ]
    },
    {
     "name": "stdout",
     "output_type": "stream",
     "text": [
      "2560043\n"
     ]
    },
    {
     "name": "stderr",
     "output_type": "stream",
     "text": [
      " 14%|█████▌                                  | 89/633 [28:12<2:51:33, 18.92s/it]"
     ]
    },
    {
     "name": "stdout",
     "output_type": "stream",
     "text": [
      "2556668\n"
     ]
    },
    {
     "name": "stderr",
     "output_type": "stream",
     "text": [
      " 14%|█████▋                                  | 90/633 [28:30<2:49:56, 18.78s/it]"
     ]
    },
    {
     "name": "stdout",
     "output_type": "stream",
     "text": [
      "2795903\n"
     ]
    },
    {
     "name": "stderr",
     "output_type": "stream",
     "text": [
      " 14%|█████▊                                  | 91/633 [28:50<2:52:16, 19.07s/it]"
     ]
    },
    {
     "name": "stdout",
     "output_type": "stream",
     "text": [
      "2706682\n"
     ]
    },
    {
     "name": "stderr",
     "output_type": "stream",
     "text": [
      " 15%|█████▊                                  | 92/633 [29:09<2:52:13, 19.10s/it]"
     ]
    },
    {
     "name": "stdout",
     "output_type": "stream",
     "text": [
      "2563259\n"
     ]
    },
    {
     "name": "stderr",
     "output_type": "stream",
     "text": [
      " 15%|█████▉                                  | 93/633 [29:28<2:51:33, 19.06s/it]"
     ]
    },
    {
     "name": "stdout",
     "output_type": "stream",
     "text": [
      "2906941\n"
     ]
    },
    {
     "name": "stderr",
     "output_type": "stream",
     "text": [
      " 15%|█████▉                                  | 94/633 [29:48<2:52:52, 19.24s/it]"
     ]
    },
    {
     "name": "stdout",
     "output_type": "stream",
     "text": [
      "2992454\n"
     ]
    },
    {
     "name": "stderr",
     "output_type": "stream",
     "text": [
      " 15%|██████                                  | 95/633 [30:08<2:54:11, 19.43s/it]"
     ]
    },
    {
     "name": "stdout",
     "output_type": "stream",
     "text": [
      "2699351\n"
     ]
    },
    {
     "name": "stderr",
     "output_type": "stream",
     "text": [
      " 15%|██████                                  | 96/633 [30:27<2:53:00, 19.33s/it]"
     ]
    },
    {
     "name": "stdout",
     "output_type": "stream",
     "text": [
      "2528951\n"
     ]
    },
    {
     "name": "stderr",
     "output_type": "stream",
     "text": [
      " 15%|██████▏                                 | 97/633 [30:46<2:50:52, 19.13s/it]"
     ]
    },
    {
     "name": "stdout",
     "output_type": "stream",
     "text": [
      "3203945\n"
     ]
    },
    {
     "name": "stderr",
     "output_type": "stream",
     "text": [
      " 15%|██████▏                                 | 98/633 [31:06<2:53:16, 19.43s/it]"
     ]
    },
    {
     "name": "stdout",
     "output_type": "stream",
     "text": [
      "2532235\n"
     ]
    },
    {
     "name": "stderr",
     "output_type": "stream",
     "text": [
      " 16%|██████▎                                 | 99/633 [31:24<2:50:47, 19.19s/it]"
     ]
    },
    {
     "name": "stdout",
     "output_type": "stream",
     "text": [
      "2545000\n"
     ]
    },
    {
     "name": "stderr",
     "output_type": "stream",
     "text": [
      " 16%|██████▏                                | 100/633 [31:43<2:50:16, 19.17s/it]"
     ]
    },
    {
     "name": "stdout",
     "output_type": "stream",
     "text": [
      "2667487\n"
     ]
    },
    {
     "name": "stderr",
     "output_type": "stream",
     "text": [
      " 16%|██████▏                                | 101/633 [32:02<2:49:16, 19.09s/it]"
     ]
    },
    {
     "name": "stdout",
     "output_type": "stream",
     "text": [
      "3333382\n"
     ]
    },
    {
     "name": "stderr",
     "output_type": "stream",
     "text": [
      " 16%|██████▎                                | 102/633 [32:23<2:53:16, 19.58s/it]"
     ]
    },
    {
     "name": "stdout",
     "output_type": "stream",
     "text": [
      "2788283\n"
     ]
    },
    {
     "name": "stderr",
     "output_type": "stream",
     "text": [
      " 16%|██████▎                                | 103/633 [32:42<2:52:18, 19.51s/it]"
     ]
    },
    {
     "name": "stdout",
     "output_type": "stream",
     "text": [
      "2944468\n"
     ]
    },
    {
     "name": "stderr",
     "output_type": "stream",
     "text": [
      " 16%|██████▍                                | 104/633 [33:02<2:51:29, 19.45s/it]"
     ]
    },
    {
     "name": "stdout",
     "output_type": "stream",
     "text": [
      "2435784\n"
     ]
    },
    {
     "name": "stderr",
     "output_type": "stream",
     "text": [
      " 17%|██████▍                                | 105/633 [33:21<2:49:34, 19.27s/it]"
     ]
    },
    {
     "name": "stdout",
     "output_type": "stream",
     "text": [
      "6479785\n"
     ]
    },
    {
     "name": "stderr",
     "output_type": "stream",
     "text": [
      " 17%|██████▌                                | 106/633 [33:48<3:09:58, 21.63s/it]"
     ]
    },
    {
     "name": "stdout",
     "output_type": "stream",
     "text": [
      "3656304\n"
     ]
    },
    {
     "name": "stderr",
     "output_type": "stream",
     "text": [
      " 17%|██████▌                                | 107/633 [34:12<3:17:14, 22.50s/it]"
     ]
    },
    {
     "name": "stdout",
     "output_type": "stream",
     "text": [
      "3915685\n"
     ]
    },
    {
     "name": "stderr",
     "output_type": "stream",
     "text": [
      " 17%|██████▋                                | 108/633 [34:31<3:06:11, 21.28s/it]"
     ]
    },
    {
     "name": "stdout",
     "output_type": "stream",
     "text": [
      "3022752\n"
     ]
    },
    {
     "name": "stderr",
     "output_type": "stream",
     "text": [
      " 17%|██████▋                                | 109/633 [34:47<2:53:27, 19.86s/it]"
     ]
    },
    {
     "name": "stdout",
     "output_type": "stream",
     "text": [
      "2857620\n"
     ]
    },
    {
     "name": "stderr",
     "output_type": "stream",
     "text": [
      " 17%|██████▊                                | 110/633 [35:04<2:45:06, 18.94s/it]"
     ]
    },
    {
     "name": "stdout",
     "output_type": "stream",
     "text": [
      "2576891\n"
     ]
    },
    {
     "name": "stderr",
     "output_type": "stream",
     "text": [
      " 18%|██████▊                                | 111/633 [35:22<2:41:11, 18.53s/it]"
     ]
    },
    {
     "name": "stdout",
     "output_type": "stream",
     "text": [
      "3338026\n"
     ]
    },
    {
     "name": "stderr",
     "output_type": "stream",
     "text": [
      " 18%|██████▉                                | 112/633 [35:39<2:37:26, 18.13s/it]"
     ]
    },
    {
     "name": "stdout",
     "output_type": "stream",
     "text": [
      "2864439\n"
     ]
    },
    {
     "name": "stderr",
     "output_type": "stream",
     "text": [
      " 18%|██████▉                                | 113/633 [35:56<2:35:32, 17.95s/it]"
     ]
    },
    {
     "name": "stdout",
     "output_type": "stream",
     "text": [
      "2968696\n"
     ]
    },
    {
     "name": "stderr",
     "output_type": "stream",
     "text": [
      " 18%|███████                                | 114/633 [36:14<2:35:07, 17.93s/it]"
     ]
    },
    {
     "name": "stdout",
     "output_type": "stream",
     "text": [
      "2514526\n"
     ]
    },
    {
     "name": "stderr",
     "output_type": "stream",
     "text": [
      " 18%|███████                                | 115/633 [36:32<2:33:39, 17.80s/it]"
     ]
    },
    {
     "name": "stdout",
     "output_type": "stream",
     "text": [
      "3082273\n"
     ]
    },
    {
     "name": "stderr",
     "output_type": "stream",
     "text": [
      " 18%|███████▏                               | 116/633 [36:50<2:34:15, 17.90s/it]"
     ]
    },
    {
     "name": "stdout",
     "output_type": "stream",
     "text": [
      "2648682\n"
     ]
    },
    {
     "name": "stderr",
     "output_type": "stream",
     "text": [
      " 18%|███████▏                               | 117/633 [37:10<2:40:06, 18.62s/it]"
     ]
    },
    {
     "name": "stdout",
     "output_type": "stream",
     "text": [
      "3103539\n"
     ]
    },
    {
     "name": "stderr",
     "output_type": "stream",
     "text": [
      " 19%|███████▎                               | 118/633 [37:29<2:39:39, 18.60s/it]"
     ]
    },
    {
     "name": "stdout",
     "output_type": "stream",
     "text": [
      "2854873\n"
     ]
    },
    {
     "name": "stderr",
     "output_type": "stream",
     "text": [
      " 19%|███████▎                               | 119/633 [37:49<2:44:10, 19.16s/it]"
     ]
    },
    {
     "name": "stdout",
     "output_type": "stream",
     "text": [
      "3213856\n"
     ]
    },
    {
     "name": "stderr",
     "output_type": "stream",
     "text": [
      " 19%|███████▍                               | 120/633 [38:08<2:42:04, 18.96s/it]"
     ]
    },
    {
     "name": "stdout",
     "output_type": "stream",
     "text": [
      "2700885\n"
     ]
    },
    {
     "name": "stderr",
     "output_type": "stream",
     "text": [
      " 19%|███████▍                               | 121/633 [38:25<2:36:55, 18.39s/it]"
     ]
    },
    {
     "name": "stdout",
     "output_type": "stream",
     "text": [
      "2483217\n"
     ]
    },
    {
     "name": "stderr",
     "output_type": "stream",
     "text": [
      " 19%|███████▌                               | 122/633 [38:40<2:29:43, 17.58s/it]"
     ]
    },
    {
     "name": "stdout",
     "output_type": "stream",
     "text": [
      "3245135\n"
     ]
    },
    {
     "name": "stderr",
     "output_type": "stream",
     "text": [
      " 19%|███████▌                               | 123/633 [38:59<2:31:27, 17.82s/it]"
     ]
    },
    {
     "name": "stdout",
     "output_type": "stream",
     "text": [
      "3736155\n"
     ]
    },
    {
     "name": "stderr",
     "output_type": "stream",
     "text": [
      " 20%|███████▋                               | 124/633 [39:20<2:39:12, 18.77s/it]"
     ]
    },
    {
     "name": "stdout",
     "output_type": "stream",
     "text": [
      "2666650\n"
     ]
    },
    {
     "name": "stderr",
     "output_type": "stream",
     "text": [
      " 20%|███████▋                               | 125/633 [39:38<2:36:47, 18.52s/it]"
     ]
    },
    {
     "name": "stdout",
     "output_type": "stream",
     "text": [
      "3280696\n"
     ]
    },
    {
     "name": "stderr",
     "output_type": "stream",
     "text": [
      " 20%|███████▊                               | 126/633 [39:56<2:35:13, 18.37s/it]"
     ]
    },
    {
     "name": "stdout",
     "output_type": "stream",
     "text": [
      "3172672\n"
     ]
    },
    {
     "name": "stderr",
     "output_type": "stream",
     "text": [
      " 20%|███████▊                               | 127/633 [40:15<2:37:08, 18.63s/it]"
     ]
    },
    {
     "name": "stdout",
     "output_type": "stream",
     "text": [
      "2607015\n"
     ]
    },
    {
     "name": "stderr",
     "output_type": "stream",
     "text": [
      " 20%|███████▉                               | 128/633 [40:32<2:33:27, 18.23s/it]"
     ]
    },
    {
     "name": "stdout",
     "output_type": "stream",
     "text": [
      "3759724\n"
     ]
    },
    {
     "name": "stderr",
     "output_type": "stream",
     "text": [
      " 20%|███████▉                               | 129/633 [40:51<2:34:14, 18.36s/it]"
     ]
    },
    {
     "name": "stdout",
     "output_type": "stream",
     "text": [
      "3101337\n"
     ]
    },
    {
     "name": "stderr",
     "output_type": "stream",
     "text": [
      " 21%|████████                               | 130/633 [41:10<2:34:41, 18.45s/it]"
     ]
    },
    {
     "name": "stdout",
     "output_type": "stream",
     "text": [
      "3348538\n"
     ]
    },
    {
     "name": "stderr",
     "output_type": "stream",
     "text": [
      " 21%|████████                               | 131/633 [41:29<2:37:13, 18.79s/it]"
     ]
    },
    {
     "name": "stdout",
     "output_type": "stream",
     "text": [
      "3004243\n"
     ]
    },
    {
     "name": "stderr",
     "output_type": "stream",
     "text": [
      " 21%|████████▏                              | 132/633 [41:47<2:35:28, 18.62s/it]"
     ]
    },
    {
     "name": "stdout",
     "output_type": "stream",
     "text": [
      "3511863\n"
     ]
    },
    {
     "name": "stderr",
     "output_type": "stream",
     "text": [
      " 21%|████████▏                              | 133/633 [42:06<2:36:25, 18.77s/it]"
     ]
    },
    {
     "name": "stdout",
     "output_type": "stream",
     "text": [
      "3220697\n"
     ]
    },
    {
     "name": "stderr",
     "output_type": "stream",
     "text": [
      " 21%|████████▎                              | 134/633 [42:25<2:35:49, 18.74s/it]"
     ]
    },
    {
     "name": "stdout",
     "output_type": "stream",
     "text": [
      "2451270\n"
     ]
    },
    {
     "name": "stderr",
     "output_type": "stream",
     "text": [
      " 21%|████████▎                              | 135/633 [42:42<2:31:30, 18.25s/it]"
     ]
    },
    {
     "name": "stdout",
     "output_type": "stream",
     "text": [
      "2670504\n"
     ]
    },
    {
     "name": "stderr",
     "output_type": "stream",
     "text": [
      " 21%|████████▍                              | 136/633 [42:59<2:27:12, 17.77s/it]"
     ]
    },
    {
     "name": "stdout",
     "output_type": "stream",
     "text": [
      "2900683\n"
     ]
    },
    {
     "name": "stderr",
     "output_type": "stream",
     "text": [
      " 22%|████████▍                              | 137/633 [43:16<2:25:48, 17.64s/it]"
     ]
    },
    {
     "name": "stdout",
     "output_type": "stream",
     "text": [
      "3148191\n"
     ]
    },
    {
     "name": "stderr",
     "output_type": "stream",
     "text": [
      " 22%|████████▌                              | 138/633 [43:36<2:29:59, 18.18s/it]"
     ]
    },
    {
     "name": "stdout",
     "output_type": "stream",
     "text": [
      "2638579\n"
     ]
    },
    {
     "name": "stderr",
     "output_type": "stream",
     "text": [
      " 22%|████████▌                              | 139/633 [43:56<2:34:52, 18.81s/it]"
     ]
    },
    {
     "name": "stdout",
     "output_type": "stream",
     "text": [
      "2649018\n"
     ]
    },
    {
     "name": "stderr",
     "output_type": "stream",
     "text": [
      " 22%|████████▋                              | 140/633 [44:16<2:38:17, 19.27s/it]"
     ]
    },
    {
     "name": "stdout",
     "output_type": "stream",
     "text": [
      "2463216\n"
     ]
    },
    {
     "name": "stderr",
     "output_type": "stream",
     "text": [
      " 22%|████████▋                              | 141/633 [44:36<2:38:05, 19.28s/it]"
     ]
    },
    {
     "name": "stdout",
     "output_type": "stream",
     "text": [
      "3251268\n"
     ]
    },
    {
     "name": "stderr",
     "output_type": "stream",
     "text": [
      " 22%|████████▋                              | 142/633 [44:57<2:42:31, 19.86s/it]"
     ]
    },
    {
     "name": "stdout",
     "output_type": "stream",
     "text": [
      "2761077\n"
     ]
    },
    {
     "name": "stderr",
     "output_type": "stream",
     "text": [
      " 23%|████████▊                              | 143/633 [45:17<2:42:07, 19.85s/it]"
     ]
    },
    {
     "name": "stdout",
     "output_type": "stream",
     "text": [
      "3095904\n"
     ]
    },
    {
     "name": "stderr",
     "output_type": "stream",
     "text": [
      " 23%|████████▊                              | 144/633 [45:37<2:43:02, 20.01s/it]"
     ]
    },
    {
     "name": "stdout",
     "output_type": "stream",
     "text": [
      "3413490\n"
     ]
    },
    {
     "name": "stderr",
     "output_type": "stream",
     "text": [
      " 23%|████████▉                              | 145/633 [45:59<2:47:05, 20.54s/it]"
     ]
    },
    {
     "name": "stdout",
     "output_type": "stream",
     "text": [
      "2676828\n"
     ]
    },
    {
     "name": "stderr",
     "output_type": "stream",
     "text": [
      " 23%|████████▉                              | 146/633 [46:18<2:44:24, 20.26s/it]"
     ]
    },
    {
     "name": "stdout",
     "output_type": "stream",
     "text": [
      "4293162\n"
     ]
    },
    {
     "name": "stderr",
     "output_type": "stream",
     "text": [
      " 23%|█████████                              | 147/633 [46:42<2:51:33, 21.18s/it]"
     ]
    },
    {
     "name": "stdout",
     "output_type": "stream",
     "text": [
      "3025169\n"
     ]
    },
    {
     "name": "stderr",
     "output_type": "stream",
     "text": [
      " 23%|█████████                              | 148/633 [47:02<2:49:56, 21.02s/it]"
     ]
    },
    {
     "name": "stdout",
     "output_type": "stream",
     "text": [
      "2868978\n"
     ]
    },
    {
     "name": "stderr",
     "output_type": "stream",
     "text": [
      " 24%|█████████▏                             | 149/633 [47:22<2:47:04, 20.71s/it]"
     ]
    },
    {
     "name": "stdout",
     "output_type": "stream",
     "text": [
      "2797872\n"
     ]
    },
    {
     "name": "stderr",
     "output_type": "stream",
     "text": [
      " 24%|█████████▏                             | 150/633 [47:43<2:45:24, 20.55s/it]"
     ]
    },
    {
     "name": "stdout",
     "output_type": "stream",
     "text": [
      "3014942\n"
     ]
    },
    {
     "name": "stderr",
     "output_type": "stream",
     "text": [
      " 24%|█████████▎                             | 151/633 [48:03<2:44:25, 20.47s/it]"
     ]
    },
    {
     "name": "stdout",
     "output_type": "stream",
     "text": [
      "2473901\n"
     ]
    },
    {
     "name": "stderr",
     "output_type": "stream",
     "text": [
      " 24%|█████████▎                             | 152/633 [48:22<2:41:35, 20.16s/it]"
     ]
    },
    {
     "name": "stdout",
     "output_type": "stream",
     "text": [
      "2492768\n"
     ]
    },
    {
     "name": "stderr",
     "output_type": "stream",
     "text": [
      " 24%|█████████▍                             | 153/633 [48:41<2:38:20, 19.79s/it]"
     ]
    },
    {
     "name": "stdout",
     "output_type": "stream",
     "text": [
      "3151778\n"
     ]
    },
    {
     "name": "stderr",
     "output_type": "stream",
     "text": [
      " 24%|█████████▍                             | 154/633 [49:02<2:39:42, 20.00s/it]"
     ]
    },
    {
     "name": "stdout",
     "output_type": "stream",
     "text": [
      "3246536\n"
     ]
    },
    {
     "name": "stderr",
     "output_type": "stream",
     "text": [
      " 24%|█████████▌                             | 155/633 [49:23<2:42:28, 20.40s/it]"
     ]
    },
    {
     "name": "stdout",
     "output_type": "stream",
     "text": [
      "3940429\n"
     ]
    },
    {
     "name": "stderr",
     "output_type": "stream",
     "text": [
      " 25%|█████████▌                             | 156/633 [49:44<2:44:43, 20.72s/it]"
     ]
    },
    {
     "name": "stdout",
     "output_type": "stream",
     "text": [
      "2544223\n"
     ]
    },
    {
     "name": "stderr",
     "output_type": "stream",
     "text": [
      " 25%|█████████▋                             | 157/633 [50:07<2:48:13, 21.20s/it]"
     ]
    },
    {
     "name": "stdout",
     "output_type": "stream",
     "text": [
      "2619874\n"
     ]
    },
    {
     "name": "stderr",
     "output_type": "stream",
     "text": [
      " 25%|█████████▋                             | 158/633 [50:26<2:42:51, 20.57s/it]"
     ]
    },
    {
     "name": "stdout",
     "output_type": "stream",
     "text": [
      "2849128\n"
     ]
    },
    {
     "name": "stderr",
     "output_type": "stream",
     "text": [
      " 25%|█████████▊                             | 159/633 [50:45<2:39:15, 20.16s/it]"
     ]
    },
    {
     "name": "stdout",
     "output_type": "stream",
     "text": [
      "2489072\n"
     ]
    },
    {
     "name": "stderr",
     "output_type": "stream",
     "text": [
      " 25%|█████████▊                             | 160/633 [51:00<2:27:25, 18.70s/it]"
     ]
    },
    {
     "name": "stdout",
     "output_type": "stream",
     "text": [
      "2966544\n"
     ]
    },
    {
     "name": "stderr",
     "output_type": "stream",
     "text": [
      " 25%|█████████▉                             | 161/633 [51:18<2:24:48, 18.41s/it]"
     ]
    },
    {
     "name": "stdout",
     "output_type": "stream",
     "text": [
      "2598398\n"
     ]
    },
    {
     "name": "stderr",
     "output_type": "stream",
     "text": [
      " 26%|█████████▉                             | 162/633 [51:37<2:26:26, 18.66s/it]"
     ]
    },
    {
     "name": "stdout",
     "output_type": "stream",
     "text": [
      "2601342\n"
     ]
    },
    {
     "name": "stderr",
     "output_type": "stream",
     "text": [
      " 26%|██████████                             | 163/633 [51:57<2:27:43, 18.86s/it]"
     ]
    },
    {
     "name": "stdout",
     "output_type": "stream",
     "text": [
      "3393040\n"
     ]
    },
    {
     "name": "stderr",
     "output_type": "stream",
     "text": [
      " 26%|██████████                             | 164/633 [52:16<2:28:37, 19.01s/it]"
     ]
    },
    {
     "name": "stdout",
     "output_type": "stream",
     "text": [
      "4409890\n"
     ]
    },
    {
     "name": "stderr",
     "output_type": "stream",
     "text": [
      " 26%|██████████▏                            | 165/633 [52:36<2:30:06, 19.24s/it]"
     ]
    },
    {
     "name": "stdout",
     "output_type": "stream",
     "text": [
      "5067673\n"
     ]
    },
    {
     "name": "stderr",
     "output_type": "stream",
     "text": [
      " 26%|██████████▏                            | 166/633 [53:01<2:42:36, 20.89s/it]"
     ]
    },
    {
     "name": "stdout",
     "output_type": "stream",
     "text": [
      "2403166\n"
     ]
    },
    {
     "name": "stderr",
     "output_type": "stream",
     "text": [
      " 26%|██████████▎                            | 167/633 [53:16<2:29:57, 19.31s/it]"
     ]
    },
    {
     "name": "stdout",
     "output_type": "stream",
     "text": [
      "3069051\n"
     ]
    },
    {
     "name": "stderr",
     "output_type": "stream",
     "text": [
      " 27%|██████████▎                            | 168/633 [53:33<2:23:40, 18.54s/it]"
     ]
    },
    {
     "name": "stdout",
     "output_type": "stream",
     "text": [
      "2771657\n"
     ]
    },
    {
     "name": "stderr",
     "output_type": "stream",
     "text": [
      " 27%|██████████▍                            | 169/633 [53:49<2:18:21, 17.89s/it]"
     ]
    },
    {
     "name": "stdout",
     "output_type": "stream",
     "text": [
      "3393605\n"
     ]
    },
    {
     "name": "stderr",
     "output_type": "stream",
     "text": [
      " 27%|██████████▍                            | 170/633 [54:07<2:16:30, 17.69s/it]"
     ]
    },
    {
     "name": "stdout",
     "output_type": "stream",
     "text": [
      "2835596\n"
     ]
    },
    {
     "name": "stderr",
     "output_type": "stream",
     "text": [
      " 27%|██████████▌                            | 171/633 [54:23<2:12:17, 17.18s/it]"
     ]
    },
    {
     "name": "stdout",
     "output_type": "stream",
     "text": [
      "4023559\n"
     ]
    },
    {
     "name": "stderr",
     "output_type": "stream",
     "text": [
      " 27%|██████████▌                            | 172/633 [54:47<2:28:03, 19.27s/it]"
     ]
    },
    {
     "name": "stdout",
     "output_type": "stream",
     "text": [
      "3283399\n"
     ]
    },
    {
     "name": "stderr",
     "output_type": "stream",
     "text": [
      " 27%|██████████▋                            | 173/633 [55:04<2:23:40, 18.74s/it]"
     ]
    },
    {
     "name": "stdout",
     "output_type": "stream",
     "text": [
      "3569996\n"
     ]
    },
    {
     "name": "stderr",
     "output_type": "stream",
     "text": [
      " 27%|██████████▋                            | 174/633 [55:22<2:22:05, 18.57s/it]"
     ]
    },
    {
     "name": "stdout",
     "output_type": "stream",
     "text": [
      "3098225\n"
     ]
    },
    {
     "name": "stderr",
     "output_type": "stream",
     "text": [
      " 28%|██████████▊                            | 175/633 [55:39<2:17:11, 17.97s/it]"
     ]
    },
    {
     "name": "stdout",
     "output_type": "stream",
     "text": [
      "3763235\n"
     ]
    },
    {
     "name": "stderr",
     "output_type": "stream",
     "text": [
      " 28%|██████████▊                            | 176/633 [55:57<2:18:03, 18.13s/it]"
     ]
    },
    {
     "name": "stdout",
     "output_type": "stream",
     "text": [
      "3691071\n"
     ]
    },
    {
     "name": "stderr",
     "output_type": "stream",
     "text": [
      " 28%|██████████▉                            | 177/633 [56:15<2:17:21, 18.07s/it]"
     ]
    },
    {
     "name": "stdout",
     "output_type": "stream",
     "text": [
      "2588204\n"
     ]
    },
    {
     "name": "stderr",
     "output_type": "stream",
     "text": [
      " 28%|██████████▉                            | 178/633 [56:31<2:11:48, 17.38s/it]"
     ]
    },
    {
     "name": "stdout",
     "output_type": "stream",
     "text": [
      "3613090\n"
     ]
    },
    {
     "name": "stderr",
     "output_type": "stream",
     "text": [
      " 28%|███████████                            | 179/633 [56:49<2:13:23, 17.63s/it]"
     ]
    },
    {
     "name": "stdout",
     "output_type": "stream",
     "text": [
      "2810133\n"
     ]
    },
    {
     "name": "stderr",
     "output_type": "stream",
     "text": [
      " 28%|███████████                            | 180/633 [57:06<2:11:46, 17.45s/it]"
     ]
    },
    {
     "name": "stdout",
     "output_type": "stream",
     "text": [
      "3379363\n"
     ]
    },
    {
     "name": "stderr",
     "output_type": "stream",
     "text": [
      " 29%|███████████▏                           | 181/633 [57:24<2:11:57, 17.52s/it]"
     ]
    },
    {
     "name": "stdout",
     "output_type": "stream",
     "text": [
      "2477367\n"
     ]
    },
    {
     "name": "stderr",
     "output_type": "stream",
     "text": [
      " 29%|███████████▏                           | 182/633 [57:41<2:09:30, 17.23s/it]"
     ]
    },
    {
     "name": "stdout",
     "output_type": "stream",
     "text": [
      "3388489\n"
     ]
    },
    {
     "name": "stderr",
     "output_type": "stream",
     "text": [
      " 29%|███████████▎                           | 183/633 [57:58<2:09:27, 17.26s/it]"
     ]
    },
    {
     "name": "stdout",
     "output_type": "stream",
     "text": [
      "4944316\n"
     ]
    },
    {
     "name": "stderr",
     "output_type": "stream",
     "text": [
      " 29%|███████████▎                           | 184/633 [58:21<2:22:56, 19.10s/it]"
     ]
    },
    {
     "name": "stdout",
     "output_type": "stream",
     "text": [
      "2556478\n"
     ]
    },
    {
     "name": "stderr",
     "output_type": "stream",
     "text": [
      " 29%|███████████▍                           | 185/633 [58:38<2:16:52, 18.33s/it]"
     ]
    },
    {
     "name": "stdout",
     "output_type": "stream",
     "text": [
      "3224485\n"
     ]
    },
    {
     "name": "stderr",
     "output_type": "stream",
     "text": [
      " 29%|███████████▍                           | 186/633 [58:55<2:13:02, 17.86s/it]"
     ]
    },
    {
     "name": "stdout",
     "output_type": "stream",
     "text": [
      "3782457\n"
     ]
    },
    {
     "name": "stderr",
     "output_type": "stream",
     "text": [
      " 30%|███████████▌                           | 187/633 [59:14<2:15:37, 18.25s/it]"
     ]
    },
    {
     "name": "stdout",
     "output_type": "stream",
     "text": [
      "3732399\n"
     ]
    },
    {
     "name": "stderr",
     "output_type": "stream",
     "text": [
      " 30%|███████████▌                           | 188/633 [59:34<2:19:06, 18.76s/it]"
     ]
    },
    {
     "name": "stdout",
     "output_type": "stream",
     "text": [
      "2589630\n"
     ]
    },
    {
     "name": "stderr",
     "output_type": "stream",
     "text": [
      " 30%|███████████▋                           | 189/633 [59:52<2:17:00, 18.51s/it]"
     ]
    },
    {
     "name": "stdout",
     "output_type": "stream",
     "text": [
      "5365284\n"
     ]
    },
    {
     "name": "stderr",
     "output_type": "stream",
     "text": [
      " 30%|███████████                          | 190/633 [1:00:14<2:25:51, 19.76s/it]"
     ]
    },
    {
     "name": "stdout",
     "output_type": "stream",
     "text": [
      "3182184\n"
     ]
    },
    {
     "name": "stderr",
     "output_type": "stream",
     "text": [
      " 30%|███████████▏                         | 191/633 [1:00:34<2:24:58, 19.68s/it]"
     ]
    },
    {
     "name": "stdout",
     "output_type": "stream",
     "text": [
      "2789895\n"
     ]
    },
    {
     "name": "stderr",
     "output_type": "stream",
     "text": [
      " 30%|███████████▏                         | 192/633 [1:00:55<2:27:28, 20.07s/it]"
     ]
    },
    {
     "name": "stdout",
     "output_type": "stream",
     "text": [
      "3122685\n"
     ]
    },
    {
     "name": "stderr",
     "output_type": "stream",
     "text": [
      " 30%|███████████▎                         | 193/633 [1:01:12<2:21:36, 19.31s/it]"
     ]
    },
    {
     "name": "stdout",
     "output_type": "stream",
     "text": [
      "3161684\n"
     ]
    },
    {
     "name": "stderr",
     "output_type": "stream",
     "text": [
      " 31%|███████████▎                         | 194/633 [1:01:33<2:23:38, 19.63s/it]"
     ]
    },
    {
     "name": "stdout",
     "output_type": "stream",
     "text": [
      "3745887\n"
     ]
    },
    {
     "name": "stderr",
     "output_type": "stream",
     "text": [
      " 31%|███████████▍                         | 195/633 [1:01:52<2:23:16, 19.63s/it]"
     ]
    },
    {
     "name": "stdout",
     "output_type": "stream",
     "text": [
      "2883072\n"
     ]
    },
    {
     "name": "stderr",
     "output_type": "stream",
     "text": [
      " 31%|███████████▍                         | 196/633 [1:02:13<2:25:46, 20.01s/it]"
     ]
    },
    {
     "name": "stdout",
     "output_type": "stream",
     "text": [
      "3222972\n"
     ]
    },
    {
     "name": "stderr",
     "output_type": "stream",
     "text": [
      " 31%|███████████▌                         | 197/633 [1:02:32<2:23:42, 19.78s/it]"
     ]
    },
    {
     "name": "stdout",
     "output_type": "stream",
     "text": [
      "2941586\n"
     ]
    },
    {
     "name": "stderr",
     "output_type": "stream",
     "text": [
      " 31%|███████████▌                         | 198/633 [1:02:56<2:31:50, 20.94s/it]"
     ]
    },
    {
     "name": "stdout",
     "output_type": "stream",
     "text": [
      "3024248\n"
     ]
    },
    {
     "name": "stderr",
     "output_type": "stream",
     "text": [
      " 31%|███████████▋                         | 199/633 [1:03:19<2:36:12, 21.60s/it]"
     ]
    },
    {
     "name": "stdout",
     "output_type": "stream",
     "text": [
      "4151370\n"
     ]
    },
    {
     "name": "stderr",
     "output_type": "stream",
     "text": [
      " 32%|███████████▋                         | 200/633 [1:03:45<2:43:45, 22.69s/it]"
     ]
    },
    {
     "name": "stdout",
     "output_type": "stream",
     "text": [
      "2695687\n"
     ]
    },
    {
     "name": "stderr",
     "output_type": "stream",
     "text": [
      " 32%|███████████▋                         | 201/633 [1:04:04<2:35:42, 21.63s/it]"
     ]
    },
    {
     "name": "stdout",
     "output_type": "stream",
     "text": [
      "2616161\n"
     ]
    },
    {
     "name": "stderr",
     "output_type": "stream",
     "text": [
      " 32%|███████████▊                         | 202/633 [1:04:20<2:24:24, 20.10s/it]"
     ]
    },
    {
     "name": "stdout",
     "output_type": "stream",
     "text": [
      "2915454\n"
     ]
    },
    {
     "name": "stderr",
     "output_type": "stream",
     "text": [
      " 32%|███████████▊                         | 203/633 [1:04:42<2:27:36, 20.60s/it]"
     ]
    },
    {
     "name": "stdout",
     "output_type": "stream",
     "text": [
      "2592579\n"
     ]
    },
    {
     "name": "stderr",
     "output_type": "stream",
     "text": [
      " 32%|███████████▉                         | 204/633 [1:04:58<2:16:33, 19.10s/it]"
     ]
    },
    {
     "name": "stdout",
     "output_type": "stream",
     "text": [
      "3698973\n"
     ]
    },
    {
     "name": "stderr",
     "output_type": "stream",
     "text": [
      " 32%|███████████▉                         | 205/633 [1:05:16<2:13:49, 18.76s/it]"
     ]
    },
    {
     "name": "stdout",
     "output_type": "stream",
     "text": [
      "3167613\n"
     ]
    },
    {
     "name": "stderr",
     "output_type": "stream",
     "text": [
      " 33%|████████████                         | 206/633 [1:05:33<2:09:51, 18.25s/it]"
     ]
    },
    {
     "name": "stdout",
     "output_type": "stream",
     "text": [
      "2517912\n"
     ]
    },
    {
     "name": "stderr",
     "output_type": "stream",
     "text": [
      " 33%|████████████                         | 207/633 [1:05:48<2:04:15, 17.50s/it]"
     ]
    },
    {
     "name": "stdout",
     "output_type": "stream",
     "text": [
      "2970323\n"
     ]
    },
    {
     "name": "stderr",
     "output_type": "stream",
     "text": [
      " 33%|████████████▏                        | 208/633 [1:06:05<2:03:01, 17.37s/it]"
     ]
    },
    {
     "name": "stdout",
     "output_type": "stream",
     "text": [
      "3234805\n"
     ]
    },
    {
     "name": "stderr",
     "output_type": "stream",
     "text": [
      " 33%|████████████▏                        | 209/633 [1:06:24<2:04:51, 17.67s/it]"
     ]
    },
    {
     "name": "stdout",
     "output_type": "stream",
     "text": [
      "2633809\n"
     ]
    },
    {
     "name": "stderr",
     "output_type": "stream",
     "text": [
      " 33%|████████████▎                        | 210/633 [1:06:40<2:02:00, 17.31s/it]"
     ]
    },
    {
     "name": "stdout",
     "output_type": "stream",
     "text": [
      "2840162\n"
     ]
    },
    {
     "name": "stderr",
     "output_type": "stream",
     "text": [
      " 33%|████████████▎                        | 211/633 [1:06:57<1:59:54, 17.05s/it]"
     ]
    },
    {
     "name": "stdout",
     "output_type": "stream",
     "text": [
      "2496615\n"
     ]
    },
    {
     "name": "stderr",
     "output_type": "stream",
     "text": [
      " 33%|████████████▍                        | 212/633 [1:07:14<1:59:20, 17.01s/it]"
     ]
    },
    {
     "name": "stdout",
     "output_type": "stream",
     "text": [
      "2753917\n"
     ]
    },
    {
     "name": "stderr",
     "output_type": "stream",
     "text": [
      " 34%|████████████▍                        | 213/633 [1:07:30<1:56:51, 16.69s/it]"
     ]
    },
    {
     "name": "stdout",
     "output_type": "stream",
     "text": [
      "2524482\n"
     ]
    },
    {
     "name": "stderr",
     "output_type": "stream",
     "text": [
      " 34%|████████████▌                        | 214/633 [1:07:45<1:53:37, 16.27s/it]"
     ]
    },
    {
     "name": "stdout",
     "output_type": "stream",
     "text": [
      "3024196\n"
     ]
    },
    {
     "name": "stderr",
     "output_type": "stream",
     "text": [
      " 34%|████████████▌                        | 215/633 [1:08:01<1:54:06, 16.38s/it]"
     ]
    },
    {
     "name": "stdout",
     "output_type": "stream",
     "text": [
      "2661585\n"
     ]
    },
    {
     "name": "stderr",
     "output_type": "stream",
     "text": [
      " 34%|████████████▋                        | 216/633 [1:08:20<1:57:44, 16.94s/it]"
     ]
    },
    {
     "name": "stdout",
     "output_type": "stream",
     "text": [
      "4011595\n"
     ]
    },
    {
     "name": "stderr",
     "output_type": "stream",
     "text": [
      " 34%|████████████▋                        | 217/633 [1:08:40<2:03:39, 17.84s/it]"
     ]
    },
    {
     "name": "stdout",
     "output_type": "stream",
     "text": [
      "2788214\n"
     ]
    },
    {
     "name": "stderr",
     "output_type": "stream",
     "text": [
      " 34%|████████████▋                        | 218/633 [1:08:58<2:04:30, 18.00s/it]"
     ]
    },
    {
     "name": "stdout",
     "output_type": "stream",
     "text": [
      "3774551\n"
     ]
    },
    {
     "name": "stderr",
     "output_type": "stream",
     "text": [
      " 35%|████████████▊                        | 219/633 [1:09:17<2:05:59, 18.26s/it]"
     ]
    },
    {
     "name": "stdout",
     "output_type": "stream",
     "text": [
      "3193773\n"
     ]
    },
    {
     "name": "stderr",
     "output_type": "stream",
     "text": [
      " 35%|████████████▊                        | 220/633 [1:09:37<2:09:51, 18.87s/it]"
     ]
    },
    {
     "name": "stdout",
     "output_type": "stream",
     "text": [
      "2857766\n"
     ]
    },
    {
     "name": "stderr",
     "output_type": "stream",
     "text": [
      " 35%|████████████▉                        | 221/633 [1:09:58<2:13:32, 19.45s/it]"
     ]
    },
    {
     "name": "stdout",
     "output_type": "stream",
     "text": [
      "2519000\n"
     ]
    },
    {
     "name": "stderr",
     "output_type": "stream",
     "text": [
      " 35%|████████████▉                        | 222/633 [1:10:15<2:09:01, 18.84s/it]"
     ]
    },
    {
     "name": "stdout",
     "output_type": "stream",
     "text": [
      "2580295\n"
     ]
    },
    {
     "name": "stderr",
     "output_type": "stream",
     "text": [
      " 35%|█████████████                        | 223/633 [1:10:31<2:03:04, 18.01s/it]"
     ]
    },
    {
     "name": "stdout",
     "output_type": "stream",
     "text": [
      "3180617\n"
     ]
    },
    {
     "name": "stderr",
     "output_type": "stream",
     "text": [
      " 35%|█████████████                        | 224/633 [1:10:49<2:01:29, 17.82s/it]"
     ]
    },
    {
     "name": "stdout",
     "output_type": "stream",
     "text": [
      "3011476\n"
     ]
    },
    {
     "name": "stderr",
     "output_type": "stream",
     "text": [
      " 36%|█████████████▏                       | 225/633 [1:11:08<2:03:00, 18.09s/it]"
     ]
    },
    {
     "name": "stdout",
     "output_type": "stream",
     "text": [
      "2900254\n"
     ]
    },
    {
     "name": "stderr",
     "output_type": "stream",
     "text": [
      " 36%|█████████████▏                       | 226/633 [1:11:26<2:03:21, 18.18s/it]"
     ]
    },
    {
     "name": "stdout",
     "output_type": "stream",
     "text": [
      "2771762\n"
     ]
    },
    {
     "name": "stderr",
     "output_type": "stream",
     "text": [
      " 36%|█████████████▎                       | 227/633 [1:11:44<2:02:15, 18.07s/it]"
     ]
    },
    {
     "name": "stdout",
     "output_type": "stream",
     "text": [
      "2968885\n"
     ]
    },
    {
     "name": "stderr",
     "output_type": "stream",
     "text": [
      " 36%|█████████████▎                       | 228/633 [1:12:01<2:00:29, 17.85s/it]"
     ]
    },
    {
     "name": "stdout",
     "output_type": "stream",
     "text": [
      "2990413\n"
     ]
    },
    {
     "name": "stderr",
     "output_type": "stream",
     "text": [
      " 36%|█████████████▍                       | 229/633 [1:12:20<2:02:09, 18.14s/it]"
     ]
    },
    {
     "name": "stdout",
     "output_type": "stream",
     "text": [
      "3054535\n"
     ]
    },
    {
     "name": "stderr",
     "output_type": "stream",
     "text": [
      " 36%|█████████████▍                       | 230/633 [1:12:39<2:04:41, 18.56s/it]"
     ]
    },
    {
     "name": "stdout",
     "output_type": "stream",
     "text": [
      "3179107\n"
     ]
    },
    {
     "name": "stderr",
     "output_type": "stream",
     "text": [
      " 36%|█████████████▌                       | 231/633 [1:12:59<2:07:03, 18.96s/it]"
     ]
    },
    {
     "name": "stdout",
     "output_type": "stream",
     "text": [
      "2597900\n"
     ]
    },
    {
     "name": "stderr",
     "output_type": "stream",
     "text": [
      " 37%|█████████████▌                       | 232/633 [1:13:23<2:15:32, 20.28s/it]"
     ]
    },
    {
     "name": "stdout",
     "output_type": "stream",
     "text": [
      "3303510\n"
     ]
    },
    {
     "name": "stderr",
     "output_type": "stream",
     "text": [
      " 37%|█████████████▌                       | 233/633 [1:13:44<2:16:20, 20.45s/it]"
     ]
    },
    {
     "name": "stdout",
     "output_type": "stream",
     "text": [
      "2496172\n"
     ]
    },
    {
     "name": "stderr",
     "output_type": "stream",
     "text": [
      " 37%|█████████████▋                       | 234/633 [1:14:03<2:12:58, 20.00s/it]"
     ]
    },
    {
     "name": "stdout",
     "output_type": "stream",
     "text": [
      "3396300\n"
     ]
    },
    {
     "name": "stderr",
     "output_type": "stream",
     "text": [
      " 37%|█████████████▋                       | 235/633 [1:14:25<2:18:12, 20.84s/it]"
     ]
    },
    {
     "name": "stdout",
     "output_type": "stream",
     "text": [
      "3019439\n"
     ]
    },
    {
     "name": "stderr",
     "output_type": "stream",
     "text": [
      " 37%|█████████████▊                       | 236/633 [1:14:44<2:14:10, 20.28s/it]"
     ]
    },
    {
     "name": "stdout",
     "output_type": "stream",
     "text": [
      "3166114\n"
     ]
    },
    {
     "name": "stderr",
     "output_type": "stream",
     "text": [
      " 37%|█████████████▊                       | 237/633 [1:15:04<2:12:35, 20.09s/it]"
     ]
    },
    {
     "name": "stdout",
     "output_type": "stream",
     "text": [
      "2856068\n"
     ]
    },
    {
     "name": "stderr",
     "output_type": "stream",
     "text": [
      " 38%|█████████████▉                       | 238/633 [1:15:23<2:11:03, 19.91s/it]"
     ]
    },
    {
     "name": "stdout",
     "output_type": "stream",
     "text": [
      "2896613\n"
     ]
    },
    {
     "name": "stderr",
     "output_type": "stream",
     "text": [
      " 38%|█████████████▉                       | 239/633 [1:15:41<2:06:58, 19.34s/it]"
     ]
    },
    {
     "name": "stdout",
     "output_type": "stream",
     "text": [
      "3037507\n"
     ]
    },
    {
     "name": "stderr",
     "output_type": "stream",
     "text": [
      " 38%|██████████████                       | 240/633 [1:16:00<2:05:21, 19.14s/it]"
     ]
    },
    {
     "name": "stdout",
     "output_type": "stream",
     "text": [
      "2640575\n"
     ]
    },
    {
     "name": "stderr",
     "output_type": "stream",
     "text": [
      " 38%|██████████████                       | 241/633 [1:16:20<2:05:34, 19.22s/it]"
     ]
    },
    {
     "name": "stdout",
     "output_type": "stream",
     "text": [
      "4287191\n"
     ]
    },
    {
     "name": "stderr",
     "output_type": "stream",
     "text": [
      " 38%|██████████████▏                      | 242/633 [1:16:39<2:05:12, 19.21s/it]"
     ]
    },
    {
     "name": "stdout",
     "output_type": "stream",
     "text": [
      "2952234\n"
     ]
    },
    {
     "name": "stderr",
     "output_type": "stream",
     "text": [
      " 38%|██████████████▏                      | 243/633 [1:16:56<2:01:47, 18.74s/it]"
     ]
    },
    {
     "name": "stdout",
     "output_type": "stream",
     "text": [
      "3279198\n"
     ]
    },
    {
     "name": "stderr",
     "output_type": "stream",
     "text": [
      " 39%|██████████████▎                      | 244/633 [1:17:15<2:00:40, 18.61s/it]"
     ]
    },
    {
     "name": "stdout",
     "output_type": "stream",
     "text": [
      "2745087\n"
     ]
    },
    {
     "name": "stderr",
     "output_type": "stream",
     "text": [
      " 39%|██████████████▎                      | 245/633 [1:17:32<1:57:45, 18.21s/it]"
     ]
    },
    {
     "name": "stdout",
     "output_type": "stream",
     "text": [
      "3006785\n"
     ]
    },
    {
     "name": "stderr",
     "output_type": "stream",
     "text": [
      " 39%|██████████████▍                      | 246/633 [1:17:49<1:55:02, 17.84s/it]"
     ]
    },
    {
     "name": "stdout",
     "output_type": "stream",
     "text": [
      "2585889\n"
     ]
    },
    {
     "name": "stderr",
     "output_type": "stream",
     "text": [
      " 39%|██████████████▍                      | 247/633 [1:18:06<1:53:04, 17.58s/it]"
     ]
    },
    {
     "name": "stdout",
     "output_type": "stream",
     "text": [
      "2480537\n"
     ]
    },
    {
     "name": "stderr",
     "output_type": "stream",
     "text": [
      " 39%|██████████████▍                      | 248/633 [1:18:21<1:48:21, 16.89s/it]"
     ]
    },
    {
     "name": "stdout",
     "output_type": "stream",
     "text": [
      "3261514\n"
     ]
    },
    {
     "name": "stderr",
     "output_type": "stream",
     "text": [
      " 39%|██████████████▌                      | 249/633 [1:18:39<1:49:01, 17.04s/it]"
     ]
    },
    {
     "name": "stdout",
     "output_type": "stream",
     "text": [
      "2935755\n"
     ]
    },
    {
     "name": "stderr",
     "output_type": "stream",
     "text": [
      " 39%|██████████████▌                      | 250/633 [1:18:57<1:51:17, 17.44s/it]"
     ]
    },
    {
     "name": "stdout",
     "output_type": "stream",
     "text": [
      "3204831\n"
     ]
    },
    {
     "name": "stderr",
     "output_type": "stream",
     "text": [
      " 40%|██████████████▋                      | 251/633 [1:19:15<1:52:05, 17.61s/it]"
     ]
    },
    {
     "name": "stdout",
     "output_type": "stream",
     "text": [
      "2924651\n"
     ]
    },
    {
     "name": "stderr",
     "output_type": "stream",
     "text": [
      " 40%|██████████████▋                      | 252/633 [1:19:33<1:52:02, 17.64s/it]"
     ]
    },
    {
     "name": "stdout",
     "output_type": "stream",
     "text": [
      "2779517\n"
     ]
    },
    {
     "name": "stderr",
     "output_type": "stream",
     "text": [
      " 40%|██████████████▊                      | 253/633 [1:19:50<1:50:35, 17.46s/it]"
     ]
    },
    {
     "name": "stdout",
     "output_type": "stream",
     "text": [
      "4970024\n"
     ]
    },
    {
     "name": "stderr",
     "output_type": "stream",
     "text": [
      " 40%|██████████████▊                      | 254/633 [1:20:10<1:55:57, 18.36s/it]"
     ]
    },
    {
     "name": "stdout",
     "output_type": "stream",
     "text": [
      "2520984\n"
     ]
    },
    {
     "name": "stderr",
     "output_type": "stream",
     "text": [
      " 40%|██████████████▉                      | 255/633 [1:20:27<1:52:21, 17.83s/it]"
     ]
    },
    {
     "name": "stdout",
     "output_type": "stream",
     "text": [
      "2688935\n"
     ]
    },
    {
     "name": "stderr",
     "output_type": "stream",
     "text": [
      " 40%|██████████████▉                      | 256/633 [1:20:42<1:48:00, 17.19s/it]"
     ]
    },
    {
     "name": "stdout",
     "output_type": "stream",
     "text": [
      "2979813\n"
     ]
    },
    {
     "name": "stderr",
     "output_type": "stream",
     "text": [
      " 41%|███████████████                      | 257/633 [1:21:00<1:47:36, 17.17s/it]"
     ]
    },
    {
     "name": "stdout",
     "output_type": "stream",
     "text": [
      "2748933\n"
     ]
    },
    {
     "name": "stderr",
     "output_type": "stream",
     "text": [
      " 41%|███████████████                      | 258/633 [1:21:18<1:48:49, 17.41s/it]"
     ]
    },
    {
     "name": "stdout",
     "output_type": "stream",
     "text": [
      "3534410\n"
     ]
    },
    {
     "name": "stderr",
     "output_type": "stream",
     "text": [
      " 41%|███████████████▏                     | 259/633 [1:21:36<1:50:12, 17.68s/it]"
     ]
    },
    {
     "name": "stdout",
     "output_type": "stream",
     "text": [
      "2635865\n"
     ]
    },
    {
     "name": "stderr",
     "output_type": "stream",
     "text": [
      " 41%|███████████████▏                     | 260/633 [1:21:53<1:49:02, 17.54s/it]"
     ]
    },
    {
     "name": "stdout",
     "output_type": "stream",
     "text": [
      "2825665\n"
     ]
    },
    {
     "name": "stderr",
     "output_type": "stream",
     "text": [
      " 41%|███████████████▎                     | 261/633 [1:22:10<1:47:01, 17.26s/it]"
     ]
    },
    {
     "name": "stdout",
     "output_type": "stream",
     "text": [
      "2590629\n"
     ]
    },
    {
     "name": "stderr",
     "output_type": "stream",
     "text": [
      " 41%|███████████████▎                     | 262/633 [1:22:27<1:46:51, 17.28s/it]"
     ]
    },
    {
     "name": "stdout",
     "output_type": "stream",
     "text": [
      "2691018\n"
     ]
    },
    {
     "name": "stderr",
     "output_type": "stream",
     "text": [
      " 42%|███████████████▎                     | 263/633 [1:22:44<1:45:30, 17.11s/it]"
     ]
    },
    {
     "name": "stdout",
     "output_type": "stream",
     "text": [
      "2666575\n"
     ]
    },
    {
     "name": "stderr",
     "output_type": "stream",
     "text": [
      " 42%|███████████████▍                     | 264/633 [1:23:00<1:43:04, 16.76s/it]"
     ]
    },
    {
     "name": "stdout",
     "output_type": "stream",
     "text": [
      "2514249\n"
     ]
    },
    {
     "name": "stderr",
     "output_type": "stream",
     "text": [
      " 42%|███████████████▍                     | 265/633 [1:23:16<1:42:11, 16.66s/it]"
     ]
    },
    {
     "name": "stdout",
     "output_type": "stream",
     "text": [
      "3448808\n"
     ]
    },
    {
     "name": "stderr",
     "output_type": "stream",
     "text": [
      " 42%|███████████████▌                     | 266/633 [1:23:38<1:52:16, 18.36s/it]"
     ]
    },
    {
     "name": "stdout",
     "output_type": "stream",
     "text": [
      "3364963\n"
     ]
    },
    {
     "name": "stderr",
     "output_type": "stream",
     "text": [
      " 42%|███████████████▌                     | 267/633 [1:23:59<1:56:58, 19.18s/it]"
     ]
    },
    {
     "name": "stdout",
     "output_type": "stream",
     "text": [
      "3143083\n"
     ]
    },
    {
     "name": "stderr",
     "output_type": "stream",
     "text": [
      " 42%|███████████████▋                     | 268/633 [1:24:21<2:00:15, 19.77s/it]"
     ]
    },
    {
     "name": "stdout",
     "output_type": "stream",
     "text": [
      "2732490\n"
     ]
    },
    {
     "name": "stderr",
     "output_type": "stream",
     "text": [
      " 42%|███████████████▋                     | 269/633 [1:24:37<1:54:35, 18.89s/it]"
     ]
    },
    {
     "name": "stdout",
     "output_type": "stream",
     "text": [
      "3229747\n"
     ]
    },
    {
     "name": "stderr",
     "output_type": "stream",
     "text": [
      " 43%|███████████████▊                     | 270/633 [1:24:54<1:50:25, 18.25s/it]"
     ]
    },
    {
     "name": "stdout",
     "output_type": "stream",
     "text": [
      "2648958\n"
     ]
    },
    {
     "name": "stderr",
     "output_type": "stream",
     "text": [
      " 43%|███████████████▊                     | 271/633 [1:25:11<1:47:28, 17.81s/it]"
     ]
    },
    {
     "name": "stdout",
     "output_type": "stream",
     "text": [
      "2812699\n"
     ]
    },
    {
     "name": "stderr",
     "output_type": "stream",
     "text": [
      " 43%|███████████████▉                     | 272/633 [1:25:27<1:43:53, 17.27s/it]"
     ]
    },
    {
     "name": "stdout",
     "output_type": "stream",
     "text": [
      "2640616\n"
     ]
    },
    {
     "name": "stderr",
     "output_type": "stream",
     "text": [
      " 43%|███████████████▉                     | 273/633 [1:25:43<1:40:33, 16.76s/it]"
     ]
    },
    {
     "name": "stdout",
     "output_type": "stream",
     "text": [
      "3115848\n"
     ]
    },
    {
     "name": "stderr",
     "output_type": "stream",
     "text": [
      " 43%|████████████████                     | 274/633 [1:25:59<1:39:50, 16.69s/it]"
     ]
    },
    {
     "name": "stdout",
     "output_type": "stream",
     "text": [
      "3186155\n"
     ]
    },
    {
     "name": "stderr",
     "output_type": "stream",
     "text": [
      " 43%|████████████████                     | 275/633 [1:26:21<1:48:24, 18.17s/it]"
     ]
    },
    {
     "name": "stdout",
     "output_type": "stream",
     "text": [
      "4566932\n"
     ]
    },
    {
     "name": "stderr",
     "output_type": "stream",
     "text": [
      " 44%|████████████████▏                    | 276/633 [1:26:46<2:00:57, 20.33s/it]"
     ]
    },
    {
     "name": "stdout",
     "output_type": "stream",
     "text": [
      "3280063\n"
     ]
    },
    {
     "name": "stderr",
     "output_type": "stream",
     "text": [
      " 44%|████████████████▏                    | 277/633 [1:27:03<1:54:30, 19.30s/it]"
     ]
    },
    {
     "name": "stdout",
     "output_type": "stream",
     "text": [
      "2751864\n"
     ]
    },
    {
     "name": "stderr",
     "output_type": "stream",
     "text": [
      " 44%|████████████████▏                    | 278/633 [1:27:20<1:50:00, 18.59s/it]"
     ]
    },
    {
     "name": "stdout",
     "output_type": "stream",
     "text": [
      "2802185\n"
     ]
    },
    {
     "name": "stderr",
     "output_type": "stream",
     "text": [
      " 44%|████████████████▎                    | 279/633 [1:27:36<1:45:10, 17.83s/it]"
     ]
    },
    {
     "name": "stdout",
     "output_type": "stream",
     "text": [
      "2704366\n"
     ]
    },
    {
     "name": "stderr",
     "output_type": "stream",
     "text": [
      " 44%|████████████████▎                    | 280/633 [1:27:52<1:41:34, 17.27s/it]"
     ]
    },
    {
     "name": "stdout",
     "output_type": "stream",
     "text": [
      "2488800\n"
     ]
    },
    {
     "name": "stderr",
     "output_type": "stream",
     "text": [
      " 44%|████████████████▍                    | 281/633 [1:28:08<1:38:48, 16.84s/it]"
     ]
    },
    {
     "name": "stdout",
     "output_type": "stream",
     "text": [
      "3000775\n"
     ]
    },
    {
     "name": "stderr",
     "output_type": "stream",
     "text": [
      " 45%|████████████████▍                    | 282/633 [1:28:24<1:37:27, 16.66s/it]"
     ]
    },
    {
     "name": "stdout",
     "output_type": "stream",
     "text": [
      "2719646\n"
     ]
    },
    {
     "name": "stderr",
     "output_type": "stream",
     "text": [
      " 45%|████████████████▌                    | 283/633 [1:28:41<1:37:36, 16.73s/it]"
     ]
    },
    {
     "name": "stdout",
     "output_type": "stream",
     "text": [
      "2609969\n"
     ]
    },
    {
     "name": "stderr",
     "output_type": "stream",
     "text": [
      " 45%|████████████████▌                    | 284/633 [1:28:57<1:35:35, 16.43s/it]"
     ]
    },
    {
     "name": "stdout",
     "output_type": "stream",
     "text": [
      "2843258\n"
     ]
    },
    {
     "name": "stderr",
     "output_type": "stream",
     "text": [
      " 45%|████████████████▋                    | 285/633 [1:29:13<1:35:32, 16.47s/it]"
     ]
    },
    {
     "name": "stdout",
     "output_type": "stream",
     "text": [
      "2535687\n"
     ]
    },
    {
     "name": "stderr",
     "output_type": "stream",
     "text": [
      " 45%|████████████████▋                    | 286/633 [1:29:30<1:36:25, 16.67s/it]"
     ]
    },
    {
     "name": "stdout",
     "output_type": "stream",
     "text": [
      "2820172\n"
     ]
    },
    {
     "name": "stderr",
     "output_type": "stream",
     "text": [
      " 45%|████████████████▊                    | 287/633 [1:29:48<1:37:41, 16.94s/it]"
     ]
    },
    {
     "name": "stdout",
     "output_type": "stream",
     "text": [
      "2668382\n"
     ]
    },
    {
     "name": "stderr",
     "output_type": "stream",
     "text": [
      " 45%|████████████████▊                    | 288/633 [1:30:06<1:39:17, 17.27s/it]"
     ]
    },
    {
     "name": "stdout",
     "output_type": "stream",
     "text": [
      "2543658\n"
     ]
    },
    {
     "name": "stderr",
     "output_type": "stream",
     "text": [
      " 46%|████████████████▉                    | 289/633 [1:30:22<1:37:16, 16.97s/it]"
     ]
    },
    {
     "name": "stdout",
     "output_type": "stream",
     "text": [
      "2938996\n"
     ]
    },
    {
     "name": "stderr",
     "output_type": "stream",
     "text": [
      " 46%|████████████████▉                    | 290/633 [1:30:39<1:37:27, 17.05s/it]"
     ]
    },
    {
     "name": "stdout",
     "output_type": "stream",
     "text": [
      "2885195\n"
     ]
    },
    {
     "name": "stderr",
     "output_type": "stream",
     "text": [
      " 46%|█████████████████                    | 291/633 [1:30:58<1:39:34, 17.47s/it]"
     ]
    },
    {
     "name": "stdout",
     "output_type": "stream",
     "text": [
      "3451141\n"
     ]
    },
    {
     "name": "stderr",
     "output_type": "stream",
     "text": [
      " 46%|█████████████████                    | 292/633 [1:31:17<1:41:57, 17.94s/it]"
     ]
    },
    {
     "name": "stdout",
     "output_type": "stream",
     "text": [
      "3071800\n"
     ]
    },
    {
     "name": "stderr",
     "output_type": "stream",
     "text": [
      " 46%|█████████████████▏                   | 293/633 [1:31:35<1:42:23, 18.07s/it]"
     ]
    },
    {
     "name": "stdout",
     "output_type": "stream",
     "text": [
      "2899622\n"
     ]
    },
    {
     "name": "stderr",
     "output_type": "stream",
     "text": [
      " 46%|█████████████████▏                   | 294/633 [1:31:56<1:45:53, 18.74s/it]"
     ]
    },
    {
     "name": "stdout",
     "output_type": "stream",
     "text": [
      "2580302\n"
     ]
    },
    {
     "name": "stderr",
     "output_type": "stream",
     "text": [
      " 47%|█████████████████▏                   | 295/633 [1:32:16<1:47:50, 19.14s/it]"
     ]
    },
    {
     "name": "stdout",
     "output_type": "stream",
     "text": [
      "3435546\n"
     ]
    },
    {
     "name": "stderr",
     "output_type": "stream",
     "text": [
      " 47%|█████████████████▎                   | 296/633 [1:32:38<1:52:35, 20.05s/it]"
     ]
    },
    {
     "name": "stdout",
     "output_type": "stream",
     "text": [
      "3751472\n"
     ]
    },
    {
     "name": "stderr",
     "output_type": "stream",
     "text": [
      " 47%|█████████████████▎                   | 297/633 [1:33:03<2:00:08, 21.45s/it]"
     ]
    },
    {
     "name": "stdout",
     "output_type": "stream",
     "text": [
      "2594640\n"
     ]
    },
    {
     "name": "stderr",
     "output_type": "stream",
     "text": [
      " 47%|█████████████████▍                   | 298/633 [1:33:22<1:56:19, 20.83s/it]"
     ]
    },
    {
     "name": "stdout",
     "output_type": "stream",
     "text": [
      "2761288\n"
     ]
    },
    {
     "name": "stderr",
     "output_type": "stream",
     "text": [
      " 47%|█████████████████▍                   | 299/633 [1:33:41<1:52:38, 20.23s/it]"
     ]
    },
    {
     "name": "stdout",
     "output_type": "stream",
     "text": [
      "3992139\n"
     ]
    },
    {
     "name": "stderr",
     "output_type": "stream",
     "text": [
      " 47%|█████████████████▌                   | 300/633 [1:34:02<1:54:18, 20.60s/it]"
     ]
    },
    {
     "name": "stdout",
     "output_type": "stream",
     "text": [
      "3319023\n"
     ]
    },
    {
     "name": "stderr",
     "output_type": "stream",
     "text": [
      " 48%|█████████████████▌                   | 301/633 [1:34:23<1:53:59, 20.60s/it]"
     ]
    },
    {
     "name": "stdout",
     "output_type": "stream",
     "text": [
      "3009882\n"
     ]
    },
    {
     "name": "stderr",
     "output_type": "stream",
     "text": [
      " 48%|█████████████████▋                   | 302/633 [1:34:43<1:52:20, 20.36s/it]"
     ]
    },
    {
     "name": "stdout",
     "output_type": "stream",
     "text": [
      "2688105\n"
     ]
    },
    {
     "name": "stderr",
     "output_type": "stream",
     "text": [
      " 48%|█████████████████▋                   | 303/633 [1:35:02<1:49:46, 19.96s/it]"
     ]
    },
    {
     "name": "stdout",
     "output_type": "stream",
     "text": [
      "3147019\n"
     ]
    },
    {
     "name": "stderr",
     "output_type": "stream",
     "text": [
      " 48%|█████████████████▊                   | 304/633 [1:35:22<1:49:33, 19.98s/it]"
     ]
    },
    {
     "name": "stdout",
     "output_type": "stream",
     "text": [
      "2864800\n"
     ]
    },
    {
     "name": "stderr",
     "output_type": "stream",
     "text": [
      " 48%|█████████████████▊                   | 305/633 [1:35:41<1:48:36, 19.87s/it]"
     ]
    },
    {
     "name": "stdout",
     "output_type": "stream",
     "text": [
      "2547254\n"
     ]
    },
    {
     "name": "stderr",
     "output_type": "stream",
     "text": [
      " 48%|█████████████████▉                   | 306/633 [1:36:00<1:46:08, 19.48s/it]"
     ]
    },
    {
     "name": "stdout",
     "output_type": "stream",
     "text": [
      "2929657\n"
     ]
    },
    {
     "name": "stderr",
     "output_type": "stream",
     "text": [
      " 48%|█████████████████▉                   | 307/633 [1:36:20<1:46:22, 19.58s/it]"
     ]
    },
    {
     "name": "stdout",
     "output_type": "stream",
     "text": [
      "2446265\n"
     ]
    },
    {
     "name": "stderr",
     "output_type": "stream",
     "text": [
      " 49%|██████████████████                   | 308/633 [1:36:38<1:44:27, 19.28s/it]"
     ]
    },
    {
     "name": "stdout",
     "output_type": "stream",
     "text": [
      "2589386\n"
     ]
    },
    {
     "name": "stderr",
     "output_type": "stream",
     "text": [
      " 49%|██████████████████                   | 309/633 [1:36:57<1:43:02, 19.08s/it]"
     ]
    },
    {
     "name": "stdout",
     "output_type": "stream",
     "text": [
      "3243163\n"
     ]
    },
    {
     "name": "stderr",
     "output_type": "stream",
     "text": [
      " 49%|██████████████████                   | 310/633 [1:37:17<1:44:35, 19.43s/it]"
     ]
    },
    {
     "name": "stdout",
     "output_type": "stream",
     "text": [
      "3036456\n"
     ]
    },
    {
     "name": "stderr",
     "output_type": "stream",
     "text": [
      " 49%|██████████████████▏                  | 311/633 [1:37:37<1:45:35, 19.68s/it]"
     ]
    },
    {
     "name": "stdout",
     "output_type": "stream",
     "text": [
      "2911322\n"
     ]
    },
    {
     "name": "stderr",
     "output_type": "stream",
     "text": [
      " 49%|██████████████████▏                  | 312/633 [1:37:57<1:44:38, 19.56s/it]"
     ]
    },
    {
     "name": "stdout",
     "output_type": "stream",
     "text": [
      "2977040\n"
     ]
    },
    {
     "name": "stderr",
     "output_type": "stream",
     "text": [
      " 49%|██████████████████▎                  | 313/633 [1:38:17<1:45:28, 19.78s/it]"
     ]
    },
    {
     "name": "stdout",
     "output_type": "stream",
     "text": [
      "3194040\n"
     ]
    },
    {
     "name": "stderr",
     "output_type": "stream",
     "text": [
      " 50%|██████████████████▎                  | 314/633 [1:38:37<1:45:02, 19.76s/it]"
     ]
    },
    {
     "name": "stdout",
     "output_type": "stream",
     "text": [
      "2650219\n"
     ]
    },
    {
     "name": "stderr",
     "output_type": "stream",
     "text": [
      " 50%|██████████████████▍                  | 315/633 [1:38:56<1:43:17, 19.49s/it]"
     ]
    },
    {
     "name": "stdout",
     "output_type": "stream",
     "text": [
      "2887305\n"
     ]
    },
    {
     "name": "stderr",
     "output_type": "stream",
     "text": [
      " 50%|██████████████████▍                  | 316/633 [1:39:15<1:42:49, 19.46s/it]"
     ]
    },
    {
     "name": "stdout",
     "output_type": "stream",
     "text": [
      "3439799\n"
     ]
    },
    {
     "name": "stderr",
     "output_type": "stream",
     "text": [
      " 50%|██████████████████▌                  | 317/633 [1:39:36<1:44:43, 19.88s/it]"
     ]
    },
    {
     "name": "stdout",
     "output_type": "stream",
     "text": [
      "3024238\n"
     ]
    },
    {
     "name": "stderr",
     "output_type": "stream",
     "text": [
      " 50%|██████████████████▌                  | 318/633 [1:39:56<1:44:51, 19.97s/it]"
     ]
    },
    {
     "name": "stdout",
     "output_type": "stream",
     "text": [
      "4934942\n"
     ]
    },
    {
     "name": "stderr",
     "output_type": "stream",
     "text": [
      " 50%|██████████████████▋                  | 319/633 [1:40:21<1:51:41, 21.34s/it]"
     ]
    },
    {
     "name": "stdout",
     "output_type": "stream",
     "text": [
      "2513087\n"
     ]
    },
    {
     "name": "stderr",
     "output_type": "stream",
     "text": [
      " 51%|██████████████████▋                  | 320/633 [1:40:39<1:47:05, 20.53s/it]"
     ]
    },
    {
     "name": "stdout",
     "output_type": "stream",
     "text": [
      "2703431\n"
     ]
    },
    {
     "name": "stderr",
     "output_type": "stream",
     "text": [
      " 51%|██████████████████▊                  | 321/633 [1:40:58<1:43:20, 19.87s/it]"
     ]
    },
    {
     "name": "stdout",
     "output_type": "stream",
     "text": [
      "3008787\n"
     ]
    },
    {
     "name": "stderr",
     "output_type": "stream",
     "text": [
      " 51%|██████████████████▊                  | 322/633 [1:41:17<1:42:44, 19.82s/it]"
     ]
    },
    {
     "name": "stdout",
     "output_type": "stream",
     "text": [
      "2626286\n"
     ]
    },
    {
     "name": "stderr",
     "output_type": "stream",
     "text": [
      " 51%|██████████████████▉                  | 323/633 [1:41:34<1:37:19, 18.84s/it]"
     ]
    },
    {
     "name": "stdout",
     "output_type": "stream",
     "text": [
      "3638942\n"
     ]
    },
    {
     "name": "stderr",
     "output_type": "stream",
     "text": [
      " 51%|██████████████████▉                  | 324/633 [1:41:55<1:40:23, 19.49s/it]"
     ]
    },
    {
     "name": "stdout",
     "output_type": "stream",
     "text": [
      "2715506\n"
     ]
    },
    {
     "name": "stderr",
     "output_type": "stream",
     "text": [
      " 51%|██████████████████▉                  | 325/633 [1:42:14<1:39:09, 19.32s/it]"
     ]
    },
    {
     "name": "stdout",
     "output_type": "stream",
     "text": [
      "2613745\n"
     ]
    },
    {
     "name": "stderr",
     "output_type": "stream",
     "text": [
      " 52%|███████████████████                  | 326/633 [1:42:33<1:38:11, 19.19s/it]"
     ]
    },
    {
     "name": "stdout",
     "output_type": "stream",
     "text": [
      "2407573\n"
     ]
    },
    {
     "name": "stderr",
     "output_type": "stream",
     "text": [
      " 52%|███████████████████                  | 327/633 [1:42:53<1:39:03, 19.42s/it]"
     ]
    },
    {
     "name": "stdout",
     "output_type": "stream",
     "text": [
      "2699800\n"
     ]
    },
    {
     "name": "stderr",
     "output_type": "stream",
     "text": [
      " 52%|███████████████████▏                 | 328/633 [1:43:12<1:38:16, 19.33s/it]"
     ]
    },
    {
     "name": "stdout",
     "output_type": "stream",
     "text": [
      "4604730\n"
     ]
    },
    {
     "name": "stderr",
     "output_type": "stream",
     "text": [
      " 52%|███████████████████▏                 | 329/633 [1:43:35<1:44:33, 20.64s/it]"
     ]
    },
    {
     "name": "stdout",
     "output_type": "stream",
     "text": [
      "2817399\n"
     ]
    },
    {
     "name": "stderr",
     "output_type": "stream",
     "text": [
      " 52%|███████████████████▎                 | 330/633 [1:43:55<1:42:18, 20.26s/it]"
     ]
    },
    {
     "name": "stdout",
     "output_type": "stream",
     "text": [
      "3661790\n"
     ]
    },
    {
     "name": "stderr",
     "output_type": "stream",
     "text": [
      " 52%|███████████████████▎                 | 331/633 [1:44:17<1:44:24, 20.74s/it]"
     ]
    },
    {
     "name": "stdout",
     "output_type": "stream",
     "text": [
      "4130791\n"
     ]
    },
    {
     "name": "stderr",
     "output_type": "stream",
     "text": [
      " 52%|███████████████████▍                 | 332/633 [1:44:39<1:46:06, 21.15s/it]"
     ]
    },
    {
     "name": "stdout",
     "output_type": "stream",
     "text": [
      "3136409\n"
     ]
    },
    {
     "name": "stderr",
     "output_type": "stream",
     "text": [
      " 53%|███████████████████▍                 | 333/633 [1:44:59<1:44:21, 20.87s/it]"
     ]
    },
    {
     "name": "stdout",
     "output_type": "stream",
     "text": [
      "3173473\n"
     ]
    },
    {
     "name": "stderr",
     "output_type": "stream",
     "text": [
      " 53%|███████████████████▌                 | 334/633 [1:45:19<1:42:32, 20.58s/it]"
     ]
    },
    {
     "name": "stdout",
     "output_type": "stream",
     "text": [
      "2611110\n"
     ]
    },
    {
     "name": "stderr",
     "output_type": "stream",
     "text": [
      " 53%|███████████████████▌                 | 335/633 [1:45:38<1:39:42, 20.07s/it]"
     ]
    },
    {
     "name": "stdout",
     "output_type": "stream",
     "text": [
      "2730234\n"
     ]
    },
    {
     "name": "stderr",
     "output_type": "stream",
     "text": [
      " 53%|███████████████████▋                 | 336/633 [1:45:57<1:38:31, 19.90s/it]"
     ]
    },
    {
     "name": "stdout",
     "output_type": "stream",
     "text": [
      "2638434\n"
     ]
    },
    {
     "name": "stderr",
     "output_type": "stream",
     "text": [
      " 53%|███████████████████▋                 | 337/633 [1:46:16<1:36:51, 19.63s/it]"
     ]
    },
    {
     "name": "stdout",
     "output_type": "stream",
     "text": [
      "3794746\n"
     ]
    },
    {
     "name": "stderr",
     "output_type": "stream",
     "text": [
      " 53%|███████████████████▊                 | 338/633 [1:46:37<1:38:54, 20.12s/it]"
     ]
    },
    {
     "name": "stdout",
     "output_type": "stream",
     "text": [
      "2817399\n"
     ]
    },
    {
     "name": "stderr",
     "output_type": "stream",
     "text": [
      " 54%|███████████████████▊                 | 339/633 [1:46:57<1:38:14, 20.05s/it]"
     ]
    },
    {
     "name": "stdout",
     "output_type": "stream",
     "text": [
      "4934942\n"
     ]
    },
    {
     "name": "stderr",
     "output_type": "stream",
     "text": [
      " 54%|███████████████████▊                 | 340/633 [1:47:22<1:45:15, 21.55s/it]"
     ]
    },
    {
     "name": "stdout",
     "output_type": "stream",
     "text": [
      "3024238\n"
     ]
    },
    {
     "name": "stderr",
     "output_type": "stream",
     "text": [
      " 54%|███████████████████▉                 | 341/633 [1:47:42<1:42:20, 21.03s/it]"
     ]
    },
    {
     "name": "stdout",
     "output_type": "stream",
     "text": [
      "3243163\n"
     ]
    },
    {
     "name": "stderr",
     "output_type": "stream",
     "text": [
      " 54%|███████████████████▉                 | 342/633 [1:47:59<1:35:38, 19.72s/it]"
     ]
    },
    {
     "name": "stdout",
     "output_type": "stream",
     "text": [
      "3439799\n"
     ]
    },
    {
     "name": "stderr",
     "output_type": "stream",
     "text": [
      " 54%|████████████████████                 | 343/633 [1:48:17<1:33:19, 19.31s/it]"
     ]
    },
    {
     "name": "stdout",
     "output_type": "stream",
     "text": [
      "2650219\n"
     ]
    },
    {
     "name": "stderr",
     "output_type": "stream",
     "text": [
      " 54%|████████████████████                 | 344/633 [1:48:34<1:29:09, 18.51s/it]"
     ]
    },
    {
     "name": "stdout",
     "output_type": "stream",
     "text": [
      "3194040\n"
     ]
    },
    {
     "name": "stderr",
     "output_type": "stream",
     "text": [
      " 55%|████████████████████▏                | 345/633 [1:48:50<1:26:03, 17.93s/it]"
     ]
    },
    {
     "name": "stdout",
     "output_type": "stream",
     "text": [
      "2977040\n"
     ]
    },
    {
     "name": "stderr",
     "output_type": "stream",
     "text": [
      " 55%|████████████████████▏                | 346/633 [1:49:08<1:25:07, 17.80s/it]"
     ]
    },
    {
     "name": "stdout",
     "output_type": "stream",
     "text": [
      "2911322\n"
     ]
    },
    {
     "name": "stderr",
     "output_type": "stream",
     "text": [
      " 55%|████████████████████▎                | 347/633 [1:49:26<1:24:50, 17.80s/it]"
     ]
    },
    {
     "name": "stdout",
     "output_type": "stream",
     "text": [
      "3036456\n"
     ]
    },
    {
     "name": "stderr",
     "output_type": "stream",
     "text": [
      " 55%|████████████████████▎                | 348/633 [1:49:43<1:24:14, 17.74s/it]"
     ]
    },
    {
     "name": "stdout",
     "output_type": "stream",
     "text": [
      "2589386\n"
     ]
    },
    {
     "name": "stderr",
     "output_type": "stream",
     "text": [
      " 55%|████████████████████▍                | 349/633 [1:50:00<1:22:08, 17.35s/it]"
     ]
    },
    {
     "name": "stdout",
     "output_type": "stream",
     "text": [
      "2929657\n"
     ]
    },
    {
     "name": "stderr",
     "output_type": "stream",
     "text": [
      " 55%|████████████████████▍                | 350/633 [1:50:16<1:20:10, 17.00s/it]"
     ]
    },
    {
     "name": "stdout",
     "output_type": "stream",
     "text": [
      "2547254\n"
     ]
    },
    {
     "name": "stderr",
     "output_type": "stream",
     "text": [
      " 55%|████████████████████▌                | 351/633 [1:50:32<1:19:00, 16.81s/it]"
     ]
    },
    {
     "name": "stdout",
     "output_type": "stream",
     "text": [
      "2864800\n"
     ]
    },
    {
     "name": "stderr",
     "output_type": "stream",
     "text": [
      " 56%|████████████████████▌                | 352/633 [1:50:48<1:17:13, 16.49s/it]"
     ]
    },
    {
     "name": "stdout",
     "output_type": "stream",
     "text": [
      "3147019\n"
     ]
    },
    {
     "name": "stderr",
     "output_type": "stream",
     "text": [
      " 56%|████████████████████▋                | 353/633 [1:51:06<1:18:52, 16.90s/it]"
     ]
    },
    {
     "name": "stdout",
     "output_type": "stream",
     "text": [
      "4151370\n"
     ]
    },
    {
     "name": "stderr",
     "output_type": "stream",
     "text": [
      " 56%|████████████████████▋                | 354/633 [1:51:26<1:22:40, 17.78s/it]"
     ]
    },
    {
     "name": "stdout",
     "output_type": "stream",
     "text": [
      "3024248\n"
     ]
    },
    {
     "name": "stderr",
     "output_type": "stream",
     "text": [
      " 56%|████████████████████▊                | 355/633 [1:51:44<1:22:22, 17.78s/it]"
     ]
    },
    {
     "name": "stdout",
     "output_type": "stream",
     "text": [
      "2883072\n"
     ]
    },
    {
     "name": "stderr",
     "output_type": "stream",
     "text": [
      " 56%|████████████████████▊                | 356/633 [1:52:01<1:21:42, 17.70s/it]"
     ]
    },
    {
     "name": "stdout",
     "output_type": "stream",
     "text": [
      "2941586\n"
     ]
    },
    {
     "name": "stderr",
     "output_type": "stream",
     "text": [
      " 56%|████████████████████▊                | 357/633 [1:52:19<1:21:37, 17.74s/it]"
     ]
    },
    {
     "name": "stdout",
     "output_type": "stream",
     "text": [
      "3222972\n"
     ]
    },
    {
     "name": "stderr",
     "output_type": "stream",
     "text": [
      " 57%|████████████████████▉                | 358/633 [1:52:37<1:21:53, 17.87s/it]"
     ]
    },
    {
     "name": "stdout",
     "output_type": "stream",
     "text": [
      "3745887\n"
     ]
    },
    {
     "name": "stderr",
     "output_type": "stream",
     "text": [
      " 57%|████████████████████▉                | 359/633 [1:52:56<1:23:39, 18.32s/it]"
     ]
    },
    {
     "name": "stdout",
     "output_type": "stream",
     "text": [
      "3161684\n"
     ]
    },
    {
     "name": "stderr",
     "output_type": "stream",
     "text": [
      " 57%|█████████████████████                | 360/633 [1:53:14<1:22:53, 18.22s/it]"
     ]
    },
    {
     "name": "stdout",
     "output_type": "stream",
     "text": [
      "3732399\n"
     ]
    },
    {
     "name": "stderr",
     "output_type": "stream",
     "text": [
      " 57%|█████████████████████                | 361/633 [1:53:34<1:23:47, 18.48s/it]"
     ]
    },
    {
     "name": "stdout",
     "output_type": "stream",
     "text": [
      "3122685\n"
     ]
    },
    {
     "name": "stderr",
     "output_type": "stream",
     "text": [
      " 57%|█████████████████████▏               | 362/633 [1:53:52<1:23:10, 18.42s/it]"
     ]
    },
    {
     "name": "stdout",
     "output_type": "stream",
     "text": [
      "2789895\n"
     ]
    },
    {
     "name": "stderr",
     "output_type": "stream",
     "text": [
      " 57%|█████████████████████▏               | 363/633 [1:54:09<1:21:39, 18.15s/it]"
     ]
    },
    {
     "name": "stdout",
     "output_type": "stream",
     "text": [
      "3182184\n"
     ]
    },
    {
     "name": "stderr",
     "output_type": "stream",
     "text": [
      " 58%|█████████████████████▎               | 364/633 [1:54:26<1:19:49, 17.80s/it]"
     ]
    },
    {
     "name": "stdout",
     "output_type": "stream",
     "text": [
      "2589630\n"
     ]
    },
    {
     "name": "stderr",
     "output_type": "stream",
     "text": [
      " 58%|█████████████████████▎               | 365/633 [1:54:44<1:18:51, 17.66s/it]"
     ]
    },
    {
     "name": "stdout",
     "output_type": "stream",
     "text": [
      "2477367\n"
     ]
    },
    {
     "name": "stderr",
     "output_type": "stream",
     "text": [
      " 58%|█████████████████████▍               | 366/633 [1:54:59<1:15:31, 16.97s/it]"
     ]
    },
    {
     "name": "stdout",
     "output_type": "stream",
     "text": [
      "3782457\n"
     ]
    },
    {
     "name": "stderr",
     "output_type": "stream",
     "text": [
      " 58%|█████████████████████▍               | 367/633 [1:55:17<1:16:40, 17.29s/it]"
     ]
    },
    {
     "name": "stdout",
     "output_type": "stream",
     "text": [
      "3224485\n"
     ]
    },
    {
     "name": "stderr",
     "output_type": "stream",
     "text": [
      " 58%|█████████████████████▌               | 368/633 [1:55:35<1:17:47, 17.61s/it]"
     ]
    },
    {
     "name": "stdout",
     "output_type": "stream",
     "text": [
      "4944316\n"
     ]
    },
    {
     "name": "stderr",
     "output_type": "stream",
     "text": [
      " 58%|█████████████████████▌               | 369/633 [1:55:58<1:24:10, 19.13s/it]"
     ]
    },
    {
     "name": "stdout",
     "output_type": "stream",
     "text": [
      "3388489\n"
     ]
    },
    {
     "name": "stderr",
     "output_type": "stream",
     "text": [
      " 58%|█████████████████████▋               | 370/633 [1:56:17<1:23:43, 19.10s/it]"
     ]
    },
    {
     "name": "stdout",
     "output_type": "stream",
     "text": [
      "3379363\n"
     ]
    },
    {
     "name": "stderr",
     "output_type": "stream",
     "text": [
      " 59%|█████████████████████▋               | 371/633 [1:56:36<1:23:04, 19.02s/it]"
     ]
    },
    {
     "name": "stdout",
     "output_type": "stream",
     "text": [
      "2588204\n"
     ]
    },
    {
     "name": "stderr",
     "output_type": "stream",
     "text": [
      " 59%|█████████████████████▋               | 372/633 [1:56:53<1:20:16, 18.45s/it]"
     ]
    },
    {
     "name": "stdout",
     "output_type": "stream",
     "text": [
      "3691071\n"
     ]
    },
    {
     "name": "stderr",
     "output_type": "stream",
     "text": [
      " 59%|█████████████████████▊               | 373/633 [1:57:12<1:20:21, 18.54s/it]"
     ]
    },
    {
     "name": "stdout",
     "output_type": "stream",
     "text": [
      "3098225\n"
     ]
    },
    {
     "name": "stderr",
     "output_type": "stream",
     "text": [
      " 59%|█████████████████████▊               | 374/633 [1:57:30<1:19:26, 18.40s/it]"
     ]
    },
    {
     "name": "stdout",
     "output_type": "stream",
     "text": [
      "3569996\n"
     ]
    },
    {
     "name": "stderr",
     "output_type": "stream",
     "text": [
      " 59%|█████████████████████▉               | 375/633 [1:57:49<1:19:53, 18.58s/it]"
     ]
    },
    {
     "name": "stdout",
     "output_type": "stream",
     "text": [
      "3283399\n"
     ]
    },
    {
     "name": "stderr",
     "output_type": "stream",
     "text": [
      " 59%|█████████████████████▉               | 376/633 [1:58:07<1:19:11, 18.49s/it]"
     ]
    },
    {
     "name": "stdout",
     "output_type": "stream",
     "text": [
      "3069051\n"
     ]
    },
    {
     "name": "stderr",
     "output_type": "stream",
     "text": [
      " 60%|██████████████████████               | 377/633 [1:58:25<1:18:16, 18.35s/it]"
     ]
    },
    {
     "name": "stdout",
     "output_type": "stream",
     "text": [
      "4023559\n"
     ]
    },
    {
     "name": "stderr",
     "output_type": "stream",
     "text": [
      " 60%|██████████████████████               | 378/633 [1:58:45<1:19:59, 18.82s/it]"
     ]
    },
    {
     "name": "stdout",
     "output_type": "stream",
     "text": [
      "2835596\n"
     ]
    },
    {
     "name": "stderr",
     "output_type": "stream",
     "text": [
      " 60%|██████████████████████▏              | 379/633 [1:59:03<1:18:05, 18.45s/it]"
     ]
    },
    {
     "name": "stdout",
     "output_type": "stream",
     "text": [
      "3393605\n"
     ]
    },
    {
     "name": "stderr",
     "output_type": "stream",
     "text": [
      " 60%|██████████████████████▏              | 380/633 [1:59:22<1:18:19, 18.57s/it]"
     ]
    },
    {
     "name": "stdout",
     "output_type": "stream",
     "text": [
      "2771657\n"
     ]
    },
    {
     "name": "stderr",
     "output_type": "stream",
     "text": [
      " 60%|██████████████████████▎              | 381/633 [1:59:40<1:17:53, 18.55s/it]"
     ]
    },
    {
     "name": "stdout",
     "output_type": "stream",
     "text": [
      "3319023\n"
     ]
    },
    {
     "name": "stderr",
     "output_type": "stream",
     "text": [
      " 60%|██████████████████████▎              | 382/633 [1:59:58<1:16:54, 18.39s/it]"
     ]
    },
    {
     "name": "stdout",
     "output_type": "stream",
     "text": [
      "2688105\n"
     ]
    },
    {
     "name": "stderr",
     "output_type": "stream",
     "text": [
      " 61%|██████████████████████▍              | 383/633 [2:00:16<1:15:40, 18.16s/it]"
     ]
    },
    {
     "name": "stdout",
     "output_type": "stream",
     "text": [
      "3009882\n"
     ]
    },
    {
     "name": "stderr",
     "output_type": "stream",
     "text": [
      " 61%|██████████████████████▍              | 384/633 [2:00:33<1:14:49, 18.03s/it]"
     ]
    },
    {
     "name": "stdout",
     "output_type": "stream",
     "text": [
      "3992139\n"
     ]
    },
    {
     "name": "stderr",
     "output_type": "stream",
     "text": [
      " 61%|██████████████████████▌              | 385/633 [2:00:55<1:19:01, 19.12s/it]"
     ]
    },
    {
     "name": "stdout",
     "output_type": "stream",
     "text": [
      "3435546\n"
     ]
    },
    {
     "name": "stderr",
     "output_type": "stream",
     "text": [
      " 61%|██████████████████████▌              | 386/633 [2:01:15<1:19:15, 19.25s/it]"
     ]
    },
    {
     "name": "stdout",
     "output_type": "stream",
     "text": [
      "2761288\n"
     ]
    },
    {
     "name": "stderr",
     "output_type": "stream",
     "text": [
      " 61%|██████████████████████▌              | 387/633 [2:01:32<1:16:59, 18.78s/it]"
     ]
    },
    {
     "name": "stdout",
     "output_type": "stream",
     "text": [
      "2594640\n"
     ]
    },
    {
     "name": "stderr",
     "output_type": "stream",
     "text": [
      " 61%|██████████████████████▋              | 388/633 [2:01:49<1:13:35, 18.02s/it]"
     ]
    },
    {
     "name": "stdout",
     "output_type": "stream",
     "text": [
      "3751472\n"
     ]
    },
    {
     "name": "stderr",
     "output_type": "stream",
     "text": [
      " 61%|██████████████████████▋              | 389/633 [2:02:08<1:14:25, 18.30s/it]"
     ]
    },
    {
     "name": "stdout",
     "output_type": "stream",
     "text": [
      "2580302\n"
     ]
    },
    {
     "name": "stderr",
     "output_type": "stream",
     "text": [
      " 62%|██████████████████████▊              | 390/633 [2:02:25<1:13:34, 18.17s/it]"
     ]
    },
    {
     "name": "stdout",
     "output_type": "stream",
     "text": [
      "2938996\n"
     ]
    },
    {
     "name": "stderr",
     "output_type": "stream",
     "text": [
      " 62%|██████████████████████▊              | 391/633 [2:02:42<1:11:35, 17.75s/it]"
     ]
    },
    {
     "name": "stdout",
     "output_type": "stream",
     "text": [
      "3071800\n"
     ]
    },
    {
     "name": "stderr",
     "output_type": "stream",
     "text": [
      " 62%|██████████████████████▉              | 392/633 [2:03:02<1:13:15, 18.24s/it]"
     ]
    },
    {
     "name": "stdout",
     "output_type": "stream",
     "text": [
      "3451141\n"
     ]
    },
    {
     "name": "stderr",
     "output_type": "stream",
     "text": [
      " 62%|██████████████████████▉              | 393/633 [2:03:25<1:18:57, 19.74s/it]"
     ]
    },
    {
     "name": "stdout",
     "output_type": "stream",
     "text": [
      "2885195\n"
     ]
    },
    {
     "name": "stderr",
     "output_type": "stream",
     "text": [
      " 62%|███████████████████████              | 394/633 [2:03:44<1:17:55, 19.56s/it]"
     ]
    },
    {
     "name": "stdout",
     "output_type": "stream",
     "text": [
      "2543658\n"
     ]
    },
    {
     "name": "stderr",
     "output_type": "stream",
     "text": [
      " 62%|███████████████████████              | 395/633 [2:04:04<1:18:32, 19.80s/it]"
     ]
    },
    {
     "name": "stdout",
     "output_type": "stream",
     "text": [
      "2668382\n"
     ]
    },
    {
     "name": "stderr",
     "output_type": "stream",
     "text": [
      " 63%|███████████████████████▏             | 396/633 [2:04:26<1:19:57, 20.24s/it]"
     ]
    },
    {
     "name": "stdout",
     "output_type": "stream",
     "text": [
      "2719646\n"
     ]
    },
    {
     "name": "stderr",
     "output_type": "stream",
     "text": [
      " 63%|███████████████████████▏             | 397/633 [2:04:45<1:19:06, 20.11s/it]"
     ]
    },
    {
     "name": "stdout",
     "output_type": "stream",
     "text": [
      "2820172\n"
     ]
    },
    {
     "name": "stderr",
     "output_type": "stream",
     "text": [
      " 63%|███████████████████████▎             | 398/633 [2:05:01<1:13:44, 18.83s/it]"
     ]
    },
    {
     "name": "stdout",
     "output_type": "stream",
     "text": [
      "2535687\n"
     ]
    },
    {
     "name": "stderr",
     "output_type": "stream",
     "text": [
      " 63%|███████████████████████▎             | 399/633 [2:05:16<1:09:06, 17.72s/it]"
     ]
    },
    {
     "name": "stdout",
     "output_type": "stream",
     "text": [
      "2843258\n"
     ]
    },
    {
     "name": "stderr",
     "output_type": "stream",
     "text": [
      " 63%|███████████████████████▍             | 400/633 [2:05:32<1:06:33, 17.14s/it]"
     ]
    },
    {
     "name": "stdout",
     "output_type": "stream",
     "text": [
      "2609969\n"
     ]
    },
    {
     "name": "stderr",
     "output_type": "stream",
     "text": [
      " 63%|███████████████████████▍             | 401/633 [2:05:47<1:04:06, 16.58s/it]"
     ]
    },
    {
     "name": "stdout",
     "output_type": "stream",
     "text": [
      "3280063\n"
     ]
    },
    {
     "name": "stderr",
     "output_type": "stream",
     "text": [
      " 64%|███████████████████████▍             | 402/633 [2:06:04<1:04:05, 16.65s/it]"
     ]
    },
    {
     "name": "stdout",
     "output_type": "stream",
     "text": [
      "3000775\n"
     ]
    },
    {
     "name": "stderr",
     "output_type": "stream",
     "text": [
      " 64%|███████████████████████▌             | 403/633 [2:06:20<1:03:21, 16.53s/it]"
     ]
    },
    {
     "name": "stdout",
     "output_type": "stream",
     "text": [
      "2751864\n"
     ]
    },
    {
     "name": "stderr",
     "output_type": "stream",
     "text": [
      " 64%|███████████████████████▌             | 404/633 [2:06:36<1:02:15, 16.31s/it]"
     ]
    },
    {
     "name": "stdout",
     "output_type": "stream",
     "text": [
      "4566932\n"
     ]
    },
    {
     "name": "stderr",
     "output_type": "stream",
     "text": [
      " 64%|███████████████████████▋             | 405/633 [2:06:57<1:06:45, 17.57s/it]"
     ]
    },
    {
     "name": "stdout",
     "output_type": "stream",
     "text": [
      "2640616\n"
     ]
    },
    {
     "name": "stderr",
     "output_type": "stream",
     "text": [
      " 64%|███████████████████████▋             | 406/633 [2:07:12<1:04:08, 16.95s/it]"
     ]
    },
    {
     "name": "stdout",
     "output_type": "stream",
     "text": [
      "3186155\n"
     ]
    },
    {
     "name": "stderr",
     "output_type": "stream",
     "text": [
      " 64%|███████████████████████▊             | 407/633 [2:07:29<1:03:42, 16.91s/it]"
     ]
    },
    {
     "name": "stdout",
     "output_type": "stream",
     "text": [
      "3115848\n"
     ]
    },
    {
     "name": "stderr",
     "output_type": "stream",
     "text": [
      " 64%|███████████████████████▊             | 408/633 [2:07:48<1:05:22, 17.43s/it]"
     ]
    },
    {
     "name": "stdout",
     "output_type": "stream",
     "text": [
      "2812699\n"
     ]
    },
    {
     "name": "stderr",
     "output_type": "stream",
     "text": [
      " 65%|███████████████████████▉             | 409/633 [2:08:06<1:05:28, 17.54s/it]"
     ]
    },
    {
     "name": "stdout",
     "output_type": "stream",
     "text": [
      "3364963\n"
     ]
    },
    {
     "name": "stderr",
     "output_type": "stream",
     "text": [
      " 65%|███████████████████████▉             | 410/633 [2:08:23<1:04:53, 17.46s/it]"
     ]
    },
    {
     "name": "stdout",
     "output_type": "stream",
     "text": [
      "2648958\n"
     ]
    },
    {
     "name": "stderr",
     "output_type": "stream",
     "text": [
      " 65%|████████████████████████             | 411/633 [2:08:41<1:05:57, 17.83s/it]"
     ]
    },
    {
     "name": "stdout",
     "output_type": "stream",
     "text": [
      "3229747\n"
     ]
    },
    {
     "name": "stderr",
     "output_type": "stream",
     "text": [
      " 65%|████████████████████████             | 412/633 [2:09:02<1:08:36, 18.63s/it]"
     ]
    },
    {
     "name": "stdout",
     "output_type": "stream",
     "text": [
      "2732490\n"
     ]
    },
    {
     "name": "stderr",
     "output_type": "stream",
     "text": [
      " 65%|████████████████████████▏            | 413/633 [2:09:22<1:09:44, 19.02s/it]"
     ]
    },
    {
     "name": "stdout",
     "output_type": "stream",
     "text": [
      "3143083\n"
     ]
    },
    {
     "name": "stderr",
     "output_type": "stream",
     "text": [
      " 65%|████████████████████████▏            | 414/633 [2:09:43<1:11:26, 19.57s/it]"
     ]
    },
    {
     "name": "stdout",
     "output_type": "stream",
     "text": [
      "2825665\n"
     ]
    },
    {
     "name": "stderr",
     "output_type": "stream",
     "text": [
      " 66%|████████████████████████▎            | 415/633 [2:10:02<1:11:03, 19.56s/it]"
     ]
    },
    {
     "name": "stdout",
     "output_type": "stream",
     "text": [
      "2514249\n"
     ]
    },
    {
     "name": "stderr",
     "output_type": "stream",
     "text": [
      " 66%|████████████████████████▎            | 416/633 [2:10:21<1:09:23, 19.19s/it]"
     ]
    },
    {
     "name": "stdout",
     "output_type": "stream",
     "text": [
      "2666575\n"
     ]
    },
    {
     "name": "stderr",
     "output_type": "stream",
     "text": [
      " 66%|████████████████████████▎            | 417/633 [2:10:39<1:08:15, 18.96s/it]"
     ]
    },
    {
     "name": "stdout",
     "output_type": "stream",
     "text": [
      "2691018\n"
     ]
    },
    {
     "name": "stderr",
     "output_type": "stream",
     "text": [
      " 66%|████████████████████████▍            | 418/633 [2:10:57<1:07:24, 18.81s/it]"
     ]
    },
    {
     "name": "stdout",
     "output_type": "stream",
     "text": [
      "2590629\n"
     ]
    },
    {
     "name": "stderr",
     "output_type": "stream",
     "text": [
      " 66%|████████████████████████▍            | 419/633 [2:11:16<1:06:29, 18.64s/it]"
     ]
    },
    {
     "name": "stdout",
     "output_type": "stream",
     "text": [
      "2635865\n"
     ]
    },
    {
     "name": "stderr",
     "output_type": "stream",
     "text": [
      " 66%|████████████████████████▌            | 420/633 [2:11:34<1:06:01, 18.60s/it]"
     ]
    },
    {
     "name": "stdout",
     "output_type": "stream",
     "text": [
      "3534410\n"
     ]
    },
    {
     "name": "stderr",
     "output_type": "stream",
     "text": [
      " 67%|████████████████████████▌            | 421/633 [2:11:55<1:07:31, 19.11s/it]"
     ]
    },
    {
     "name": "stdout",
     "output_type": "stream",
     "text": [
      "2748933\n"
     ]
    },
    {
     "name": "stderr",
     "output_type": "stream",
     "text": [
      " 67%|████████████████████████▋            | 422/633 [2:12:13<1:06:57, 19.04s/it]"
     ]
    },
    {
     "name": "stdout",
     "output_type": "stream",
     "text": [
      "4409890\n"
     ]
    },
    {
     "name": "stderr",
     "output_type": "stream",
     "text": [
      " 67%|████████████████████████▋            | 423/633 [2:12:36<1:10:03, 20.02s/it]"
     ]
    },
    {
     "name": "stdout",
     "output_type": "stream",
     "text": [
      "2403166\n"
     ]
    },
    {
     "name": "stderr",
     "output_type": "stream",
     "text": [
      " 67%|████████████████████████▊            | 424/633 [2:12:54<1:07:49, 19.47s/it]"
     ]
    },
    {
     "name": "stdout",
     "output_type": "stream",
     "text": [
      "2598398\n"
     ]
    },
    {
     "name": "stderr",
     "output_type": "stream",
     "text": [
      " 67%|████████████████████████▊            | 425/633 [2:13:12<1:06:24, 19.16s/it]"
     ]
    },
    {
     "name": "stdout",
     "output_type": "stream",
     "text": [
      "2966544\n"
     ]
    },
    {
     "name": "stderr",
     "output_type": "stream",
     "text": [
      " 67%|████████████████████████▉            | 426/633 [2:13:32<1:06:20, 19.23s/it]"
     ]
    },
    {
     "name": "stdout",
     "output_type": "stream",
     "text": [
      "2489072\n"
     ]
    },
    {
     "name": "stderr",
     "output_type": "stream",
     "text": [
      " 67%|████████████████████████▉            | 427/633 [2:13:50<1:05:02, 18.94s/it]"
     ]
    },
    {
     "name": "stdout",
     "output_type": "stream",
     "text": [
      "2849128\n"
     ]
    },
    {
     "name": "stderr",
     "output_type": "stream",
     "text": [
      " 68%|█████████████████████████            | 428/633 [2:14:09<1:04:44, 18.95s/it]"
     ]
    },
    {
     "name": "stdout",
     "output_type": "stream",
     "text": [
      "2619874\n"
     ]
    },
    {
     "name": "stderr",
     "output_type": "stream",
     "text": [
      " 68%|█████████████████████████            | 429/633 [2:14:28<1:04:47, 19.06s/it]"
     ]
    },
    {
     "name": "stdout",
     "output_type": "stream",
     "text": [
      "2544223\n"
     ]
    },
    {
     "name": "stderr",
     "output_type": "stream",
     "text": [
      " 68%|█████████████████████████▏           | 430/633 [2:14:47<1:04:07, 18.95s/it]"
     ]
    },
    {
     "name": "stdout",
     "output_type": "stream",
     "text": [
      "3940429\n"
     ]
    },
    {
     "name": "stderr",
     "output_type": "stream",
     "text": [
      " 68%|█████████████████████████▏           | 431/633 [2:15:08<1:06:22, 19.71s/it]"
     ]
    },
    {
     "name": "stdout",
     "output_type": "stream",
     "text": [
      "4293162\n"
     ]
    },
    {
     "name": "stderr",
     "output_type": "stream",
     "text": [
      " 68%|█████████████████████████▎           | 432/633 [2:15:31<1:08:53, 20.56s/it]"
     ]
    },
    {
     "name": "stdout",
     "output_type": "stream",
     "text": [
      "3246536\n"
     ]
    },
    {
     "name": "stderr",
     "output_type": "stream",
     "text": [
      " 68%|█████████████████████████▎           | 433/633 [2:15:51<1:08:04, 20.42s/it]"
     ]
    },
    {
     "name": "stdout",
     "output_type": "stream",
     "text": [
      "3151778\n"
     ]
    },
    {
     "name": "stderr",
     "output_type": "stream",
     "text": [
      " 69%|█████████████████████████▎           | 434/633 [2:16:11<1:07:01, 20.21s/it]"
     ]
    },
    {
     "name": "stdout",
     "output_type": "stream",
     "text": [
      "2492768\n"
     ]
    },
    {
     "name": "stderr",
     "output_type": "stream",
     "text": [
      " 69%|█████████████████████████▍           | 435/633 [2:16:29<1:05:06, 19.73s/it]"
     ]
    },
    {
     "name": "stdout",
     "output_type": "stream",
     "text": [
      "2473901\n"
     ]
    },
    {
     "name": "stderr",
     "output_type": "stream",
     "text": [
      " 69%|█████████████████████████▍           | 436/633 [2:16:48<1:03:26, 19.32s/it]"
     ]
    },
    {
     "name": "stdout",
     "output_type": "stream",
     "text": [
      "3014942\n"
     ]
    },
    {
     "name": "stderr",
     "output_type": "stream",
     "text": [
      " 69%|█████████████████████████▌           | 437/633 [2:17:08<1:03:54, 19.56s/it]"
     ]
    },
    {
     "name": "stdout",
     "output_type": "stream",
     "text": [
      "2797872\n"
     ]
    },
    {
     "name": "stderr",
     "output_type": "stream",
     "text": [
      " 69%|█████████████████████████▌           | 438/633 [2:17:27<1:03:11, 19.45s/it]"
     ]
    },
    {
     "name": "stdout",
     "output_type": "stream",
     "text": [
      "2868978\n"
     ]
    },
    {
     "name": "stderr",
     "output_type": "stream",
     "text": [
      " 69%|█████████████████████████▋           | 439/633 [2:17:46<1:02:48, 19.43s/it]"
     ]
    },
    {
     "name": "stdout",
     "output_type": "stream",
     "text": [
      "3025169\n"
     ]
    },
    {
     "name": "stderr",
     "output_type": "stream",
     "text": [
      " 70%|█████████████████████████▋           | 440/633 [2:18:06<1:02:34, 19.46s/it]"
     ]
    },
    {
     "name": "stdout",
     "output_type": "stream",
     "text": [
      "2676828\n"
     ]
    },
    {
     "name": "stderr",
     "output_type": "stream",
     "text": [
      " 70%|█████████████████████████▊           | 441/633 [2:18:25<1:02:07, 19.42s/it]"
     ]
    },
    {
     "name": "stdout",
     "output_type": "stream",
     "text": [
      "3148191\n"
     ]
    },
    {
     "name": "stderr",
     "output_type": "stream",
     "text": [
      " 70%|█████████████████████████▊           | 442/633 [2:18:45<1:02:17, 19.57s/it]"
     ]
    },
    {
     "name": "stdout",
     "output_type": "stream",
     "text": [
      "3095904\n"
     ]
    },
    {
     "name": "stderr",
     "output_type": "stream",
     "text": [
      " 70%|█████████████████████████▉           | 443/633 [2:19:05<1:02:00, 19.58s/it]"
     ]
    },
    {
     "name": "stdout",
     "output_type": "stream",
     "text": [
      "2761077\n"
     ]
    },
    {
     "name": "stderr",
     "output_type": "stream",
     "text": [
      " 70%|█████████████████████████▉           | 444/633 [2:19:24<1:01:03, 19.39s/it]"
     ]
    },
    {
     "name": "stdout",
     "output_type": "stream",
     "text": [
      "2649018\n"
     ]
    },
    {
     "name": "stderr",
     "output_type": "stream",
     "text": [
      " 70%|██████████████████████████           | 445/633 [2:19:43<1:00:20, 19.26s/it]"
     ]
    },
    {
     "name": "stdout",
     "output_type": "stream",
     "text": [
      "2638579\n"
     ]
    },
    {
     "name": "stderr",
     "output_type": "stream",
     "text": [
      " 70%|███████████████████████████▍           | 446/633 [2:20:02<59:41, 19.15s/it]"
     ]
    },
    {
     "name": "stdout",
     "output_type": "stream",
     "text": [
      "2900683\n"
     ]
    },
    {
     "name": "stderr",
     "output_type": "stream",
     "text": [
      " 71%|███████████████████████████▌           | 447/633 [2:20:21<59:45, 19.28s/it]"
     ]
    },
    {
     "name": "stdout",
     "output_type": "stream",
     "text": [
      "2670504\n"
     ]
    },
    {
     "name": "stderr",
     "output_type": "stream",
     "text": [
      " 71%|███████████████████████████▌           | 448/633 [2:20:40<59:18, 19.23s/it]"
     ]
    },
    {
     "name": "stdout",
     "output_type": "stream",
     "text": [
      "2451270\n"
     ]
    },
    {
     "name": "stderr",
     "output_type": "stream",
     "text": [
      " 71%|███████████████████████████▋           | 449/633 [2:20:59<58:09, 18.97s/it]"
     ]
    },
    {
     "name": "stdout",
     "output_type": "stream",
     "text": [
      "3220697\n"
     ]
    },
    {
     "name": "stderr",
     "output_type": "stream",
     "text": [
      " 71%|███████████████████████████▋           | 450/633 [2:21:19<58:53, 19.31s/it]"
     ]
    },
    {
     "name": "stdout",
     "output_type": "stream",
     "text": [
      "2979813\n"
     ]
    },
    {
     "name": "stderr",
     "output_type": "stream",
     "text": [
      " 71%|███████████████████████████▊           | 451/633 [2:21:38<58:42, 19.36s/it]"
     ]
    },
    {
     "name": "stdout",
     "output_type": "stream",
     "text": [
      "4970024\n"
     ]
    },
    {
     "name": "stderr",
     "output_type": "stream",
     "text": [
      " 71%|██████████████████████████▍          | 452/633 [2:22:00<1:00:09, 19.94s/it]"
     ]
    },
    {
     "name": "stdout",
     "output_type": "stream",
     "text": [
      "2779517\n"
     ]
    },
    {
     "name": "stderr",
     "output_type": "stream",
     "text": [
      " 72%|███████████████████████████▉           | 453/633 [2:22:19<59:26, 19.82s/it]"
     ]
    },
    {
     "name": "stdout",
     "output_type": "stream",
     "text": [
      "3204831\n"
     ]
    },
    {
     "name": "stderr",
     "output_type": "stream",
     "text": [
      " 72%|███████████████████████████▉           | 454/633 [2:22:40<59:43, 20.02s/it]"
     ]
    },
    {
     "name": "stdout",
     "output_type": "stream",
     "text": [
      "2935755\n"
     ]
    },
    {
     "name": "stderr",
     "output_type": "stream",
     "text": [
      " 72%|████████████████████████████           | 455/633 [2:23:00<59:41, 20.12s/it]"
     ]
    },
    {
     "name": "stdout",
     "output_type": "stream",
     "text": [
      "3261514\n"
     ]
    },
    {
     "name": "stderr",
     "output_type": "stream",
     "text": [
      " 72%|████████████████████████████           | 456/633 [2:23:21<59:46, 20.26s/it]"
     ]
    },
    {
     "name": "stdout",
     "output_type": "stream",
     "text": [
      "2480537\n"
     ]
    },
    {
     "name": "stderr",
     "output_type": "stream",
     "text": [
      " 72%|████████████████████████████▏          | 457/633 [2:23:39<58:09, 19.83s/it]"
     ]
    },
    {
     "name": "stdout",
     "output_type": "stream",
     "text": [
      "2745087\n"
     ]
    },
    {
     "name": "stderr",
     "output_type": "stream",
     "text": [
      " 72%|████████████████████████████▏          | 458/633 [2:23:59<57:20, 19.66s/it]"
     ]
    },
    {
     "name": "stdout",
     "output_type": "stream",
     "text": [
      "3279198\n"
     ]
    },
    {
     "name": "stderr",
     "output_type": "stream",
     "text": [
      " 73%|████████████████████████████▎          | 459/633 [2:24:19<57:52, 19.96s/it]"
     ]
    },
    {
     "name": "stdout",
     "output_type": "stream",
     "text": [
      "2952234\n"
     ]
    },
    {
     "name": "stderr",
     "output_type": "stream",
     "text": [
      " 73%|████████████████████████████▎          | 460/633 [2:24:39<57:18, 19.88s/it]"
     ]
    },
    {
     "name": "stdout",
     "output_type": "stream",
     "text": [
      "2597900\n"
     ]
    },
    {
     "name": "stderr",
     "output_type": "stream",
     "text": [
      " 73%|████████████████████████████▍          | 461/633 [2:24:58<56:08, 19.58s/it]"
     ]
    },
    {
     "name": "stdout",
     "output_type": "stream",
     "text": [
      "3166114\n"
     ]
    },
    {
     "name": "stderr",
     "output_type": "stream",
     "text": [
      " 73%|████████████████████████████▍          | 462/633 [2:25:18<56:29, 19.82s/it]"
     ]
    },
    {
     "name": "stdout",
     "output_type": "stream",
     "text": [
      "3019439\n"
     ]
    },
    {
     "name": "stderr",
     "output_type": "stream",
     "text": [
      " 73%|████████████████████████████▌          | 463/633 [2:25:39<56:35, 19.97s/it]"
     ]
    },
    {
     "name": "stdout",
     "output_type": "stream",
     "text": [
      "3396300\n"
     ]
    },
    {
     "name": "stderr",
     "output_type": "stream",
     "text": [
      " 73%|████████████████████████████▌          | 464/633 [2:25:59<56:50, 20.18s/it]"
     ]
    },
    {
     "name": "stdout",
     "output_type": "stream",
     "text": [
      "2496172\n"
     ]
    },
    {
     "name": "stderr",
     "output_type": "stream",
     "text": [
      " 73%|████████████████████████████▋          | 465/633 [2:26:18<55:35, 19.86s/it]"
     ]
    },
    {
     "name": "stdout",
     "output_type": "stream",
     "text": [
      "3179107\n"
     ]
    },
    {
     "name": "stderr",
     "output_type": "stream",
     "text": [
      " 74%|████████████████████████████▋          | 466/633 [2:26:39<55:38, 19.99s/it]"
     ]
    },
    {
     "name": "stdout",
     "output_type": "stream",
     "text": [
      "2900254\n"
     ]
    },
    {
     "name": "stderr",
     "output_type": "stream",
     "text": [
      " 74%|████████████████████████████▊          | 467/633 [2:26:59<55:15, 19.97s/it]"
     ]
    },
    {
     "name": "stdout",
     "output_type": "stream",
     "text": [
      "3054535\n"
     ]
    },
    {
     "name": "stderr",
     "output_type": "stream",
     "text": [
      " 74%|████████████████████████████▊          | 468/633 [2:27:19<55:04, 20.03s/it]"
     ]
    },
    {
     "name": "stdout",
     "output_type": "stream",
     "text": [
      "2990413\n"
     ]
    },
    {
     "name": "stderr",
     "output_type": "stream",
     "text": [
      " 74%|████████████████████████████▉          | 469/633 [2:27:39<54:52, 20.08s/it]"
     ]
    },
    {
     "name": "stdout",
     "output_type": "stream",
     "text": [
      "2968885\n"
     ]
    },
    {
     "name": "stderr",
     "output_type": "stream",
     "text": [
      " 74%|████████████████████████████▉          | 470/633 [2:27:59<54:31, 20.07s/it]"
     ]
    },
    {
     "name": "stdout",
     "output_type": "stream",
     "text": [
      "2771762\n"
     ]
    },
    {
     "name": "stderr",
     "output_type": "stream",
     "text": [
      " 74%|█████████████████████████████          | 471/633 [2:28:19<53:46, 19.92s/it]"
     ]
    },
    {
     "name": "stdout",
     "output_type": "stream",
     "text": [
      "3774551\n"
     ]
    },
    {
     "name": "stderr",
     "output_type": "stream",
     "text": [
      " 75%|█████████████████████████████          | 472/633 [2:28:40<54:55, 20.47s/it]"
     ]
    },
    {
     "name": "stdout",
     "output_type": "stream",
     "text": [
      "3011476\n"
     ]
    },
    {
     "name": "stderr",
     "output_type": "stream",
     "text": [
      " 75%|█████████████████████████████▏         | 473/633 [2:29:01<54:28, 20.43s/it]"
     ]
    },
    {
     "name": "stdout",
     "output_type": "stream",
     "text": [
      "3180617\n"
     ]
    },
    {
     "name": "stderr",
     "output_type": "stream",
     "text": [
      " 75%|█████████████████████████████▏         | 474/633 [2:29:21<54:12, 20.45s/it]"
     ]
    },
    {
     "name": "stdout",
     "output_type": "stream",
     "text": [
      "2519000\n"
     ]
    },
    {
     "name": "stderr",
     "output_type": "stream",
     "text": [
      " 75%|█████████████████████████████▎         | 475/633 [2:29:40<52:49, 20.06s/it]"
     ]
    },
    {
     "name": "stdout",
     "output_type": "stream",
     "text": [
      "2788214\n"
     ]
    },
    {
     "name": "stderr",
     "output_type": "stream",
     "text": [
      " 75%|█████████████████████████████▎         | 476/633 [2:30:00<52:06, 19.91s/it]"
     ]
    },
    {
     "name": "stdout",
     "output_type": "stream",
     "text": [
      "4011595\n"
     ]
    },
    {
     "name": "stderr",
     "output_type": "stream",
     "text": [
      " 75%|█████████████████████████████▍         | 477/633 [2:30:22<53:43, 20.66s/it]"
     ]
    },
    {
     "name": "stdout",
     "output_type": "stream",
     "text": [
      "2661585\n"
     ]
    },
    {
     "name": "stderr",
     "output_type": "stream",
     "text": [
      " 76%|█████████████████████████████▍         | 478/633 [2:30:42<52:31, 20.33s/it]"
     ]
    },
    {
     "name": "stdout",
     "output_type": "stream",
     "text": [
      "3024196\n"
     ]
    },
    {
     "name": "stderr",
     "output_type": "stream",
     "text": [
      " 76%|█████████████████████████████▌         | 479/633 [2:31:00<50:46, 19.78s/it]"
     ]
    },
    {
     "name": "stdout",
     "output_type": "stream",
     "text": [
      "2524482\n"
     ]
    },
    {
     "name": "stderr",
     "output_type": "stream",
     "text": [
      " 76%|█████████████████████████████▌         | 480/633 [2:31:21<50:58, 19.99s/it]"
     ]
    },
    {
     "name": "stdout",
     "output_type": "stream",
     "text": [
      "2753917\n"
     ]
    },
    {
     "name": "stderr",
     "output_type": "stream",
     "text": [
      " 76%|█████████████████████████████▋         | 481/633 [2:31:36<47:14, 18.65s/it]"
     ]
    },
    {
     "name": "stdout",
     "output_type": "stream",
     "text": [
      "2517912\n"
     ]
    },
    {
     "name": "stderr",
     "output_type": "stream",
     "text": [
      " 76%|█████████████████████████████▋         | 482/633 [2:31:51<44:13, 17.57s/it]"
     ]
    },
    {
     "name": "stdout",
     "output_type": "stream",
     "text": [
      "3167613\n"
     ]
    },
    {
     "name": "stderr",
     "output_type": "stream",
     "text": [
      " 76%|█████████████████████████████▊         | 483/633 [2:32:09<43:36, 17.45s/it]"
     ]
    },
    {
     "name": "stdout",
     "output_type": "stream",
     "text": [
      "3511863\n"
     ]
    },
    {
     "name": "stderr",
     "output_type": "stream",
     "text": [
      " 76%|█████████████████████████████▊         | 484/633 [2:32:28<44:30, 17.92s/it]"
     ]
    },
    {
     "name": "stdout",
     "output_type": "stream",
     "text": [
      "3000588\n"
     ]
    },
    {
     "name": "stderr",
     "output_type": "stream",
     "text": [
      " 77%|█████████████████████████████▉         | 485/633 [2:32:45<44:00, 17.84s/it]"
     ]
    },
    {
     "name": "stdout",
     "output_type": "stream",
     "text": [
      "2832781\n"
     ]
    },
    {
     "name": "stderr",
     "output_type": "stream",
     "text": [
      " 77%|█████████████████████████████▉         | 486/633 [2:33:02<43:13, 17.64s/it]"
     ]
    },
    {
     "name": "stdout",
     "output_type": "stream",
     "text": [
      "2953365\n"
     ]
    },
    {
     "name": "stderr",
     "output_type": "stream",
     "text": [
      " 77%|██████████████████████████████         | 487/633 [2:33:20<43:09, 17.74s/it]"
     ]
    },
    {
     "name": "stdout",
     "output_type": "stream",
     "text": [
      "2839349\n"
     ]
    },
    {
     "name": "stderr",
     "output_type": "stream",
     "text": [
      " 77%|██████████████████████████████         | 488/633 [2:33:37<42:26, 17.56s/it]"
     ]
    },
    {
     "name": "stdout",
     "output_type": "stream",
     "text": [
      "2789391\n"
     ]
    },
    {
     "name": "stderr",
     "output_type": "stream",
     "text": [
      " 77%|██████████████████████████████▏        | 489/633 [2:33:55<41:47, 17.41s/it]"
     ]
    },
    {
     "name": "stdout",
     "output_type": "stream",
     "text": [
      "2572461\n"
     ]
    },
    {
     "name": "stderr",
     "output_type": "stream",
     "text": [
      " 77%|██████████████████████████████▏        | 490/633 [2:34:10<39:55, 16.75s/it]"
     ]
    },
    {
     "name": "stdout",
     "output_type": "stream",
     "text": [
      "2953337\n"
     ]
    },
    {
     "name": "stderr",
     "output_type": "stream",
     "text": [
      " 78%|██████████████████████████████▎        | 491/633 [2:34:26<39:03, 16.50s/it]"
     ]
    },
    {
     "name": "stdout",
     "output_type": "stream",
     "text": [
      "2652894\n"
     ]
    },
    {
     "name": "stderr",
     "output_type": "stream",
     "text": [
      " 78%|██████████████████████████████▎        | 492/633 [2:34:42<38:51, 16.53s/it]"
     ]
    },
    {
     "name": "stdout",
     "output_type": "stream",
     "text": [
      "6365568\n"
     ]
    },
    {
     "name": "stderr",
     "output_type": "stream",
     "text": [
      " 78%|██████████████████████████████▎        | 493/633 [2:35:06<43:32, 18.66s/it]"
     ]
    },
    {
     "name": "stdout",
     "output_type": "stream",
     "text": [
      "2658573\n"
     ]
    },
    {
     "name": "stderr",
     "output_type": "stream",
     "text": [
      " 78%|██████████████████████████████▍        | 494/633 [2:35:23<42:03, 18.16s/it]"
     ]
    },
    {
     "name": "stdout",
     "output_type": "stream",
     "text": [
      "2943805\n"
     ]
    },
    {
     "name": "stderr",
     "output_type": "stream",
     "text": [
      " 78%|██████████████████████████████▍        | 495/633 [2:35:40<41:08, 17.89s/it]"
     ]
    },
    {
     "name": "stdout",
     "output_type": "stream",
     "text": [
      "2614599\n"
     ]
    },
    {
     "name": "stderr",
     "output_type": "stream",
     "text": [
      " 78%|██████████████████████████████▌        | 496/633 [2:35:57<40:06, 17.57s/it]"
     ]
    },
    {
     "name": "stdout",
     "output_type": "stream",
     "text": [
      "3356270\n"
     ]
    },
    {
     "name": "stderr",
     "output_type": "stream",
     "text": [
      " 79%|██████████████████████████████▌        | 497/633 [2:36:14<39:30, 17.43s/it]"
     ]
    },
    {
     "name": "stdout",
     "output_type": "stream",
     "text": [
      "2770217\n"
     ]
    },
    {
     "name": "stderr",
     "output_type": "stream",
     "text": [
      " 79%|██████████████████████████████▋        | 498/633 [2:36:31<38:49, 17.25s/it]"
     ]
    },
    {
     "name": "stdout",
     "output_type": "stream",
     "text": [
      "3909680\n"
     ]
    },
    {
     "name": "stderr",
     "output_type": "stream",
     "text": [
      " 79%|██████████████████████████████▋        | 499/633 [2:36:49<39:05, 17.50s/it]"
     ]
    },
    {
     "name": "stdout",
     "output_type": "stream",
     "text": [
      "2718832\n"
     ]
    },
    {
     "name": "stderr",
     "output_type": "stream",
     "text": [
      " 79%|██████████████████████████████▊        | 500/633 [2:37:06<38:17, 17.28s/it]"
     ]
    },
    {
     "name": "stdout",
     "output_type": "stream",
     "text": [
      "3151761\n"
     ]
    },
    {
     "name": "stderr",
     "output_type": "stream",
     "text": [
      " 79%|██████████████████████████████▊        | 501/633 [2:37:22<37:26, 17.02s/it]"
     ]
    },
    {
     "name": "stdout",
     "output_type": "stream",
     "text": [
      "3129941\n"
     ]
    },
    {
     "name": "stderr",
     "output_type": "stream",
     "text": [
      " 79%|██████████████████████████████▉        | 502/633 [2:37:40<37:38, 17.24s/it]"
     ]
    },
    {
     "name": "stdout",
     "output_type": "stream",
     "text": [
      "2437224\n"
     ]
    },
    {
     "name": "stderr",
     "output_type": "stream",
     "text": [
      " 79%|██████████████████████████████▉        | 503/633 [2:37:56<36:45, 16.96s/it]"
     ]
    },
    {
     "name": "stdout",
     "output_type": "stream",
     "text": [
      "3095066\n"
     ]
    },
    {
     "name": "stderr",
     "output_type": "stream",
     "text": [
      " 80%|███████████████████████████████        | 504/633 [2:38:12<35:59, 16.74s/it]"
     ]
    },
    {
     "name": "stdout",
     "output_type": "stream",
     "text": [
      "2626300\n"
     ]
    },
    {
     "name": "stderr",
     "output_type": "stream",
     "text": [
      " 80%|███████████████████████████████        | 505/633 [2:38:30<36:19, 17.03s/it]"
     ]
    },
    {
     "name": "stdout",
     "output_type": "stream",
     "text": [
      "2497478\n"
     ]
    },
    {
     "name": "stderr",
     "output_type": "stream",
     "text": [
      " 80%|███████████████████████████████▏       | 506/633 [2:38:46<35:19, 16.69s/it]"
     ]
    },
    {
     "name": "stdout",
     "output_type": "stream",
     "text": [
      "3450629\n"
     ]
    },
    {
     "name": "stderr",
     "output_type": "stream",
     "text": [
      " 80%|███████████████████████████████▏       | 507/633 [2:39:04<35:41, 17.00s/it]"
     ]
    },
    {
     "name": "stdout",
     "output_type": "stream",
     "text": [
      "2744039\n"
     ]
    },
    {
     "name": "stderr",
     "output_type": "stream",
     "text": [
      " 80%|███████████████████████████████▎       | 508/633 [2:39:21<35:18, 16.95s/it]"
     ]
    },
    {
     "name": "stdout",
     "output_type": "stream",
     "text": [
      "2736598\n"
     ]
    },
    {
     "name": "stderr",
     "output_type": "stream",
     "text": [
      " 80%|███████████████████████████████▎       | 509/633 [2:39:36<34:17, 16.59s/it]"
     ]
    },
    {
     "name": "stdout",
     "output_type": "stream",
     "text": [
      "3636594\n"
     ]
    },
    {
     "name": "stderr",
     "output_type": "stream",
     "text": [
      " 81%|███████████████████████████████▍       | 510/633 [2:39:54<34:33, 16.86s/it]"
     ]
    },
    {
     "name": "stdout",
     "output_type": "stream",
     "text": [
      "2519599\n"
     ]
    },
    {
     "name": "stderr",
     "output_type": "stream",
     "text": [
      " 81%|███████████████████████████████▍       | 511/633 [2:40:10<34:01, 16.74s/it]"
     ]
    },
    {
     "name": "stdout",
     "output_type": "stream",
     "text": [
      "3194149\n"
     ]
    },
    {
     "name": "stderr",
     "output_type": "stream",
     "text": [
      " 81%|███████████████████████████████▌       | 512/633 [2:40:27<33:38, 16.68s/it]"
     ]
    },
    {
     "name": "stdout",
     "output_type": "stream",
     "text": [
      "2640652\n"
     ]
    },
    {
     "name": "stderr",
     "output_type": "stream",
     "text": [
      " 81%|███████████████████████████████▌       | 513/633 [2:40:43<33:15, 16.63s/it]"
     ]
    },
    {
     "name": "stdout",
     "output_type": "stream",
     "text": [
      "2690389\n"
     ]
    },
    {
     "name": "stderr",
     "output_type": "stream",
     "text": [
      " 81%|███████████████████████████████▋       | 514/633 [2:40:59<32:14, 16.26s/it]"
     ]
    },
    {
     "name": "stdout",
     "output_type": "stream",
     "text": [
      "2696213\n"
     ]
    },
    {
     "name": "stderr",
     "output_type": "stream",
     "text": [
      " 81%|███████████████████████████████▋       | 515/633 [2:41:14<31:30, 16.02s/it]"
     ]
    },
    {
     "name": "stdout",
     "output_type": "stream",
     "text": [
      "3493558\n"
     ]
    },
    {
     "name": "stderr",
     "output_type": "stream",
     "text": [
      " 82%|███████████████████████████████▊       | 516/633 [2:41:31<31:53, 16.35s/it]"
     ]
    },
    {
     "name": "stdout",
     "output_type": "stream",
     "text": [
      "2469526\n"
     ]
    },
    {
     "name": "stderr",
     "output_type": "stream",
     "text": [
      " 82%|███████████████████████████████▊       | 517/633 [2:41:47<31:27, 16.27s/it]"
     ]
    },
    {
     "name": "stdout",
     "output_type": "stream",
     "text": [
      "2594596\n"
     ]
    },
    {
     "name": "stderr",
     "output_type": "stream",
     "text": [
      " 82%|███████████████████████████████▉       | 518/633 [2:42:03<30:39, 15.99s/it]"
     ]
    },
    {
     "name": "stdout",
     "output_type": "stream",
     "text": [
      "2647827\n"
     ]
    },
    {
     "name": "stderr",
     "output_type": "stream",
     "text": [
      " 82%|███████████████████████████████▉       | 519/633 [2:42:18<30:02, 15.81s/it]"
     ]
    },
    {
     "name": "stdout",
     "output_type": "stream",
     "text": [
      "3080917\n"
     ]
    },
    {
     "name": "stderr",
     "output_type": "stream",
     "text": [
      " 82%|████████████████████████████████       | 520/633 [2:42:34<30:03, 15.96s/it]"
     ]
    },
    {
     "name": "stdout",
     "output_type": "stream",
     "text": [
      "2656198\n"
     ]
    },
    {
     "name": "stderr",
     "output_type": "stream",
     "text": [
      " 82%|████████████████████████████████       | 521/633 [2:42:51<30:11, 16.18s/it]"
     ]
    },
    {
     "name": "stdout",
     "output_type": "stream",
     "text": [
      "3145616\n"
     ]
    },
    {
     "name": "stderr",
     "output_type": "stream",
     "text": [
      " 82%|████████████████████████████████▏      | 522/633 [2:43:07<30:00, 16.22s/it]"
     ]
    },
    {
     "name": "stdout",
     "output_type": "stream",
     "text": [
      "3156357\n"
     ]
    },
    {
     "name": "stderr",
     "output_type": "stream",
     "text": [
      " 83%|████████████████████████████████▏      | 523/633 [2:43:25<30:25, 16.60s/it]"
     ]
    },
    {
     "name": "stdout",
     "output_type": "stream",
     "text": [
      "3239468\n"
     ]
    },
    {
     "name": "stderr",
     "output_type": "stream",
     "text": [
      " 83%|████████████████████████████████▎      | 524/633 [2:43:43<30:50, 16.97s/it]"
     ]
    },
    {
     "name": "stdout",
     "output_type": "stream",
     "text": [
      "2645256\n"
     ]
    },
    {
     "name": "stderr",
     "output_type": "stream",
     "text": [
      " 83%|████████████████████████████████▎      | 525/633 [2:43:59<30:20, 16.86s/it]"
     ]
    },
    {
     "name": "stdout",
     "output_type": "stream",
     "text": [
      "5593402\n"
     ]
    },
    {
     "name": "stderr",
     "output_type": "stream",
     "text": [
      " 83%|████████████████████████████████▍      | 526/633 [2:44:21<32:33, 18.25s/it]"
     ]
    },
    {
     "name": "stdout",
     "output_type": "stream",
     "text": [
      "2762612\n"
     ]
    },
    {
     "name": "stderr",
     "output_type": "stream",
     "text": [
      " 83%|████████████████████████████████▍      | 527/633 [2:44:38<31:29, 17.82s/it]"
     ]
    },
    {
     "name": "stdout",
     "output_type": "stream",
     "text": [
      "3573815\n"
     ]
    },
    {
     "name": "stderr",
     "output_type": "stream",
     "text": [
      " 83%|████████████████████████████████▌      | 528/633 [2:44:55<30:47, 17.60s/it]"
     ]
    },
    {
     "name": "stdout",
     "output_type": "stream",
     "text": [
      "2537498\n"
     ]
    },
    {
     "name": "stderr",
     "output_type": "stream",
     "text": [
      " 84%|████████████████████████████████▌      | 529/633 [2:45:11<29:46, 17.17s/it]"
     ]
    },
    {
     "name": "stdout",
     "output_type": "stream",
     "text": [
      "2920220\n"
     ]
    },
    {
     "name": "stderr",
     "output_type": "stream",
     "text": [
      " 84%|████████████████████████████████▋      | 530/633 [2:45:27<28:48, 16.79s/it]"
     ]
    },
    {
     "name": "stdout",
     "output_type": "stream",
     "text": [
      "2780602\n"
     ]
    },
    {
     "name": "stderr",
     "output_type": "stream",
     "text": [
      " 84%|████████████████████████████████▋      | 531/633 [2:45:44<28:38, 16.85s/it]"
     ]
    },
    {
     "name": "stdout",
     "output_type": "stream",
     "text": [
      "2494239\n"
     ]
    },
    {
     "name": "stderr",
     "output_type": "stream",
     "text": [
      " 84%|████████████████████████████████▊      | 532/633 [2:45:59<27:26, 16.31s/it]"
     ]
    },
    {
     "name": "stdout",
     "output_type": "stream",
     "text": [
      "3174091\n"
     ]
    },
    {
     "name": "stderr",
     "output_type": "stream",
     "text": [
      " 84%|████████████████████████████████▊      | 533/633 [2:46:15<27:16, 16.37s/it]"
     ]
    },
    {
     "name": "stdout",
     "output_type": "stream",
     "text": [
      "3025830\n"
     ]
    },
    {
     "name": "stderr",
     "output_type": "stream",
     "text": [
      " 84%|████████████████████████████████▉      | 534/633 [2:46:33<27:24, 16.61s/it]"
     ]
    },
    {
     "name": "stdout",
     "output_type": "stream",
     "text": [
      "2556242\n"
     ]
    },
    {
     "name": "stderr",
     "output_type": "stream",
     "text": [
      " 85%|████████████████████████████████▉      | 535/633 [2:46:49<26:56, 16.50s/it]"
     ]
    },
    {
     "name": "stdout",
     "output_type": "stream",
     "text": [
      "2693313\n"
     ]
    },
    {
     "name": "stderr",
     "output_type": "stream",
     "text": [
      " 85%|█████████████████████████████████      | 536/633 [2:47:04<26:10, 16.19s/it]"
     ]
    },
    {
     "name": "stdout",
     "output_type": "stream",
     "text": [
      "2635037\n"
     ]
    },
    {
     "name": "stderr",
     "output_type": "stream",
     "text": [
      " 85%|█████████████████████████████████      | 537/633 [2:47:20<25:32, 15.97s/it]"
     ]
    },
    {
     "name": "stdout",
     "output_type": "stream",
     "text": [
      "2383191\n"
     ]
    },
    {
     "name": "stderr",
     "output_type": "stream",
     "text": [
      " 85%|█████████████████████████████████▏     | 538/633 [2:47:35<24:46, 15.65s/it]"
     ]
    },
    {
     "name": "stdout",
     "output_type": "stream",
     "text": [
      "2562745\n"
     ]
    },
    {
     "name": "stderr",
     "output_type": "stream",
     "text": [
      " 85%|█████████████████████████████████▏     | 539/633 [2:47:50<24:16, 15.49s/it]"
     ]
    },
    {
     "name": "stdout",
     "output_type": "stream",
     "text": [
      "3206799\n"
     ]
    },
    {
     "name": "stderr",
     "output_type": "stream",
     "text": [
      " 85%|█████████████████████████████████▎     | 540/633 [2:48:06<24:27, 15.78s/it]"
     ]
    },
    {
     "name": "stdout",
     "output_type": "stream",
     "text": [
      "2721217\n"
     ]
    },
    {
     "name": "stderr",
     "output_type": "stream",
     "text": [
      " 85%|█████████████████████████████████▎     | 541/633 [2:48:23<24:38, 16.07s/it]"
     ]
    },
    {
     "name": "stdout",
     "output_type": "stream",
     "text": [
      "2568339\n"
     ]
    },
    {
     "name": "stderr",
     "output_type": "stream",
     "text": [
      " 86%|█████████████████████████████████▍     | 542/633 [2:48:38<23:59, 15.82s/it]"
     ]
    },
    {
     "name": "stdout",
     "output_type": "stream",
     "text": [
      "3463297\n"
     ]
    },
    {
     "name": "stderr",
     "output_type": "stream",
     "text": [
      " 86%|█████████████████████████████████▍     | 543/633 [2:48:55<24:15, 16.18s/it]"
     ]
    },
    {
     "name": "stdout",
     "output_type": "stream",
     "text": [
      "3787642\n"
     ]
    },
    {
     "name": "stderr",
     "output_type": "stream",
     "text": [
      " 86%|█████████████████████████████████▌     | 544/633 [2:49:15<25:27, 17.16s/it]"
     ]
    },
    {
     "name": "stdout",
     "output_type": "stream",
     "text": [
      "2643288\n"
     ]
    },
    {
     "name": "stderr",
     "output_type": "stream",
     "text": [
      " 86%|█████████████████████████████████▌     | 545/633 [2:49:31<24:56, 17.01s/it]"
     ]
    },
    {
     "name": "stdout",
     "output_type": "stream",
     "text": [
      "2780798\n"
     ]
    },
    {
     "name": "stderr",
     "output_type": "stream",
     "text": [
      " 86%|█████████████████████████████████▋     | 546/633 [2:49:47<24:04, 16.60s/it]"
     ]
    },
    {
     "name": "stdout",
     "output_type": "stream",
     "text": [
      "2653589\n"
     ]
    },
    {
     "name": "stderr",
     "output_type": "stream",
     "text": [
      " 86%|█████████████████████████████████▋     | 547/633 [2:50:02<23:14, 16.21s/it]"
     ]
    },
    {
     "name": "stdout",
     "output_type": "stream",
     "text": [
      "2446746\n"
     ]
    },
    {
     "name": "stderr",
     "output_type": "stream",
     "text": [
      " 87%|█████████████████████████████████▊     | 548/633 [2:50:17<22:24, 15.82s/it]"
     ]
    },
    {
     "name": "stdout",
     "output_type": "stream",
     "text": [
      "3016011\n"
     ]
    },
    {
     "name": "stderr",
     "output_type": "stream",
     "text": [
      " 87%|█████████████████████████████████▊     | 549/633 [2:50:33<22:19, 15.94s/it]"
     ]
    },
    {
     "name": "stdout",
     "output_type": "stream",
     "text": [
      "2499870\n"
     ]
    },
    {
     "name": "stderr",
     "output_type": "stream",
     "text": [
      " 87%|█████████████████████████████████▉     | 550/633 [2:50:50<22:12, 16.06s/it]"
     ]
    },
    {
     "name": "stdout",
     "output_type": "stream",
     "text": [
      "2467451\n"
     ]
    },
    {
     "name": "stderr",
     "output_type": "stream",
     "text": [
      " 87%|█████████████████████████████████▉     | 551/633 [2:51:05<21:35, 15.80s/it]"
     ]
    },
    {
     "name": "stdout",
     "output_type": "stream",
     "text": [
      "2956514\n"
     ]
    },
    {
     "name": "stderr",
     "output_type": "stream",
     "text": [
      " 87%|██████████████████████████████████     | 552/633 [2:51:21<21:29, 15.92s/it]"
     ]
    },
    {
     "name": "stdout",
     "output_type": "stream",
     "text": [
      "2673406\n"
     ]
    },
    {
     "name": "stderr",
     "output_type": "stream",
     "text": [
      " 87%|██████████████████████████████████     | 553/633 [2:51:38<21:33, 16.17s/it]"
     ]
    },
    {
     "name": "stdout",
     "output_type": "stream",
     "text": [
      "4058559\n"
     ]
    },
    {
     "name": "stderr",
     "output_type": "stream",
     "text": [
      " 88%|██████████████████████████████████▏    | 554/633 [2:51:56<22:10, 16.84s/it]"
     ]
    },
    {
     "name": "stdout",
     "output_type": "stream",
     "text": [
      "2719044\n"
     ]
    },
    {
     "name": "stderr",
     "output_type": "stream",
     "text": [
      " 88%|██████████████████████████████████▏    | 555/633 [2:52:13<21:53, 16.83s/it]"
     ]
    },
    {
     "name": "stdout",
     "output_type": "stream",
     "text": [
      "2925377\n"
     ]
    },
    {
     "name": "stderr",
     "output_type": "stream",
     "text": [
      " 88%|██████████████████████████████████▎    | 556/633 [2:52:29<21:14, 16.56s/it]"
     ]
    },
    {
     "name": "stdout",
     "output_type": "stream",
     "text": [
      "2463336\n"
     ]
    },
    {
     "name": "stderr",
     "output_type": "stream",
     "text": [
      " 88%|██████████████████████████████████▎    | 557/633 [2:52:45<20:50, 16.45s/it]"
     ]
    },
    {
     "name": "stdout",
     "output_type": "stream",
     "text": [
      "2517116\n"
     ]
    },
    {
     "name": "stderr",
     "output_type": "stream",
     "text": [
      " 88%|██████████████████████████████████▍    | 558/633 [2:53:00<20:02, 16.03s/it]"
     ]
    },
    {
     "name": "stdout",
     "output_type": "stream",
     "text": [
      "3408557\n"
     ]
    },
    {
     "name": "stderr",
     "output_type": "stream",
     "text": [
      " 88%|██████████████████████████████████▍    | 559/633 [2:53:17<20:07, 16.32s/it]"
     ]
    },
    {
     "name": "stdout",
     "output_type": "stream",
     "text": [
      "2673554\n"
     ]
    },
    {
     "name": "stderr",
     "output_type": "stream",
     "text": [
      " 88%|██████████████████████████████████▌    | 560/633 [2:53:34<20:01, 16.45s/it]"
     ]
    },
    {
     "name": "stdout",
     "output_type": "stream",
     "text": [
      "5885134\n"
     ]
    },
    {
     "name": "stderr",
     "output_type": "stream",
     "text": [
      " 89%|██████████████████████████████████▌    | 561/633 [2:53:56<21:47, 18.16s/it]"
     ]
    },
    {
     "name": "stdout",
     "output_type": "stream",
     "text": [
      "3015136\n"
     ]
    },
    {
     "name": "stderr",
     "output_type": "stream",
     "text": [
      " 89%|██████████████████████████████████▋    | 562/633 [2:54:14<21:17, 17.99s/it]"
     ]
    },
    {
     "name": "stdout",
     "output_type": "stream",
     "text": [
      "2566038\n"
     ]
    },
    {
     "name": "stderr",
     "output_type": "stream",
     "text": [
      " 89%|██████████████████████████████████▋    | 563/633 [2:54:30<20:28, 17.55s/it]"
     ]
    },
    {
     "name": "stdout",
     "output_type": "stream",
     "text": [
      "2582466\n"
     ]
    },
    {
     "name": "stderr",
     "output_type": "stream",
     "text": [
      " 89%|██████████████████████████████████▋    | 564/633 [2:54:46<19:30, 16.96s/it]"
     ]
    },
    {
     "name": "stdout",
     "output_type": "stream",
     "text": [
      "2901692\n"
     ]
    },
    {
     "name": "stderr",
     "output_type": "stream",
     "text": [
      " 89%|██████████████████████████████████▊    | 565/633 [2:55:02<18:51, 16.64s/it]"
     ]
    },
    {
     "name": "stdout",
     "output_type": "stream",
     "text": [
      "2498021\n"
     ]
    },
    {
     "name": "stderr",
     "output_type": "stream",
     "text": [
      " 89%|██████████████████████████████████▊    | 566/633 [2:55:18<18:24, 16.48s/it]"
     ]
    },
    {
     "name": "stdout",
     "output_type": "stream",
     "text": [
      "2389734\n"
     ]
    },
    {
     "name": "stderr",
     "output_type": "stream",
     "text": [
      " 90%|██████████████████████████████████▉    | 567/633 [2:55:33<17:35, 16.00s/it]"
     ]
    },
    {
     "name": "stdout",
     "output_type": "stream",
     "text": [
      "2738618\n"
     ]
    },
    {
     "name": "stderr",
     "output_type": "stream",
     "text": [
      " 90%|██████████████████████████████████▉    | 568/633 [2:55:48<17:09, 15.83s/it]"
     ]
    },
    {
     "name": "stdout",
     "output_type": "stream",
     "text": [
      "2555844\n"
     ]
    },
    {
     "name": "stderr",
     "output_type": "stream",
     "text": [
      " 90%|███████████████████████████████████    | 569/633 [2:56:03<16:43, 15.67s/it]"
     ]
    },
    {
     "name": "stdout",
     "output_type": "stream",
     "text": [
      "2630611\n"
     ]
    },
    {
     "name": "stderr",
     "output_type": "stream",
     "text": [
      " 90%|███████████████████████████████████    | 570/633 [2:56:19<16:21, 15.57s/it]"
     ]
    },
    {
     "name": "stdout",
     "output_type": "stream",
     "text": [
      "2640195\n"
     ]
    },
    {
     "name": "stderr",
     "output_type": "stream",
     "text": [
      " 90%|███████████████████████████████████▏   | 571/633 [2:56:34<16:00, 15.49s/it]"
     ]
    },
    {
     "name": "stdout",
     "output_type": "stream",
     "text": [
      "4134334\n"
     ]
    },
    {
     "name": "stderr",
     "output_type": "stream",
     "text": [
      " 90%|███████████████████████████████████▏   | 572/633 [2:56:53<16:41, 16.43s/it]"
     ]
    },
    {
     "name": "stdout",
     "output_type": "stream",
     "text": [
      "2920059\n"
     ]
    },
    {
     "name": "stderr",
     "output_type": "stream",
     "text": [
      " 91%|███████████████████████████████████▎   | 573/633 [2:57:10<16:38, 16.64s/it]"
     ]
    },
    {
     "name": "stdout",
     "output_type": "stream",
     "text": [
      "2480522\n"
     ]
    },
    {
     "name": "stderr",
     "output_type": "stream",
     "text": [
      " 91%|███████████████████████████████████▎   | 574/633 [2:57:26<16:13, 16.50s/it]"
     ]
    },
    {
     "name": "stdout",
     "output_type": "stream",
     "text": [
      "2899312\n"
     ]
    },
    {
     "name": "stderr",
     "output_type": "stream",
     "text": [
      " 91%|███████████████████████████████████▍   | 575/633 [2:57:42<15:45, 16.30s/it]"
     ]
    },
    {
     "name": "stdout",
     "output_type": "stream",
     "text": [
      "2530026\n"
     ]
    },
    {
     "name": "stderr",
     "output_type": "stream",
     "text": [
      " 91%|███████████████████████████████████▍   | 576/633 [2:57:58<15:32, 16.36s/it]"
     ]
    },
    {
     "name": "stdout",
     "output_type": "stream",
     "text": [
      "3301686\n"
     ]
    },
    {
     "name": "stderr",
     "output_type": "stream",
     "text": [
      " 91%|███████████████████████████████████▌   | 577/633 [2:58:15<15:26, 16.55s/it]"
     ]
    },
    {
     "name": "stdout",
     "output_type": "stream",
     "text": [
      "2805399\n"
     ]
    },
    {
     "name": "stderr",
     "output_type": "stream",
     "text": [
      " 91%|███████████████████████████████████▌   | 578/633 [2:58:33<15:27, 16.86s/it]"
     ]
    },
    {
     "name": "stdout",
     "output_type": "stream",
     "text": [
      "2716805\n"
     ]
    },
    {
     "name": "stderr",
     "output_type": "stream",
     "text": [
      " 91%|███████████████████████████████████▋   | 579/633 [2:58:50<15:11, 16.88s/it]"
     ]
    },
    {
     "name": "stdout",
     "output_type": "stream",
     "text": [
      "3222394\n"
     ]
    },
    {
     "name": "stderr",
     "output_type": "stream",
     "text": [
      " 92%|███████████████████████████████████▋   | 580/633 [2:59:07<15:00, 16.99s/it]"
     ]
    },
    {
     "name": "stdout",
     "output_type": "stream",
     "text": [
      "2571184\n"
     ]
    },
    {
     "name": "stderr",
     "output_type": "stream",
     "text": [
      " 92%|███████████████████████████████████▊   | 581/633 [2:59:24<14:34, 16.81s/it]"
     ]
    },
    {
     "name": "stdout",
     "output_type": "stream",
     "text": [
      "2589755\n"
     ]
    },
    {
     "name": "stderr",
     "output_type": "stream",
     "text": [
      " 92%|███████████████████████████████████▊   | 582/633 [2:59:39<13:54, 16.37s/it]"
     ]
    },
    {
     "name": "stdout",
     "output_type": "stream",
     "text": [
      "3631421\n"
     ]
    },
    {
     "name": "stderr",
     "output_type": "stream",
     "text": [
      " 92%|███████████████████████████████████▉   | 583/633 [2:59:57<14:00, 16.81s/it]"
     ]
    },
    {
     "name": "stdout",
     "output_type": "stream",
     "text": [
      "3222353\n"
     ]
    },
    {
     "name": "stderr",
     "output_type": "stream",
     "text": [
      " 92%|███████████████████████████████████▉   | 584/633 [3:00:15<14:02, 17.20s/it]"
     ]
    },
    {
     "name": "stdout",
     "output_type": "stream",
     "text": [
      "3249511\n"
     ]
    },
    {
     "name": "stderr",
     "output_type": "stream",
     "text": [
      " 92%|████████████████████████████████████   | 585/633 [3:00:33<13:54, 17.39s/it]"
     ]
    },
    {
     "name": "stdout",
     "output_type": "stream",
     "text": [
      "2982494\n"
     ]
    },
    {
     "name": "stderr",
     "output_type": "stream",
     "text": [
      " 93%|████████████████████████████████████   | 586/633 [3:00:51<13:46, 17.59s/it]"
     ]
    },
    {
     "name": "stdout",
     "output_type": "stream",
     "text": [
      "2816471\n"
     ]
    },
    {
     "name": "stderr",
     "output_type": "stream",
     "text": [
      " 93%|████████████████████████████████████▏  | 587/633 [3:01:08<13:24, 17.48s/it]"
     ]
    },
    {
     "name": "stdout",
     "output_type": "stream",
     "text": [
      "2855156\n"
     ]
    },
    {
     "name": "stderr",
     "output_type": "stream",
     "text": [
      " 93%|████████████████████████████████████▏  | 588/633 [3:01:25<13:00, 17.35s/it]"
     ]
    },
    {
     "name": "stdout",
     "output_type": "stream",
     "text": [
      "2618409\n"
     ]
    },
    {
     "name": "stderr",
     "output_type": "stream",
     "text": [
      " 93%|████████████████████████████████████▎  | 589/633 [3:01:42<12:32, 17.10s/it]"
     ]
    },
    {
     "name": "stdout",
     "output_type": "stream",
     "text": [
      "2853138\n"
     ]
    },
    {
     "name": "stderr",
     "output_type": "stream",
     "text": [
      " 93%|████████████████████████████████████▎  | 590/633 [3:01:57<11:59, 16.74s/it]"
     ]
    },
    {
     "name": "stdout",
     "output_type": "stream",
     "text": [
      "2609946\n"
     ]
    },
    {
     "name": "stderr",
     "output_type": "stream",
     "text": [
      " 93%|████████████████████████████████████▍  | 591/633 [3:02:14<11:40, 16.68s/it]"
     ]
    },
    {
     "name": "stdout",
     "output_type": "stream",
     "text": [
      "3022385\n"
     ]
    },
    {
     "name": "stderr",
     "output_type": "stream",
     "text": [
      " 94%|████████████████████████████████████▍  | 592/633 [3:02:30<11:17, 16.52s/it]"
     ]
    },
    {
     "name": "stdout",
     "output_type": "stream",
     "text": [
      "2970458\n"
     ]
    },
    {
     "name": "stderr",
     "output_type": "stream",
     "text": [
      " 94%|████████████████████████████████████▌  | 593/633 [3:02:47<11:08, 16.72s/it]"
     ]
    },
    {
     "name": "stdout",
     "output_type": "stream",
     "text": [
      "3192706\n"
     ]
    },
    {
     "name": "stderr",
     "output_type": "stream",
     "text": [
      " 94%|████████████████████████████████████▌  | 594/633 [3:03:05<11:03, 17.02s/it]"
     ]
    },
    {
     "name": "stdout",
     "output_type": "stream",
     "text": [
      "4267887\n"
     ]
    },
    {
     "name": "stderr",
     "output_type": "stream",
     "text": [
      " 94%|████████████████████████████████████▋  | 595/633 [3:03:25<11:21, 17.94s/it]"
     ]
    },
    {
     "name": "stdout",
     "output_type": "stream",
     "text": [
      "2465951\n"
     ]
    },
    {
     "name": "stderr",
     "output_type": "stream",
     "text": [
      " 94%|████████████████████████████████████▋  | 596/633 [3:03:42<10:51, 17.60s/it]"
     ]
    },
    {
     "name": "stdout",
     "output_type": "stream",
     "text": [
      "2571688\n"
     ]
    },
    {
     "name": "stderr",
     "output_type": "stream",
     "text": [
      " 94%|████████████████████████████████████▊  | 597/633 [3:03:57<10:12, 17.01s/it]"
     ]
    },
    {
     "name": "stdout",
     "output_type": "stream",
     "text": [
      "4165923\n"
     ]
    },
    {
     "name": "stderr",
     "output_type": "stream",
     "text": [
      " 94%|████████████████████████████████████▊  | 598/633 [3:04:16<10:12, 17.49s/it]"
     ]
    },
    {
     "name": "stdout",
     "output_type": "stream",
     "text": [
      "2607215\n"
     ]
    },
    {
     "name": "stderr",
     "output_type": "stream",
     "text": [
      " 95%|████████████████████████████████████▉  | 599/633 [3:04:33<09:45, 17.21s/it]"
     ]
    },
    {
     "name": "stdout",
     "output_type": "stream",
     "text": [
      "2464628\n"
     ]
    },
    {
     "name": "stderr",
     "output_type": "stream",
     "text": [
      " 95%|████████████████████████████████████▉  | 600/633 [3:04:48<09:06, 16.57s/it]"
     ]
    },
    {
     "name": "stdout",
     "output_type": "stream",
     "text": [
      "3637074\n"
     ]
    },
    {
     "name": "stderr",
     "output_type": "stream",
     "text": [
      " 95%|█████████████████████████████████████  | 601/633 [3:05:06<09:02, 16.96s/it]"
     ]
    },
    {
     "name": "stdout",
     "output_type": "stream",
     "text": [
      "2721613\n"
     ]
    },
    {
     "name": "stderr",
     "output_type": "stream",
     "text": [
      " 95%|█████████████████████████████████████  | 602/633 [3:05:23<08:47, 17.02s/it]"
     ]
    },
    {
     "name": "stdout",
     "output_type": "stream",
     "text": [
      "3025670\n"
     ]
    },
    {
     "name": "stderr",
     "output_type": "stream",
     "text": [
      " 95%|█████████████████████████████████████▏ | 603/633 [3:05:40<08:28, 16.95s/it]"
     ]
    },
    {
     "name": "stdout",
     "output_type": "stream",
     "text": [
      "2985303\n"
     ]
    },
    {
     "name": "stderr",
     "output_type": "stream",
     "text": [
      " 95%|█████████████████████████████████████▏ | 604/633 [3:05:57<08:20, 17.24s/it]"
     ]
    },
    {
     "name": "stdout",
     "output_type": "stream",
     "text": [
      "2577031\n"
     ]
    },
    {
     "name": "stderr",
     "output_type": "stream",
     "text": [
      " 96%|█████████████████████████████████████▎ | 605/633 [3:06:15<08:04, 17.29s/it]"
     ]
    },
    {
     "name": "stdout",
     "output_type": "stream",
     "text": [
      "2973670\n"
     ]
    },
    {
     "name": "stderr",
     "output_type": "stream",
     "text": [
      " 96%|█████████████████████████████████████▎ | 606/633 [3:06:32<07:44, 17.20s/it]"
     ]
    },
    {
     "name": "stdout",
     "output_type": "stream",
     "text": [
      "3620966\n"
     ]
    },
    {
     "name": "stderr",
     "output_type": "stream",
     "text": [
      " 96%|█████████████████████████████████████▍ | 607/633 [3:06:51<07:41, 17.73s/it]"
     ]
    },
    {
     "name": "stdout",
     "output_type": "stream",
     "text": [
      "2713945\n"
     ]
    },
    {
     "name": "stderr",
     "output_type": "stream",
     "text": [
      " 96%|█████████████████████████████████████▍ | 608/633 [3:07:08<07:18, 17.53s/it]"
     ]
    },
    {
     "name": "stdout",
     "output_type": "stream",
     "text": [
      "2928278\n"
     ]
    },
    {
     "name": "stderr",
     "output_type": "stream",
     "text": [
      " 96%|█████████████████████████████████████▌ | 609/633 [3:07:24<06:51, 17.13s/it]"
     ]
    },
    {
     "name": "stdout",
     "output_type": "stream",
     "text": [
      "3978880\n"
     ]
    },
    {
     "name": "stderr",
     "output_type": "stream",
     "text": [
      " 96%|█████████████████████████████████████▌ | 610/633 [3:07:44<06:55, 18.06s/it]"
     ]
    },
    {
     "name": "stdout",
     "output_type": "stream",
     "text": [
      "2764636\n"
     ]
    },
    {
     "name": "stderr",
     "output_type": "stream",
     "text": [
      " 97%|█████████████████████████████████████▋ | 611/633 [3:08:02<06:31, 17.81s/it]"
     ]
    },
    {
     "name": "stdout",
     "output_type": "stream",
     "text": [
      "2700952\n"
     ]
    },
    {
     "name": "stderr",
     "output_type": "stream",
     "text": [
      " 97%|█████████████████████████████████████▋ | 612/633 [3:08:18<06:03, 17.32s/it]"
     ]
    },
    {
     "name": "stdout",
     "output_type": "stream",
     "text": [
      "3107194\n"
     ]
    },
    {
     "name": "stderr",
     "output_type": "stream",
     "text": [
      " 97%|█████████████████████████████████████▊ | 613/633 [3:08:34<05:42, 17.14s/it]"
     ]
    },
    {
     "name": "stdout",
     "output_type": "stream",
     "text": [
      "3417558\n"
     ]
    },
    {
     "name": "stderr",
     "output_type": "stream",
     "text": [
      " 97%|█████████████████████████████████████▊ | 614/633 [3:08:53<05:32, 17.52s/it]"
     ]
    },
    {
     "name": "stdout",
     "output_type": "stream",
     "text": [
      "2430028\n"
     ]
    },
    {
     "name": "stderr",
     "output_type": "stream",
     "text": [
      " 97%|█████████████████████████████████████▉ | 615/633 [3:09:12<05:22, 17.91s/it]"
     ]
    },
    {
     "name": "stdout",
     "output_type": "stream",
     "text": [
      "2580931\n"
     ]
    },
    {
     "name": "stderr",
     "output_type": "stream",
     "text": [
      " 97%|█████████████████████████████████████▉ | 616/633 [3:09:27<04:53, 17.24s/it]"
     ]
    },
    {
     "name": "stdout",
     "output_type": "stream",
     "text": [
      "2589048\n"
     ]
    },
    {
     "name": "stderr",
     "output_type": "stream",
     "text": [
      " 97%|██████████████████████████████████████ | 617/633 [3:09:43<04:28, 16.75s/it]"
     ]
    },
    {
     "name": "stdout",
     "output_type": "stream",
     "text": [
      "3145071\n"
     ]
    },
    {
     "name": "stderr",
     "output_type": "stream",
     "text": [
      " 98%|██████████████████████████████████████ | 618/633 [3:10:00<04:13, 16.88s/it]"
     ]
    },
    {
     "name": "stdout",
     "output_type": "stream",
     "text": [
      "2413403\n"
     ]
    },
    {
     "name": "stderr",
     "output_type": "stream",
     "text": [
      " 98%|██████████████████████████████████████▏| 619/633 [3:10:17<03:54, 16.76s/it]"
     ]
    },
    {
     "name": "stdout",
     "output_type": "stream",
     "text": [
      "3254725\n"
     ]
    },
    {
     "name": "stderr",
     "output_type": "stream",
     "text": [
      " 98%|██████████████████████████████████████▏| 620/633 [3:10:34<03:40, 16.94s/it]"
     ]
    },
    {
     "name": "stdout",
     "output_type": "stream",
     "text": [
      "2588919\n"
     ]
    },
    {
     "name": "stderr",
     "output_type": "stream",
     "text": [
      " 98%|██████████████████████████████████████▎| 621/633 [3:10:53<03:30, 17.51s/it]"
     ]
    },
    {
     "name": "stdout",
     "output_type": "stream",
     "text": [
      "2861191\n"
     ]
    },
    {
     "name": "stderr",
     "output_type": "stream",
     "text": [
      " 98%|██████████████████████████████████████▎| 622/633 [3:11:13<03:21, 18.32s/it]"
     ]
    },
    {
     "name": "stdout",
     "output_type": "stream",
     "text": [
      "2511506\n"
     ]
    },
    {
     "name": "stderr",
     "output_type": "stream",
     "text": [
      " 98%|██████████████████████████████████████▍| 623/633 [3:11:28<02:53, 17.38s/it]"
     ]
    },
    {
     "name": "stdout",
     "output_type": "stream",
     "text": [
      "3112618\n"
     ]
    },
    {
     "name": "stderr",
     "output_type": "stream",
     "text": [
      " 99%|██████████████████████████████████████▍| 624/633 [3:11:45<02:34, 17.13s/it]"
     ]
    },
    {
     "name": "stdout",
     "output_type": "stream",
     "text": [
      "2590442\n"
     ]
    },
    {
     "name": "stderr",
     "output_type": "stream",
     "text": [
      " 99%|██████████████████████████████████████▌| 625/633 [3:12:00<02:13, 16.67s/it]"
     ]
    },
    {
     "name": "stdout",
     "output_type": "stream",
     "text": [
      "4875661\n"
     ]
    },
    {
     "name": "stderr",
     "output_type": "stream",
     "text": [
      " 99%|██████████████████████████████████████▌| 626/633 [3:12:21<02:04, 17.81s/it]"
     ]
    },
    {
     "name": "stdout",
     "output_type": "stream",
     "text": [
      "2767949\n"
     ]
    },
    {
     "name": "stderr",
     "output_type": "stream",
     "text": [
      " 99%|██████████████████████████████████████▋| 627/633 [3:12:39<01:46, 17.78s/it]"
     ]
    },
    {
     "name": "stdout",
     "output_type": "stream",
     "text": [
      "2675751\n"
     ]
    },
    {
     "name": "stderr",
     "output_type": "stream",
     "text": [
      " 99%|██████████████████████████████████████▋| 628/633 [3:12:54<01:25, 17.04s/it]"
     ]
    },
    {
     "name": "stdout",
     "output_type": "stream",
     "text": [
      "2769473\n"
     ]
    },
    {
     "name": "stderr",
     "output_type": "stream",
     "text": [
      " 99%|██████████████████████████████████████▊| 629/633 [3:13:10<01:06, 16.67s/it]"
     ]
    },
    {
     "name": "stdout",
     "output_type": "stream",
     "text": [
      "2937885\n"
     ]
    },
    {
     "name": "stderr",
     "output_type": "stream",
     "text": [
      "100%|██████████████████████████████████████▊| 630/633 [3:13:26<00:49, 16.56s/it]"
     ]
    },
    {
     "name": "stdout",
     "output_type": "stream",
     "text": [
      "2592055\n"
     ]
    },
    {
     "name": "stderr",
     "output_type": "stream",
     "text": [
      "100%|██████████████████████████████████████▉| 631/633 [3:13:43<00:33, 16.79s/it]"
     ]
    },
    {
     "name": "stdout",
     "output_type": "stream",
     "text": [
      "2791348\n"
     ]
    },
    {
     "name": "stderr",
     "output_type": "stream",
     "text": [
      "100%|██████████████████████████████████████▉| 632/633 [3:14:00<00:16, 16.63s/it]"
     ]
    },
    {
     "name": "stdout",
     "output_type": "stream",
     "text": [
      "2571363\n"
     ]
    },
    {
     "name": "stderr",
     "output_type": "stream",
     "text": [
      "100%|███████████████████████████████████████| 633/633 [3:14:16<00:00, 18.42s/it]\n"
     ]
    }
   ],
   "source": [
    "for i in tqdm(os.listdir('./preprocessed_GRN_files_all/')):\n",
    "    data = pd.read_csv('./preprocessed_GRN_files_all/'+i)\n",
    "    data.sort_values(by = 'Weights', ascending = False)\n",
    "    data = data[data.Weights > 0.0]\n",
    "    print(len(data))\n",
    "    data.to_csv('./preprocessed_GRN_files_all_positive/'+i, index =  False)"
   ]
  },
  {
   "cell_type": "code",
   "execution_count": 75,
   "id": "2d466190-a4f2-4413-8bcc-1ce209e13d10",
   "metadata": {},
   "outputs": [
    {
     "name": "stdout",
     "output_type": "stream",
     "text": [
      "01_120405.csv\t299_120430.csv\t492_120515.csv\t680_120604.csv\n",
      "02_120405.csv\t29_120416.csv\t493_120515.csv\t681_120604.csv\n",
      "03_120405.csv\t300_120430.csv\t494_120515.csv\t682_120604.csv\n",
      "04_120405.csv\t302_120430.csv\t495_120515.csv\t683_120604.csv\n",
      "05_120405.csv\t303_120430.csv\t496_120515.csv\t684_120604.csv\n",
      "07_120410.csv\t304_120430.csv\t497_120515.csv\t685_120604.csv\n",
      "08_120410.csv\t305_120430.csv\t498_120515.csv\t687_120604.csv\n",
      "100_120417.csv\t306_120430.csv\t500_120515.csv\t688_120604.csv\n",
      "101_120418.csv\t307_120430.csv\t501_120515.csv\t689_120604.csv\n",
      "102_120418.csv\t309_120430.csv\t502_120515.csv\t68_120417.csv\n",
      "103_120418.csv\t30_120416.csv\t505_120515.csv\t690_120604.csv\n",
      "104_120418.csv\t310_120430.csv\t506_120515.csv\t691_120605.csv\n",
      "108_120418.csv\t312_120430.csv\t507_120515.csv\t693_120605.csv\n",
      "109_120418.csv\t314_120501.csv\t508_120515.csv\t694_120605.csv\n",
      "111_120418.csv\t315_120501.csv\t509_120515.csv\t695_120605.csv\n",
      "112_120418.csv\t318_120501.csv\t510_120515.csv\t697_120605.csv\n",
      "113_120418.csv\t321_120501.csv\t511_120515.csv\t698_120605.csv\n",
      "115_120418.csv\t322_120501.csv\t513_120515.csv\t699_120605.csv\n",
      "116_120418.csv\t323_120501.csv\t515_120515.csv\t69_120417.csv\n",
      "118_120418.csv\t325_120501.csv\t516_120515.csv\t700_120605.csv\n",
      "119_120418.csv\t326_120501.csv\t517_120515.csv\t701_120605.csv\n",
      "11_120410.csv\t327_120501.csv\t51_120416.csv\t702_120605.csv\n",
      "120_120418.csv\t328_120501.csv\t520_120515.csv\t703_120605.csv\n",
      "121_120418.csv\t329_120501.csv\t521_120515.csv\t704_120605.csv\n",
      "122_120418.csv\t32_120416.csv\t522_120515.csv\t705_120605.csv\n",
      "124_120419.csv\t331_120501.csv\t523_120515.csv\t706_120605.csv\n",
      "125_120419.csv\t332_120501.csv\t524_120515.csv\t707_120531.csv\n",
      "126_120419.csv\t334_120501.csv\t525_120515.csv\t708_120531.csv\n",
      "128_120419.csv\t335_120501.csv\t526_120515.csv\t709_120531.csv\n",
      "129_120419.csv\t336_120501.csv\t528_120515.csv\t70_120417.csv\n",
      "12_120410.csv\t337_120501.csv\t52_120416.csv\t710_120531.csv\n",
      "130_120419.csv\t339_120501.csv\t530_120515.csv\t711_120531.csv\n",
      "131_120419.csv\t33_120416.csv\t531_120516.csv\t713_120531.csv\n",
      "132_120419.csv\t340_120501.csv\t532_120516.csv\t714_120531.csv\n",
      "133_120419.csv\t344_120501.csv\t533_120516.csv\t715_120531.csv\n",
      "134_120419.csv\t345_120501.csv\t534_120516.csv\t716_120531.csv\n",
      "136_120419.csv\t347_120501.csv\t535_120516.csv\t718_120531.csv\n",
      "138_120419.csv\t349_120501.csv\t536_120516.csv\t720_120531.csv\n",
      "140_120419.csv\t34_120416.csv\t537_120516.csv\t721_120531.csv\n",
      "141_120419.csv\t350_120501.csv\t538_120516.csv\t722_120531.csv\n",
      "142_120419.csv\t351_120501.csv\t539_120516.csv\t724_120605.csv\n",
      "145_120419.csv\t352_120501.csv\t53_120417.csv\t72_120417.csv\n",
      "146_120419.csv\t353_120501.csv\t540_120516.csv\t73_120417.csv\n",
      "149_120419.csv\t354_120501.csv\t541_120516.csv\t74_120417.csv\n",
      "14_120410.csv\t355_120501.csv\t542_120516.csv\t75_120417.csv\n",
      "150_120419.csv\t356_120501.csv\t543_120516.csv\t763_130520.csv\n",
      "152_120419.csv\t358_120502.csv\t544_120516.csv\t767_130523.csv\n",
      "153_120423.csv\t359_120502.csv\t545_120516.csv\t768_130523.csv\n",
      "154_120423.csv\t35_120416.csv\t547_120516.csv\t769_130523.csv\n",
      "155_120423.csv\t360_120502.csv\t548_120516.csv\t76_120417.csv\n",
      "158_120423.csv\t363_120502.csv\t549_120517.csv\t770_130523.csv\n",
      "159_120423.csv\t364_120502.csv\t54_120417.csv\t775_130528.csv\n",
      "15_120410.csv\t366_120502.csv\t550_120517.csv\t776_130528.csv\n",
      "160_120423.csv\t367_120502.csv\t551_120517.csv\t777_130528.csv\n",
      "162_120423.csv\t368_120502.csv\t553_120517.csv\t778_130528.csv\n",
      "164_120423.csv\t369_120502.csv\t554_120517.csv\t77_120417.csv\n",
      "165_120423.csv\t36_120416.csv\t555_120517.csv\t781_130528.csv\n",
      "166_120423.csv\t370_120502.csv\t556_120517.csv\t786_130530.csv\n",
      "168_120423.csv\t371_120502.csv\t557_120517.csv\t787_130530.csv\n",
      "170_120423.csv\t372_120502.csv\t559_120517.csv\t78_120417.csv\n",
      "171_120423.csv\t375_120502.csv\t560_120517.csv\t790_130530.csv\n",
      "173_120424.csv\t377_120503.csv\t561_120517.csv\t792_130530.csv\n",
      "174_120424.csv\t378_120503.csv\t562_120517.csv\t793_130530.csv\n",
      "176_120424.csv\t37_120416.csv\t563_120517.csv\t796_130701.csv\n",
      "177_120424.csv\t381_120503.csv\t564_120517.csv\t797_130701.csv\n",
      "179_120424.csv\t383_120503.csv\t565_120517.csv\t799_130701.csv\n",
      "180_120424.csv\t384_120503.csv\t567_120521.csv\t79_120417.csv\n",
      "181_120424.csv\t385_120503.csv\t568_120521.csv\t803_130701.csv\n",
      "182_120424.csv\t386_120503.csv\t569_120521.csv\t805_130701.csv\n",
      "183_120424.csv\t388_120503.csv\t56_120417.csv\t807_130701.csv\n",
      "185_120424.csv\t389_120503.csv\t571_120521.csv\t809_130702.csv\n",
      "186_120424.csv\t38_120416.csv\t572_120521.csv\t80_120417.csv\n",
      "187_120424.csv\t390_120503.csv\t573_120521.csv\t810_130702.csv\n",
      "188_120424.csv\t391_120503.csv\t574_120521.csv\t811_130702.csv\n",
      "190_120424.csv\t392_120503.csv\t575_120521.csv\t812_130702.csv\n",
      "191_120424.csv\t393_120503.csv\t576_120521.csv\t813_130702.csv\n",
      "193_120424.csv\t394_120503.csv\t577_120521.csv\t815_130702.csv\n",
      "196_120424.csv\t396_120503.csv\t578_120521.csv\t81_120417.csv\n",
      "197_120424.csv\t397_120503.csv\t57_120417.csv\t820_130725.csv\n",
      "19_120411.csv\t398_120503.csv\t580_120521.csv\t821_130725.csv\n",
      "200_120424.csv\t399_120503.csv\t581_120521.csv\t824_130725.csv\n",
      "201_120424.csv\t39_120416.csv\t582_120521.csv\t826_130725.csv\n",
      "202_120424.csv\t402_120503.csv\t583_120522.csv\t829_130725.csv\n",
      "203_120424.csv\t403_120503.csv\t584_120522.csv\t82_120417.csv\n",
      "204_120424.csv\t405_120503.csv\t586_120522.csv\t831_130725.csv\n",
      "206_120424.csv\t406_120503.csv\t587_120522.csv\t833_130729.csv\n",
      "207_120424.csv\t407_120503.csv\t588_120522.csv\t834_130729.csv\n",
      "20_120411.csv\t408_120503.csv\t589_120522.csv\t83_120417.csv\n",
      "212_120424.csv\t40_120416.csv\t58_120417.csv\t844_130830.csv\n",
      "213_120425.csv\t410_120503.csv\t590_120522.csv\t845_130830.csv\n",
      "214_120425.csv\t411_120503.csv\t591_120522.csv\t846_130830.csv\n",
      "215_120425.csv\t412_120503.csv\t593_120522.csv\t847_130830.csv\n",
      "216_120425.csv\t413_120503.csv\t594_120522.csv\t84_120417.csv\n",
      "218_120425.csv\t414_120503.csv\t595_120522.csv\t857_130905.csv\n",
      "219_120425.csv\t415_120503.csv\t596_120522.csv\t861_130911.csv\n",
      "21_120411.csv\t416_120503.csv\t599_120523.csv\t862_130911.csv\n",
      "220_120425.csv\t418_120507.csv\t600_120523.csv\t864_130911.csv\n",
      "221_120425.csv\t419_120507.csv\t602_120523.csv\t865_130911.csv\n",
      "222_120425.csv\t420_120507.csv\t603_120523.csv\t871_130911.csv\n",
      "224_120425.csv\t423_120507.csv\t604_120523.csv\t876_130918.csv\n",
      "227_120425.csv\t424_120507.csv\t605_120523.csv\t879_130918.csv\n",
      "228_120425.csv\t425_120507.csv\t606_120523.csv\t881_130918.csv\n",
      "229_120425.csv\t426_120507.csv\t607_120523.csv\t882_130918.csv\n",
      "231_120425.csv\t427_120507.csv\t608_120523.csv\t884_130923.csv\n",
      "232_120425.csv\t428_120507.csv\t60_120417.csv\t885_130923.csv\n",
      "234_120425.csv\t429_120507.csv\t610_120523.csv\t887_130923.csv\n",
      "236_120425.csv\t430_120507.csv\t613_120523.csv\t889_130923.csv\n",
      "237_120426.csv\t431_120507.csv\t614_120523.csv\t88_120417.csv\n",
      "238_120426.csv\t433_120507.csv\t616_120524.csv\t892_130923.csv\n",
      "23_120411.csv\t434_120507.csv\t617_120524.csv\t893_130923.csv\n",
      "240_120426.csv\t435_120507.csv\t618_120524.csv\t894_130923.csv\n",
      "241_120426.csv\t437_120507.csv\t619_120524.csv\t895_130923.csv\n",
      "242_120426.csv\t438_120507.csv\t620_120524.csv\t899_131010.csv\n",
      "243_120426.csv\t440_120507.csv\t624_120524.csv\t89_120417.csv\n",
      "244_120426.csv\t443_120507.csv\t625_120524.csv\t900_131010.csv\n",
      "245_120426.csv\t444_120507.csv\t626_120524.csv\t901_131010.csv\n",
      "246_120426.csv\t445_120507.csv\t628_120524.csv\t905_131010.csv\n",
      "248_120426.csv\t448_120507.csv\t629_120524.csv\t909_131031.csv\n",
      "24_120411.csv\t449_120507.csv\t630_120524.csv\t90_120417.csv\n",
      "250_120426.csv\t44_120416.csv\t631_120524.csv\t911_131031.csv\n",
      "251_120426.csv\t450_120507.csv\t632_120524.csv\t922_131031.csv\n",
      "252_120426.csv\t451_120507.csv\t633_120524.csv\t923_131031.csv\n",
      "253_120426.csv\t452_120507.csv\t634_120524.csv\t924_131031.csv\n",
      "254_120426.csv\t453_120507.csv\t635_120524.csv\t925_131031.csv\n",
      "255_120426.csv\t456_120507.csv\t636_120524.csv\t926_131031.csv\n",
      "256_120426.csv\t458_120507.csv\t637_120524.csv\t927_131031.csv\n",
      "257_120426.csv\t459_120514.csv\t638_120524.csv\t929_131031.csv\n",
      "258_120426.csv\t45_120416.csv\t641_120524.csv\t932_131101.csv\n",
      "259_120426.csv\t460_120514.csv\t643_120524.csv\t934_131101.csv\n",
      "25_120411.csv\t461_120514.csv\t644_120524.csv\t935_131101.csv\n",
      "260_120426.csv\t462_120514.csv\t646_120524.csv\t936_131101.csv\n",
      "266_120430.csv\t463_120514.csv\t647_120529.csv\t937_131101.csv\n",
      "267_120430.csv\t464_120514.csv\t648_120529.csv\t938_131101.csv\n",
      "269_120430.csv\t466_120514.csv\t649_120529.csv\t939_131101.csv\n",
      "26_120411.csv\t468_120514.csv\t64_120417.csv\t93_120417.csv\n",
      "270_120430.csv\t469_120514.csv\t653_120529.csv\t940_131101.csv\n",
      "271_120430.csv\t46_120416.csv\t654_120529.csv\t941_131101.csv\n",
      "272_120430.csv\t470_120514.csv\t656_120529.csv\t942_131101.csv\n",
      "273_120430.csv\t471_120514.csv\t657_120529.csv\t943_131101.csv\n",
      "274_120430.csv\t472_120514.csv\t65_120417.csv\t944_131107.csv\n",
      "276_120430.csv\t473_120514.csv\t660_120530.csv\t945_131107.csv\n",
      "277_120430.csv\t474_120514.csv\t662_120530.csv\t946_131107.csv\n",
      "279_120430.csv\t475_120514.csv\t663_120530.csv\t949_131107.csv\n",
      "280_120430.csv\t476_120514.csv\t664_120530.csv\t94_120417.csv\n",
      "281_120430.csv\t477_120514.csv\t665_120530.csv\t950_131107.csv\n",
      "283_120430.csv\t478_120514.csv\t666_120530.csv\t951_131107.csv\n",
      "284_120430.csv\t479_120514.csv\t668_120530.csv\t952_131107.csv\n",
      "285_120430.csv\t47_120416.csv\t669_120530.csv\t954_131107.csv\n",
      "286_120430.csv\t480_120514.csv\t66_120417.csv\t956_131107.csv\n",
      "287_120430.csv\t481_120514.csv\t670_120530.csv\t957_131107.csv\n",
      "288_120430.csv\t482_120514.csv\t671_120530.csv\t958_131107.csv\n",
      "289_120430.csv\t483_120515.csv\t672_120530.csv\t96_120417.csv\n",
      "28_120411.csv\t484_120515.csv\t673_120530.csv\t97_120417.csv\n",
      "290_120430.csv\t485_120515.csv\t674_120530.csv\t98_120417.csv\n",
      "291_120430.csv\t486_120515.csv\t675_120604.csv\tR24_131017.csv\n",
      "292_120430.csv\t487_120515.csv\t676_120604.csv\tredo4_140501.csv\n",
      "294_120430.csv\t488_120515.csv\t677_120604.csv\n",
      "296_120430.csv\t489_120515.csv\t678_120604.csv\n",
      "298_120430.csv\t491_120515.csv\t679_120604.csv\n"
     ]
    }
   ],
   "source": [
    "!ls ./preprocessed_GRN_files_all_positive///"
   ]
  },
  {
   "cell_type": "code",
   "execution_count": 81,
   "id": "967a33b3-0471-4287-8e47-873f8ab914c7",
   "metadata": {},
   "outputs": [],
   "source": [
    "data = pd.read_csv('./preprocessed_GRN_files_all_positive//01_120405.csv')"
   ]
  },
  {
   "cell_type": "code",
   "execution_count": 79,
   "id": "2daf6e5e-c377-4870-8082-5d600666614d",
   "metadata": {},
   "outputs": [
    {
     "name": "stdout",
     "output_type": "stream",
     "text": [
      "/priv/c3-sysbio/anwer/stratified_GRN\n"
     ]
    }
   ],
   "source": [
    "!pwd"
   ]
  },
  {
   "cell_type": "code",
   "execution_count": 80,
   "id": "0f310adf-b495-49fb-9961-4726940b0e88",
   "metadata": {},
   "outputs": [
    {
     "data": {
      "text/plain": [
       "115839"
      ]
     },
     "execution_count": 80,
     "metadata": {},
     "output_type": "execute_result"
    }
   ],
   "source": [
    "183*633"
   ]
  },
  {
   "cell_type": "code",
   "execution_count": 72,
   "id": "a4a794c9-915d-4792-a963-dd95be14e715",
   "metadata": {},
   "outputs": [
    {
     "name": "stdout",
     "output_type": "stream",
     "text": [
      "0_2___1_2.png\t\t\t NCI_with_Plaques_preprocessed\n",
      "AD_with_No_Plaques.pkl\t\t Untitled1.ipynb\n",
      "AD_with_Plaques.pkl\t\t my_plot.png\n",
      "AD_with_no_Plaques\t\t plots\n",
      "AD_with_no_Plaques_preprocessed  preprocessed_GRN_files_all\n",
      "GRN_analysis.ipynb\t\t preprocessed_GRN_files_all_positive\n",
      "NCI_with_No_Plaques.pkl\t\t preprocessed_GRN_files_all_top_200000\n",
      "NCI_with_Plaques\t\t preprocessed_dataframe_edge_weights.csv\n",
      "NCI_with_Plaques.pkl\n"
     ]
    }
   ],
   "source": [
    "!ls\n"
   ]
  },
  {
   "cell_type": "code",
   "execution_count": 2,
   "id": "d2750728-72f9-424f-a7ae-dcd533d4fa19",
   "metadata": {},
   "outputs": [],
   "source": [
    "import pickle\n",
    "with open('NCI_with_No_Plaques.pkl','rb') as f:\n",
    "    NCI_with_No_Plaques= pickle.load(f)\n",
    "\n",
    "with open('AD_with_Plaques.pkl','rb') as f:\n",
    "    AD_with_Plaques= pickle.load(f)\n",
    "\n",
    "with open('AD_with_No_Plaques.pkl','rb') as f:\n",
    "    AD_with_No_Plaques= pickle.load(f)\n",
    "\n",
    "with open('NCI_with_Plaques.pkl','rb') as f:\n",
    "    NCI_with_Plaques = pickle.load(f)"
   ]
  },
  {
   "cell_type": "code",
   "execution_count": 4,
   "id": "300a7eb7-cb9c-4e5f-9bc6-c3be7ac3de36",
   "metadata": {},
   "outputs": [
    {
     "data": {
      "text/plain": [
       "111"
      ]
     },
     "execution_count": 4,
     "metadata": {},
     "output_type": "execute_result"
    }
   ],
   "source": [
    "len(AD_with_Plaques)"
   ]
  },
  {
   "cell_type": "code",
   "execution_count": 6,
   "id": "49610d3e-7767-4815-a9ad-bf426942b581",
   "metadata": {},
   "outputs": [
    {
     "name": "stderr",
     "output_type": "stream",
     "text": [
      "  0%|                                                   | 0/633 [00:00<?, ?it/s]"
     ]
    },
    {
     "name": "stdout",
     "output_type": "stream",
     "text": [
      "1\n"
     ]
    },
    {
     "name": "stderr",
     "output_type": "stream",
     "text": [
      "  2%|▊                                         | 13/633 [00:15<12:39,  1.22s/it]"
     ]
    },
    {
     "name": "stdout",
     "output_type": "stream",
     "text": [
      "2\n"
     ]
    },
    {
     "name": "stderr",
     "output_type": "stream",
     "text": [
      "  2%|▉                                         | 14/633 [00:31<26:47,  2.60s/it]"
     ]
    },
    {
     "name": "stdout",
     "output_type": "stream",
     "text": [
      "3\n"
     ]
    },
    {
     "name": "stderr",
     "output_type": "stream",
     "text": [
      "  4%|█▋                                        | 26/633 [00:45<17:26,  1.72s/it]"
     ]
    },
    {
     "name": "stdout",
     "output_type": "stream",
     "text": [
      "4\n"
     ]
    },
    {
     "name": "stderr",
     "output_type": "stream",
     "text": [
      "  5%|█▉                                        | 29/633 [00:59<22:56,  2.28s/it]"
     ]
    },
    {
     "name": "stdout",
     "output_type": "stream",
     "text": [
      "5\n"
     ]
    },
    {
     "name": "stderr",
     "output_type": "stream",
     "text": [
      "  5%|██                                        | 31/633 [01:14<30:23,  3.03s/it]"
     ]
    },
    {
     "name": "stdout",
     "output_type": "stream",
     "text": [
      "6\n"
     ]
    },
    {
     "name": "stderr",
     "output_type": "stream",
     "text": [
      "  6%|██▎                                       | 35/633 [01:30<32:58,  3.31s/it]"
     ]
    },
    {
     "name": "stdout",
     "output_type": "stream",
     "text": [
      "7\n"
     ]
    },
    {
     "name": "stderr",
     "output_type": "stream",
     "text": [
      "  6%|██▋                                       | 41/633 [01:43<28:36,  2.90s/it]"
     ]
    },
    {
     "name": "stdout",
     "output_type": "stream",
     "text": [
      "8\n"
     ]
    },
    {
     "name": "stderr",
     "output_type": "stream",
     "text": [
      "  7%|██▉                                       | 45/633 [01:58<30:08,  3.08s/it]"
     ]
    },
    {
     "name": "stdout",
     "output_type": "stream",
     "text": [
      "9\n"
     ]
    },
    {
     "name": "stderr",
     "output_type": "stream",
     "text": [
      "  7%|███                                       | 46/633 [02:12<40:01,  4.09s/it]"
     ]
    },
    {
     "name": "stdout",
     "output_type": "stream",
     "text": [
      "10\n"
     ]
    },
    {
     "name": "stderr",
     "output_type": "stream",
     "text": [
      "  8%|███▍                                      | 52/633 [02:27<32:53,  3.40s/it]"
     ]
    },
    {
     "name": "stdout",
     "output_type": "stream",
     "text": [
      "11\n"
     ]
    },
    {
     "name": "stderr",
     "output_type": "stream",
     "text": [
      "  9%|███▋                                      | 55/633 [02:42<36:23,  3.78s/it]"
     ]
    },
    {
     "name": "stdout",
     "output_type": "stream",
     "text": [
      "12\n"
     ]
    },
    {
     "name": "stderr",
     "output_type": "stream",
     "text": [
      "  9%|███▊                                      | 57/633 [02:57<43:05,  4.49s/it]"
     ]
    },
    {
     "name": "stdout",
     "output_type": "stream",
     "text": [
      "13\n"
     ]
    },
    {
     "name": "stderr",
     "output_type": "stream",
     "text": [
      "  9%|███▊                                      | 58/633 [03:12<54:25,  5.68s/it]"
     ]
    },
    {
     "name": "stdout",
     "output_type": "stream",
     "text": [
      "14\n"
     ]
    },
    {
     "name": "stderr",
     "output_type": "stream",
     "text": [
      "  9%|███▋                                    | 59/633 [03:28<1:07:45,  7.08s/it]"
     ]
    },
    {
     "name": "stdout",
     "output_type": "stream",
     "text": [
      "15\n"
     ]
    },
    {
     "name": "stderr",
     "output_type": "stream",
     "text": [
      "  9%|███▊                                    | 60/633 [03:43<1:20:00,  8.38s/it]"
     ]
    },
    {
     "name": "stdout",
     "output_type": "stream",
     "text": [
      "16\n"
     ]
    },
    {
     "name": "stderr",
     "output_type": "stream",
     "text": [
      " 10%|████▍                                     | 66/633 [03:57<45:50,  4.85s/it]"
     ]
    },
    {
     "name": "stdout",
     "output_type": "stream",
     "text": [
      "17\n"
     ]
    },
    {
     "name": "stderr",
     "output_type": "stream",
     "text": [
      " 11%|████▍                                     | 67/633 [04:11<56:03,  5.94s/it]"
     ]
    },
    {
     "name": "stdout",
     "output_type": "stream",
     "text": [
      "18\n"
     ]
    },
    {
     "name": "stderr",
     "output_type": "stream",
     "text": [
      " 13%|█████▎                                    | 80/633 [04:23<22:49,  2.48s/it]"
     ]
    },
    {
     "name": "stdout",
     "output_type": "stream",
     "text": [
      "19\n"
     ]
    },
    {
     "name": "stderr",
     "output_type": "stream",
     "text": [
      " 14%|█████▉                                    | 89/633 [04:37<18:58,  2.09s/it]"
     ]
    },
    {
     "name": "stdout",
     "output_type": "stream",
     "text": [
      "20\n"
     ]
    },
    {
     "name": "stderr",
     "output_type": "stream",
     "text": [
      " 15%|██████▍                                   | 97/633 [04:51<17:28,  1.96s/it]"
     ]
    },
    {
     "name": "stdout",
     "output_type": "stream",
     "text": [
      "21\n"
     ]
    },
    {
     "name": "stderr",
     "output_type": "stream",
     "text": [
      " 17%|██████▊                                  | 105/633 [05:05<16:43,  1.90s/it]"
     ]
    },
    {
     "name": "stdout",
     "output_type": "stream",
     "text": [
      "22\n"
     ]
    },
    {
     "name": "stderr",
     "output_type": "stream",
     "text": [
      " 17%|██████▉                                  | 107/633 [05:19<21:37,  2.47s/it]"
     ]
    },
    {
     "name": "stdout",
     "output_type": "stream",
     "text": [
      "23\n"
     ]
    },
    {
     "name": "stderr",
     "output_type": "stream",
     "text": [
      " 18%|███████▏                                 | 111/633 [05:35<24:05,  2.77s/it]"
     ]
    },
    {
     "name": "stdout",
     "output_type": "stream",
     "text": [
      "24\n"
     ]
    },
    {
     "name": "stderr",
     "output_type": "stream",
     "text": [
      " 18%|███████▎                                 | 113/633 [05:50<29:51,  3.44s/it]"
     ]
    },
    {
     "name": "stdout",
     "output_type": "stream",
     "text": [
      "25\n"
     ]
    },
    {
     "name": "stderr",
     "output_type": "stream",
     "text": [
      " 18%|███████▌                                 | 117/633 [06:05<30:52,  3.59s/it]"
     ]
    },
    {
     "name": "stdout",
     "output_type": "stream",
     "text": [
      "26\n"
     ]
    },
    {
     "name": "stderr",
     "output_type": "stream",
     "text": [
      " 19%|███████▋                                 | 119/633 [06:21<37:08,  4.33s/it]"
     ]
    },
    {
     "name": "stdout",
     "output_type": "stream",
     "text": [
      "27\n"
     ]
    },
    {
     "name": "stderr",
     "output_type": "stream",
     "text": [
      " 19%|███████▉                                 | 123/633 [06:37<35:29,  4.18s/it]"
     ]
    },
    {
     "name": "stdout",
     "output_type": "stream",
     "text": [
      "28\n"
     ]
    },
    {
     "name": "stderr",
     "output_type": "stream",
     "text": [
      " 20%|████████▎                                | 128/633 [06:53<32:07,  3.82s/it]"
     ]
    },
    {
     "name": "stdout",
     "output_type": "stream",
     "text": [
      "29\n"
     ]
    },
    {
     "name": "stderr",
     "output_type": "stream",
     "text": [
      " 21%|████████▋                                | 134/633 [07:09<28:02,  3.37s/it]"
     ]
    },
    {
     "name": "stdout",
     "output_type": "stream",
     "text": [
      "30\n"
     ]
    },
    {
     "name": "stderr",
     "output_type": "stream",
     "text": [
      " 22%|█████████                                | 139/633 [07:24<26:55,  3.27s/it]"
     ]
    },
    {
     "name": "stdout",
     "output_type": "stream",
     "text": [
      "31\n"
     ]
    },
    {
     "name": "stderr",
     "output_type": "stream",
     "text": [
      " 24%|█████████▊                               | 151/633 [07:40<18:00,  2.24s/it]"
     ]
    },
    {
     "name": "stdout",
     "output_type": "stream",
     "text": [
      "32\n"
     ]
    },
    {
     "name": "stderr",
     "output_type": "stream",
     "text": [
      " 25%|██████████▎                              | 159/633 [07:54<16:42,  2.12s/it]"
     ]
    },
    {
     "name": "stdout",
     "output_type": "stream",
     "text": [
      "33\n"
     ]
    },
    {
     "name": "stderr",
     "output_type": "stream",
     "text": [
      " 25%|██████████▎                              | 160/633 [08:12<23:33,  2.99s/it]"
     ]
    },
    {
     "name": "stdout",
     "output_type": "stream",
     "text": [
      "34\n"
     ]
    },
    {
     "name": "stderr",
     "output_type": "stream",
     "text": [
      " 26%|██████████▌                              | 163/633 [08:29<27:10,  3.47s/it]"
     ]
    },
    {
     "name": "stdout",
     "output_type": "stream",
     "text": [
      "35\n"
     ]
    },
    {
     "name": "stderr",
     "output_type": "stream",
     "text": [
      " 27%|██████████▉                              | 168/633 [08:43<25:37,  3.31s/it]"
     ]
    },
    {
     "name": "stdout",
     "output_type": "stream",
     "text": [
      "36\n"
     ]
    },
    {
     "name": "stderr",
     "output_type": "stream",
     "text": [
      " 28%|███████████▌                             | 179/633 [08:59<17:47,  2.35s/it]"
     ]
    },
    {
     "name": "stdout",
     "output_type": "stream",
     "text": [
      "37\n"
     ]
    },
    {
     "name": "stderr",
     "output_type": "stream",
     "text": [
      " 28%|███████████▋                             | 180/633 [09:14<23:45,  3.15s/it]"
     ]
    },
    {
     "name": "stdout",
     "output_type": "stream",
     "text": [
      "38\n"
     ]
    },
    {
     "name": "stderr",
     "output_type": "stream",
     "text": [
      " 29%|███████████▊                             | 182/633 [09:30<28:52,  3.84s/it]"
     ]
    },
    {
     "name": "stdout",
     "output_type": "stream",
     "text": [
      "39\n"
     ]
    },
    {
     "name": "stderr",
     "output_type": "stream",
     "text": [
      " 29%|███████████▉                             | 185/633 [09:46<31:20,  4.20s/it]"
     ]
    },
    {
     "name": "stdout",
     "output_type": "stream",
     "text": [
      "40\n"
     ]
    },
    {
     "name": "stderr",
     "output_type": "stream",
     "text": [
      " 31%|████████████▊                            | 197/633 [10:03<19:01,  2.62s/it]"
     ]
    },
    {
     "name": "stdout",
     "output_type": "stream",
     "text": [
      "41\n"
     ]
    },
    {
     "name": "stderr",
     "output_type": "stream",
     "text": [
      " 32%|████████████▉                            | 200/633 [10:20<22:23,  3.10s/it]"
     ]
    },
    {
     "name": "stdout",
     "output_type": "stream",
     "text": [
      "42\n"
     ]
    },
    {
     "name": "stderr",
     "output_type": "stream",
     "text": [
      " 33%|█████████████▎                           | 206/633 [10:36<21:15,  2.99s/it]"
     ]
    },
    {
     "name": "stdout",
     "output_type": "stream",
     "text": [
      "43\n"
     ]
    },
    {
     "name": "stderr",
     "output_type": "stream",
     "text": [
      " 33%|█████████████▍                           | 207/633 [10:53<28:07,  3.96s/it]"
     ]
    },
    {
     "name": "stdout",
     "output_type": "stream",
     "text": [
      "44\n"
     ]
    },
    {
     "name": "stderr",
     "output_type": "stream",
     "text": [
      " 33%|█████████████▍                           | 208/633 [11:07<35:00,  4.94s/it]"
     ]
    },
    {
     "name": "stdout",
     "output_type": "stream",
     "text": [
      "45\n"
     ]
    },
    {
     "name": "stderr",
     "output_type": "stream",
     "text": [
      " 34%|█████████████▊                           | 214/633 [11:23<27:08,  3.89s/it]"
     ]
    },
    {
     "name": "stdout",
     "output_type": "stream",
     "text": [
      "46\n"
     ]
    },
    {
     "name": "stderr",
     "output_type": "stream",
     "text": [
      " 34%|█████████████▉                           | 215/633 [11:39<35:19,  5.07s/it]"
     ]
    },
    {
     "name": "stdout",
     "output_type": "stream",
     "text": [
      "47\n"
     ]
    },
    {
     "name": "stderr",
     "output_type": "stream",
     "text": [
      " 34%|█████████████▉                           | 216/633 [11:55<44:42,  6.43s/it]"
     ]
    },
    {
     "name": "stdout",
     "output_type": "stream",
     "text": [
      "48\n"
     ]
    },
    {
     "name": "stderr",
     "output_type": "stream",
     "text": [
      " 34%|██████████████                           | 217/633 [12:12<55:33,  8.01s/it]"
     ]
    },
    {
     "name": "stdout",
     "output_type": "stream",
     "text": [
      "49\n"
     ]
    },
    {
     "name": "stderr",
     "output_type": "stream",
     "text": [
      " 35%|██████████████▏                          | 220/633 [12:29<48:25,  7.04s/it]"
     ]
    },
    {
     "name": "stdout",
     "output_type": "stream",
     "text": [
      "50\n"
     ]
    },
    {
     "name": "stderr",
     "output_type": "stream",
     "text": [
      " 37%|██████████████▎                        | 232/633 [21:13<3:35:39, 32.27s/it]"
     ]
    },
    {
     "name": "stdout",
     "output_type": "stream",
     "text": [
      "51\n"
     ]
    },
    {
     "name": "stderr",
     "output_type": "stream",
     "text": [
      " 38%|██████████████▊                        | 240/633 [21:30<2:13:05, 20.32s/it]"
     ]
    },
    {
     "name": "stdout",
     "output_type": "stream",
     "text": [
      "52\n"
     ]
    },
    {
     "name": "stderr",
     "output_type": "stream",
     "text": [
      " 40%|███████████████▌                       | 253/633 [21:46<1:10:49, 11.18s/it]"
     ]
    },
    {
     "name": "stdout",
     "output_type": "stream",
     "text": [
      "53\n"
     ]
    },
    {
     "name": "stderr",
     "output_type": "stream",
     "text": [
      " 40%|███████████████▊                       | 256/633 [22:02<1:05:17, 10.39s/it]"
     ]
    },
    {
     "name": "stdout",
     "output_type": "stream",
     "text": [
      "54\n"
     ]
    },
    {
     "name": "stderr",
     "output_type": "stream",
     "text": [
      " 41%|███████████████▉                       | 258/633 [22:18<1:03:00, 10.08s/it]"
     ]
    },
    {
     "name": "stdout",
     "output_type": "stream",
     "text": [
      "55\n"
     ]
    },
    {
     "name": "stderr",
     "output_type": "stream",
     "text": [
      " 41%|███████████████▉                       | 259/633 [22:32<1:04:52, 10.41s/it]"
     ]
    },
    {
     "name": "stdout",
     "output_type": "stream",
     "text": [
      "56\n"
     ]
    },
    {
     "name": "stderr",
     "output_type": "stream",
     "text": [
      " 44%|█████████████████▉                       | 276/633 [22:47<25:17,  4.25s/it]"
     ]
    },
    {
     "name": "stdout",
     "output_type": "stream",
     "text": [
      "57\n"
     ]
    },
    {
     "name": "stderr",
     "output_type": "stream",
     "text": [
      " 44%|█████████████████▉                       | 277/633 [23:03<28:41,  4.83s/it]"
     ]
    },
    {
     "name": "stdout",
     "output_type": "stream",
     "text": [
      "58\n"
     ]
    },
    {
     "name": "stderr",
     "output_type": "stream",
     "text": [
      " 46%|██████████████████▊                      | 290/633 [23:19<17:31,  3.07s/it]"
     ]
    },
    {
     "name": "stdout",
     "output_type": "stream",
     "text": [
      "59\n"
     ]
    },
    {
     "name": "stderr",
     "output_type": "stream",
     "text": [
      " 47%|███████████████████▏                     | 296/633 [23:33<16:20,  2.91s/it]"
     ]
    },
    {
     "name": "stdout",
     "output_type": "stream",
     "text": [
      "60\n"
     ]
    },
    {
     "name": "stderr",
     "output_type": "stream",
     "text": [
      " 48%|███████████████████▋                     | 304/633 [23:50<14:31,  2.65s/it]"
     ]
    },
    {
     "name": "stdout",
     "output_type": "stream",
     "text": [
      "61\n"
     ]
    },
    {
     "name": "stderr",
     "output_type": "stream",
     "text": [
      " 50%|████████████████████▍                    | 315/633 [24:05<11:26,  2.16s/it]"
     ]
    },
    {
     "name": "stdout",
     "output_type": "stream",
     "text": [
      "62\n"
     ]
    },
    {
     "name": "stderr",
     "output_type": "stream",
     "text": [
      " 51%|████████████████████▉                    | 323/633 [24:22<11:00,  2.13s/it]"
     ]
    },
    {
     "name": "stdout",
     "output_type": "stream",
     "text": [
      "63\n"
     ]
    },
    {
     "name": "stderr",
     "output_type": "stream",
     "text": [
      " 52%|█████████████████████▌                   | 332/633 [24:37<10:03,  2.01s/it]"
     ]
    },
    {
     "name": "stdout",
     "output_type": "stream",
     "text": [
      "64\n"
     ]
    },
    {
     "name": "stderr",
     "output_type": "stream",
     "text": [
      " 55%|██████████████████████▎                  | 345/633 [24:53<08:04,  1.68s/it]"
     ]
    },
    {
     "name": "stdout",
     "output_type": "stream",
     "text": [
      "65\n"
     ]
    },
    {
     "name": "stderr",
     "output_type": "stream",
     "text": [
      " 55%|██████████████████████▋                  | 350/633 [25:08<09:04,  1.92s/it]"
     ]
    },
    {
     "name": "stdout",
     "output_type": "stream",
     "text": [
      "66\n"
     ]
    },
    {
     "name": "stderr",
     "output_type": "stream",
     "text": [
      " 56%|██████████████████████▉                  | 354/633 [25:22<10:18,  2.22s/it]"
     ]
    },
    {
     "name": "stdout",
     "output_type": "stream",
     "text": [
      "67\n"
     ]
    },
    {
     "name": "stderr",
     "output_type": "stream",
     "text": [
      " 57%|███████████████████████▏                 | 358/633 [25:40<12:03,  2.63s/it]"
     ]
    },
    {
     "name": "stdout",
     "output_type": "stream",
     "text": [
      "68\n"
     ]
    },
    {
     "name": "stderr",
     "output_type": "stream",
     "text": [
      " 57%|███████████████████████▍                 | 361/633 [25:56<13:57,  3.08s/it]"
     ]
    },
    {
     "name": "stdout",
     "output_type": "stream",
     "text": [
      "69\n"
     ]
    },
    {
     "name": "stderr",
     "output_type": "stream",
     "text": [
      " 57%|███████████████████████▌                 | 363/633 [26:10<16:29,  3.66s/it]"
     ]
    },
    {
     "name": "stdout",
     "output_type": "stream",
     "text": [
      "70\n"
     ]
    },
    {
     "name": "stderr",
     "output_type": "stream",
     "text": [
      " 58%|███████████████████████▋                 | 365/633 [26:27<20:02,  4.49s/it]"
     ]
    },
    {
     "name": "stdout",
     "output_type": "stream",
     "text": [
      "71\n"
     ]
    },
    {
     "name": "stderr",
     "output_type": "stream",
     "text": [
      " 58%|███████████████████████▋                 | 366/633 [26:43<25:36,  5.76s/it]"
     ]
    },
    {
     "name": "stdout",
     "output_type": "stream",
     "text": [
      "72\n"
     ]
    },
    {
     "name": "stderr",
     "output_type": "stream",
     "text": [
      " 59%|████████████████████████                 | 372/633 [27:00<18:38,  4.29s/it]"
     ]
    },
    {
     "name": "stdout",
     "output_type": "stream",
     "text": [
      "73\n"
     ]
    },
    {
     "name": "stderr",
     "output_type": "stream",
     "text": [
      " 60%|████████████████████████▌                | 380/633 [27:15<13:25,  3.18s/it]"
     ]
    },
    {
     "name": "stdout",
     "output_type": "stream",
     "text": [
      "74\n"
     ]
    },
    {
     "name": "stderr",
     "output_type": "stream",
     "text": [
      " 60%|████████████████████████▋                | 382/633 [27:31<16:08,  3.86s/it]"
     ]
    },
    {
     "name": "stdout",
     "output_type": "stream",
     "text": [
      "75\n"
     ]
    },
    {
     "name": "stderr",
     "output_type": "stream",
     "text": [
      " 61%|█████████████████████████                | 386/633 [27:47<16:10,  3.93s/it]"
     ]
    },
    {
     "name": "stdout",
     "output_type": "stream",
     "text": [
      "76\n"
     ]
    },
    {
     "name": "stderr",
     "output_type": "stream",
     "text": [
      " 63%|█████████████████████████▊               | 399/633 [28:05<09:27,  2.43s/it]"
     ]
    },
    {
     "name": "stdout",
     "output_type": "stream",
     "text": [
      "77\n"
     ]
    },
    {
     "name": "stderr",
     "output_type": "stream",
     "text": [
      " 65%|██████████████████████████▌              | 410/633 [28:22<07:46,  2.09s/it]"
     ]
    },
    {
     "name": "stdout",
     "output_type": "stream",
     "text": [
      "78\n"
     ]
    },
    {
     "name": "stderr",
     "output_type": "stream",
     "text": [
      " 66%|██████████████████████████▉              | 416/633 [28:39<08:07,  2.25s/it]"
     ]
    },
    {
     "name": "stdout",
     "output_type": "stream",
     "text": [
      "79\n"
     ]
    },
    {
     "name": "stderr",
     "output_type": "stream",
     "text": [
      " 66%|███████████████████████████▏             | 419/633 [28:56<09:51,  2.76s/it]"
     ]
    },
    {
     "name": "stdout",
     "output_type": "stream",
     "text": [
      "80\n"
     ]
    },
    {
     "name": "stderr",
     "output_type": "stream",
     "text": [
      " 70%|████████████████████████████▍            | 440/633 [29:12<05:02,  1.57s/it]"
     ]
    },
    {
     "name": "stdout",
     "output_type": "stream",
     "text": [
      "81\n"
     ]
    },
    {
     "name": "stderr",
     "output_type": "stream",
     "text": [
      " 72%|█████████████████████████████▌           | 456/633 [29:27<03:55,  1.33s/it]"
     ]
    },
    {
     "name": "stdout",
     "output_type": "stream",
     "text": [
      "82\n"
     ]
    },
    {
     "name": "stderr",
     "output_type": "stream",
     "text": [
      " 72%|█████████████████████████████▌           | 457/633 [29:47<05:43,  1.95s/it]"
     ]
    },
    {
     "name": "stdout",
     "output_type": "stream",
     "text": [
      "83\n"
     ]
    },
    {
     "name": "stderr",
     "output_type": "stream",
     "text": [
      " 75%|██████████████████████████████▊          | 475/633 [30:05<03:59,  1.52s/it]"
     ]
    },
    {
     "name": "stdout",
     "output_type": "stream",
     "text": [
      "84\n"
     ]
    },
    {
     "name": "stderr",
     "output_type": "stream",
     "text": [
      " 75%|██████████████████████████████▊          | 476/633 [30:24<05:36,  2.14s/it]"
     ]
    },
    {
     "name": "stdout",
     "output_type": "stream",
     "text": [
      "85\n"
     ]
    },
    {
     "name": "stderr",
     "output_type": "stream",
     "text": [
      " 76%|███████████████████████████████▏         | 481/633 [30:42<06:05,  2.41s/it]"
     ]
    },
    {
     "name": "stdout",
     "output_type": "stream",
     "text": [
      "86\n"
     ]
    },
    {
     "name": "stderr",
     "output_type": "stream",
     "text": [
      " 77%|███████████████████████████████▋         | 490/633 [30:56<05:06,  2.14s/it]"
     ]
    },
    {
     "name": "stdout",
     "output_type": "stream",
     "text": [
      "87\n"
     ]
    },
    {
     "name": "stderr",
     "output_type": "stream",
     "text": [
      " 78%|███████████████████████████████▊         | 491/633 [31:14<06:57,  2.94s/it]"
     ]
    },
    {
     "name": "stdout",
     "output_type": "stream",
     "text": [
      "88\n"
     ]
    },
    {
     "name": "stderr",
     "output_type": "stream",
     "text": [
      " 78%|███████████████████████████████▉         | 494/633 [31:29<07:44,  3.34s/it]"
     ]
    },
    {
     "name": "stdout",
     "output_type": "stream",
     "text": [
      "89\n"
     ]
    },
    {
     "name": "stderr",
     "output_type": "stream",
     "text": [
      " 78%|████████████████████████████████▏        | 496/633 [31:46<09:15,  4.05s/it]"
     ]
    },
    {
     "name": "stdout",
     "output_type": "stream",
     "text": [
      "90\n"
     ]
    },
    {
     "name": "stderr",
     "output_type": "stream",
     "text": [
      " 79%|████████████████████████████████▎        | 498/633 [32:03<10:50,  4.82s/it]"
     ]
    },
    {
     "name": "stdout",
     "output_type": "stream",
     "text": [
      "91\n"
     ]
    },
    {
     "name": "stderr",
     "output_type": "stream",
     "text": [
      " 81%|█████████████████████████████████        | 511/633 [32:19<05:21,  2.64s/it]"
     ]
    },
    {
     "name": "stdout",
     "output_type": "stream",
     "text": [
      "92\n"
     ]
    },
    {
     "name": "stderr",
     "output_type": "stream",
     "text": [
      " 81%|█████████████████████████████████▏       | 512/633 [32:36<07:07,  3.53s/it]"
     ]
    },
    {
     "name": "stdout",
     "output_type": "stream",
     "text": [
      "93\n"
     ]
    },
    {
     "name": "stderr",
     "output_type": "stream",
     "text": [
      " 85%|██████████████████████████████████▊      | 538/633 [32:53<02:22,  1.50s/it]"
     ]
    },
    {
     "name": "stdout",
     "output_type": "stream",
     "text": [
      "94\n"
     ]
    },
    {
     "name": "stderr",
     "output_type": "stream",
     "text": [
      " 86%|███████████████████████████████████▏     | 543/633 [33:08<02:37,  1.75s/it]"
     ]
    },
    {
     "name": "stdout",
     "output_type": "stream",
     "text": [
      "95\n"
     ]
    },
    {
     "name": "stderr",
     "output_type": "stream",
     "text": [
      " 86%|███████████████████████████████████▏     | 544/633 [33:24<03:34,  2.40s/it]"
     ]
    },
    {
     "name": "stdout",
     "output_type": "stream",
     "text": [
      "96\n"
     ]
    },
    {
     "name": "stderr",
     "output_type": "stream",
     "text": [
      " 86%|███████████████████████████████████▍     | 547/633 [33:39<04:02,  2.82s/it]"
     ]
    },
    {
     "name": "stdout",
     "output_type": "stream",
     "text": [
      "97\n"
     ]
    },
    {
     "name": "stderr",
     "output_type": "stream",
     "text": [
      " 87%|███████████████████████████████████▋     | 551/633 [33:55<04:10,  3.06s/it]"
     ]
    },
    {
     "name": "stdout",
     "output_type": "stream",
     "text": [
      "98\n"
     ]
    },
    {
     "name": "stderr",
     "output_type": "stream",
     "text": [
      " 88%|████████████████████████████████████▏    | 559/633 [34:09<03:10,  2.57s/it]"
     ]
    },
    {
     "name": "stdout",
     "output_type": "stream",
     "text": [
      "99\n"
     ]
    },
    {
     "name": "stderr",
     "output_type": "stream",
     "text": [
      " 89%|████████████████████████████████████▍    | 562/633 [34:24<03:31,  2.99s/it]"
     ]
    },
    {
     "name": "stdout",
     "output_type": "stream",
     "text": [
      "100\n"
     ]
    },
    {
     "name": "stderr",
     "output_type": "stream",
     "text": [
      " 89%|████████████████████████████████████▌    | 565/633 [34:40<03:53,  3.44s/it]"
     ]
    },
    {
     "name": "stdout",
     "output_type": "stream",
     "text": [
      "101\n"
     ]
    },
    {
     "name": "stderr",
     "output_type": "stream",
     "text": [
      " 89%|████████████████████████████████████▋    | 566/633 [34:54<04:54,  4.40s/it]"
     ]
    },
    {
     "name": "stdout",
     "output_type": "stream",
     "text": [
      "102\n"
     ]
    },
    {
     "name": "stderr",
     "output_type": "stream",
     "text": [
      " 91%|█████████████████████████████████████    | 573/633 [35:10<03:24,  3.41s/it]"
     ]
    },
    {
     "name": "stdout",
     "output_type": "stream",
     "text": [
      "103\n"
     ]
    },
    {
     "name": "stderr",
     "output_type": "stream",
     "text": [
      " 92%|█████████████████████████████████████▉   | 585/633 [35:25<01:47,  2.24s/it]"
     ]
    },
    {
     "name": "stdout",
     "output_type": "stream",
     "text": [
      "104\n"
     ]
    },
    {
     "name": "stderr",
     "output_type": "stream",
     "text": [
      " 93%|█████████████████████████████████████▉   | 586/633 [35:41<02:22,  3.04s/it]"
     ]
    },
    {
     "name": "stdout",
     "output_type": "stream",
     "text": [
      "105\n"
     ]
    },
    {
     "name": "stderr",
     "output_type": "stream",
     "text": [
      " 93%|██████████████████████████████████████▎  | 591/633 [35:55<02:05,  2.99s/it]"
     ]
    },
    {
     "name": "stdout",
     "output_type": "stream",
     "text": [
      "106\n"
     ]
    },
    {
     "name": "stderr",
     "output_type": "stream",
     "text": [
      " 94%|██████████████████████████████████████▍  | 594/633 [36:13<02:20,  3.59s/it]"
     ]
    },
    {
     "name": "stdout",
     "output_type": "stream",
     "text": [
      "107\n"
     ]
    },
    {
     "name": "stderr",
     "output_type": "stream",
     "text": [
      " 97%|███████████████████████████████████████▊ | 615/633 [36:29<00:30,  1.70s/it]"
     ]
    },
    {
     "name": "stdout",
     "output_type": "stream",
     "text": [
      "108\n"
     ]
    },
    {
     "name": "stderr",
     "output_type": "stream",
     "text": [
      " 99%|████████████████████████████████████████▌| 627/633 [36:44<00:09,  1.54s/it]"
     ]
    },
    {
     "name": "stdout",
     "output_type": "stream",
     "text": [
      "109\n"
     ]
    },
    {
     "name": "stderr",
     "output_type": "stream",
     "text": [
      " 99%|████████████████████████████████████████▋| 628/633 [37:00<00:10,  2.12s/it]"
     ]
    },
    {
     "name": "stdout",
     "output_type": "stream",
     "text": [
      "110\n"
     ]
    },
    {
     "name": "stderr",
     "output_type": "stream",
     "text": [
      "100%|█████████████████████████████████████████| 633/633 [37:16<00:00,  3.53s/it]\n"
     ]
    }
   ],
   "source": [
    "# modified later to save all edges\n",
    "from tqdm import tqdm\n",
    "import pandas as pd\n",
    "import os\n",
    "s = 0\n",
    "data = pd.read_csv('./preprocessed_GRN_files_all/23_120411.csv')\n",
    "data.rename(columns={'Weights': '23_120411'}, inplace = True)\n",
    "for i in tqdm(os.listdir('./preprocessed_GRN_files_all//')):\n",
    "    \n",
    "    if i == '23_120411.csv':\n",
    "        continue\n",
    "    if i.split('.')[0] in AD_with_Plaques:\n",
    "        s = s +1 \n",
    "        print(s)\n",
    "        data_1 = pd.read_csv('./preprocessed_GRN_files_all/'+ i)\n",
    "        data_1.rename(columns={'Weights': i.split('.')[0]}, inplace = True)\n",
    "        data = data.merge(data_1, on = ['TF','Genes'], how = 'inner')\n",
    "        if s == 50: #to tackle OOM\n",
    "            data.to_csv('./preprocessed_all_stratification_grn_all/AD_with_plaques_Df_all_50.csv', index = False)\n",
    "            data = pd.read_csv('./preprocessed_GRN_files_all/23_120411.csv')\n",
    "            data.rename(columns={'Weights': '23_120411'}, inplace = True)\n",
    "data.drop(columns= ['23_120411'], axis=1,inplace= True)   #to tackle OOM    \n",
    "data.to_csv('./preprocessed_all_stratification_grn_all/AD_with_plaques_Df_all_50_to_111.csv', index = False)\n",
    "        \n",
    "        "
   ]
  },
  {
   "cell_type": "code",
   "execution_count": null,
   "id": "09094482-82d6-4d29-b3ce-c97e9ac8359d",
   "metadata": {},
   "outputs": [],
   "source": [
    "# combining (run from terminal)\n",
    "import pandas as pd\n",
    "data_1 = pd.read_csv('./preprocessed_all_stratification_grn_all/AD_with_plaques_Df_all_50.csv\n",
    "data_2 = pd.read_csv('./preprocessed_all_stratification_grn_all/AD_with_plaques_Df_all_50_to_111.csv\n",
    "data = pd.merge(data_1, data_2, left_on = ['TF','Genes'], right_on = ['TF','Genes'], how = 'inner')\n",
    "data.to_csv('./preprocessed_all_stratification_grn_all/AD_with_plaques_Df_all', index = False)\n"
   ]
  },
  {
   "cell_type": "code",
   "execution_count": 3,
   "id": "9301387a-74ac-45bd-a02e-abbf129344d4",
   "metadata": {},
   "outputs": [
    {
     "name": "stderr",
     "output_type": "stream",
     "text": [
      "  0%|                                                   | 0/633 [00:00<?, ?it/s]"
     ]
    },
    {
     "name": "stdout",
     "output_type": "stream",
     "text": [
      "1\n"
     ]
    },
    {
     "name": "stderr",
     "output_type": "stream",
     "text": [
      "  3%|█▍                                        | 22/633 [00:15<07:15,  1.40it/s]"
     ]
    },
    {
     "name": "stdout",
     "output_type": "stream",
     "text": [
      "2\n"
     ]
    },
    {
     "name": "stderr",
     "output_type": "stream",
     "text": [
      "  6%|██▍                                       | 37/633 [00:31<08:36,  1.15it/s]"
     ]
    },
    {
     "name": "stdout",
     "output_type": "stream",
     "text": [
      "3\n"
     ]
    },
    {
     "name": "stderr",
     "output_type": "stream",
     "text": [
      "  6%|██▌                                       | 38/633 [00:46<15:15,  1.54s/it]"
     ]
    },
    {
     "name": "stdout",
     "output_type": "stream",
     "text": [
      "4\n"
     ]
    },
    {
     "name": "stderr",
     "output_type": "stream",
     "text": [
      " 11%|████▋                                     | 70/633 [01:02<07:47,  1.20it/s]"
     ]
    },
    {
     "name": "stdout",
     "output_type": "stream",
     "text": [
      "5\n"
     ]
    },
    {
     "name": "stderr",
     "output_type": "stream",
     "text": [
      " 12%|█████                                     | 76/633 [01:16<09:55,  1.07s/it]"
     ]
    },
    {
     "name": "stdout",
     "output_type": "stream",
     "text": [
      "6\n"
     ]
    },
    {
     "name": "stderr",
     "output_type": "stream",
     "text": [
      " 20%|████████▎                                | 129/633 [01:32<04:39,  1.80it/s]"
     ]
    },
    {
     "name": "stdout",
     "output_type": "stream",
     "text": [
      "7\n"
     ]
    },
    {
     "name": "stderr",
     "output_type": "stream",
     "text": [
      " 34%|█████████████▊                           | 213/633 [01:47<02:18,  3.04it/s]"
     ]
    },
    {
     "name": "stdout",
     "output_type": "stream",
     "text": [
      "8\n"
     ]
    },
    {
     "name": "stderr",
     "output_type": "stream",
     "text": [
      " 34%|██████████████                           | 218/633 [02:02<03:12,  2.16it/s]"
     ]
    },
    {
     "name": "stdout",
     "output_type": "stream",
     "text": [
      "9\n"
     ]
    },
    {
     "name": "stderr",
     "output_type": "stream",
     "text": [
      " 39%|███████████████▉                         | 246/633 [02:17<03:07,  2.07it/s]"
     ]
    },
    {
     "name": "stdout",
     "output_type": "stream",
     "text": [
      "10\n"
     ]
    },
    {
     "name": "stderr",
     "output_type": "stream",
     "text": [
      " 39%|████████████████▏                        | 249/633 [02:34<04:24,  1.45it/s]"
     ]
    },
    {
     "name": "stdout",
     "output_type": "stream",
     "text": [
      "11\n"
     ]
    },
    {
     "name": "stderr",
     "output_type": "stream",
     "text": [
      " 42%|█████████████████                        | 264/633 [02:50<04:49,  1.27it/s]"
     ]
    },
    {
     "name": "stdout",
     "output_type": "stream",
     "text": [
      "12\n"
     ]
    },
    {
     "name": "stderr",
     "output_type": "stream",
     "text": [
      " 49%|███████████████████▉                     | 308/633 [03:04<03:00,  1.80it/s]"
     ]
    },
    {
     "name": "stdout",
     "output_type": "stream",
     "text": [
      "13\n"
     ]
    },
    {
     "name": "stderr",
     "output_type": "stream",
     "text": [
      " 50%|████████████████████▎                    | 314/633 [03:19<03:52,  1.37it/s]"
     ]
    },
    {
     "name": "stdout",
     "output_type": "stream",
     "text": [
      "14\n"
     ]
    },
    {
     "name": "stderr",
     "output_type": "stream",
     "text": [
      " 58%|███████████████████████▊                 | 367/633 [03:37<02:19,  1.90it/s]"
     ]
    },
    {
     "name": "stdout",
     "output_type": "stream",
     "text": [
      "15\n"
     ]
    },
    {
     "name": "stderr",
     "output_type": "stream",
     "text": [
      " 64%|██████████████████████████▏              | 404/633 [03:52<01:50,  2.07it/s]"
     ]
    },
    {
     "name": "stdout",
     "output_type": "stream",
     "text": [
      "16\n"
     ]
    },
    {
     "name": "stderr",
     "output_type": "stream",
     "text": [
      " 67%|███████████████████████████▌             | 426/633 [04:08<01:51,  1.85it/s]"
     ]
    },
    {
     "name": "stdout",
     "output_type": "stream",
     "text": [
      "17\n"
     ]
    },
    {
     "name": "stderr",
     "output_type": "stream",
     "text": [
      " 70%|████████████████████████████▊            | 444/633 [04:22<01:50,  1.71it/s]"
     ]
    },
    {
     "name": "stdout",
     "output_type": "stream",
     "text": [
      "18\n"
     ]
    },
    {
     "name": "stderr",
     "output_type": "stream",
     "text": [
      " 84%|██████████████████████████████████▍      | 532/633 [04:38<00:35,  2.87it/s]"
     ]
    },
    {
     "name": "stdout",
     "output_type": "stream",
     "text": [
      "19\n"
     ]
    },
    {
     "name": "stderr",
     "output_type": "stream",
     "text": [
      " 91%|█████████████████████████████████████▏   | 575/633 [04:55<00:20,  2.79it/s]"
     ]
    },
    {
     "name": "stdout",
     "output_type": "stream",
     "text": [
      "20\n"
     ]
    },
    {
     "name": "stderr",
     "output_type": "stream",
     "text": [
      " 91%|█████████████████████████████████████▍   | 578/633 [05:09<00:26,  2.07it/s]"
     ]
    },
    {
     "name": "stdout",
     "output_type": "stream",
     "text": [
      "21\n"
     ]
    },
    {
     "name": "stderr",
     "output_type": "stream",
     "text": [
      " 94%|██████████████████████████████████████▍  | 593/633 [05:24<00:22,  1.74it/s]"
     ]
    },
    {
     "name": "stdout",
     "output_type": "stream",
     "text": [
      "22\n"
     ]
    },
    {
     "name": "stderr",
     "output_type": "stream",
     "text": [
      " 97%|███████████████████████████████████████▋ | 612/633 [05:40<00:13,  1.60it/s]"
     ]
    },
    {
     "name": "stdout",
     "output_type": "stream",
     "text": [
      "23\n"
     ]
    },
    {
     "name": "stderr",
     "output_type": "stream",
     "text": [
      "100%|█████████████████████████████████████████| 633/633 [05:56<00:00,  1.77it/s]\n"
     ]
    }
   ],
   "source": [
    "from tqdm import tqdm\n",
    "import pandas as pd\n",
    "import os\n",
    "s = 0\n",
    "data = pd.read_csv('./preprocessed_GRN_files_all/643_120524.csv')\n",
    "data.rename(columns={'Weights': '643_120524'}, inplace = True)\n",
    "for i in tqdm(os.listdir('./preprocessed_GRN_files_all//')):\n",
    "    \n",
    "    \n",
    "    if i == '643_120524.csv':\n",
    "        continue\n",
    "    if i.split('.')[0] in NCI_with_Plaques:\n",
    "        s = s +1 \n",
    "        print(s)\n",
    "        data_1 = pd.read_csv('./preprocessed_GRN_files_all/'+ i)\n",
    "        data_1.rename(columns={'Weights': i.split('.')[0]}, inplace = True)\n",
    "        data = data.merge(data_1, on = ['TF','Genes'], how = 'inner')\n",
    "data.to_csv('./preprocessed_all_stratification_grn_all/NCI_with_plaques_Df_all.csv', index = False)\n",
    "        \n",
    "     "
   ]
  },
  {
   "cell_type": "code",
   "execution_count": 4,
   "id": "8138a116-7bda-4cc0-9eb7-8037221607fb",
   "metadata": {},
   "outputs": [
    {
     "name": "stderr",
     "output_type": "stream",
     "text": [
      "  0%|                                                   | 0/633 [00:00<?, ?it/s]"
     ]
    },
    {
     "name": "stdout",
     "output_type": "stream",
     "text": [
      "1\n"
     ]
    },
    {
     "name": "stderr",
     "output_type": "stream",
     "text": [
      "  5%|██▏                                       | 33/633 [00:15<04:45,  2.10it/s]"
     ]
    },
    {
     "name": "stdout",
     "output_type": "stream",
     "text": [
      "2\n"
     ]
    },
    {
     "name": "stderr",
     "output_type": "stream",
     "text": [
      " 11%|████▊                                     | 72/633 [00:30<03:54,  2.39it/s]"
     ]
    },
    {
     "name": "stdout",
     "output_type": "stream",
     "text": [
      "3\n"
     ]
    },
    {
     "name": "stderr",
     "output_type": "stream",
     "text": [
      " 14%|█████▊                                    | 88/633 [00:48<05:31,  1.65it/s]"
     ]
    },
    {
     "name": "stdout",
     "output_type": "stream",
     "text": [
      "4\n"
     ]
    },
    {
     "name": "stderr",
     "output_type": "stream",
     "text": [
      " 18%|███████▌                                 | 116/633 [01:03<04:55,  1.75it/s]"
     ]
    },
    {
     "name": "stdout",
     "output_type": "stream",
     "text": [
      "5\n"
     ]
    },
    {
     "name": "stderr",
     "output_type": "stream",
     "text": [
      " 20%|████████                                 | 124/633 [01:17<06:19,  1.34it/s]"
     ]
    },
    {
     "name": "stdout",
     "output_type": "stream",
     "text": [
      "6\n"
     ]
    },
    {
     "name": "stderr",
     "output_type": "stream",
     "text": [
      " 25%|██████████▏                              | 158/633 [01:32<04:46,  1.66it/s]"
     ]
    },
    {
     "name": "stdout",
     "output_type": "stream",
     "text": [
      "7\n"
     ]
    },
    {
     "name": "stderr",
     "output_type": "stream",
     "text": [
      " 26%|██████████▍                              | 162/633 [01:47<06:28,  1.21it/s]"
     ]
    },
    {
     "name": "stdout",
     "output_type": "stream",
     "text": [
      "8\n"
     ]
    },
    {
     "name": "stderr",
     "output_type": "stream",
     "text": [
      " 32%|█████████████▎                           | 205/633 [02:02<04:06,  1.73it/s]"
     ]
    },
    {
     "name": "stdout",
     "output_type": "stream",
     "text": [
      "9\n"
     ]
    },
    {
     "name": "stderr",
     "output_type": "stream",
     "text": [
      " 35%|██████████████▍                          | 222/633 [02:16<04:20,  1.58it/s]"
     ]
    },
    {
     "name": "stdout",
     "output_type": "stream",
     "text": [
      "10\n"
     ]
    },
    {
     "name": "stderr",
     "output_type": "stream",
     "text": [
      " 40%|████████████████▍                        | 254/633 [02:31<03:36,  1.75it/s]"
     ]
    },
    {
     "name": "stdout",
     "output_type": "stream",
     "text": [
      "11\n"
     ]
    },
    {
     "name": "stderr",
     "output_type": "stream",
     "text": [
      " 42%|█████████████████▍                       | 269/633 [02:45<03:55,  1.55it/s]"
     ]
    },
    {
     "name": "stdout",
     "output_type": "stream",
     "text": [
      "12\n"
     ]
    },
    {
     "name": "stderr",
     "output_type": "stream",
     "text": [
      " 44%|██████████████████▏                      | 281/633 [03:01<04:35,  1.28it/s]"
     ]
    },
    {
     "name": "stdout",
     "output_type": "stream",
     "text": [
      "13\n"
     ]
    },
    {
     "name": "stderr",
     "output_type": "stream",
     "text": [
      " 47%|███████████████████▍                     | 300/633 [03:17<04:23,  1.27it/s]"
     ]
    },
    {
     "name": "stdout",
     "output_type": "stream",
     "text": [
      "14\n"
     ]
    },
    {
     "name": "stderr",
     "output_type": "stream",
     "text": [
      " 52%|█████████████████████▎                   | 330/633 [03:32<03:26,  1.47it/s]"
     ]
    },
    {
     "name": "stdout",
     "output_type": "stream",
     "text": [
      "15\n"
     ]
    },
    {
     "name": "stderr",
     "output_type": "stream",
     "text": [
      " 53%|█████████████████████▊                   | 337/633 [03:47<04:09,  1.19it/s]"
     ]
    },
    {
     "name": "stdout",
     "output_type": "stream",
     "text": [
      "16\n"
     ]
    },
    {
     "name": "stderr",
     "output_type": "stream",
     "text": [
      " 56%|███████████████████████                  | 357/633 [04:02<03:44,  1.23it/s]"
     ]
    },
    {
     "name": "stdout",
     "output_type": "stream",
     "text": [
      "17\n"
     ]
    },
    {
     "name": "stderr",
     "output_type": "stream",
     "text": [
      " 61%|█████████████████████████                | 387/633 [04:17<02:50,  1.45it/s]"
     ]
    },
    {
     "name": "stdout",
     "output_type": "stream",
     "text": [
      "18\n"
     ]
    },
    {
     "name": "stderr",
     "output_type": "stream",
     "text": [
      "100%|█████████████████████████████████████████| 633/633 [04:31<00:00,  2.33it/s]\n"
     ]
    }
   ],
   "source": [
    "from tqdm import tqdm\n",
    "import pandas as pd\n",
    "import os\n",
    "s = 0\n",
    "data = pd.read_csv('./preprocessed_GRN_files_all/255_120426.csv')\n",
    "data.rename(columns={'Weights': '255_120426'}, inplace = True)\n",
    "for i in tqdm(os.listdir('./preprocessed_GRN_files_all//')):\n",
    "     \n",
    "    \n",
    "    if i == '255_120426.csv':\n",
    "        continue\n",
    "    if i.split('.')[0] in AD_with_No_Plaques:\n",
    "\n",
    "        s = s +1\n",
    "        print(s)\n",
    "        data_1 = pd.read_csv('./preprocessed_GRN_files_all/'+ i)\n",
    "        data_1.rename(columns={'Weights': i.split('.')[0]}, inplace = True)\n",
    "        data = data.merge(data_1, on = ['TF','Genes'], how = 'inner')\n",
    "    \n",
    "data.to_csv('./preprocessed_all_stratification_grn_all/AD_with_no_plaques_Df_all.csv', index = False)"
   ]
  },
  {
   "cell_type": "code",
   "execution_count": 5,
   "id": "29c14710-32ee-42c1-9f9b-79316cc3bdfb",
   "metadata": {},
   "outputs": [
    {
     "name": "stderr",
     "output_type": "stream",
     "text": [
      "  0%|                                                   | 0/633 [00:00<?, ?it/s]"
     ]
    },
    {
     "name": "stdout",
     "output_type": "stream",
     "text": [
      "1\n"
     ]
    },
    {
     "name": "stderr",
     "output_type": "stream",
     "text": [
      "  1%|▍                                          | 6/633 [00:13<24:00,  2.30s/it]"
     ]
    },
    {
     "name": "stdout",
     "output_type": "stream",
     "text": [
      "2\n"
     ]
    },
    {
     "name": "stderr",
     "output_type": "stream",
     "text": [
      "  1%|▌                                          | 8/633 [00:28<40:25,  3.88s/it]"
     ]
    },
    {
     "name": "stdout",
     "output_type": "stream",
     "text": [
      "3\n"
     ]
    },
    {
     "name": "stderr",
     "output_type": "stream",
     "text": [
      "  3%|█▎                                        | 19/633 [00:42<20:53,  2.04s/it]"
     ]
    },
    {
     "name": "stdout",
     "output_type": "stream",
     "text": [
      "4\n"
     ]
    },
    {
     "name": "stderr",
     "output_type": "stream",
     "text": [
      "  5%|█▉                                        | 30/633 [00:57<17:03,  1.70s/it]"
     ]
    },
    {
     "name": "stdout",
     "output_type": "stream",
     "text": [
      "5\n"
     ]
    },
    {
     "name": "stderr",
     "output_type": "stream",
     "text": [
      "  6%|██▌                                       | 39/633 [01:13<16:56,  1.71s/it]"
     ]
    },
    {
     "name": "stdout",
     "output_type": "stream",
     "text": [
      "6\n"
     ]
    },
    {
     "name": "stderr",
     "output_type": "stream",
     "text": [
      "  7%|██▉                                       | 44/633 [01:28<19:48,  2.02s/it]"
     ]
    },
    {
     "name": "stdout",
     "output_type": "stream",
     "text": [
      "7\n"
     ]
    },
    {
     "name": "stderr",
     "output_type": "stream",
     "text": [
      "  8%|███▎                                      | 50/633 [01:43<20:53,  2.15s/it]"
     ]
    },
    {
     "name": "stdout",
     "output_type": "stream",
     "text": [
      "8\n"
     ]
    },
    {
     "name": "stderr",
     "output_type": "stream",
     "text": [
      "  9%|███▌                                      | 54/633 [01:59<24:25,  2.53s/it]"
     ]
    },
    {
     "name": "stdout",
     "output_type": "stream",
     "text": [
      "9\n"
     ]
    },
    {
     "name": "stderr",
     "output_type": "stream",
     "text": [
      " 10%|████                                      | 61/633 [02:15<23:25,  2.46s/it]"
     ]
    },
    {
     "name": "stdout",
     "output_type": "stream",
     "text": [
      "10\n"
     ]
    },
    {
     "name": "stderr",
     "output_type": "stream",
     "text": [
      " 10%|████                                      | 62/633 [02:30<31:27,  3.31s/it]"
     ]
    },
    {
     "name": "stdout",
     "output_type": "stream",
     "text": [
      "11\n"
     ]
    },
    {
     "name": "stderr",
     "output_type": "stream",
     "text": [
      " 12%|█████▏                                    | 79/633 [02:46<16:49,  1.82s/it]"
     ]
    },
    {
     "name": "stdout",
     "output_type": "stream",
     "text": [
      "12\n"
     ]
    },
    {
     "name": "stderr",
     "output_type": "stream",
     "text": [
      " 13%|█████▌                                    | 84/633 [03:01<18:58,  2.07s/it]"
     ]
    },
    {
     "name": "stdout",
     "output_type": "stream",
     "text": [
      "13\n"
     ]
    },
    {
     "name": "stderr",
     "output_type": "stream",
     "text": [
      " 14%|█████▊                                    | 87/633 [03:16<22:54,  2.52s/it]"
     ]
    },
    {
     "name": "stdout",
     "output_type": "stream",
     "text": [
      "14\n"
     ]
    },
    {
     "name": "stderr",
     "output_type": "stream",
     "text": [
      " 18%|███████▍                                 | 114/633 [03:29<10:15,  1.19s/it]"
     ]
    },
    {
     "name": "stdout",
     "output_type": "stream",
     "text": [
      "15\n"
     ]
    },
    {
     "name": "stderr",
     "output_type": "stream",
     "text": [
      " 19%|███████▊                                 | 120/633 [03:44<12:00,  1.40s/it]"
     ]
    },
    {
     "name": "stdout",
     "output_type": "stream",
     "text": [
      "16\n"
     ]
    },
    {
     "name": "stderr",
     "output_type": "stream",
     "text": [
      " 19%|███████▉                                 | 122/633 [04:00<16:24,  1.93s/it]"
     ]
    },
    {
     "name": "stdout",
     "output_type": "stream",
     "text": [
      "17\n"
     ]
    },
    {
     "name": "stderr",
     "output_type": "stream",
     "text": [
      " 23%|█████████▌                               | 148/633 [04:15<09:09,  1.13s/it]"
     ]
    },
    {
     "name": "stdout",
     "output_type": "stream",
     "text": [
      "18\n"
     ]
    },
    {
     "name": "stderr",
     "output_type": "stream",
     "text": [
      " 24%|█████████▋                               | 149/633 [04:29<12:19,  1.53s/it]"
     ]
    },
    {
     "name": "stdout",
     "output_type": "stream",
     "text": [
      "19\n"
     ]
    },
    {
     "name": "stderr",
     "output_type": "stream",
     "text": [
      " 24%|█████████▉                               | 154/633 [04:44<14:22,  1.80s/it]"
     ]
    },
    {
     "name": "stdout",
     "output_type": "stream",
     "text": [
      "20\n"
     ]
    },
    {
     "name": "stderr",
     "output_type": "stream",
     "text": [
      " 26%|██████████▊                              | 166/633 [04:59<12:10,  1.57s/it]"
     ]
    },
    {
     "name": "stdout",
     "output_type": "stream",
     "text": [
      "21\n"
     ]
    },
    {
     "name": "stderr",
     "output_type": "stream",
     "text": [
      " 28%|███████████▌                             | 178/633 [05:13<10:57,  1.45s/it]"
     ]
    },
    {
     "name": "stdout",
     "output_type": "stream",
     "text": [
      "22\n"
     ]
    },
    {
     "name": "stderr",
     "output_type": "stream",
     "text": [
      " 29%|███████████▊                             | 183/633 [05:29<13:02,  1.74s/it]"
     ]
    },
    {
     "name": "stdout",
     "output_type": "stream",
     "text": [
      "23\n"
     ]
    },
    {
     "name": "stderr",
     "output_type": "stream",
     "text": [
      " 30%|████████████▎                            | 191/633 [05:44<13:11,  1.79s/it]"
     ]
    },
    {
     "name": "stdout",
     "output_type": "stream",
     "text": [
      "24\n"
     ]
    },
    {
     "name": "stderr",
     "output_type": "stream",
     "text": [
      " 30%|████████████▌                            | 193/633 [06:00<17:16,  2.36s/it]"
     ]
    },
    {
     "name": "stdout",
     "output_type": "stream",
     "text": [
      "25\n"
     ]
    },
    {
     "name": "stderr",
     "output_type": "stream",
     "text": [
      " 32%|█████████████                            | 202/633 [06:14<14:36,  2.03s/it]"
     ]
    },
    {
     "name": "stdout",
     "output_type": "stream",
     "text": [
      "26\n"
     ]
    },
    {
     "name": "stderr",
     "output_type": "stream",
     "text": [
      " 33%|█████████████▌                           | 209/633 [06:28<14:29,  2.05s/it]"
     ]
    },
    {
     "name": "stdout",
     "output_type": "stream",
     "text": [
      "27\n"
     ]
    },
    {
     "name": "stderr",
     "output_type": "stream",
     "text": [
      " 33%|█████████████▋                           | 212/633 [06:42<17:17,  2.46s/it]"
     ]
    },
    {
     "name": "stdout",
     "output_type": "stream",
     "text": [
      "28\n"
     ]
    },
    {
     "name": "stderr",
     "output_type": "stream",
     "text": [
      " 36%|██████████████▌                          | 225/633 [06:56<12:10,  1.79s/it]"
     ]
    },
    {
     "name": "stdout",
     "output_type": "stream",
     "text": [
      "29\n"
     ]
    },
    {
     "name": "stderr",
     "output_type": "stream",
     "text": [
      " 36%|██████████████▊                          | 228/633 [07:12<15:14,  2.26s/it]"
     ]
    },
    {
     "name": "stdout",
     "output_type": "stream",
     "text": [
      "30\n"
     ]
    },
    {
     "name": "stderr",
     "output_type": "stream",
     "text": [
      " 37%|███████████████▏                         | 234/633 [07:28<15:47,  2.37s/it]"
     ]
    },
    {
     "name": "stdout",
     "output_type": "stream",
     "text": [
      "31\n"
     ]
    },
    {
     "name": "stderr",
     "output_type": "stream",
     "text": [
      " 42%|█████████████████▎                       | 267/633 [07:44<06:30,  1.07s/it]"
     ]
    },
    {
     "name": "stdout",
     "output_type": "stream",
     "text": [
      "32\n"
     ]
    },
    {
     "name": "stderr",
     "output_type": "stream",
     "text": [
      " 43%|█████████████████▌                       | 272/633 [08:00<08:05,  1.35s/it]"
     ]
    },
    {
     "name": "stdout",
     "output_type": "stream",
     "text": [
      "33\n"
     ]
    },
    {
     "name": "stderr",
     "output_type": "stream",
     "text": [
      " 44%|██████████████████                       | 279/633 [08:15<08:59,  1.53s/it]"
     ]
    },
    {
     "name": "stdout",
     "output_type": "stream",
     "text": [
      "34\n"
     ]
    },
    {
     "name": "stderr",
     "output_type": "stream",
     "text": [
      " 47%|███████████████████▎                     | 298/633 [08:31<06:46,  1.21s/it]"
     ]
    },
    {
     "name": "stdout",
     "output_type": "stream",
     "text": [
      "35\n"
     ]
    },
    {
     "name": "stderr",
     "output_type": "stream",
     "text": [
      " 49%|████████████████████                     | 309/633 [08:46<06:46,  1.26s/it]"
     ]
    },
    {
     "name": "stdout",
     "output_type": "stream",
     "text": [
      "36\n"
     ]
    },
    {
     "name": "stderr",
     "output_type": "stream",
     "text": [
      " 49%|████████████████████▏                    | 311/633 [09:01<08:52,  1.65s/it]"
     ]
    },
    {
     "name": "stdout",
     "output_type": "stream",
     "text": [
      "37\n"
     ]
    },
    {
     "name": "stderr",
     "output_type": "stream",
     "text": [
      " 52%|█████████████████████▏                   | 327/633 [09:16<06:54,  1.36s/it]"
     ]
    },
    {
     "name": "stdout",
     "output_type": "stream",
     "text": [
      "38\n"
     ]
    },
    {
     "name": "stderr",
     "output_type": "stream",
     "text": [
      " 52%|█████████████████████▍                   | 331/633 [09:31<08:23,  1.67s/it]"
     ]
    },
    {
     "name": "stdout",
     "output_type": "stream",
     "text": [
      "39\n"
     ]
    },
    {
     "name": "stderr",
     "output_type": "stream",
     "text": [
      " 53%|█████████████████████▋                   | 335/633 [09:47<10:10,  2.05s/it]"
     ]
    },
    {
     "name": "stdout",
     "output_type": "stream",
     "text": [
      "40\n"
     ]
    },
    {
     "name": "stderr",
     "output_type": "stream",
     "text": [
      " 54%|█████████████████████▉                   | 339/633 [10:04<11:52,  2.42s/it]"
     ]
    },
    {
     "name": "stdout",
     "output_type": "stream",
     "text": [
      "41\n"
     ]
    },
    {
     "name": "stderr",
     "output_type": "stream",
     "text": [
      " 54%|██████████████████████                   | 341/633 [10:20<14:59,  3.08s/it]"
     ]
    },
    {
     "name": "stdout",
     "output_type": "stream",
     "text": [
      "42\n"
     ]
    },
    {
     "name": "stderr",
     "output_type": "stream",
     "text": [
      " 54%|██████████████████████▏                  | 342/633 [10:35<19:38,  4.05s/it]"
     ]
    },
    {
     "name": "stdout",
     "output_type": "stream",
     "text": [
      "43\n"
     ]
    },
    {
     "name": "stderr",
     "output_type": "stream",
     "text": [
      " 55%|██████████████████████▍                  | 347/633 [10:52<18:13,  3.82s/it]"
     ]
    },
    {
     "name": "stdout",
     "output_type": "stream",
     "text": [
      "44\n"
     ]
    },
    {
     "name": "stderr",
     "output_type": "stream",
     "text": [
      " 58%|███████████████████████▌                 | 364/633 [11:09<09:08,  2.04s/it]"
     ]
    },
    {
     "name": "stdout",
     "output_type": "stream",
     "text": [
      "45\n"
     ]
    },
    {
     "name": "stderr",
     "output_type": "stream",
     "text": [
      " 58%|███████████████████████▉                 | 369/633 [11:25<09:57,  2.26s/it]"
     ]
    },
    {
     "name": "stdout",
     "output_type": "stream",
     "text": [
      "46\n"
     ]
    },
    {
     "name": "stderr",
     "output_type": "stream",
     "text": [
      " 59%|████████████████████████                 | 371/633 [11:41<12:40,  2.90s/it]"
     ]
    },
    {
     "name": "stdout",
     "output_type": "stream",
     "text": [
      "47\n"
     ]
    },
    {
     "name": "stderr",
     "output_type": "stream",
     "text": [
      " 59%|████████████████████████▏                | 373/633 [12:00<16:07,  3.72s/it]"
     ]
    },
    {
     "name": "stdout",
     "output_type": "stream",
     "text": [
      "48\n"
     ]
    },
    {
     "name": "stderr",
     "output_type": "stream",
     "text": [
      " 59%|████████████████████████▏                | 374/633 [12:15<20:32,  4.76s/it]"
     ]
    },
    {
     "name": "stdout",
     "output_type": "stream",
     "text": [
      "49\n"
     ]
    },
    {
     "name": "stderr",
     "output_type": "stream",
     "text": [
      " 60%|████████████████████████▌                | 379/633 [12:32<17:52,  4.22s/it]"
     ]
    },
    {
     "name": "stdout",
     "output_type": "stream",
     "text": [
      "50\n"
     ]
    },
    {
     "name": "stderr",
     "output_type": "stream",
     "text": [
      " 62%|█████████████████████████▌               | 394/633 [12:49<09:15,  2.32s/it]"
     ]
    },
    {
     "name": "stdout",
     "output_type": "stream",
     "text": [
      "51\n"
     ]
    },
    {
     "name": "stderr",
     "output_type": "stream",
     "text": [
      " 62%|█████████████████████████▌               | 395/633 [13:05<12:10,  3.07s/it]"
     ]
    },
    {
     "name": "stdout",
     "output_type": "stream",
     "text": [
      "52\n"
     ]
    },
    {
     "name": "stderr",
     "output_type": "stream",
     "text": [
      " 63%|█████████████████████████▋               | 397/633 [13:20<14:32,  3.70s/it]"
     ]
    },
    {
     "name": "stdout",
     "output_type": "stream",
     "text": [
      "53\n"
     ]
    },
    {
     "name": "stderr",
     "output_type": "stream",
     "text": [
      " 63%|█████████████████████████▉               | 401/633 [13:35<14:18,  3.70s/it]"
     ]
    },
    {
     "name": "stdout",
     "output_type": "stream",
     "text": [
      "54\n"
     ]
    },
    {
     "name": "stderr",
     "output_type": "stream",
     "text": [
      " 64%|██████████████████████████               | 402/633 [13:52<18:41,  4.85s/it]"
     ]
    },
    {
     "name": "stdout",
     "output_type": "stream",
     "text": [
      "55\n"
     ]
    },
    {
     "name": "stderr",
     "output_type": "stream",
     "text": [
      " 64%|██████████████████████████▍              | 408/633 [14:08<14:40,  3.91s/it]"
     ]
    },
    {
     "name": "stdout",
     "output_type": "stream",
     "text": [
      "56\n"
     ]
    },
    {
     "name": "stderr",
     "output_type": "stream",
     "text": [
      " 65%|██████████████████████████▋              | 412/633 [14:24<14:40,  3.98s/it]"
     ]
    },
    {
     "name": "stdout",
     "output_type": "stream",
     "text": [
      "57\n"
     ]
    },
    {
     "name": "stderr",
     "output_type": "stream",
     "text": [
      " 65%|██████████████████████████▊              | 413/633 [14:42<19:19,  5.27s/it]"
     ]
    },
    {
     "name": "stdout",
     "output_type": "stream",
     "text": [
      "58\n"
     ]
    },
    {
     "name": "stderr",
     "output_type": "stream",
     "text": [
      " 66%|███████████████████████████              | 417/633 [15:00<17:58,  4.99s/it]"
     ]
    },
    {
     "name": "stdout",
     "output_type": "stream",
     "text": [
      "59\n"
     ]
    },
    {
     "name": "stderr",
     "output_type": "stream",
     "text": [
      " 67%|███████████████████████████▌             | 425/633 [15:16<12:11,  3.52s/it]"
     ]
    },
    {
     "name": "stdout",
     "output_type": "stream",
     "text": [
      "60\n"
     ]
    },
    {
     "name": "stderr",
     "output_type": "stream",
     "text": [
      " 68%|████████████████████████████             | 433/633 [15:33<09:41,  2.91s/it]"
     ]
    },
    {
     "name": "stdout",
     "output_type": "stream",
     "text": [
      "61\n"
     ]
    },
    {
     "name": "stderr",
     "output_type": "stream",
     "text": [
      " 71%|████████████████████████████▉            | 447/633 [15:49<06:15,  2.02s/it]"
     ]
    },
    {
     "name": "stdout",
     "output_type": "stream",
     "text": [
      "62\n"
     ]
    },
    {
     "name": "stderr",
     "output_type": "stream",
     "text": [
      " 71%|█████████████████████████████▏           | 451/633 [16:07<07:23,  2.43s/it]"
     ]
    },
    {
     "name": "stdout",
     "output_type": "stream",
     "text": [
      "63\n"
     ]
    },
    {
     "name": "stderr",
     "output_type": "stream",
     "text": [
      " 74%|██████████████████████████████▏          | 466/633 [16:24<05:05,  1.83s/it]"
     ]
    },
    {
     "name": "stdout",
     "output_type": "stream",
     "text": [
      "64\n"
     ]
    },
    {
     "name": "stderr",
     "output_type": "stream",
     "text": [
      " 75%|██████████████████████████████▌          | 472/633 [16:41<05:28,  2.04s/it]"
     ]
    },
    {
     "name": "stdout",
     "output_type": "stream",
     "text": [
      "65\n"
     ]
    },
    {
     "name": "stderr",
     "output_type": "stream",
     "text": [
      " 80%|████████████████████████████████▋        | 504/633 [16:57<02:19,  1.08s/it]"
     ]
    },
    {
     "name": "stdout",
     "output_type": "stream",
     "text": [
      "66\n"
     ]
    },
    {
     "name": "stderr",
     "output_type": "stream",
     "text": [
      " 80%|████████████████████████████████▋        | 505/633 [17:13<03:09,  1.48s/it]"
     ]
    },
    {
     "name": "stdout",
     "output_type": "stream",
     "text": [
      "67\n"
     ]
    },
    {
     "name": "stderr",
     "output_type": "stream",
     "text": [
      " 81%|█████████████████████████████████▎       | 514/633 [17:29<03:06,  1.57s/it]"
     ]
    },
    {
     "name": "stdout",
     "output_type": "stream",
     "text": [
      "68\n"
     ]
    },
    {
     "name": "stderr",
     "output_type": "stream",
     "text": [
      " 82%|█████████████████████████████████▍       | 516/633 [17:45<03:56,  2.02s/it]"
     ]
    },
    {
     "name": "stdout",
     "output_type": "stream",
     "text": [
      "69\n"
     ]
    },
    {
     "name": "stderr",
     "output_type": "stream",
     "text": [
      " 82%|█████████████████████████████████▌       | 518/633 [18:01<05:01,  2.62s/it]"
     ]
    },
    {
     "name": "stdout",
     "output_type": "stream",
     "text": [
      "70\n"
     ]
    },
    {
     "name": "stderr",
     "output_type": "stream",
     "text": [
      " 83%|██████████████████████████████████       | 525/633 [18:17<04:30,  2.50s/it]"
     ]
    },
    {
     "name": "stdout",
     "output_type": "stream",
     "text": [
      "71\n"
     ]
    },
    {
     "name": "stderr",
     "output_type": "stream",
     "text": [
      " 85%|██████████████████████████████████▉      | 540/633 [18:33<02:47,  1.80s/it]"
     ]
    },
    {
     "name": "stdout",
     "output_type": "stream",
     "text": [
      "72\n"
     ]
    },
    {
     "name": "stderr",
     "output_type": "stream",
     "text": [
      " 87%|███████████████████████████████████▌     | 550/633 [18:50<02:26,  1.76s/it]"
     ]
    },
    {
     "name": "stdout",
     "output_type": "stream",
     "text": [
      "73\n"
     ]
    },
    {
     "name": "stderr",
     "output_type": "stream",
     "text": [
      " 90%|█████████████████████████████████████    | 572/633 [19:08<01:17,  1.28s/it]"
     ]
    },
    {
     "name": "stdout",
     "output_type": "stream",
     "text": [
      "74\n"
     ]
    },
    {
     "name": "stderr",
     "output_type": "stream",
     "text": [
      " 93%|██████████████████████████████████████   | 587/633 [19:25<00:56,  1.24s/it]"
     ]
    },
    {
     "name": "stdout",
     "output_type": "stream",
     "text": [
      "75\n"
     ]
    },
    {
     "name": "stderr",
     "output_type": "stream",
     "text": [
      " 93%|██████████████████████████████████████▏  | 589/633 [19:41<01:12,  1.64s/it]"
     ]
    },
    {
     "name": "stdout",
     "output_type": "stream",
     "text": [
      "76\n"
     ]
    },
    {
     "name": "stderr",
     "output_type": "stream",
     "text": [
      " 96%|███████████████████████████████████████▍ | 609/633 [19:59<00:31,  1.30s/it]"
     ]
    },
    {
     "name": "stdout",
     "output_type": "stream",
     "text": [
      "77\n"
     ]
    },
    {
     "name": "stderr",
     "output_type": "stream",
     "text": [
      "100%|█████████████████████████████████████████| 633/633 [20:15<00:00,  1.92s/it]\n"
     ]
    }
   ],
   "source": [
    "from tqdm import tqdm\n",
    "import pandas as pd\n",
    "import os\n",
    "s = 0\n",
    "data = pd.read_csv('./preprocessed_GRN_files_all/691_120605.csv')\n",
    "data.rename(columns={'Weights': '691_120605'}, inplace = True)\n",
    "for i in tqdm(os.listdir('./preprocessed_GRN_files_all//')):\n",
    "\n",
    "    \n",
    "    if i == '691_120605.csv':\n",
    "        continue\n",
    "    if i.split('.')[0] in NCI_with_No_Plaques:\n",
    "        s = s +1\n",
    "        print(s)\n",
    "        data_1 = pd.read_csv('./preprocessed_GRN_files_all/'+ i)\n",
    "        data_1.rename(columns={'Weights': i.split('.')[0]}, inplace = True)\n",
    "        data = data.merge(data_1, on = ['TF','Genes'], how = 'inner')\n",
    "    \n",
    "data.to_csv('./preprocessed_all_stratification_grn_all/NCI_with_no_plaques_Df_all.csv', index = False)"
   ]
  },
  {
   "cell_type": "code",
   "execution_count": 6,
   "id": "fe63c417-c309-4c9b-8bf4-7a8a413acfed",
   "metadata": {},
   "outputs": [
    {
     "data": {
      "text/html": [
       "<div>\n",
       "<style scoped>\n",
       "    .dataframe tbody tr th:only-of-type {\n",
       "        vertical-align: middle;\n",
       "    }\n",
       "\n",
       "    .dataframe tbody tr th {\n",
       "        vertical-align: top;\n",
       "    }\n",
       "\n",
       "    .dataframe thead th {\n",
       "        text-align: right;\n",
       "    }\n",
       "</style>\n",
       "<table border=\"1\" class=\"dataframe\">\n",
       "  <thead>\n",
       "    <tr style=\"text-align: right;\">\n",
       "      <th></th>\n",
       "      <th>TF</th>\n",
       "      <th>Genes</th>\n",
       "      <th>691_120605</th>\n",
       "      <th>626_120524</th>\n",
       "      <th>461_120514</th>\n",
       "      <th>588_120522</th>\n",
       "      <th>677_120604</th>\n",
       "      <th>951_131107</th>\n",
       "      <th>283_120430</th>\n",
       "      <th>498_120515</th>\n",
       "      <th>...</th>\n",
       "      <th>547_120516</th>\n",
       "      <th>120_120418</th>\n",
       "      <th>213_120425</th>\n",
       "      <th>146_120419</th>\n",
       "      <th>405_120503</th>\n",
       "      <th>680_120604</th>\n",
       "      <th>950_131107</th>\n",
       "      <th>460_120514</th>\n",
       "      <th>638_120524</th>\n",
       "      <th>501_120515</th>\n",
       "    </tr>\n",
       "  </thead>\n",
       "  <tbody>\n",
       "    <tr>\n",
       "      <th>0</th>\n",
       "      <td>ENSG00000001167</td>\n",
       "      <td>ENSG00000000003</td>\n",
       "      <td>0.110458</td>\n",
       "      <td>0.959304</td>\n",
       "      <td>0.041700</td>\n",
       "      <td>0.095345</td>\n",
       "      <td>0.278565</td>\n",
       "      <td>0.225382</td>\n",
       "      <td>0.565072</td>\n",
       "      <td>-0.107509</td>\n",
       "      <td>...</td>\n",
       "      <td>-0.952504</td>\n",
       "      <td>-0.395070</td>\n",
       "      <td>0.345271</td>\n",
       "      <td>-0.617461</td>\n",
       "      <td>-0.530050</td>\n",
       "      <td>-1.847926</td>\n",
       "      <td>-0.063323</td>\n",
       "      <td>0.017828</td>\n",
       "      <td>1.276875</td>\n",
       "      <td>-4.617927</td>\n",
       "    </tr>\n",
       "    <tr>\n",
       "      <th>1</th>\n",
       "      <td>ENSG00000001167</td>\n",
       "      <td>ENSG00000000419</td>\n",
       "      <td>0.834806</td>\n",
       "      <td>0.566070</td>\n",
       "      <td>0.110379</td>\n",
       "      <td>0.164905</td>\n",
       "      <td>0.268717</td>\n",
       "      <td>0.680300</td>\n",
       "      <td>0.203035</td>\n",
       "      <td>0.085794</td>\n",
       "      <td>...</td>\n",
       "      <td>0.065044</td>\n",
       "      <td>0.402785</td>\n",
       "      <td>0.166249</td>\n",
       "      <td>0.158663</td>\n",
       "      <td>0.170965</td>\n",
       "      <td>0.506262</td>\n",
       "      <td>0.220633</td>\n",
       "      <td>-0.139100</td>\n",
       "      <td>0.322163</td>\n",
       "      <td>-0.346345</td>\n",
       "    </tr>\n",
       "    <tr>\n",
       "      <th>2</th>\n",
       "      <td>ENSG00000001167</td>\n",
       "      <td>ENSG00000000457</td>\n",
       "      <td>1.097020</td>\n",
       "      <td>0.919040</td>\n",
       "      <td>0.172006</td>\n",
       "      <td>0.086100</td>\n",
       "      <td>-0.021128</td>\n",
       "      <td>0.798388</td>\n",
       "      <td>0.222381</td>\n",
       "      <td>0.135447</td>\n",
       "      <td>...</td>\n",
       "      <td>0.086284</td>\n",
       "      <td>0.430996</td>\n",
       "      <td>0.352077</td>\n",
       "      <td>0.107196</td>\n",
       "      <td>0.255032</td>\n",
       "      <td>-0.107769</td>\n",
       "      <td>0.298397</td>\n",
       "      <td>0.201558</td>\n",
       "      <td>-0.107880</td>\n",
       "      <td>-1.260036</td>\n",
       "    </tr>\n",
       "    <tr>\n",
       "      <th>3</th>\n",
       "      <td>ENSG00000001167</td>\n",
       "      <td>ENSG00000000460</td>\n",
       "      <td>6.817563</td>\n",
       "      <td>5.789163</td>\n",
       "      <td>5.920113</td>\n",
       "      <td>5.934964</td>\n",
       "      <td>6.192934</td>\n",
       "      <td>6.723182</td>\n",
       "      <td>6.322071</td>\n",
       "      <td>5.934395</td>\n",
       "      <td>...</td>\n",
       "      <td>5.812431</td>\n",
       "      <td>5.856659</td>\n",
       "      <td>6.094824</td>\n",
       "      <td>5.842704</td>\n",
       "      <td>5.820758</td>\n",
       "      <td>6.194829</td>\n",
       "      <td>6.132856</td>\n",
       "      <td>5.625116</td>\n",
       "      <td>6.532348</td>\n",
       "      <td>5.493466</td>\n",
       "    </tr>\n",
       "    <tr>\n",
       "      <th>4</th>\n",
       "      <td>ENSG00000001167</td>\n",
       "      <td>ENSG00000000938</td>\n",
       "      <td>-1.291925</td>\n",
       "      <td>-1.861487</td>\n",
       "      <td>-0.570717</td>\n",
       "      <td>-0.695602</td>\n",
       "      <td>-0.594889</td>\n",
       "      <td>-1.374507</td>\n",
       "      <td>0.451081</td>\n",
       "      <td>-0.529489</td>\n",
       "      <td>...</td>\n",
       "      <td>-0.874521</td>\n",
       "      <td>-1.358534</td>\n",
       "      <td>-0.671835</td>\n",
       "      <td>-0.854997</td>\n",
       "      <td>-0.856464</td>\n",
       "      <td>-1.165593</td>\n",
       "      <td>-0.632991</td>\n",
       "      <td>-0.492428</td>\n",
       "      <td>0.867683</td>\n",
       "      <td>-0.402032</td>\n",
       "    </tr>\n",
       "    <tr>\n",
       "      <th>...</th>\n",
       "      <td>...</td>\n",
       "      <td>...</td>\n",
       "      <td>...</td>\n",
       "      <td>...</td>\n",
       "      <td>...</td>\n",
       "      <td>...</td>\n",
       "      <td>...</td>\n",
       "      <td>...</td>\n",
       "      <td>...</td>\n",
       "      <td>...</td>\n",
       "      <td>...</td>\n",
       "      <td>...</td>\n",
       "      <td>...</td>\n",
       "      <td>...</td>\n",
       "      <td>...</td>\n",
       "      <td>...</td>\n",
       "      <td>...</td>\n",
       "      <td>...</td>\n",
       "      <td>...</td>\n",
       "      <td>...</td>\n",
       "      <td>...</td>\n",
       "    </tr>\n",
       "    <tr>\n",
       "      <th>12073379</th>\n",
       "      <td>ENSG00000278129</td>\n",
       "      <td>ENSG00000283050</td>\n",
       "      <td>-0.101429</td>\n",
       "      <td>-0.090437</td>\n",
       "      <td>-0.290381</td>\n",
       "      <td>-0.301084</td>\n",
       "      <td>-0.141248</td>\n",
       "      <td>-0.344629</td>\n",
       "      <td>0.117729</td>\n",
       "      <td>-0.199324</td>\n",
       "      <td>...</td>\n",
       "      <td>-0.012418</td>\n",
       "      <td>1.951909</td>\n",
       "      <td>0.215672</td>\n",
       "      <td>-0.014683</td>\n",
       "      <td>-0.069724</td>\n",
       "      <td>-0.173592</td>\n",
       "      <td>-0.202057</td>\n",
       "      <td>-0.149426</td>\n",
       "      <td>0.465009</td>\n",
       "      <td>0.084307</td>\n",
       "    </tr>\n",
       "    <tr>\n",
       "      <th>12073380</th>\n",
       "      <td>ENSG00000278129</td>\n",
       "      <td>ENSG00000283071</td>\n",
       "      <td>-0.533466</td>\n",
       "      <td>-0.914500</td>\n",
       "      <td>-1.003868</td>\n",
       "      <td>-0.734319</td>\n",
       "      <td>-0.788377</td>\n",
       "      <td>-0.238460</td>\n",
       "      <td>-0.623340</td>\n",
       "      <td>-0.744600</td>\n",
       "      <td>...</td>\n",
       "      <td>-0.749204</td>\n",
       "      <td>-1.037367</td>\n",
       "      <td>-0.897010</td>\n",
       "      <td>-1.403873</td>\n",
       "      <td>-0.928818</td>\n",
       "      <td>-0.714588</td>\n",
       "      <td>-0.677741</td>\n",
       "      <td>0.014914</td>\n",
       "      <td>-0.792524</td>\n",
       "      <td>-0.911168</td>\n",
       "    </tr>\n",
       "    <tr>\n",
       "      <th>12073381</th>\n",
       "      <td>ENSG00000278129</td>\n",
       "      <td>ENSG00000283078</td>\n",
       "      <td>-0.478481</td>\n",
       "      <td>-0.587196</td>\n",
       "      <td>-0.538998</td>\n",
       "      <td>-0.405518</td>\n",
       "      <td>-0.503089</td>\n",
       "      <td>-0.536519</td>\n",
       "      <td>-0.463700</td>\n",
       "      <td>-0.556333</td>\n",
       "      <td>...</td>\n",
       "      <td>-0.413748</td>\n",
       "      <td>-1.211823</td>\n",
       "      <td>-0.862086</td>\n",
       "      <td>-1.024635</td>\n",
       "      <td>-0.773901</td>\n",
       "      <td>-0.409486</td>\n",
       "      <td>-0.670670</td>\n",
       "      <td>-0.444085</td>\n",
       "      <td>-0.358949</td>\n",
       "      <td>-1.161188</td>\n",
       "    </tr>\n",
       "    <tr>\n",
       "      <th>12073382</th>\n",
       "      <td>ENSG00000278129</td>\n",
       "      <td>ENSG00000283103</td>\n",
       "      <td>0.023393</td>\n",
       "      <td>0.361015</td>\n",
       "      <td>0.237038</td>\n",
       "      <td>-0.054277</td>\n",
       "      <td>0.021521</td>\n",
       "      <td>0.180263</td>\n",
       "      <td>-0.098350</td>\n",
       "      <td>-0.267645</td>\n",
       "      <td>...</td>\n",
       "      <td>-0.168096</td>\n",
       "      <td>1.369233</td>\n",
       "      <td>-0.331391</td>\n",
       "      <td>-0.961452</td>\n",
       "      <td>-0.517458</td>\n",
       "      <td>-0.386807</td>\n",
       "      <td>-0.046895</td>\n",
       "      <td>0.002792</td>\n",
       "      <td>2.962281</td>\n",
       "      <td>0.856758</td>\n",
       "    </tr>\n",
       "    <tr>\n",
       "      <th>12073383</th>\n",
       "      <td>ENSG00000278129</td>\n",
       "      <td>ENSG00000283108</td>\n",
       "      <td>-0.294038</td>\n",
       "      <td>-0.347643</td>\n",
       "      <td>-0.568112</td>\n",
       "      <td>-0.261760</td>\n",
       "      <td>-0.546930</td>\n",
       "      <td>-0.310654</td>\n",
       "      <td>-0.563744</td>\n",
       "      <td>-0.505349</td>\n",
       "      <td>...</td>\n",
       "      <td>-0.608682</td>\n",
       "      <td>1.291013</td>\n",
       "      <td>-0.666882</td>\n",
       "      <td>-0.095139</td>\n",
       "      <td>-0.649999</td>\n",
       "      <td>-0.579145</td>\n",
       "      <td>-0.470227</td>\n",
       "      <td>0.503010</td>\n",
       "      <td>1.149057</td>\n",
       "      <td>-0.289059</td>\n",
       "    </tr>\n",
       "  </tbody>\n",
       "</table>\n",
       "<p>12073384 rows × 80 columns</p>\n",
       "</div>"
      ],
      "text/plain": [
       "                       TF            Genes  691_120605  626_120524  \\\n",
       "0         ENSG00000001167  ENSG00000000003    0.110458    0.959304   \n",
       "1         ENSG00000001167  ENSG00000000419    0.834806    0.566070   \n",
       "2         ENSG00000001167  ENSG00000000457    1.097020    0.919040   \n",
       "3         ENSG00000001167  ENSG00000000460    6.817563    5.789163   \n",
       "4         ENSG00000001167  ENSG00000000938   -1.291925   -1.861487   \n",
       "...                   ...              ...         ...         ...   \n",
       "12073379  ENSG00000278129  ENSG00000283050   -0.101429   -0.090437   \n",
       "12073380  ENSG00000278129  ENSG00000283071   -0.533466   -0.914500   \n",
       "12073381  ENSG00000278129  ENSG00000283078   -0.478481   -0.587196   \n",
       "12073382  ENSG00000278129  ENSG00000283103    0.023393    0.361015   \n",
       "12073383  ENSG00000278129  ENSG00000283108   -0.294038   -0.347643   \n",
       "\n",
       "          461_120514  588_120522  677_120604  951_131107  283_120430  \\\n",
       "0           0.041700    0.095345    0.278565    0.225382    0.565072   \n",
       "1           0.110379    0.164905    0.268717    0.680300    0.203035   \n",
       "2           0.172006    0.086100   -0.021128    0.798388    0.222381   \n",
       "3           5.920113    5.934964    6.192934    6.723182    6.322071   \n",
       "4          -0.570717   -0.695602   -0.594889   -1.374507    0.451081   \n",
       "...              ...         ...         ...         ...         ...   \n",
       "12073379   -0.290381   -0.301084   -0.141248   -0.344629    0.117729   \n",
       "12073380   -1.003868   -0.734319   -0.788377   -0.238460   -0.623340   \n",
       "12073381   -0.538998   -0.405518   -0.503089   -0.536519   -0.463700   \n",
       "12073382    0.237038   -0.054277    0.021521    0.180263   -0.098350   \n",
       "12073383   -0.568112   -0.261760   -0.546930   -0.310654   -0.563744   \n",
       "\n",
       "          498_120515  ...  547_120516  120_120418  213_120425  146_120419  \\\n",
       "0          -0.107509  ...   -0.952504   -0.395070    0.345271   -0.617461   \n",
       "1           0.085794  ...    0.065044    0.402785    0.166249    0.158663   \n",
       "2           0.135447  ...    0.086284    0.430996    0.352077    0.107196   \n",
       "3           5.934395  ...    5.812431    5.856659    6.094824    5.842704   \n",
       "4          -0.529489  ...   -0.874521   -1.358534   -0.671835   -0.854997   \n",
       "...              ...  ...         ...         ...         ...         ...   \n",
       "12073379   -0.199324  ...   -0.012418    1.951909    0.215672   -0.014683   \n",
       "12073380   -0.744600  ...   -0.749204   -1.037367   -0.897010   -1.403873   \n",
       "12073381   -0.556333  ...   -0.413748   -1.211823   -0.862086   -1.024635   \n",
       "12073382   -0.267645  ...   -0.168096    1.369233   -0.331391   -0.961452   \n",
       "12073383   -0.505349  ...   -0.608682    1.291013   -0.666882   -0.095139   \n",
       "\n",
       "          405_120503  680_120604  950_131107  460_120514  638_120524  \\\n",
       "0          -0.530050   -1.847926   -0.063323    0.017828    1.276875   \n",
       "1           0.170965    0.506262    0.220633   -0.139100    0.322163   \n",
       "2           0.255032   -0.107769    0.298397    0.201558   -0.107880   \n",
       "3           5.820758    6.194829    6.132856    5.625116    6.532348   \n",
       "4          -0.856464   -1.165593   -0.632991   -0.492428    0.867683   \n",
       "...              ...         ...         ...         ...         ...   \n",
       "12073379   -0.069724   -0.173592   -0.202057   -0.149426    0.465009   \n",
       "12073380   -0.928818   -0.714588   -0.677741    0.014914   -0.792524   \n",
       "12073381   -0.773901   -0.409486   -0.670670   -0.444085   -0.358949   \n",
       "12073382   -0.517458   -0.386807   -0.046895    0.002792    2.962281   \n",
       "12073383   -0.649999   -0.579145   -0.470227    0.503010    1.149057   \n",
       "\n",
       "          501_120515  \n",
       "0          -4.617927  \n",
       "1          -0.346345  \n",
       "2          -1.260036  \n",
       "3           5.493466  \n",
       "4          -0.402032  \n",
       "...              ...  \n",
       "12073379    0.084307  \n",
       "12073380   -0.911168  \n",
       "12073381   -1.161188  \n",
       "12073382    0.856758  \n",
       "12073383   -0.289059  \n",
       "\n",
       "[12073384 rows x 80 columns]"
      ]
     },
     "execution_count": 6,
     "metadata": {},
     "output_type": "execute_result"
    }
   ],
   "source": [
    "data"
   ]
  },
  {
   "cell_type": "code",
   "execution_count": 7,
   "id": "8d67e8d3-d6f2-4479-8891-5c7d4b8d62ad",
   "metadata": {},
   "outputs": [
    {
     "data": {
      "text/plain": [
       "78"
      ]
     },
     "execution_count": 7,
     "metadata": {},
     "output_type": "execute_result"
    }
   ],
   "source": [
    "len(NCI_with_No_Plaques)"
   ]
  },
  {
   "cell_type": "code",
   "execution_count": 29,
   "id": "f8fe2e2d-9ad2-4145-830f-85a2656858d9",
   "metadata": {},
   "outputs": [],
   "source": [
    "cols  = NCI_with_Plaques"
   ]
  },
  {
   "cell_type": "code",
   "execution_count": null,
   "id": "5de25942-3494-4637-8d35-1ee7a8f3070f",
   "metadata": {},
   "outputs": [],
   "source": []
  },
  {
   "cell_type": "markdown",
   "id": "0701ec8f-8943-4c0a-9cd5-7f68ee138a90",
   "metadata": {},
   "source": [
    "# TF Target Scores"
   ]
  },
  {
   "cell_type": "code",
   "execution_count": null,
   "id": "56121a99-8e64-4c4f-9a1f-564e57e1191d",
   "metadata": {},
   "outputs": [],
   "source": [
    "data_frame_AD_Genes = pd.DataFrame()\n",
    "for i in tqdm(cols):\n",
    "    x = data.drop(columns='TF')\n",
    "    x = x[['Genes',i]]\n",
    "    x = x.groupby('Genes')\n",
    "    grouped_dataframes = {group: group_df for group, group_df in x}\n",
    "    \n",
    "    Gene_name = []\n",
    "    Gene_target_Values = []\n",
    "    # Access the separate DataFrames by their group names\n",
    "    for group_name, group_df in grouped_dataframes.items():\n",
    "        Gene_name.append(group_name)\n",
    "    \n",
    "        sum_ = grouped_dataframes[group_name].drop(columns ='Genes').sum(axis = 0).sum()\n",
    "        \n",
    "        \n",
    "        Gene_target_Values.append(sum_)\n",
    "    data_frame_AD_Genes[i] = Gene_target_Values\n",
    "    data_frame_AD_Genes['Genes'] = Gene_name"
   ]
  },
  {
   "cell_type": "code",
   "execution_count": 30,
   "id": "1577a02f-9f9a-4aca-9b38-b7d6b0ac02b3",
   "metadata": {},
   "outputs": [
    {
     "name": "stderr",
     "output_type": "stream",
     "text": [
      "100%|███████████████████████████████████████████| 24/24 [01:03<00:00,  2.65s/it]\n"
     ]
    }
   ],
   "source": [
    "data_frame_NCI_TF = pd.DataFrame()\n",
    "for i in tqdm(cols):\n",
    "    x = data.drop(columns='Genes')\n",
    "    x = x[['TF',i]]\n",
    "    x = x.groupby('TF')\n",
    "    grouped_dataframes = {group: group_df for group, group_df in x}\n",
    "    \n",
    "    TF_name = []\n",
    "    TF_target_Values = []\n",
    "    # Access the separate DataFrames by their group names\n",
    "    for group_name, group_df in grouped_dataframes.items():\n",
    "        TF_name.append(group_name)\n",
    "    \n",
    "        sum_ = grouped_dataframes[group_name].drop(columns ='TF').sum(axis = 0).sum()\n",
    "        \n",
    "        \n",
    "        TF_target_Values.append(sum_)\n",
    "    data_frame_NCI_TF[i] = TF_target_Values\n",
    "    data_frame_NCI_TF['TF'] = TF_name"
   ]
  },
  {
   "cell_type": "markdown",
   "id": "8cae4eec-a449-4f9e-84bf-faec83bb1a11",
   "metadata": {},
   "source": [
    "# Genes Target Scores"
   ]
  },
  {
   "cell_type": "code",
   "execution_count": null,
   "id": "736c7ef3-1e59-4da0-b3da-7d638f93d666",
   "metadata": {},
   "outputs": [],
   "source": [
    "data_frame_AD_TF = pd.DataFrame()\n",
    "for i in tqdm(cols):\n",
    "    x = data.drop(columns='Genes')\n",
    "    x = x[['TF',i]]\n",
    "    x = x.groupby('TF')\n",
    "    grouped_dataframes = {group: group_df for group, group_df in x}\n",
    "    \n",
    "    TF_name = []\n",
    "    TF_target_Values = []\n",
    "    # Access the separate DataFrames by their group names\n",
    "    for group_name, group_df in grouped_dataframes.items():\n",
    "        TF_name.append(group_name)\n",
    "    \n",
    "        sum_ = grouped_dataframes[group_name].drop(columns ='TF').sum(axis = 0).sum()\n",
    "        \n",
    "        \n",
    "        TF_target_Values.append(sum_)\n",
    "    data_frame_AD_TF[i] = TF_target_Values\n",
    "    data_frame_AD_TF['TF'] = TF_name"
   ]
  },
  {
   "cell_type": "code",
   "execution_count": 31,
   "id": "d8055a59-87b3-4b5c-bbf8-db2bf689d77f",
   "metadata": {},
   "outputs": [
    {
     "name": "stderr",
     "output_type": "stream",
     "text": [
      "100%|███████████████████████████████████████████| 24/24 [04:26<00:00, 11.12s/it]\n"
     ]
    }
   ],
   "source": [
    "data_frame_NCI_Genes = pd.DataFrame()\n",
    "for i in tqdm(cols):\n",
    "    x = data.drop(columns='TF')\n",
    "    x = x[['Genes',i]]\n",
    "    x = x.groupby('Genes')\n",
    "    grouped_dataframes = {group: group_df for group, group_df in x}\n",
    "    \n",
    "    Gene_name = []\n",
    "    Gene_target_Values = []\n",
    "    # Access the separate DataFrames by their group names\n",
    "    for group_name, group_df in grouped_dataframes.items():\n",
    "        Gene_name.append(group_name)\n",
    "    \n",
    "        sum_ = grouped_dataframes[group_name].drop(columns ='Genes').sum(axis = 0).sum()\n",
    "        \n",
    "        \n",
    "        Gene_target_Values.append(sum_)\n",
    "    data_frame_NCI_Genes[i] = Gene_target_Values\n",
    "    data_frame_NCI_Genes['Genes'] = Gene_name"
   ]
  },
  {
   "cell_type": "code",
   "execution_count": 32,
   "id": "94df1bfe-89f4-4f1f-8a4a-fdcf29fdf05f",
   "metadata": {},
   "outputs": [],
   "source": [
    "data_frame_AD_Genes.to_csv('preprocessed_all_stratification_grn_all/target_scores/data_frame_AD_Genes.csv', index = False)\n",
    "data_frame_AD_TF.to_csv('preprocessed_all_stratification_grn_all/target_scores/data_frame_AD_TF.csv', index = False)\n",
    "\n",
    "data_frame_NCI_Genes.to_csv('preprocessed_all_stratification_grn_all/target_scores/data_frame_NCI_Genes.csv', index = False)\n",
    "data_frame_NCI_TF.to_csv('preprocessed_all_stratification_grn_all/target_scores/data_frame_NCI_TF.csv', index = False)"
   ]
  },
  {
   "cell_type": "code",
   "execution_count": 2,
   "id": "c8be3714-c53f-4bb3-bb65-c456b50fedf1",
   "metadata": {},
   "outputs": [],
   "source": [
    "!mkdir preprocessed_all_stratification_grn_all/"
   ]
  },
  {
   "cell_type": "code",
   "execution_count": 35,
   "id": "91a5c605-5084-40ec-a2b4-061df1fa99ba",
   "metadata": {},
   "outputs": [
    {
     "name": "stdout",
     "output_type": "stream",
     "text": [
      "/priv/c3-sysbio/anwer/stratified_GRN\n"
     ]
    }
   ],
   "source": [
    "!cd preprocessed_all_stratification_grn_all/target_scores/\n"
   ]
  },
  {
   "cell_type": "code",
   "execution_count": 8,
   "id": "a26b2f1b-9847-4f08-8658-a4200740884b",
   "metadata": {},
   "outputs": [
    {
     "name": "stderr",
     "output_type": "stream",
     "text": [
      "100%|███████████████████████████████████████| 633/633 [2:10:51<00:00, 12.40s/it]\n"
     ]
    }
   ],
   "source": [
    "from tqdm import tqdm\n",
    "import pandas as pd\n",
    "import os\n",
    "s = 0\n",
    "data = pd.read_csv('./preprocessed_GRN_files_all/643_120524.csv')\n",
    "data = data[data.Weights>0]\n",
    "data.rename(columns={'Weights': '643_120524'}, inplace = True)\n",
    "for i in tqdm(os.listdir('./preprocessed_GRN_files_all//')):\n",
    "    s = s +1 \n",
    "    \n",
    "    if i == '643_120524.csv':\n",
    "        continue\n",
    "    else:\n",
    "        data_1 = pd.read_csv('./preprocessed_GRN_files_all/'+ i)\n",
    "        data_1 = data_1[data_1.Weights>0]\n",
    "        data_1.rename(columns={'Weights': i.split('.')[0]}, inplace = True)\n",
    "        data = data.merge(data_1, on = ['TF','Genes'], how = 'inner')\n"
   ]
  },
  {
   "cell_type": "code",
   "execution_count": 11,
   "id": "b1c6516c-1100-46c5-a717-56adabd23857",
   "metadata": {},
   "outputs": [
    {
     "data": {
      "text/plain": [
       "0          5.789630\n",
       "1          5.691002\n",
       "2          5.308297\n",
       "3          6.133135\n",
       "4          6.140918\n",
       "            ...    \n",
       "232154    15.144257\n",
       "232155    15.192484\n",
       "232156    15.956908\n",
       "232157    14.003265\n",
       "232158    13.689874\n",
       "Name: 01_120405, Length: 232159, dtype: float64"
      ]
     },
     "execution_count": 11,
     "metadata": {},
     "output_type": "execute_result"
    }
   ],
   "source": [
    "data.loc[:,'01_120405']"
   ]
  },
  {
   "cell_type": "code",
   "execution_count": 15,
   "id": "f5534070-b4b1-49b4-a97d-c08ca5901b75",
   "metadata": {},
   "outputs": [
    {
     "data": {
      "text/plain": [
       "105893    43.536806\n",
       "96222     29.870367\n",
       "223006    29.701901\n",
       "96224     29.586892\n",
       "223008    29.472310\n",
       "            ...    \n",
       "3249       0.021510\n",
       "24847      0.013553\n",
       "2898       0.011959\n",
       "139764     0.001945\n",
       "164488     0.001807\n",
       "Name: 01_120405, Length: 232159, dtype: float64"
      ]
     },
     "execution_count": 15,
     "metadata": {},
     "output_type": "execute_result"
    }
   ],
   "source": [
    "data = data.sort_values(by = '01_120405', ascending=False)\n"
   ]
  },
  {
   "cell_type": "code",
   "execution_count": 16,
   "id": "18930c3c-0d0d-426e-aa84-ef369e27a895",
   "metadata": {},
   "outputs": [
    {
     "data": {
      "text/html": [
       "<div>\n",
       "<style scoped>\n",
       "    .dataframe tbody tr th:only-of-type {\n",
       "        vertical-align: middle;\n",
       "    }\n",
       "\n",
       "    .dataframe tbody tr th {\n",
       "        vertical-align: top;\n",
       "    }\n",
       "\n",
       "    .dataframe thead th {\n",
       "        text-align: right;\n",
       "    }\n",
       "</style>\n",
       "<table border=\"1\" class=\"dataframe\">\n",
       "  <thead>\n",
       "    <tr style=\"text-align: right;\">\n",
       "      <th></th>\n",
       "      <th>TF</th>\n",
       "      <th>Genes</th>\n",
       "      <th>643_120524</th>\n",
       "      <th>763_130520</th>\n",
       "      <th>415_120503</th>\n",
       "      <th>491_120515</th>\n",
       "      <th>23_120411</th>\n",
       "      <th>476_120514</th>\n",
       "      <th>626_120524</th>\n",
       "      <th>392_120503</th>\n",
       "      <th>...</th>\n",
       "      <th>724_120605</th>\n",
       "      <th>130_120419</th>\n",
       "      <th>620_120524</th>\n",
       "      <th>942_131101</th>\n",
       "      <th>280_120430</th>\n",
       "      <th>154_120423</th>\n",
       "      <th>294_120430</th>\n",
       "      <th>689_120604</th>\n",
       "      <th>563_120517</th>\n",
       "      <th>590_120522</th>\n",
       "    </tr>\n",
       "  </thead>\n",
       "  <tbody>\n",
       "    <tr>\n",
       "      <th>105893</th>\n",
       "      <td>ENSG00000162714</td>\n",
       "      <td>ENSG00000166927</td>\n",
       "      <td>6.764128</td>\n",
       "      <td>7.041766</td>\n",
       "      <td>6.931410</td>\n",
       "      <td>6.921199</td>\n",
       "      <td>7.060915</td>\n",
       "      <td>5.900757</td>\n",
       "      <td>4.430777</td>\n",
       "      <td>6.794864</td>\n",
       "      <td>...</td>\n",
       "      <td>7.107330</td>\n",
       "      <td>5.498732</td>\n",
       "      <td>6.454106</td>\n",
       "      <td>6.924329</td>\n",
       "      <td>6.755292</td>\n",
       "      <td>7.010647</td>\n",
       "      <td>6.387885</td>\n",
       "      <td>6.389445</td>\n",
       "      <td>7.415967</td>\n",
       "      <td>7.191500</td>\n",
       "    </tr>\n",
       "    <tr>\n",
       "      <th>96222</th>\n",
       "      <td>ENSG00000153879</td>\n",
       "      <td>ENSG00000130770</td>\n",
       "      <td>29.029696</td>\n",
       "      <td>29.192375</td>\n",
       "      <td>29.043956</td>\n",
       "      <td>29.172198</td>\n",
       "      <td>29.105075</td>\n",
       "      <td>29.028623</td>\n",
       "      <td>29.125978</td>\n",
       "      <td>29.228817</td>\n",
       "      <td>...</td>\n",
       "      <td>29.137338</td>\n",
       "      <td>29.074429</td>\n",
       "      <td>29.447601</td>\n",
       "      <td>29.148504</td>\n",
       "      <td>29.036329</td>\n",
       "      <td>29.023149</td>\n",
       "      <td>28.908349</td>\n",
       "      <td>29.206907</td>\n",
       "      <td>29.315795</td>\n",
       "      <td>29.152588</td>\n",
       "    </tr>\n",
       "    <tr>\n",
       "      <th>223006</th>\n",
       "      <td>ENSG00000221869</td>\n",
       "      <td>ENSG00000130770</td>\n",
       "      <td>28.928273</td>\n",
       "      <td>29.091469</td>\n",
       "      <td>28.942252</td>\n",
       "      <td>29.051450</td>\n",
       "      <td>29.000677</td>\n",
       "      <td>28.918428</td>\n",
       "      <td>29.015085</td>\n",
       "      <td>29.092351</td>\n",
       "      <td>...</td>\n",
       "      <td>29.023467</td>\n",
       "      <td>28.967270</td>\n",
       "      <td>29.305507</td>\n",
       "      <td>29.045842</td>\n",
       "      <td>28.936391</td>\n",
       "      <td>28.913178</td>\n",
       "      <td>28.817286</td>\n",
       "      <td>29.090574</td>\n",
       "      <td>29.193859</td>\n",
       "      <td>29.044038</td>\n",
       "    </tr>\n",
       "    <tr>\n",
       "      <th>96224</th>\n",
       "      <td>ENSG00000153879</td>\n",
       "      <td>ENSG00000153132</td>\n",
       "      <td>29.319251</td>\n",
       "      <td>29.317623</td>\n",
       "      <td>29.415916</td>\n",
       "      <td>29.320003</td>\n",
       "      <td>29.314705</td>\n",
       "      <td>29.146913</td>\n",
       "      <td>29.164470</td>\n",
       "      <td>29.230655</td>\n",
       "      <td>...</td>\n",
       "      <td>29.232809</td>\n",
       "      <td>29.216614</td>\n",
       "      <td>29.573290</td>\n",
       "      <td>29.263525</td>\n",
       "      <td>29.341077</td>\n",
       "      <td>29.278602</td>\n",
       "      <td>29.427817</td>\n",
       "      <td>29.191415</td>\n",
       "      <td>29.334823</td>\n",
       "      <td>29.334113</td>\n",
       "    </tr>\n",
       "    <tr>\n",
       "      <th>223008</th>\n",
       "      <td>ENSG00000221869</td>\n",
       "      <td>ENSG00000153132</td>\n",
       "      <td>29.203276</td>\n",
       "      <td>29.201290</td>\n",
       "      <td>29.295953</td>\n",
       "      <td>29.197183</td>\n",
       "      <td>29.189152</td>\n",
       "      <td>29.039805</td>\n",
       "      <td>29.063622</td>\n",
       "      <td>29.104947</td>\n",
       "      <td>...</td>\n",
       "      <td>29.114219</td>\n",
       "      <td>29.110408</td>\n",
       "      <td>29.435600</td>\n",
       "      <td>29.141126</td>\n",
       "      <td>29.206388</td>\n",
       "      <td>29.160469</td>\n",
       "      <td>29.286821</td>\n",
       "      <td>29.075215</td>\n",
       "      <td>29.211440</td>\n",
       "      <td>29.225853</td>\n",
       "    </tr>\n",
       "  </tbody>\n",
       "</table>\n",
       "<p>5 rows × 635 columns</p>\n",
       "</div>"
      ],
      "text/plain": [
       "                     TF            Genes  643_120524  763_130520  415_120503  \\\n",
       "105893  ENSG00000162714  ENSG00000166927    6.764128    7.041766    6.931410   \n",
       "96222   ENSG00000153879  ENSG00000130770   29.029696   29.192375   29.043956   \n",
       "223006  ENSG00000221869  ENSG00000130770   28.928273   29.091469   28.942252   \n",
       "96224   ENSG00000153879  ENSG00000153132   29.319251   29.317623   29.415916   \n",
       "223008  ENSG00000221869  ENSG00000153132   29.203276   29.201290   29.295953   \n",
       "\n",
       "        491_120515  23_120411  476_120514  626_120524  392_120503  ...  \\\n",
       "105893    6.921199   7.060915    5.900757    4.430777    6.794864  ...   \n",
       "96222    29.172198  29.105075   29.028623   29.125978   29.228817  ...   \n",
       "223006   29.051450  29.000677   28.918428   29.015085   29.092351  ...   \n",
       "96224    29.320003  29.314705   29.146913   29.164470   29.230655  ...   \n",
       "223008   29.197183  29.189152   29.039805   29.063622   29.104947  ...   \n",
       "\n",
       "        724_120605  130_120419  620_120524  942_131101  280_120430  \\\n",
       "105893    7.107330    5.498732    6.454106    6.924329    6.755292   \n",
       "96222    29.137338   29.074429   29.447601   29.148504   29.036329   \n",
       "223006   29.023467   28.967270   29.305507   29.045842   28.936391   \n",
       "96224    29.232809   29.216614   29.573290   29.263525   29.341077   \n",
       "223008   29.114219   29.110408   29.435600   29.141126   29.206388   \n",
       "\n",
       "        154_120423  294_120430  689_120604  563_120517  590_120522  \n",
       "105893    7.010647    6.387885    6.389445    7.415967    7.191500  \n",
       "96222    29.023149   28.908349   29.206907   29.315795   29.152588  \n",
       "223006   28.913178   28.817286   29.090574   29.193859   29.044038  \n",
       "96224    29.278602   29.427817   29.191415   29.334823   29.334113  \n",
       "223008   29.160469   29.286821   29.075215   29.211440   29.225853  \n",
       "\n",
       "[5 rows x 635 columns]"
      ]
     },
     "execution_count": 16,
     "metadata": {},
     "output_type": "execute_result"
    }
   ],
   "source": [
    "data.head()"
   ]
  },
  {
   "cell_type": "code",
   "execution_count": 17,
   "id": "b3e93ea3-9c7d-4347-b362-85ba582cbc63",
   "metadata": {},
   "outputs": [],
   "source": [
    "data.to_csv('./preprocessed_all_stratification_grn//Combined.csv', index = False)"
   ]
  },
  {
   "cell_type": "code",
   "execution_count": 118,
   "id": "2542337e-107c-4365-aad7-a21d13575d18",
   "metadata": {},
   "outputs": [
    {
     "data": {
      "text/html": [
       "<div>\n",
       "<style scoped>\n",
       "    .dataframe tbody tr th:only-of-type {\n",
       "        vertical-align: middle;\n",
       "    }\n",
       "\n",
       "    .dataframe tbody tr th {\n",
       "        vertical-align: top;\n",
       "    }\n",
       "\n",
       "    .dataframe thead th {\n",
       "        text-align: right;\n",
       "    }\n",
       "</style>\n",
       "<table border=\"1\" class=\"dataframe\">\n",
       "  <thead>\n",
       "    <tr style=\"text-align: right;\">\n",
       "      <th></th>\n",
       "      <th>TF</th>\n",
       "      <th>Genes</th>\n",
       "      <th>01_120405</th>\n",
       "      <th>02_120405</th>\n",
       "      <th>03_120405</th>\n",
       "      <th>04_120405</th>\n",
       "      <th>05_120405</th>\n",
       "      <th>07_120410</th>\n",
       "      <th>08_120410</th>\n",
       "      <th>100_120417</th>\n",
       "      <th>...</th>\n",
       "      <th>603_120523</th>\n",
       "      <th>604_120523</th>\n",
       "      <th>605_120523</th>\n",
       "      <th>606_120523</th>\n",
       "      <th>607_120523</th>\n",
       "      <th>608_120523</th>\n",
       "      <th>60_120417</th>\n",
       "      <th>610_120523</th>\n",
       "      <th>613_120523</th>\n",
       "      <th>614_120523</th>\n",
       "    </tr>\n",
       "  </thead>\n",
       "  <tbody>\n",
       "    <tr>\n",
       "      <th>105893</th>\n",
       "      <td>ENSG00000162714</td>\n",
       "      <td>ENSG00000166927</td>\n",
       "      <td>43.536806</td>\n",
       "      <td>7.200241</td>\n",
       "      <td>5.742633</td>\n",
       "      <td>7.608852</td>\n",
       "      <td>4.084942</td>\n",
       "      <td>6.603272</td>\n",
       "      <td>7.049528</td>\n",
       "      <td>4.431159</td>\n",
       "      <td>...</td>\n",
       "      <td>8.015529</td>\n",
       "      <td>6.995416</td>\n",
       "      <td>5.996646</td>\n",
       "      <td>7.230237</td>\n",
       "      <td>6.844604</td>\n",
       "      <td>7.005116</td>\n",
       "      <td>6.978069</td>\n",
       "      <td>6.862019</td>\n",
       "      <td>8.635593</td>\n",
       "      <td>7.648440</td>\n",
       "    </tr>\n",
       "    <tr>\n",
       "      <th>96222</th>\n",
       "      <td>ENSG00000153879</td>\n",
       "      <td>ENSG00000130770</td>\n",
       "      <td>29.870367</td>\n",
       "      <td>30.122384</td>\n",
       "      <td>29.172648</td>\n",
       "      <td>29.296845</td>\n",
       "      <td>28.971290</td>\n",
       "      <td>29.061201</td>\n",
       "      <td>30.071438</td>\n",
       "      <td>29.364626</td>\n",
       "      <td>...</td>\n",
       "      <td>29.086908</td>\n",
       "      <td>29.302834</td>\n",
       "      <td>29.414049</td>\n",
       "      <td>28.749349</td>\n",
       "      <td>29.179271</td>\n",
       "      <td>28.911557</td>\n",
       "      <td>28.906267</td>\n",
       "      <td>29.235939</td>\n",
       "      <td>28.962450</td>\n",
       "      <td>29.403223</td>\n",
       "    </tr>\n",
       "    <tr>\n",
       "      <th>223006</th>\n",
       "      <td>ENSG00000221869</td>\n",
       "      <td>ENSG00000130770</td>\n",
       "      <td>29.701901</td>\n",
       "      <td>29.958599</td>\n",
       "      <td>29.052440</td>\n",
       "      <td>29.165134</td>\n",
       "      <td>28.867042</td>\n",
       "      <td>28.948744</td>\n",
       "      <td>29.953303</td>\n",
       "      <td>29.237434</td>\n",
       "      <td>...</td>\n",
       "      <td>28.979029</td>\n",
       "      <td>29.177800</td>\n",
       "      <td>29.234131</td>\n",
       "      <td>28.642987</td>\n",
       "      <td>29.064707</td>\n",
       "      <td>28.803415</td>\n",
       "      <td>28.798063</td>\n",
       "      <td>29.126461</td>\n",
       "      <td>28.857575</td>\n",
       "      <td>29.274685</td>\n",
       "    </tr>\n",
       "    <tr>\n",
       "      <th>96224</th>\n",
       "      <td>ENSG00000153879</td>\n",
       "      <td>ENSG00000153132</td>\n",
       "      <td>29.586892</td>\n",
       "      <td>29.766368</td>\n",
       "      <td>29.365547</td>\n",
       "      <td>29.076105</td>\n",
       "      <td>29.428856</td>\n",
       "      <td>29.127322</td>\n",
       "      <td>29.531960</td>\n",
       "      <td>29.237765</td>\n",
       "      <td>...</td>\n",
       "      <td>29.032954</td>\n",
       "      <td>29.380567</td>\n",
       "      <td>30.818329</td>\n",
       "      <td>29.211655</td>\n",
       "      <td>29.569292</td>\n",
       "      <td>29.336454</td>\n",
       "      <td>28.995904</td>\n",
       "      <td>29.052663</td>\n",
       "      <td>28.816686</td>\n",
       "      <td>29.351340</td>\n",
       "    </tr>\n",
       "    <tr>\n",
       "      <th>223008</th>\n",
       "      <td>ENSG00000221869</td>\n",
       "      <td>ENSG00000153132</td>\n",
       "      <td>29.472310</td>\n",
       "      <td>29.663188</td>\n",
       "      <td>29.234555</td>\n",
       "      <td>28.998235</td>\n",
       "      <td>29.288450</td>\n",
       "      <td>29.038120</td>\n",
       "      <td>29.438471</td>\n",
       "      <td>29.141238</td>\n",
       "      <td>...</td>\n",
       "      <td>28.942731</td>\n",
       "      <td>29.287200</td>\n",
       "      <td>30.517764</td>\n",
       "      <td>29.103238</td>\n",
       "      <td>29.437919</td>\n",
       "      <td>29.211415</td>\n",
       "      <td>28.904269</td>\n",
       "      <td>28.930077</td>\n",
       "      <td>28.726117</td>\n",
       "      <td>29.237843</td>\n",
       "    </tr>\n",
       "    <tr>\n",
       "      <th>...</th>\n",
       "      <td>...</td>\n",
       "      <td>...</td>\n",
       "      <td>...</td>\n",
       "      <td>...</td>\n",
       "      <td>...</td>\n",
       "      <td>...</td>\n",
       "      <td>...</td>\n",
       "      <td>...</td>\n",
       "      <td>...</td>\n",
       "      <td>...</td>\n",
       "      <td>...</td>\n",
       "      <td>...</td>\n",
       "      <td>...</td>\n",
       "      <td>...</td>\n",
       "      <td>...</td>\n",
       "      <td>...</td>\n",
       "      <td>...</td>\n",
       "      <td>...</td>\n",
       "      <td>...</td>\n",
       "      <td>...</td>\n",
       "      <td>...</td>\n",
       "    </tr>\n",
       "    <tr>\n",
       "      <th>3249</th>\n",
       "      <td>ENSG00000010539</td>\n",
       "      <td>ENSG00000169682</td>\n",
       "      <td>0.021510</td>\n",
       "      <td>4.108067</td>\n",
       "      <td>4.382447</td>\n",
       "      <td>4.223414</td>\n",
       "      <td>4.647202</td>\n",
       "      <td>2.715934</td>\n",
       "      <td>3.934925</td>\n",
       "      <td>3.508141</td>\n",
       "      <td>...</td>\n",
       "      <td>4.107738</td>\n",
       "      <td>4.500472</td>\n",
       "      <td>7.397930</td>\n",
       "      <td>4.308761</td>\n",
       "      <td>4.532910</td>\n",
       "      <td>4.695364</td>\n",
       "      <td>4.025161</td>\n",
       "      <td>4.060522</td>\n",
       "      <td>4.525829</td>\n",
       "      <td>4.397724</td>\n",
       "    </tr>\n",
       "    <tr>\n",
       "      <th>24847</th>\n",
       "      <td>ENSG00000100811</td>\n",
       "      <td>ENSG00000163605</td>\n",
       "      <td>0.013553</td>\n",
       "      <td>4.585608</td>\n",
       "      <td>4.938321</td>\n",
       "      <td>4.631691</td>\n",
       "      <td>4.914888</td>\n",
       "      <td>4.480647</td>\n",
       "      <td>3.414408</td>\n",
       "      <td>5.118955</td>\n",
       "      <td>...</td>\n",
       "      <td>4.425940</td>\n",
       "      <td>4.616623</td>\n",
       "      <td>3.246868</td>\n",
       "      <td>4.794989</td>\n",
       "      <td>4.897939</td>\n",
       "      <td>4.795761</td>\n",
       "      <td>4.768241</td>\n",
       "      <td>4.537325</td>\n",
       "      <td>5.292257</td>\n",
       "      <td>4.688367</td>\n",
       "    </tr>\n",
       "    <tr>\n",
       "      <th>2898</th>\n",
       "      <td>ENSG00000010539</td>\n",
       "      <td>ENSG00000107099</td>\n",
       "      <td>0.011959</td>\n",
       "      <td>4.575343</td>\n",
       "      <td>6.015605</td>\n",
       "      <td>4.919610</td>\n",
       "      <td>5.469785</td>\n",
       "      <td>6.507275</td>\n",
       "      <td>4.636547</td>\n",
       "      <td>5.395290</td>\n",
       "      <td>...</td>\n",
       "      <td>4.803877</td>\n",
       "      <td>4.903071</td>\n",
       "      <td>4.604718</td>\n",
       "      <td>4.647067</td>\n",
       "      <td>4.890549</td>\n",
       "      <td>4.791561</td>\n",
       "      <td>4.557299</td>\n",
       "      <td>5.530761</td>\n",
       "      <td>4.761226</td>\n",
       "      <td>4.258987</td>\n",
       "    </tr>\n",
       "    <tr>\n",
       "      <th>139764</th>\n",
       "      <td>ENSG00000172845</td>\n",
       "      <td>ENSG00000085733</td>\n",
       "      <td>0.001945</td>\n",
       "      <td>4.630873</td>\n",
       "      <td>4.721416</td>\n",
       "      <td>4.368013</td>\n",
       "      <td>4.393669</td>\n",
       "      <td>3.062937</td>\n",
       "      <td>1.654243</td>\n",
       "      <td>4.494398</td>\n",
       "      <td>...</td>\n",
       "      <td>4.017482</td>\n",
       "      <td>4.003256</td>\n",
       "      <td>5.411220</td>\n",
       "      <td>3.585842</td>\n",
       "      <td>4.450813</td>\n",
       "      <td>4.363110</td>\n",
       "      <td>4.299230</td>\n",
       "      <td>4.278576</td>\n",
       "      <td>4.087869</td>\n",
       "      <td>3.738218</td>\n",
       "    </tr>\n",
       "    <tr>\n",
       "      <th>164488</th>\n",
       "      <td>ENSG00000181690</td>\n",
       "      <td>ENSG00000141084</td>\n",
       "      <td>0.001807</td>\n",
       "      <td>5.008410</td>\n",
       "      <td>4.768342</td>\n",
       "      <td>4.368036</td>\n",
       "      <td>4.933400</td>\n",
       "      <td>4.387415</td>\n",
       "      <td>4.534709</td>\n",
       "      <td>7.476129</td>\n",
       "      <td>...</td>\n",
       "      <td>4.664338</td>\n",
       "      <td>4.831102</td>\n",
       "      <td>10.342295</td>\n",
       "      <td>4.506167</td>\n",
       "      <td>4.669961</td>\n",
       "      <td>4.751528</td>\n",
       "      <td>5.242855</td>\n",
       "      <td>4.793991</td>\n",
       "      <td>4.746849</td>\n",
       "      <td>4.313255</td>\n",
       "    </tr>\n",
       "  </tbody>\n",
       "</table>\n",
       "<p>232159 rows × 635 columns</p>\n",
       "</div>"
      ],
      "text/plain": [
       "                     TF            Genes  01_120405  02_120405  03_120405  \\\n",
       "105893  ENSG00000162714  ENSG00000166927  43.536806   7.200241   5.742633   \n",
       "96222   ENSG00000153879  ENSG00000130770  29.870367  30.122384  29.172648   \n",
       "223006  ENSG00000221869  ENSG00000130770  29.701901  29.958599  29.052440   \n",
       "96224   ENSG00000153879  ENSG00000153132  29.586892  29.766368  29.365547   \n",
       "223008  ENSG00000221869  ENSG00000153132  29.472310  29.663188  29.234555   \n",
       "...                 ...              ...        ...        ...        ...   \n",
       "3249    ENSG00000010539  ENSG00000169682   0.021510   4.108067   4.382447   \n",
       "24847   ENSG00000100811  ENSG00000163605   0.013553   4.585608   4.938321   \n",
       "2898    ENSG00000010539  ENSG00000107099   0.011959   4.575343   6.015605   \n",
       "139764  ENSG00000172845  ENSG00000085733   0.001945   4.630873   4.721416   \n",
       "164488  ENSG00000181690  ENSG00000141084   0.001807   5.008410   4.768342   \n",
       "\n",
       "        04_120405  05_120405  07_120410  08_120410  100_120417  ...  \\\n",
       "105893   7.608852   4.084942   6.603272   7.049528    4.431159  ...   \n",
       "96222   29.296845  28.971290  29.061201  30.071438   29.364626  ...   \n",
       "223006  29.165134  28.867042  28.948744  29.953303   29.237434  ...   \n",
       "96224   29.076105  29.428856  29.127322  29.531960   29.237765  ...   \n",
       "223008  28.998235  29.288450  29.038120  29.438471   29.141238  ...   \n",
       "...           ...        ...        ...        ...         ...  ...   \n",
       "3249     4.223414   4.647202   2.715934   3.934925    3.508141  ...   \n",
       "24847    4.631691   4.914888   4.480647   3.414408    5.118955  ...   \n",
       "2898     4.919610   5.469785   6.507275   4.636547    5.395290  ...   \n",
       "139764   4.368013   4.393669   3.062937   1.654243    4.494398  ...   \n",
       "164488   4.368036   4.933400   4.387415   4.534709    7.476129  ...   \n",
       "\n",
       "        603_120523  604_120523  605_120523  606_120523  607_120523  \\\n",
       "105893    8.015529    6.995416    5.996646    7.230237    6.844604   \n",
       "96222    29.086908   29.302834   29.414049   28.749349   29.179271   \n",
       "223006   28.979029   29.177800   29.234131   28.642987   29.064707   \n",
       "96224    29.032954   29.380567   30.818329   29.211655   29.569292   \n",
       "223008   28.942731   29.287200   30.517764   29.103238   29.437919   \n",
       "...            ...         ...         ...         ...         ...   \n",
       "3249      4.107738    4.500472    7.397930    4.308761    4.532910   \n",
       "24847     4.425940    4.616623    3.246868    4.794989    4.897939   \n",
       "2898      4.803877    4.903071    4.604718    4.647067    4.890549   \n",
       "139764    4.017482    4.003256    5.411220    3.585842    4.450813   \n",
       "164488    4.664338    4.831102   10.342295    4.506167    4.669961   \n",
       "\n",
       "        608_120523  60_120417  610_120523  613_120523  614_120523  \n",
       "105893    7.005116   6.978069    6.862019    8.635593    7.648440  \n",
       "96222    28.911557  28.906267   29.235939   28.962450   29.403223  \n",
       "223006   28.803415  28.798063   29.126461   28.857575   29.274685  \n",
       "96224    29.336454  28.995904   29.052663   28.816686   29.351340  \n",
       "223008   29.211415  28.904269   28.930077   28.726117   29.237843  \n",
       "...            ...        ...         ...         ...         ...  \n",
       "3249      4.695364   4.025161    4.060522    4.525829    4.397724  \n",
       "24847     4.795761   4.768241    4.537325    5.292257    4.688367  \n",
       "2898      4.791561   4.557299    5.530761    4.761226    4.258987  \n",
       "139764    4.363110   4.299230    4.278576    4.087869    3.738218  \n",
       "164488    4.751528   5.242855    4.793991    4.746849    4.313255  \n",
       "\n",
       "[232159 rows x 635 columns]"
      ]
     },
     "execution_count": 118,
     "metadata": {},
     "output_type": "execute_result"
    }
   ],
   "source": [
    "data"
   ]
  },
  {
   "cell_type": "code",
   "execution_count": 18,
   "id": "9827ff87-e02a-46d1-9d3f-fee00ff3b5ff",
   "metadata": {},
   "outputs": [
    {
     "data": {
      "text/html": [
       "<div>\n",
       "<style scoped>\n",
       "    .dataframe tbody tr th:only-of-type {\n",
       "        vertical-align: middle;\n",
       "    }\n",
       "\n",
       "    .dataframe tbody tr th {\n",
       "        vertical-align: top;\n",
       "    }\n",
       "\n",
       "    .dataframe thead th {\n",
       "        text-align: right;\n",
       "    }\n",
       "</style>\n",
       "<table border=\"1\" class=\"dataframe\">\n",
       "  <thead>\n",
       "    <tr style=\"text-align: right;\">\n",
       "      <th></th>\n",
       "      <th>TF</th>\n",
       "      <th>Genes</th>\n",
       "    </tr>\n",
       "  </thead>\n",
       "  <tbody>\n",
       "    <tr>\n",
       "      <th>105893</th>\n",
       "      <td>ENSG00000162714</td>\n",
       "      <td>ENSG00000166927</td>\n",
       "    </tr>\n",
       "    <tr>\n",
       "      <th>96222</th>\n",
       "      <td>ENSG00000153879</td>\n",
       "      <td>ENSG00000130770</td>\n",
       "    </tr>\n",
       "    <tr>\n",
       "      <th>223006</th>\n",
       "      <td>ENSG00000221869</td>\n",
       "      <td>ENSG00000130770</td>\n",
       "    </tr>\n",
       "    <tr>\n",
       "      <th>96224</th>\n",
       "      <td>ENSG00000153879</td>\n",
       "      <td>ENSG00000153132</td>\n",
       "    </tr>\n",
       "    <tr>\n",
       "      <th>223008</th>\n",
       "      <td>ENSG00000221869</td>\n",
       "      <td>ENSG00000153132</td>\n",
       "    </tr>\n",
       "  </tbody>\n",
       "</table>\n",
       "</div>"
      ],
      "text/plain": [
       "                     TF            Genes\n",
       "105893  ENSG00000162714  ENSG00000166927\n",
       "96222   ENSG00000153879  ENSG00000130770\n",
       "223006  ENSG00000221869  ENSG00000130770\n",
       "96224   ENSG00000153879  ENSG00000153132\n",
       "223008  ENSG00000221869  ENSG00000153132"
      ]
     },
     "execution_count": 18,
     "metadata": {},
     "output_type": "execute_result"
    }
   ],
   "source": [
    "data_dummy = data[['TF','Genes']]\n",
    "data_dummy.head()"
   ]
  },
  {
   "cell_type": "code",
   "execution_count": 19,
   "id": "ddb9d0f4-82d6-4a01-ab77-67c934b47acc",
   "metadata": {},
   "outputs": [
    {
     "data": {
      "text/plain": [
       "111"
      ]
     },
     "execution_count": 19,
     "metadata": {},
     "output_type": "execute_result"
    }
   ],
   "source": [
    "len(AD_with_Plaques)"
   ]
  },
  {
   "cell_type": "code",
   "execution_count": 20,
   "id": "d974dddd-3539-4410-9bae-140a87e97d27",
   "metadata": {},
   "outputs": [
    {
     "data": {
      "text/plain": [
       "24"
      ]
     },
     "execution_count": 20,
     "metadata": {},
     "output_type": "execute_result"
    }
   ],
   "source": [
    "len(NCI_with_Plaques)"
   ]
  },
  {
   "cell_type": "code",
   "execution_count": 21,
   "id": "690d308f-9917-4b3b-9ee2-84b63f8a6e62",
   "metadata": {},
   "outputs": [
    {
     "name": "stderr",
     "output_type": "stream",
     "text": [
      "/local/tmp.5418645/ipykernel_1286993/804876898.py:2: PerformanceWarning: DataFrame is highly fragmented.  This is usually the result of calling `frame.insert` many times, which has poor performance.  Consider joining all columns at once using pd.concat(axis=1) instead. To get a de-fragmented frame, use `newframe = frame.copy()`\n",
      "  AD_with_Plaques_df[['TF','Genes']] = data_dummy[['TF','Genes']]\n",
      "/local/tmp.5418645/ipykernel_1286993/804876898.py:2: SettingWithCopyWarning: \n",
      "A value is trying to be set on a copy of a slice from a DataFrame.\n",
      "Try using .loc[row_indexer,col_indexer] = value instead\n",
      "\n",
      "See the caveats in the documentation: https://pandas.pydata.org/pandas-docs/stable/user_guide/indexing.html#returning-a-view-versus-a-copy\n",
      "  AD_with_Plaques_df[['TF','Genes']] = data_dummy[['TF','Genes']]\n",
      "/local/tmp.5418645/ipykernel_1286993/804876898.py:2: PerformanceWarning: DataFrame is highly fragmented.  This is usually the result of calling `frame.insert` many times, which has poor performance.  Consider joining all columns at once using pd.concat(axis=1) instead. To get a de-fragmented frame, use `newframe = frame.copy()`\n",
      "  AD_with_Plaques_df[['TF','Genes']] = data_dummy[['TF','Genes']]\n",
      "/local/tmp.5418645/ipykernel_1286993/804876898.py:2: SettingWithCopyWarning: \n",
      "A value is trying to be set on a copy of a slice from a DataFrame.\n",
      "Try using .loc[row_indexer,col_indexer] = value instead\n",
      "\n",
      "See the caveats in the documentation: https://pandas.pydata.org/pandas-docs/stable/user_guide/indexing.html#returning-a-view-versus-a-copy\n",
      "  AD_with_Plaques_df[['TF','Genes']] = data_dummy[['TF','Genes']]\n",
      "/local/tmp.5418645/ipykernel_1286993/804876898.py:3: SettingWithCopyWarning: \n",
      "A value is trying to be set on a copy of a slice from a DataFrame\n",
      "\n",
      "See the caveats in the documentation: https://pandas.pydata.org/pandas-docs/stable/user_guide/indexing.html#returning-a-view-versus-a-copy\n",
      "  AD_with_Plaques_df.sort_index(axis = 1, ascending = False, inplace = True)\n"
     ]
    },
    {
     "data": {
      "text/html": [
       "<div>\n",
       "<style scoped>\n",
       "    .dataframe tbody tr th:only-of-type {\n",
       "        vertical-align: middle;\n",
       "    }\n",
       "\n",
       "    .dataframe tbody tr th {\n",
       "        vertical-align: top;\n",
       "    }\n",
       "\n",
       "    .dataframe thead th {\n",
       "        text-align: right;\n",
       "    }\n",
       "</style>\n",
       "<table border=\"1\" class=\"dataframe\">\n",
       "  <thead>\n",
       "    <tr style=\"text-align: right;\">\n",
       "      <th></th>\n",
       "      <th>TF</th>\n",
       "      <th>Genes</th>\n",
       "      <th>952_131107</th>\n",
       "      <th>943_131101</th>\n",
       "      <th>942_131101</th>\n",
       "      <th>929_131031</th>\n",
       "      <th>923_131031</th>\n",
       "      <th>922_131031</th>\n",
       "      <th>884_130923</th>\n",
       "      <th>881_130918</th>\n",
       "      <th>...</th>\n",
       "      <th>197_120424</th>\n",
       "      <th>196_120424</th>\n",
       "      <th>193_120424</th>\n",
       "      <th>186_120424</th>\n",
       "      <th>181_120424</th>\n",
       "      <th>173_120424</th>\n",
       "      <th>145_120419</th>\n",
       "      <th>12_120410</th>\n",
       "      <th>104_120418</th>\n",
       "      <th>02_120405</th>\n",
       "    </tr>\n",
       "  </thead>\n",
       "  <tbody>\n",
       "    <tr>\n",
       "      <th>105893</th>\n",
       "      <td>ENSG00000162714</td>\n",
       "      <td>ENSG00000166927</td>\n",
       "      <td>8.169454</td>\n",
       "      <td>6.091538</td>\n",
       "      <td>6.924329</td>\n",
       "      <td>6.372386</td>\n",
       "      <td>1.886078</td>\n",
       "      <td>6.523004</td>\n",
       "      <td>0.644579</td>\n",
       "      <td>9.306736</td>\n",
       "      <td>...</td>\n",
       "      <td>6.988914</td>\n",
       "      <td>5.655682</td>\n",
       "      <td>5.879501</td>\n",
       "      <td>4.674687</td>\n",
       "      <td>7.347976</td>\n",
       "      <td>8.911009</td>\n",
       "      <td>3.110205</td>\n",
       "      <td>6.408432</td>\n",
       "      <td>7.002459</td>\n",
       "      <td>7.200241</td>\n",
       "    </tr>\n",
       "    <tr>\n",
       "      <th>96222</th>\n",
       "      <td>ENSG00000153879</td>\n",
       "      <td>ENSG00000130770</td>\n",
       "      <td>28.693532</td>\n",
       "      <td>29.079484</td>\n",
       "      <td>29.148504</td>\n",
       "      <td>29.104438</td>\n",
       "      <td>28.969102</td>\n",
       "      <td>29.248774</td>\n",
       "      <td>30.529633</td>\n",
       "      <td>29.043099</td>\n",
       "      <td>...</td>\n",
       "      <td>29.326679</td>\n",
       "      <td>28.957493</td>\n",
       "      <td>29.127940</td>\n",
       "      <td>29.787070</td>\n",
       "      <td>29.282156</td>\n",
       "      <td>29.081831</td>\n",
       "      <td>29.130050</td>\n",
       "      <td>29.115020</td>\n",
       "      <td>28.981743</td>\n",
       "      <td>30.122384</td>\n",
       "    </tr>\n",
       "    <tr>\n",
       "      <th>223006</th>\n",
       "      <td>ENSG00000221869</td>\n",
       "      <td>ENSG00000130770</td>\n",
       "      <td>28.607725</td>\n",
       "      <td>28.989918</td>\n",
       "      <td>29.045842</td>\n",
       "      <td>29.003094</td>\n",
       "      <td>28.853816</td>\n",
       "      <td>29.127285</td>\n",
       "      <td>30.379497</td>\n",
       "      <td>28.918645</td>\n",
       "      <td>...</td>\n",
       "      <td>29.193261</td>\n",
       "      <td>28.855385</td>\n",
       "      <td>29.024021</td>\n",
       "      <td>29.657966</td>\n",
       "      <td>29.153774</td>\n",
       "      <td>28.964077</td>\n",
       "      <td>29.019282</td>\n",
       "      <td>29.004254</td>\n",
       "      <td>28.868881</td>\n",
       "      <td>29.958599</td>\n",
       "    </tr>\n",
       "    <tr>\n",
       "      <th>96224</th>\n",
       "      <td>ENSG00000153879</td>\n",
       "      <td>ENSG00000153132</td>\n",
       "      <td>27.740849</td>\n",
       "      <td>28.277764</td>\n",
       "      <td>29.263525</td>\n",
       "      <td>29.133070</td>\n",
       "      <td>29.334811</td>\n",
       "      <td>29.888044</td>\n",
       "      <td>29.656247</td>\n",
       "      <td>28.813330</td>\n",
       "      <td>...</td>\n",
       "      <td>29.225767</td>\n",
       "      <td>29.030770</td>\n",
       "      <td>29.363795</td>\n",
       "      <td>29.171413</td>\n",
       "      <td>29.145168</td>\n",
       "      <td>29.248844</td>\n",
       "      <td>29.286070</td>\n",
       "      <td>29.115449</td>\n",
       "      <td>29.150250</td>\n",
       "      <td>29.766368</td>\n",
       "    </tr>\n",
       "    <tr>\n",
       "      <th>223008</th>\n",
       "      <td>ENSG00000221869</td>\n",
       "      <td>ENSG00000153132</td>\n",
       "      <td>27.727196</td>\n",
       "      <td>28.290573</td>\n",
       "      <td>29.141126</td>\n",
       "      <td>29.046395</td>\n",
       "      <td>29.210898</td>\n",
       "      <td>29.758295</td>\n",
       "      <td>29.569433</td>\n",
       "      <td>28.687399</td>\n",
       "      <td>...</td>\n",
       "      <td>29.103885</td>\n",
       "      <td>28.937101</td>\n",
       "      <td>29.233977</td>\n",
       "      <td>29.048912</td>\n",
       "      <td>29.030162</td>\n",
       "      <td>29.129557</td>\n",
       "      <td>29.178945</td>\n",
       "      <td>28.991895</td>\n",
       "      <td>29.033700</td>\n",
       "      <td>29.663188</td>\n",
       "    </tr>\n",
       "  </tbody>\n",
       "</table>\n",
       "<p>5 rows × 113 columns</p>\n",
       "</div>"
      ],
      "text/plain": [
       "                     TF            Genes  952_131107  943_131101  942_131101  \\\n",
       "105893  ENSG00000162714  ENSG00000166927    8.169454    6.091538    6.924329   \n",
       "96222   ENSG00000153879  ENSG00000130770   28.693532   29.079484   29.148504   \n",
       "223006  ENSG00000221869  ENSG00000130770   28.607725   28.989918   29.045842   \n",
       "96224   ENSG00000153879  ENSG00000153132   27.740849   28.277764   29.263525   \n",
       "223008  ENSG00000221869  ENSG00000153132   27.727196   28.290573   29.141126   \n",
       "\n",
       "        929_131031  923_131031  922_131031  884_130923  881_130918  ...  \\\n",
       "105893    6.372386    1.886078    6.523004    0.644579    9.306736  ...   \n",
       "96222    29.104438   28.969102   29.248774   30.529633   29.043099  ...   \n",
       "223006   29.003094   28.853816   29.127285   30.379497   28.918645  ...   \n",
       "96224    29.133070   29.334811   29.888044   29.656247   28.813330  ...   \n",
       "223008   29.046395   29.210898   29.758295   29.569433   28.687399  ...   \n",
       "\n",
       "        197_120424  196_120424  193_120424  186_120424  181_120424  \\\n",
       "105893    6.988914    5.655682    5.879501    4.674687    7.347976   \n",
       "96222    29.326679   28.957493   29.127940   29.787070   29.282156   \n",
       "223006   29.193261   28.855385   29.024021   29.657966   29.153774   \n",
       "96224    29.225767   29.030770   29.363795   29.171413   29.145168   \n",
       "223008   29.103885   28.937101   29.233977   29.048912   29.030162   \n",
       "\n",
       "        173_120424  145_120419  12_120410  104_120418  02_120405  \n",
       "105893    8.911009    3.110205   6.408432    7.002459   7.200241  \n",
       "96222    29.081831   29.130050  29.115020   28.981743  30.122384  \n",
       "223006   28.964077   29.019282  29.004254   28.868881  29.958599  \n",
       "96224    29.248844   29.286070  29.115449   29.150250  29.766368  \n",
       "223008   29.129557   29.178945  28.991895   29.033700  29.663188  \n",
       "\n",
       "[5 rows x 113 columns]"
      ]
     },
     "execution_count": 21,
     "metadata": {},
     "output_type": "execute_result"
    }
   ],
   "source": [
    "AD_with_Plaques_df = data[AD_with_Plaques]\n",
    "AD_with_Plaques_df[['TF','Genes']] = data_dummy[['TF','Genes']]\n",
    "AD_with_Plaques_df.sort_index(axis = 1, ascending = False, inplace = True)\n",
    "AD_with_Plaques_df.head()"
   ]
  },
  {
   "cell_type": "code",
   "execution_count": 22,
   "id": "37c281cb-8a65-424d-b789-9cfb750aa55a",
   "metadata": {},
   "outputs": [
    {
     "name": "stderr",
     "output_type": "stream",
     "text": [
      "/local/tmp.5418645/ipykernel_1286993/4197377813.py:2: SettingWithCopyWarning: \n",
      "A value is trying to be set on a copy of a slice from a DataFrame.\n",
      "Try using .loc[row_indexer,col_indexer] = value instead\n",
      "\n",
      "See the caveats in the documentation: https://pandas.pydata.org/pandas-docs/stable/user_guide/indexing.html#returning-a-view-versus-a-copy\n",
      "  NCI_with_Plaques_df[['TF','Genes']] = data_dummy[['TF','Genes']]\n",
      "/local/tmp.5418645/ipykernel_1286993/4197377813.py:2: SettingWithCopyWarning: \n",
      "A value is trying to be set on a copy of a slice from a DataFrame.\n",
      "Try using .loc[row_indexer,col_indexer] = value instead\n",
      "\n",
      "See the caveats in the documentation: https://pandas.pydata.org/pandas-docs/stable/user_guide/indexing.html#returning-a-view-versus-a-copy\n",
      "  NCI_with_Plaques_df[['TF','Genes']] = data_dummy[['TF','Genes']]\n",
      "/local/tmp.5418645/ipykernel_1286993/4197377813.py:3: SettingWithCopyWarning: \n",
      "A value is trying to be set on a copy of a slice from a DataFrame\n",
      "\n",
      "See the caveats in the documentation: https://pandas.pydata.org/pandas-docs/stable/user_guide/indexing.html#returning-a-view-versus-a-copy\n",
      "  NCI_with_Plaques_df.sort_index(axis = 1, ascending = False, inplace = True)\n"
     ]
    },
    {
     "data": {
      "text/html": [
       "<div>\n",
       "<style scoped>\n",
       "    .dataframe tbody tr th:only-of-type {\n",
       "        vertical-align: middle;\n",
       "    }\n",
       "\n",
       "    .dataframe tbody tr th {\n",
       "        vertical-align: top;\n",
       "    }\n",
       "\n",
       "    .dataframe thead th {\n",
       "        text-align: right;\n",
       "    }\n",
       "</style>\n",
       "<table border=\"1\" class=\"dataframe\">\n",
       "  <thead>\n",
       "    <tr style=\"text-align: right;\">\n",
       "      <th></th>\n",
       "      <th>TF</th>\n",
       "      <th>Genes</th>\n",
       "      <th>949_131107</th>\n",
       "      <th>937_131101</th>\n",
       "      <th>926_131031</th>\n",
       "      <th>895_130923</th>\n",
       "      <th>805_130701</th>\n",
       "      <th>768_130523</th>\n",
       "      <th>722_120531</th>\n",
       "      <th>701_120605</th>\n",
       "      <th>...</th>\n",
       "      <th>664_120530</th>\n",
       "      <th>662_120530</th>\n",
       "      <th>643_120524</th>\n",
       "      <th>463_120514</th>\n",
       "      <th>451_120507</th>\n",
       "      <th>291_120430</th>\n",
       "      <th>19_120411</th>\n",
       "      <th>176_120424</th>\n",
       "      <th>170_120423</th>\n",
       "      <th>158_120423</th>\n",
       "    </tr>\n",
       "  </thead>\n",
       "  <tbody>\n",
       "    <tr>\n",
       "      <th>105893</th>\n",
       "      <td>ENSG00000162714</td>\n",
       "      <td>ENSG00000166927</td>\n",
       "      <td>6.934201</td>\n",
       "      <td>7.920390</td>\n",
       "      <td>5.498732</td>\n",
       "      <td>6.610233</td>\n",
       "      <td>8.196115</td>\n",
       "      <td>7.463362</td>\n",
       "      <td>17.273210</td>\n",
       "      <td>6.721725</td>\n",
       "      <td>...</td>\n",
       "      <td>7.608958</td>\n",
       "      <td>7.190864</td>\n",
       "      <td>6.764128</td>\n",
       "      <td>7.210285</td>\n",
       "      <td>6.568353</td>\n",
       "      <td>7.131289</td>\n",
       "      <td>8.211321</td>\n",
       "      <td>6.397511</td>\n",
       "      <td>9.274979</td>\n",
       "      <td>4.670229</td>\n",
       "    </tr>\n",
       "    <tr>\n",
       "      <th>96222</th>\n",
       "      <td>ENSG00000153879</td>\n",
       "      <td>ENSG00000130770</td>\n",
       "      <td>28.993484</td>\n",
       "      <td>28.732771</td>\n",
       "      <td>29.074429</td>\n",
       "      <td>29.057592</td>\n",
       "      <td>28.983116</td>\n",
       "      <td>29.043045</td>\n",
       "      <td>29.902206</td>\n",
       "      <td>29.442353</td>\n",
       "      <td>...</td>\n",
       "      <td>29.793439</td>\n",
       "      <td>29.176894</td>\n",
       "      <td>29.029696</td>\n",
       "      <td>28.960437</td>\n",
       "      <td>28.875372</td>\n",
       "      <td>29.220539</td>\n",
       "      <td>29.023969</td>\n",
       "      <td>29.137992</td>\n",
       "      <td>29.201354</td>\n",
       "      <td>28.493522</td>\n",
       "    </tr>\n",
       "    <tr>\n",
       "      <th>223006</th>\n",
       "      <td>ENSG00000221869</td>\n",
       "      <td>ENSG00000130770</td>\n",
       "      <td>28.887807</td>\n",
       "      <td>28.623967</td>\n",
       "      <td>28.967270</td>\n",
       "      <td>28.939498</td>\n",
       "      <td>28.880343</td>\n",
       "      <td>28.941082</td>\n",
       "      <td>29.750440</td>\n",
       "      <td>29.319348</td>\n",
       "      <td>...</td>\n",
       "      <td>29.634267</td>\n",
       "      <td>29.047432</td>\n",
       "      <td>28.928273</td>\n",
       "      <td>28.858582</td>\n",
       "      <td>28.789299</td>\n",
       "      <td>29.101682</td>\n",
       "      <td>28.921960</td>\n",
       "      <td>29.037955</td>\n",
       "      <td>29.081935</td>\n",
       "      <td>28.413067</td>\n",
       "    </tr>\n",
       "    <tr>\n",
       "      <th>96224</th>\n",
       "      <td>ENSG00000153879</td>\n",
       "      <td>ENSG00000153132</td>\n",
       "      <td>29.086630</td>\n",
       "      <td>29.146878</td>\n",
       "      <td>29.216614</td>\n",
       "      <td>29.251495</td>\n",
       "      <td>29.358384</td>\n",
       "      <td>29.276003</td>\n",
       "      <td>29.853518</td>\n",
       "      <td>29.493867</td>\n",
       "      <td>...</td>\n",
       "      <td>29.642847</td>\n",
       "      <td>29.490023</td>\n",
       "      <td>29.319251</td>\n",
       "      <td>29.264542</td>\n",
       "      <td>29.275142</td>\n",
       "      <td>29.704153</td>\n",
       "      <td>29.344083</td>\n",
       "      <td>29.115201</td>\n",
       "      <td>29.004127</td>\n",
       "      <td>29.451391</td>\n",
       "    </tr>\n",
       "    <tr>\n",
       "      <th>223008</th>\n",
       "      <td>ENSG00000221869</td>\n",
       "      <td>ENSG00000153132</td>\n",
       "      <td>28.990635</td>\n",
       "      <td>29.039146</td>\n",
       "      <td>29.110408</td>\n",
       "      <td>29.131982</td>\n",
       "      <td>29.224983</td>\n",
       "      <td>29.153009</td>\n",
       "      <td>29.835331</td>\n",
       "      <td>29.365007</td>\n",
       "      <td>...</td>\n",
       "      <td>29.561168</td>\n",
       "      <td>29.354523</td>\n",
       "      <td>29.203276</td>\n",
       "      <td>29.155848</td>\n",
       "      <td>29.144719</td>\n",
       "      <td>29.547768</td>\n",
       "      <td>29.213419</td>\n",
       "      <td>29.037000</td>\n",
       "      <td>28.943259</td>\n",
       "      <td>29.307187</td>\n",
       "    </tr>\n",
       "  </tbody>\n",
       "</table>\n",
       "<p>5 rows × 26 columns</p>\n",
       "</div>"
      ],
      "text/plain": [
       "                     TF            Genes  949_131107  937_131101  926_131031  \\\n",
       "105893  ENSG00000162714  ENSG00000166927    6.934201    7.920390    5.498732   \n",
       "96222   ENSG00000153879  ENSG00000130770   28.993484   28.732771   29.074429   \n",
       "223006  ENSG00000221869  ENSG00000130770   28.887807   28.623967   28.967270   \n",
       "96224   ENSG00000153879  ENSG00000153132   29.086630   29.146878   29.216614   \n",
       "223008  ENSG00000221869  ENSG00000153132   28.990635   29.039146   29.110408   \n",
       "\n",
       "        895_130923  805_130701  768_130523  722_120531  701_120605  ...  \\\n",
       "105893    6.610233    8.196115    7.463362   17.273210    6.721725  ...   \n",
       "96222    29.057592   28.983116   29.043045   29.902206   29.442353  ...   \n",
       "223006   28.939498   28.880343   28.941082   29.750440   29.319348  ...   \n",
       "96224    29.251495   29.358384   29.276003   29.853518   29.493867  ...   \n",
       "223008   29.131982   29.224983   29.153009   29.835331   29.365007  ...   \n",
       "\n",
       "        664_120530  662_120530  643_120524  463_120514  451_120507  \\\n",
       "105893    7.608958    7.190864    6.764128    7.210285    6.568353   \n",
       "96222    29.793439   29.176894   29.029696   28.960437   28.875372   \n",
       "223006   29.634267   29.047432   28.928273   28.858582   28.789299   \n",
       "96224    29.642847   29.490023   29.319251   29.264542   29.275142   \n",
       "223008   29.561168   29.354523   29.203276   29.155848   29.144719   \n",
       "\n",
       "        291_120430  19_120411  176_120424  170_120423  158_120423  \n",
       "105893    7.131289   8.211321    6.397511    9.274979    4.670229  \n",
       "96222    29.220539  29.023969   29.137992   29.201354   28.493522  \n",
       "223006   29.101682  28.921960   29.037955   29.081935   28.413067  \n",
       "96224    29.704153  29.344083   29.115201   29.004127   29.451391  \n",
       "223008   29.547768  29.213419   29.037000   28.943259   29.307187  \n",
       "\n",
       "[5 rows x 26 columns]"
      ]
     },
     "execution_count": 22,
     "metadata": {},
     "output_type": "execute_result"
    }
   ],
   "source": [
    "NCI_with_Plaques_df = data[NCI_with_Plaques]\n",
    "NCI_with_Plaques_df[['TF','Genes']] = data_dummy[['TF','Genes']]\n",
    "NCI_with_Plaques_df.sort_index(axis = 1, ascending = False, inplace = True)\n",
    "NCI_with_Plaques_df.head()"
   ]
  },
  {
   "cell_type": "code",
   "execution_count": 23,
   "id": "a5febefe-7d5e-4133-aa23-f0a0a4d8a800",
   "metadata": {},
   "outputs": [
    {
     "name": "stderr",
     "output_type": "stream",
     "text": [
      "/local/tmp.5418645/ipykernel_1286993/2365642403.py:2: SettingWithCopyWarning: \n",
      "A value is trying to be set on a copy of a slice from a DataFrame.\n",
      "Try using .loc[row_indexer,col_indexer] = value instead\n",
      "\n",
      "See the caveats in the documentation: https://pandas.pydata.org/pandas-docs/stable/user_guide/indexing.html#returning-a-view-versus-a-copy\n",
      "  NCI_with_No_Plaques_df[['TF','Genes']] = data_dummy[['TF','Genes']]\n",
      "/local/tmp.5418645/ipykernel_1286993/2365642403.py:2: SettingWithCopyWarning: \n",
      "A value is trying to be set on a copy of a slice from a DataFrame.\n",
      "Try using .loc[row_indexer,col_indexer] = value instead\n",
      "\n",
      "See the caveats in the documentation: https://pandas.pydata.org/pandas-docs/stable/user_guide/indexing.html#returning-a-view-versus-a-copy\n",
      "  NCI_with_No_Plaques_df[['TF','Genes']] = data_dummy[['TF','Genes']]\n",
      "/local/tmp.5418645/ipykernel_1286993/2365642403.py:3: SettingWithCopyWarning: \n",
      "A value is trying to be set on a copy of a slice from a DataFrame\n",
      "\n",
      "See the caveats in the documentation: https://pandas.pydata.org/pandas-docs/stable/user_guide/indexing.html#returning-a-view-versus-a-copy\n",
      "  NCI_with_No_Plaques_df.sort_index(axis = 1, ascending = False, inplace = True)\n"
     ]
    },
    {
     "data": {
      "text/html": [
       "<div>\n",
       "<style scoped>\n",
       "    .dataframe tbody tr th:only-of-type {\n",
       "        vertical-align: middle;\n",
       "    }\n",
       "\n",
       "    .dataframe tbody tr th {\n",
       "        vertical-align: top;\n",
       "    }\n",
       "\n",
       "    .dataframe thead th {\n",
       "        text-align: right;\n",
       "    }\n",
       "</style>\n",
       "<table border=\"1\" class=\"dataframe\">\n",
       "  <thead>\n",
       "    <tr style=\"text-align: right;\">\n",
       "      <th></th>\n",
       "      <th>TF</th>\n",
       "      <th>Genes</th>\n",
       "      <th>954_131107</th>\n",
       "      <th>951_131107</th>\n",
       "      <th>950_131107</th>\n",
       "      <th>938_131101</th>\n",
       "      <th>934_131101</th>\n",
       "      <th>88_120417</th>\n",
       "      <th>882_130918</th>\n",
       "      <th>844_130830</th>\n",
       "      <th>...</th>\n",
       "      <th>174_120424</th>\n",
       "      <th>168_120423</th>\n",
       "      <th>152_120419</th>\n",
       "      <th>150_120419</th>\n",
       "      <th>146_120419</th>\n",
       "      <th>142_120419</th>\n",
       "      <th>122_120418</th>\n",
       "      <th>120_120418</th>\n",
       "      <th>11_120410</th>\n",
       "      <th>04_120405</th>\n",
       "    </tr>\n",
       "  </thead>\n",
       "  <tbody>\n",
       "    <tr>\n",
       "      <th>105893</th>\n",
       "      <td>ENSG00000162714</td>\n",
       "      <td>ENSG00000166927</td>\n",
       "      <td>6.353582</td>\n",
       "      <td>6.609313</td>\n",
       "      <td>7.002459</td>\n",
       "      <td>6.019859</td>\n",
       "      <td>7.368837</td>\n",
       "      <td>7.010647</td>\n",
       "      <td>3.968803</td>\n",
       "      <td>7.347976</td>\n",
       "      <td>...</td>\n",
       "      <td>7.684795</td>\n",
       "      <td>8.245570</td>\n",
       "      <td>8.196391</td>\n",
       "      <td>7.470487</td>\n",
       "      <td>8.176975</td>\n",
       "      <td>7.134552</td>\n",
       "      <td>7.920390</td>\n",
       "      <td>4.138248</td>\n",
       "      <td>6.880163</td>\n",
       "      <td>7.608852</td>\n",
       "    </tr>\n",
       "    <tr>\n",
       "      <th>96222</th>\n",
       "      <td>ENSG00000153879</td>\n",
       "      <td>ENSG00000130770</td>\n",
       "      <td>28.976439</td>\n",
       "      <td>29.043518</td>\n",
       "      <td>28.981743</td>\n",
       "      <td>28.731369</td>\n",
       "      <td>29.140902</td>\n",
       "      <td>29.023149</td>\n",
       "      <td>28.939753</td>\n",
       "      <td>29.282156</td>\n",
       "      <td>...</td>\n",
       "      <td>28.768433</td>\n",
       "      <td>29.040799</td>\n",
       "      <td>29.406237</td>\n",
       "      <td>29.320154</td>\n",
       "      <td>29.112815</td>\n",
       "      <td>28.241566</td>\n",
       "      <td>28.732771</td>\n",
       "      <td>28.916083</td>\n",
       "      <td>28.822065</td>\n",
       "      <td>29.296845</td>\n",
       "    </tr>\n",
       "    <tr>\n",
       "      <th>223006</th>\n",
       "      <td>ENSG00000221869</td>\n",
       "      <td>ENSG00000130770</td>\n",
       "      <td>28.880248</td>\n",
       "      <td>28.936586</td>\n",
       "      <td>28.868881</td>\n",
       "      <td>28.645680</td>\n",
       "      <td>29.036775</td>\n",
       "      <td>28.913178</td>\n",
       "      <td>28.836852</td>\n",
       "      <td>29.153774</td>\n",
       "      <td>...</td>\n",
       "      <td>28.670264</td>\n",
       "      <td>28.937207</td>\n",
       "      <td>29.242090</td>\n",
       "      <td>29.171649</td>\n",
       "      <td>29.019366</td>\n",
       "      <td>28.199071</td>\n",
       "      <td>28.623967</td>\n",
       "      <td>28.820406</td>\n",
       "      <td>28.729179</td>\n",
       "      <td>29.165134</td>\n",
       "    </tr>\n",
       "    <tr>\n",
       "      <th>96224</th>\n",
       "      <td>ENSG00000153879</td>\n",
       "      <td>ENSG00000153132</td>\n",
       "      <td>29.489439</td>\n",
       "      <td>29.775627</td>\n",
       "      <td>29.150250</td>\n",
       "      <td>28.943288</td>\n",
       "      <td>29.476404</td>\n",
       "      <td>29.278602</td>\n",
       "      <td>29.231902</td>\n",
       "      <td>29.145168</td>\n",
       "      <td>...</td>\n",
       "      <td>28.405832</td>\n",
       "      <td>28.476430</td>\n",
       "      <td>31.013852</td>\n",
       "      <td>29.332558</td>\n",
       "      <td>28.858748</td>\n",
       "      <td>29.528381</td>\n",
       "      <td>29.146878</td>\n",
       "      <td>29.405971</td>\n",
       "      <td>28.413983</td>\n",
       "      <td>29.076105</td>\n",
       "    </tr>\n",
       "    <tr>\n",
       "      <th>223008</th>\n",
       "      <td>ENSG00000221869</td>\n",
       "      <td>ENSG00000153132</td>\n",
       "      <td>29.316670</td>\n",
       "      <td>29.656757</td>\n",
       "      <td>29.033700</td>\n",
       "      <td>28.863720</td>\n",
       "      <td>29.353389</td>\n",
       "      <td>29.160469</td>\n",
       "      <td>29.110528</td>\n",
       "      <td>29.030162</td>\n",
       "      <td>...</td>\n",
       "      <td>28.353815</td>\n",
       "      <td>28.444874</td>\n",
       "      <td>30.749175</td>\n",
       "      <td>29.205638</td>\n",
       "      <td>28.821907</td>\n",
       "      <td>29.393186</td>\n",
       "      <td>29.039146</td>\n",
       "      <td>29.291708</td>\n",
       "      <td>28.381045</td>\n",
       "      <td>28.998235</td>\n",
       "    </tr>\n",
       "  </tbody>\n",
       "</table>\n",
       "<p>5 rows × 80 columns</p>\n",
       "</div>"
      ],
      "text/plain": [
       "                     TF            Genes  954_131107  951_131107  950_131107  \\\n",
       "105893  ENSG00000162714  ENSG00000166927    6.353582    6.609313    7.002459   \n",
       "96222   ENSG00000153879  ENSG00000130770   28.976439   29.043518   28.981743   \n",
       "223006  ENSG00000221869  ENSG00000130770   28.880248   28.936586   28.868881   \n",
       "96224   ENSG00000153879  ENSG00000153132   29.489439   29.775627   29.150250   \n",
       "223008  ENSG00000221869  ENSG00000153132   29.316670   29.656757   29.033700   \n",
       "\n",
       "        938_131101  934_131101  88_120417  882_130918  844_130830  ...  \\\n",
       "105893    6.019859    7.368837   7.010647    3.968803    7.347976  ...   \n",
       "96222    28.731369   29.140902  29.023149   28.939753   29.282156  ...   \n",
       "223006   28.645680   29.036775  28.913178   28.836852   29.153774  ...   \n",
       "96224    28.943288   29.476404  29.278602   29.231902   29.145168  ...   \n",
       "223008   28.863720   29.353389  29.160469   29.110528   29.030162  ...   \n",
       "\n",
       "        174_120424  168_120423  152_120419  150_120419  146_120419  \\\n",
       "105893    7.684795    8.245570    8.196391    7.470487    8.176975   \n",
       "96222    28.768433   29.040799   29.406237   29.320154   29.112815   \n",
       "223006   28.670264   28.937207   29.242090   29.171649   29.019366   \n",
       "96224    28.405832   28.476430   31.013852   29.332558   28.858748   \n",
       "223008   28.353815   28.444874   30.749175   29.205638   28.821907   \n",
       "\n",
       "        142_120419  122_120418  120_120418  11_120410  04_120405  \n",
       "105893    7.134552    7.920390    4.138248   6.880163   7.608852  \n",
       "96222    28.241566   28.732771   28.916083  28.822065  29.296845  \n",
       "223006   28.199071   28.623967   28.820406  28.729179  29.165134  \n",
       "96224    29.528381   29.146878   29.405971  28.413983  29.076105  \n",
       "223008   29.393186   29.039146   29.291708  28.381045  28.998235  \n",
       "\n",
       "[5 rows x 80 columns]"
      ]
     },
     "execution_count": 23,
     "metadata": {},
     "output_type": "execute_result"
    }
   ],
   "source": [
    "NCI_with_No_Plaques_df = data[NCI_with_No_Plaques]\n",
    "NCI_with_No_Plaques_df[['TF','Genes']] = data_dummy[['TF','Genes']]\n",
    "NCI_with_No_Plaques_df.sort_index(axis = 1, ascending = False, inplace = True)\n",
    "NCI_with_No_Plaques_df.head()"
   ]
  },
  {
   "cell_type": "code",
   "execution_count": 24,
   "id": "798219dc-1c95-4cc1-9992-54ce487c2166",
   "metadata": {},
   "outputs": [
    {
     "name": "stderr",
     "output_type": "stream",
     "text": [
      "/local/tmp.5418645/ipykernel_1286993/82534004.py:2: SettingWithCopyWarning: \n",
      "A value is trying to be set on a copy of a slice from a DataFrame.\n",
      "Try using .loc[row_indexer,col_indexer] = value instead\n",
      "\n",
      "See the caveats in the documentation: https://pandas.pydata.org/pandas-docs/stable/user_guide/indexing.html#returning-a-view-versus-a-copy\n",
      "  AD_with_No_Plaques_df[['TF','Genes']] = data_dummy[['TF','Genes']]\n",
      "/local/tmp.5418645/ipykernel_1286993/82534004.py:2: SettingWithCopyWarning: \n",
      "A value is trying to be set on a copy of a slice from a DataFrame.\n",
      "Try using .loc[row_indexer,col_indexer] = value instead\n",
      "\n",
      "See the caveats in the documentation: https://pandas.pydata.org/pandas-docs/stable/user_guide/indexing.html#returning-a-view-versus-a-copy\n",
      "  AD_with_No_Plaques_df[['TF','Genes']] = data_dummy[['TF','Genes']]\n",
      "/local/tmp.5418645/ipykernel_1286993/82534004.py:3: SettingWithCopyWarning: \n",
      "A value is trying to be set on a copy of a slice from a DataFrame\n",
      "\n",
      "See the caveats in the documentation: https://pandas.pydata.org/pandas-docs/stable/user_guide/indexing.html#returning-a-view-versus-a-copy\n",
      "  AD_with_No_Plaques_df.sort_index(axis = 1, ascending = False, inplace = True)\n"
     ]
    },
    {
     "data": {
      "text/html": [
       "<div>\n",
       "<style scoped>\n",
       "    .dataframe tbody tr th:only-of-type {\n",
       "        vertical-align: middle;\n",
       "    }\n",
       "\n",
       "    .dataframe tbody tr th {\n",
       "        vertical-align: top;\n",
       "    }\n",
       "\n",
       "    .dataframe thead th {\n",
       "        text-align: right;\n",
       "    }\n",
       "</style>\n",
       "<table border=\"1\" class=\"dataframe\">\n",
       "  <thead>\n",
       "    <tr style=\"text-align: right;\">\n",
       "      <th></th>\n",
       "      <th>TF</th>\n",
       "      <th>Genes</th>\n",
       "      <th>941_131101</th>\n",
       "      <th>911_131031</th>\n",
       "      <th>861_130911</th>\n",
       "      <th>714_120531</th>\n",
       "      <th>58_120417</th>\n",
       "      <th>538_120516</th>\n",
       "      <th>530_120515</th>\n",
       "      <th>516_120515</th>\n",
       "      <th>...</th>\n",
       "      <th>510_120515</th>\n",
       "      <th>471_120514</th>\n",
       "      <th>440_120507</th>\n",
       "      <th>435_120507</th>\n",
       "      <th>393_120503</th>\n",
       "      <th>389_120503</th>\n",
       "      <th>371_120502</th>\n",
       "      <th>255_120426</th>\n",
       "      <th>165_120423</th>\n",
       "      <th>132_120419</th>\n",
       "    </tr>\n",
       "  </thead>\n",
       "  <tbody>\n",
       "    <tr>\n",
       "      <th>105893</th>\n",
       "      <td>ENSG00000162714</td>\n",
       "      <td>ENSG00000166927</td>\n",
       "      <td>2.813421</td>\n",
       "      <td>5.549848</td>\n",
       "      <td>8.911009</td>\n",
       "      <td>6.342630</td>\n",
       "      <td>7.123692</td>\n",
       "      <td>8.529367</td>\n",
       "      <td>7.022555</td>\n",
       "      <td>8.534905</td>\n",
       "      <td>...</td>\n",
       "      <td>6.317424</td>\n",
       "      <td>6.330120</td>\n",
       "      <td>5.859381</td>\n",
       "      <td>7.005513</td>\n",
       "      <td>6.925732</td>\n",
       "      <td>6.269310</td>\n",
       "      <td>5.699709</td>\n",
       "      <td>6.813631</td>\n",
       "      <td>5.293404</td>\n",
       "      <td>6.099860</td>\n",
       "    </tr>\n",
       "    <tr>\n",
       "      <th>96222</th>\n",
       "      <td>ENSG00000153879</td>\n",
       "      <td>ENSG00000130770</td>\n",
       "      <td>29.646162</td>\n",
       "      <td>28.914160</td>\n",
       "      <td>29.081831</td>\n",
       "      <td>28.974834</td>\n",
       "      <td>29.028533</td>\n",
       "      <td>28.745255</td>\n",
       "      <td>29.112864</td>\n",
       "      <td>29.392265</td>\n",
       "      <td>...</td>\n",
       "      <td>28.987231</td>\n",
       "      <td>28.977779</td>\n",
       "      <td>29.087528</td>\n",
       "      <td>28.716144</td>\n",
       "      <td>29.133853</td>\n",
       "      <td>29.287872</td>\n",
       "      <td>29.063919</td>\n",
       "      <td>29.139984</td>\n",
       "      <td>29.993005</td>\n",
       "      <td>29.145467</td>\n",
       "    </tr>\n",
       "    <tr>\n",
       "      <th>223006</th>\n",
       "      <td>ENSG00000221869</td>\n",
       "      <td>ENSG00000130770</td>\n",
       "      <td>29.473246</td>\n",
       "      <td>28.829009</td>\n",
       "      <td>28.964077</td>\n",
       "      <td>28.877730</td>\n",
       "      <td>28.936358</td>\n",
       "      <td>28.635226</td>\n",
       "      <td>28.997842</td>\n",
       "      <td>29.261064</td>\n",
       "      <td>...</td>\n",
       "      <td>28.882113</td>\n",
       "      <td>28.879016</td>\n",
       "      <td>28.977756</td>\n",
       "      <td>28.609297</td>\n",
       "      <td>29.023637</td>\n",
       "      <td>29.179277</td>\n",
       "      <td>28.967579</td>\n",
       "      <td>29.033586</td>\n",
       "      <td>29.779998</td>\n",
       "      <td>29.049340</td>\n",
       "    </tr>\n",
       "    <tr>\n",
       "      <th>96224</th>\n",
       "      <td>ENSG00000153879</td>\n",
       "      <td>ENSG00000153132</td>\n",
       "      <td>29.180419</td>\n",
       "      <td>29.104259</td>\n",
       "      <td>29.248844</td>\n",
       "      <td>29.319495</td>\n",
       "      <td>29.026144</td>\n",
       "      <td>28.362762</td>\n",
       "      <td>29.296336</td>\n",
       "      <td>29.585809</td>\n",
       "      <td>...</td>\n",
       "      <td>29.138811</td>\n",
       "      <td>29.205548</td>\n",
       "      <td>29.441899</td>\n",
       "      <td>29.079448</td>\n",
       "      <td>29.315238</td>\n",
       "      <td>29.293475</td>\n",
       "      <td>29.310680</td>\n",
       "      <td>29.305274</td>\n",
       "      <td>29.697767</td>\n",
       "      <td>29.291042</td>\n",
       "    </tr>\n",
       "    <tr>\n",
       "      <th>223008</th>\n",
       "      <td>ENSG00000221869</td>\n",
       "      <td>ENSG00000153132</td>\n",
       "      <td>29.029779</td>\n",
       "      <td>29.014845</td>\n",
       "      <td>29.129557</td>\n",
       "      <td>29.187939</td>\n",
       "      <td>28.958160</td>\n",
       "      <td>28.298103</td>\n",
       "      <td>29.177529</td>\n",
       "      <td>29.461049</td>\n",
       "      <td>...</td>\n",
       "      <td>29.023172</td>\n",
       "      <td>29.076504</td>\n",
       "      <td>29.293359</td>\n",
       "      <td>28.971908</td>\n",
       "      <td>29.195291</td>\n",
       "      <td>29.180093</td>\n",
       "      <td>29.197646</td>\n",
       "      <td>29.184769</td>\n",
       "      <td>29.530004</td>\n",
       "      <td>29.180497</td>\n",
       "    </tr>\n",
       "  </tbody>\n",
       "</table>\n",
       "<p>5 rows × 21 columns</p>\n",
       "</div>"
      ],
      "text/plain": [
       "                     TF            Genes  941_131101  911_131031  861_130911  \\\n",
       "105893  ENSG00000162714  ENSG00000166927    2.813421    5.549848    8.911009   \n",
       "96222   ENSG00000153879  ENSG00000130770   29.646162   28.914160   29.081831   \n",
       "223006  ENSG00000221869  ENSG00000130770   29.473246   28.829009   28.964077   \n",
       "96224   ENSG00000153879  ENSG00000153132   29.180419   29.104259   29.248844   \n",
       "223008  ENSG00000221869  ENSG00000153132   29.029779   29.014845   29.129557   \n",
       "\n",
       "        714_120531  58_120417  538_120516  530_120515  516_120515  ...  \\\n",
       "105893    6.342630   7.123692    8.529367    7.022555    8.534905  ...   \n",
       "96222    28.974834  29.028533   28.745255   29.112864   29.392265  ...   \n",
       "223006   28.877730  28.936358   28.635226   28.997842   29.261064  ...   \n",
       "96224    29.319495  29.026144   28.362762   29.296336   29.585809  ...   \n",
       "223008   29.187939  28.958160   28.298103   29.177529   29.461049  ...   \n",
       "\n",
       "        510_120515  471_120514  440_120507  435_120507  393_120503  \\\n",
       "105893    6.317424    6.330120    5.859381    7.005513    6.925732   \n",
       "96222    28.987231   28.977779   29.087528   28.716144   29.133853   \n",
       "223006   28.882113   28.879016   28.977756   28.609297   29.023637   \n",
       "96224    29.138811   29.205548   29.441899   29.079448   29.315238   \n",
       "223008   29.023172   29.076504   29.293359   28.971908   29.195291   \n",
       "\n",
       "        389_120503  371_120502  255_120426  165_120423  132_120419  \n",
       "105893    6.269310    5.699709    6.813631    5.293404    6.099860  \n",
       "96222    29.287872   29.063919   29.139984   29.993005   29.145467  \n",
       "223006   29.179277   28.967579   29.033586   29.779998   29.049340  \n",
       "96224    29.293475   29.310680   29.305274   29.697767   29.291042  \n",
       "223008   29.180093   29.197646   29.184769   29.530004   29.180497  \n",
       "\n",
       "[5 rows x 21 columns]"
      ]
     },
     "execution_count": 24,
     "metadata": {},
     "output_type": "execute_result"
    }
   ],
   "source": [
    "AD_with_No_Plaques_df = data[AD_with_No_Plaques]\n",
    "AD_with_No_Plaques_df[['TF','Genes']] = data_dummy[['TF','Genes']]\n",
    "AD_with_No_Plaques_df.sort_index(axis = 1, ascending = False, inplace = True)\n",
    "AD_with_No_Plaques_df.head()"
   ]
  },
  {
   "cell_type": "code",
   "execution_count": 115,
   "id": "a6ce840a-958e-44b2-a0fb-f2694d45621c",
   "metadata": {},
   "outputs": [
    {
     "name": "stdout",
     "output_type": "stream",
     "text": [
      "0_2___1_2.png\t\t\t NCI_with_Plaques_preprocessed\n",
      "AD_with_No_Plaques.pkl\t\t New_Analyis_all_positive.ipynb\n",
      "AD_with_Plaques.pkl\t\t my_plot.png\n",
      "AD_with_no_Plaques\t\t plots\n",
      "AD_with_no_Plaques_preprocessed  preprocessed_GRN_files_all\n",
      "GRN_analysis.ipynb\t\t preprocessed_GRN_files_all_positive\n",
      "NCI_with_No_Plaques.pkl\t\t preprocessed_GRN_files_all_top_200000\n",
      "NCI_with_Plaques\t\t preprocessed_dataframe_edge_weights.csv\n",
      "NCI_with_Plaques.pkl\n"
     ]
    }
   ],
   "source": [
    "!ls"
   ]
  },
  {
   "cell_type": "code",
   "execution_count": 116,
   "id": "1ebdd61c-1aa7-4e59-a886-9fdb9e959d7b",
   "metadata": {},
   "outputs": [],
   "source": [
    "!mkdir preprocessed_all_stratification_grn"
   ]
  },
  {
   "cell_type": "code",
   "execution_count": 25,
   "id": "f7bcc472-934d-4e5f-94fe-dc570a5995db",
   "metadata": {},
   "outputs": [],
   "source": [
    "AD_with_No_Plaques_df.to_csv('preprocessed_all_stratification_grn/AD_with_No_Plaques_df.csv', index = False)\n",
    "AD_with_Plaques_df.to_csv('preprocessed_all_stratification_grn/AD_with_Plaques_df.csv', index = False)\n",
    "NCI_with_Plaques_df.to_csv('preprocessed_all_stratification_grn/NCI_with_Plaques_df.csv', index = False)\n",
    "NCI_with_No_Plaques_df.to_csv('preprocessed_all_stratification_grn/NCI_with_No_Plaques_df.csv', index = False)"
   ]
  },
  {
   "cell_type": "code",
   "execution_count": null,
   "id": "818fa894-4344-4822-824a-271d4287e4bd",
   "metadata": {},
   "outputs": [],
   "source": []
  }
 ],
 "metadata": {
  "kernelspec": {
   "display_name": "Python 3 (ipykernel)",
   "language": "python",
   "name": "python3"
  },
  "language_info": {
   "codemirror_mode": {
    "name": "ipython",
    "version": 3
   },
   "file_extension": ".py",
   "mimetype": "text/x-python",
   "name": "python",
   "nbconvert_exporter": "python",
   "pygments_lexer": "ipython3",
   "version": "3.11.5"
  }
 },
 "nbformat": 4,
 "nbformat_minor": 5
}
