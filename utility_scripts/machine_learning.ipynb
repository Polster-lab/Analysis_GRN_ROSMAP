{
 "cells": [
  {
   "cell_type": "code",
   "execution_count": null,
   "id": "0c2f6321",
   "metadata": {},
   "outputs": [],
   "source": [
    "import numpy as np\n",
    "from sklearn.model_selection import train_test_split\n",
    "from sklearn.linear_model import LogisticRegression\n",
    "from sklearn.metrics import accuracy_score"
   ]
  },
  {
   "cell_type": "code",
   "execution_count": null,
   "id": "908e7cbb",
   "metadata": {},
   "outputs": [],
   "source": [
    "def return_class(row):\n",
    "    if row in NCI_with_Plaques:\n",
    "        return 0\n",
    "    elif row in AD_with_Plaques:\n",
    "        return 1\n",
    "    elif row in AD_with_No_Plaques:\n",
    "        return 2\n",
    "    else:\n",
    "        return 4"
   ]
  },
  {
   "cell_type": "code",
   "execution_count": null,
   "id": "ecf68726",
   "metadata": {},
   "outputs": [],
   "source": [
    "count_matrix_mrn['label'] = count_matrix_mrn_models['index'].apply(return_class)"
   ]
  },
  {
   "cell_type": "code",
   "execution_count": null,
   "id": "c74f4238",
   "metadata": {},
   "outputs": [],
   "source": [
    "count_matrix_mrn['label'].value_counts()"
   ]
  },
  {
   "cell_type": "code",
   "execution_count": null,
   "id": "a0324618",
   "metadata": {},
   "outputs": [],
   "source": [
    "count_matrix_mrn = count_matrix_mrn[count_matrix_mrn['label'].isin([0,1])].set_index('index') "
   ]
  },
  {
   "cell_type": "code",
   "execution_count": null,
   "id": "f12f35af",
   "metadata": {},
   "outputs": [],
   "source": [
    "x = count_matrix_mrn[count_matrix_mrn.label == 1].iloc[0:24,]\n",
    "y = count_matrix_mrn[count_matrix_mrn.label == 0]"
   ]
  },
  {
   "cell_type": "code",
   "execution_count": null,
   "id": "faded026",
   "metadata": {},
   "outputs": [],
   "source": [
    "df = pd.concat([x,y])\n",
    "df = df.sample(frac=1, random_state=42)\n",
    "df"
   ]
  },
  {
   "cell_type": "code",
   "execution_count": null,
   "id": "f5661a1f",
   "metadata": {},
   "outputs": [],
   "source": [
    "X = df.drop(columns = ['label'])\n",
    "y = df['label']"
   ]
  },
  {
   "cell_type": "code",
   "execution_count": null,
   "id": "ab3adca7",
   "metadata": {},
   "outputs": [],
   "source": [
    "X_train, X_test, y_train, y_test = train_test_split(X, y, test_size=0.2, random_state=42)\n"
   ]
  },
  {
   "cell_type": "code",
   "execution_count": null,
   "id": "4c6d76c9",
   "metadata": {},
   "outputs": [],
   "source": [
    "\n",
    "\n",
    "# Create a logistic regression model\n",
    "model = LogisticRegression()\n",
    "\n",
    "# Train the model on the training data\n",
    "model.fit(X_train, y_train)\n",
    "\n",
    "# Make predictions on the test data\n",
    "y_pred = model.predict(X_test)\n",
    "\n",
    "# Evaluate the model's accuracy\n",
    "accuracy = accuracy_score(y_test, y_pred)\n",
    "print(f\"Accuracy: {accuracy:.2f}\")\n",
    "\n",
    "\n",
    "\n",
    "\n"
   ]
  },
  {
   "cell_type": "code",
   "execution_count": null,
   "id": "b4cd1702",
   "metadata": {},
   "outputs": [],
   "source": [
    "feature_importance = model.coef_[0]\n",
    "importance_df = pd.DataFrame({'Feature': X.columns, 'Importance': feature_importance})\n"
   ]
  },
  {
   "cell_type": "code",
   "execution_count": null,
   "id": "06cbf903",
   "metadata": {},
   "outputs": [],
   "source": [
    "importance_df['AbsImportance'] = abs(importance_df['Importance'])\n"
   ]
  },
  {
   "cell_type": "code",
   "execution_count": null,
   "id": "c9e6f640",
   "metadata": {},
   "outputs": [],
   "source": [
    "sorted_importance_df = importance_df.sort_values(by='AbsImportance', ascending=False)\n",
    "\n",
    "# Display the sorted feature importance DataFrame\n",
    "print(sorted_importance_df)"
   ]
  },
  {
   "cell_type": "code",
   "execution_count": null,
   "id": "31eb28a8",
   "metadata": {},
   "outputs": [],
   "source": [
    "import pandas as pd\n",
    "import plotly.express as px\n",
    "\n",
    "fig = px.bar(sorted_importance_df[0:10], x='Importance', y='Feature', orientation='h', title='Feature Importance')\n",
    "fig.update_traces(marker_color='royalblue')\n",
    "\n",
    "# Show the plot\n",
    "fig.show()"
   ]
  },
  {
   "cell_type": "code",
   "execution_count": null,
   "id": "338917ec",
   "metadata": {},
   "outputs": [],
   "source": []
  },
  {
   "cell_type": "code",
   "execution_count": null,
   "id": "cd761b4d",
   "metadata": {},
   "outputs": [],
   "source": []
  },
  {
   "cell_type": "code",
   "execution_count": null,
   "id": "312eae51",
   "metadata": {},
   "outputs": [],
   "source": []
  },
  {
   "cell_type": "code",
   "execution_count": null,
   "id": "07caa074",
   "metadata": {},
   "outputs": [],
   "source": []
  }
 ],
 "metadata": {
  "kernelspec": {
   "display_name": "Python 3 (ipykernel)",
   "language": "python",
   "name": "python3"
  },
  "language_info": {
   "codemirror_mode": {
    "name": "ipython",
    "version": 3
   },
   "file_extension": ".py",
   "mimetype": "text/x-python",
   "name": "python",
   "nbconvert_exporter": "python",
   "pygments_lexer": "ipython3",
   "version": "3.11.5"
  }
 },
 "nbformat": 4,
 "nbformat_minor": 5
}
